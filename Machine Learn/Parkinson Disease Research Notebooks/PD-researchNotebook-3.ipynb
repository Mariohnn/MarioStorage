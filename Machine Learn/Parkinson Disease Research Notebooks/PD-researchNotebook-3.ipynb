{
 "cells": [
  {
   "cell_type": "code",
   "execution_count": 1,
   "metadata": {
    "id": "oDQozQTZi10t"
   },
   "outputs": [],
   "source": [
    "import pandas as pd\n",
    "import sklearn\n",
    "import numpy as np\n",
    "import csv\n",
    "from csv import reader\n",
    "import matplotlib.pyplot as plt\n",
    "%matplotlib inline"
   ]
  },
  {
   "cell_type": "code",
   "execution_count": 2,
   "metadata": {
    "id": "nwlsx922i10z",
    "outputId": "aea62be8-b260-41db-c583-1f5806acf3d0",
    "scrolled": false
   },
   "outputs": [
    {
     "data": {
      "text/html": [
       "<div>\n",
       "<style scoped>\n",
       "    .dataframe tbody tr th:only-of-type {\n",
       "        vertical-align: middle;\n",
       "    }\n",
       "\n",
       "    .dataframe tbody tr th {\n",
       "        vertical-align: top;\n",
       "    }\n",
       "\n",
       "    .dataframe thead th {\n",
       "        text-align: right;\n",
       "    }\n",
       "</style>\n",
       "<table border=\"1\" class=\"dataframe\">\n",
       "  <thead>\n",
       "    <tr style=\"text-align: right;\">\n",
       "      <th></th>\n",
       "      <th>paciente</th>\n",
       "      <th>Jitter_local</th>\n",
       "      <th>Jitter_local_absolute</th>\n",
       "      <th>Jitter_rap</th>\n",
       "      <th>Jitter_ppq5</th>\n",
       "      <th>Jitter_ddp</th>\n",
       "      <th>Shimmer_local</th>\n",
       "      <th>Shimmer_localdB</th>\n",
       "      <th>Shimmer_apq3</th>\n",
       "      <th>Shimmer_apq5</th>\n",
       "      <th>...</th>\n",
       "      <th>Maximum_pitch</th>\n",
       "      <th>Num_pulses</th>\n",
       "      <th>Num_periods</th>\n",
       "      <th>Mean_periods</th>\n",
       "      <th>Standard_deviation_period</th>\n",
       "      <th>Fraction_locally_unvoiced_frames</th>\n",
       "      <th>Num_voice_breaks</th>\n",
       "      <th>Degree_voice_breaks</th>\n",
       "      <th>UPDRS</th>\n",
       "      <th>Sick</th>\n",
       "    </tr>\n",
       "  </thead>\n",
       "  <tbody>\n",
       "    <tr>\n",
       "      <th>0</th>\n",
       "      <td>1</td>\n",
       "      <td>1488.00</td>\n",
       "      <td>0.000090</td>\n",
       "      <td>0.9</td>\n",
       "      <td>794.00</td>\n",
       "      <td>2699.0</td>\n",
       "      <td>8334.0</td>\n",
       "      <td>779.00</td>\n",
       "      <td>4517.0</td>\n",
       "      <td>4609.00</td>\n",
       "      <td>...</td>\n",
       "      <td>187576.00</td>\n",
       "      <td>160</td>\n",
       "      <td>159</td>\n",
       "      <td>0.006065</td>\n",
       "      <td>0.000416</td>\n",
       "      <td>0.0</td>\n",
       "      <td>0</td>\n",
       "      <td>0.0</td>\n",
       "      <td>23</td>\n",
       "      <td>1</td>\n",
       "    </tr>\n",
       "    <tr>\n",
       "      <th>1</th>\n",
       "      <td>1</td>\n",
       "      <td>728.00</td>\n",
       "      <td>0.000038</td>\n",
       "      <td>353.0</td>\n",
       "      <td>376.00</td>\n",
       "      <td>1059.0</td>\n",
       "      <td>5864.0</td>\n",
       "      <td>642.00</td>\n",
       "      <td>2058.0</td>\n",
       "      <td>3.18</td>\n",
       "      <td>...</td>\n",
       "      <td>234505.00</td>\n",
       "      <td>170</td>\n",
       "      <td>169</td>\n",
       "      <td>0.005181</td>\n",
       "      <td>0.000403</td>\n",
       "      <td>2247.0</td>\n",
       "      <td>0</td>\n",
       "      <td>0.0</td>\n",
       "      <td>23</td>\n",
       "      <td>1</td>\n",
       "    </tr>\n",
       "    <tr>\n",
       "      <th>2</th>\n",
       "      <td>1</td>\n",
       "      <td>1.22</td>\n",
       "      <td>0.000074</td>\n",
       "      <td>732.0</td>\n",
       "      <td>0.67</td>\n",
       "      <td>2196.0</td>\n",
       "      <td>8719.0</td>\n",
       "      <td>875.00</td>\n",
       "      <td>4347.0</td>\n",
       "      <td>5166.00</td>\n",
       "      <td>...</td>\n",
       "      <td>211442.00</td>\n",
       "      <td>1431</td>\n",
       "      <td>1427</td>\n",
       "      <td>0.006071</td>\n",
       "      <td>0.000474</td>\n",
       "      <td>10656.0</td>\n",
       "      <td>1</td>\n",
       "      <td>178.0</td>\n",
       "      <td>23</td>\n",
       "      <td>1</td>\n",
       "    </tr>\n",
       "    <tr>\n",
       "      <th>3</th>\n",
       "      <td>1</td>\n",
       "      <td>2502.00</td>\n",
       "      <td>0.000123</td>\n",
       "      <td>1156.0</td>\n",
       "      <td>1634.00</td>\n",
       "      <td>3469.0</td>\n",
       "      <td>13513.0</td>\n",
       "      <td>1273.00</td>\n",
       "      <td>5263.0</td>\n",
       "      <td>8771.00</td>\n",
       "      <td>...</td>\n",
       "      <td>220.23</td>\n",
       "      <td>94</td>\n",
       "      <td>92</td>\n",
       "      <td>0.004910</td>\n",
       "      <td>0.000320</td>\n",
       "      <td>0.0</td>\n",
       "      <td>0</td>\n",
       "      <td>0.0</td>\n",
       "      <td>23</td>\n",
       "      <td>1</td>\n",
       "    </tr>\n",
       "    <tr>\n",
       "      <th>4</th>\n",
       "      <td>1</td>\n",
       "      <td>3509.00</td>\n",
       "      <td>0.000167</td>\n",
       "      <td>1715.0</td>\n",
       "      <td>1539.00</td>\n",
       "      <td>5145.0</td>\n",
       "      <td>9112.0</td>\n",
       "      <td>1.04</td>\n",
       "      <td>3102.0</td>\n",
       "      <td>4927.00</td>\n",
       "      <td>...</td>\n",
       "      <td>225162.00</td>\n",
       "      <td>117</td>\n",
       "      <td>114</td>\n",
       "      <td>0.004757</td>\n",
       "      <td>0.000380</td>\n",
       "      <td>18182.0</td>\n",
       "      <td>1</td>\n",
       "      <td>13318.0</td>\n",
       "      <td>23</td>\n",
       "      <td>1</td>\n",
       "    </tr>\n",
       "  </tbody>\n",
       "</table>\n",
       "<p>5 rows × 29 columns</p>\n",
       "</div>"
      ],
      "text/plain": [
       "   paciente  Jitter_local  Jitter_local_absolute  Jitter_rap  Jitter_ppq5  \\\n",
       "0         1       1488.00               0.000090         0.9       794.00   \n",
       "1         1        728.00               0.000038       353.0       376.00   \n",
       "2         1          1.22               0.000074       732.0         0.67   \n",
       "3         1       2502.00               0.000123      1156.0      1634.00   \n",
       "4         1       3509.00               0.000167      1715.0      1539.00   \n",
       "\n",
       "   Jitter_ddp  Shimmer_local  Shimmer_localdB  Shimmer_apq3  Shimmer_apq5  \\\n",
       "0      2699.0         8334.0           779.00        4517.0       4609.00   \n",
       "1      1059.0         5864.0           642.00        2058.0          3.18   \n",
       "2      2196.0         8719.0           875.00        4347.0       5166.00   \n",
       "3      3469.0        13513.0          1273.00        5263.0       8771.00   \n",
       "4      5145.0         9112.0             1.04        3102.0       4927.00   \n",
       "\n",
       "   ...  Maximum_pitch  Num_pulses  Num_periods  Mean_periods  \\\n",
       "0  ...      187576.00         160          159      0.006065   \n",
       "1  ...      234505.00         170          169      0.005181   \n",
       "2  ...      211442.00        1431         1427      0.006071   \n",
       "3  ...         220.23          94           92      0.004910   \n",
       "4  ...      225162.00         117          114      0.004757   \n",
       "\n",
       "   Standard_deviation_period   Fraction_locally_unvoiced_frames  \\\n",
       "0                    0.000416                               0.0   \n",
       "1                    0.000403                            2247.0   \n",
       "2                    0.000474                           10656.0   \n",
       "3                    0.000320                               0.0   \n",
       "4                    0.000380                           18182.0   \n",
       "\n",
       "   Num_voice_breaks  Degree_voice_breaks  UPDRS  Sick  \n",
       "0                 0                  0.0     23     1  \n",
       "1                 0                  0.0     23     1  \n",
       "2                 1                178.0     23     1  \n",
       "3                 0                  0.0     23     1  \n",
       "4                 1              13318.0     23     1  \n",
       "\n",
       "[5 rows x 29 columns]"
      ]
     },
     "execution_count": 2,
     "metadata": {},
     "output_type": "execute_result"
    }
   ],
   "source": [
    "df = pd.read_csv(\"train_data2.csv\")\n",
    "df.head()"
   ]
  },
  {
   "cell_type": "code",
   "execution_count": 3,
   "metadata": {
    "id": "fcTs_lSci104",
    "outputId": "05de74f0-e1a4-4d24-ffea-d55dc129bcfb"
   },
   "outputs": [
    {
     "data": {
      "text/plain": [
       "0       1\n",
       "1       1\n",
       "2       1\n",
       "3       1\n",
       "4       1\n",
       "       ..\n",
       "1061    0\n",
       "1062    0\n",
       "1063    0\n",
       "1064    0\n",
       "1065    0\n",
       "Name: Sick, Length: 1066, dtype: int64"
      ]
     },
     "execution_count": 3,
     "metadata": {},
     "output_type": "execute_result"
    }
   ],
   "source": [
    "df.Sick"
   ]
  },
  {
   "cell_type": "code",
   "execution_count": 4,
   "metadata": {
    "id": "oVr0P5qni106"
   },
   "outputs": [],
   "source": [
    "##testando se o csv ficou arrumado##"
   ]
  },
  {
   "cell_type": "code",
   "execution_count": 5,
   "metadata": {
    "id": "Ij-v8DuGi108",
    "outputId": "714129e3-a8bf-421a-c67f-e8b7a93450cf"
   },
   "outputs": [
    {
     "data": {
      "text/plain": [
       "(1066, 29)"
      ]
     },
     "execution_count": 5,
     "metadata": {},
     "output_type": "execute_result"
    }
   ],
   "source": [
    "df.shape"
   ]
  },
  {
   "cell_type": "code",
   "execution_count": 6,
   "metadata": {
    "id": "6vwHaNdKi109"
   },
   "outputs": [],
   "source": [
    "##Checando se tem duplicados"
   ]
  },
  {
   "cell_type": "code",
   "execution_count": 7,
   "metadata": {
    "id": "2dJ_fTNUi10_",
    "outputId": "4b6f97c4-0fcc-446a-f438-781772b9cc2e",
    "scrolled": true
   },
   "outputs": [
    {
     "data": {
      "text/plain": [
       "0       False\n",
       "1       False\n",
       "2       False\n",
       "3       False\n",
       "4       False\n",
       "        ...  \n",
       "1061    False\n",
       "1062    False\n",
       "1063    False\n",
       "1064    False\n",
       "1065    False\n",
       "Length: 1066, dtype: bool"
      ]
     },
     "execution_count": 7,
     "metadata": {},
     "output_type": "execute_result"
    }
   ],
   "source": [
    "df.duplicated()"
   ]
  },
  {
   "cell_type": "code",
   "execution_count": 8,
   "metadata": {
    "id": "_9o44jDpi11B",
    "outputId": "12f36c09-c19c-4f0a-9d47-3c2deb8be7ce"
   },
   "outputs": [
    {
     "data": {
      "text/plain": [
       "26"
      ]
     },
     "execution_count": 8,
     "metadata": {},
     "output_type": "execute_result"
    }
   ],
   "source": [
    "sum(df.duplicated())"
   ]
  },
  {
   "cell_type": "code",
   "execution_count": 9,
   "metadata": {
    "id": "xnS-hTywi11B",
    "scrolled": false
   },
   "outputs": [],
   "source": [
    "df = df.drop_duplicates()"
   ]
  },
  {
   "cell_type": "code",
   "execution_count": 10,
   "metadata": {
    "id": "nW-FSgCTi11D",
    "outputId": "64387169-c14c-4e36-d96d-e30b113819b0",
    "scrolled": false
   },
   "outputs": [
    {
     "data": {
      "text/plain": [
       "0"
      ]
     },
     "execution_count": 10,
     "metadata": {},
     "output_type": "execute_result"
    }
   ],
   "source": [
    "sum(df.duplicated())"
   ]
  },
  {
   "cell_type": "code",
   "execution_count": 11,
   "metadata": {
    "id": "DD-sOE7ni11E",
    "outputId": "d08cc2f5-fabc-46fb-d5d7-558fa7106683"
   },
   "outputs": [
    {
     "data": {
      "text/plain": [
       "(1040, 29)"
      ]
     },
     "execution_count": 11,
     "metadata": {},
     "output_type": "execute_result"
    }
   ],
   "source": [
    "df.shape"
   ]
  },
  {
   "cell_type": "code",
   "execution_count": 12,
   "metadata": {
    "id": "ozuixHQpi11F",
    "outputId": "8af22049-a32f-45e6-c296-c954f5bc6b27"
   },
   "outputs": [
    {
     "name": "stdout",
     "output_type": "stream",
     "text": [
      "<class 'pandas.core.frame.DataFrame'>\n",
      "Int64Index: 1040 entries, 0 to 1065\n",
      "Data columns (total 29 columns):\n",
      " #   Column                            Non-Null Count  Dtype  \n",
      "---  ------                            --------------  -----  \n",
      " 0   paciente                          1040 non-null   int64  \n",
      " 1   Jitter_local                      1040 non-null   float64\n",
      " 2   Jitter_local_absolute             1040 non-null   float64\n",
      " 3   Jitter_rap                        1040 non-null   float64\n",
      " 4   Jitter_ppq5                       1040 non-null   float64\n",
      " 5   Jitter_ddp                        1040 non-null   float64\n",
      " 6   Shimmer_local                     1040 non-null   float64\n",
      " 7   Shimmer_localdB                   1040 non-null   float64\n",
      " 8   Shimmer_apq3                      1040 non-null   float64\n",
      " 9   Shimmer_apq5                      1040 non-null   float64\n",
      " 10  Shimmer_apq11                     1040 non-null   float64\n",
      " 11  Shimmer_dda                       1040 non-null   float64\n",
      " 12  AC                                1040 non-null   float64\n",
      " 13  NTH                               1040 non-null   float64\n",
      " 14  HTN                               1040 non-null   float64\n",
      " 15  Median_pitch                      1040 non-null   float64\n",
      " 16  Mean_pitch                        1040 non-null   float64\n",
      " 17  Standard_deviation                1040 non-null   float64\n",
      " 18  Minimum_pitch                     1040 non-null   float64\n",
      " 19  Maximum_pitch                     1040 non-null   float64\n",
      " 20  Num_pulses                        1040 non-null   int64  \n",
      " 21  Num_periods                       1040 non-null   int64  \n",
      " 22  Mean_periods                      1040 non-null   float64\n",
      " 23  Standard_deviation_period         1040 non-null   float64\n",
      " 24  Fraction_locally_unvoiced_frames  1040 non-null   float64\n",
      " 25  Num_voice_breaks                  1040 non-null   int64  \n",
      " 26  Degree_voice_breaks               1040 non-null   float64\n",
      " 27  UPDRS                             1040 non-null   int64  \n",
      " 28  Sick                              1040 non-null   int64  \n",
      "dtypes: float64(23), int64(6)\n",
      "memory usage: 243.8 KB\n"
     ]
    }
   ],
   "source": [
    "df.info()"
   ]
  },
  {
   "cell_type": "code",
   "execution_count": 13,
   "metadata": {
    "id": "RiNjV4yDi11G",
    "outputId": "b8890c37-5044-421e-b117-43fae021c774"
   },
   "outputs": [
    {
     "data": {
      "text/plain": [
       "(1040, 27)"
      ]
     },
     "execution_count": 13,
     "metadata": {},
     "output_type": "execute_result"
    }
   ],
   "source": [
    "#apaga a coluna de pacientes ID\n",
    "del df['paciente']\n",
    "del df['UPDRS']\n",
    "df.shape"
   ]
  },
  {
   "cell_type": "code",
   "execution_count": 14,
   "metadata": {
    "id": "I0qb2dXgi11I"
   },
   "outputs": [],
   "source": [
    "#####################################################\n",
    "#preparando os dados\n",
    "#####################################################"
   ]
  },
  {
   "cell_type": "code",
   "execution_count": 15,
   "metadata": {
    "id": "kGmegMb_i11K",
    "outputId": "3f3f861d-43a0-4ee7-b7a0-95f7d23c80f8",
    "scrolled": true
   },
   "outputs": [
    {
     "name": "stdout",
     "output_type": "stream",
     "text": [
      "(520, 27) (520,)\n",
      "(520, 27) (520,)\n"
     ]
    }
   ],
   "source": [
    "from sklearn.model_selection import train_test_split\n",
    "\n",
    "#O dataset aqui, é dividido na metade, 1 fatia de 520 inst. para o teste e para o treino sem shuffle\n",
    "#Dividindo a base entre treino e teste\n",
    "X_train50, X_test, y_train50, y_test = train_test_split(df, df.Sick, test_size=0.5 ,shuffle=False)\n",
    "\n",
    "print(X_train50.shape, y_train50.shape)\n",
    "print(X_test.shape, y_test.shape)"
   ]
  },
  {
   "cell_type": "code",
   "execution_count": 16,
   "metadata": {
    "id": "D2K5EWZ7i11M"
   },
   "outputs": [],
   "source": [
    "#Embaralhando o teste"
   ]
  },
  {
   "cell_type": "code",
   "execution_count": 17,
   "metadata": {},
   "outputs": [],
   "source": [
    "def embaralha(x,y):\n",
    "    X_aux, X_emb, y_aux, y_emb = train_test_split(x, y, test_size=0.95 ,shuffle=True)\n",
    "    r = (len(x)-len(x)*0.95)\n",
    "    X_emb = X_emb.append(X_aux.iloc[0:int(r)])\n",
    "    y_emb = y_emb.append(y_aux)\n",
    "    return (X_emb, y_emb)\n",
    "\n"
   ]
  },
  {
   "cell_type": "code",
   "execution_count": 18,
   "metadata": {},
   "outputs": [
    {
     "name": "stdout",
     "output_type": "stream",
     "text": [
      "(520, 27) (520,)\n"
     ]
    }
   ],
   "source": [
    "X_train50, y_train50 = embaralha(X_train50, y_train50) # essa linha sera usada no final\n",
    "\n",
    "\n",
    "X_test, y_test = embaralha(X_test, y_test)\n",
    "print(X_test.shape, y_test.shape)"
   ]
  },
  {
   "cell_type": "code",
   "execution_count": 19,
   "metadata": {
    "id": "MDsR8Ioai11O"
   },
   "outputs": [],
   "source": [
    "#Dividindo o treino50(520 instancias) entre treino(260) e validação(260)"
   ]
  },
  {
   "cell_type": "code",
   "execution_count": 20,
   "metadata": {
    "id": "T8JlxZU2i11O",
    "outputId": "4eec1d12-c163-474b-9590-1c08f3c5f993",
    "scrolled": true
   },
   "outputs": [
    {
     "name": "stdout",
     "output_type": "stream",
     "text": [
      "(260, 27) (260,)\n",
      "(260, 27) (260,)\n"
     ]
    }
   ],
   "source": [
    "X_train, X_val, y_train, y_val = train_test_split(X_train50, y_train50, test_size=0.5 ,shuffle=False)\n",
    "\n",
    "#Checando a divisão das instâncias entre as duas bases\n",
    "print(X_train.shape, y_train.shape)\n",
    "print(X_val.shape, y_val.shape)"
   ]
  },
  {
   "cell_type": "code",
   "execution_count": 21,
   "metadata": {},
   "outputs": [],
   "source": [
    "X_train, y_train = embaralha(X_train, y_train)"
   ]
  },
  {
   "cell_type": "code",
   "execution_count": 22,
   "metadata": {},
   "outputs": [],
   "source": [
    "X_val, y_val = embaralha(X_val, y_val)"
   ]
  },
  {
   "cell_type": "code",
   "execution_count": 23,
   "metadata": {
    "id": "mu4fAyVci11P",
    "outputId": "bc64dbdb-92fd-4695-95f6-ff43fa54b74a",
    "scrolled": true
   },
   "outputs": [
    {
     "name": "stdout",
     "output_type": "stream",
     "text": [
      "(260, 27) (260,)\n",
      "(520, 27) (520,)\n",
      "(260, 27) (260,)\n"
     ]
    }
   ],
   "source": [
    "print(X_train.shape, y_train.shape)\n",
    "print(X_test.shape, y_test.shape)\n",
    "print(X_val.shape, y_val.shape)"
   ]
  },
  {
   "cell_type": "code",
   "execution_count": 24,
   "metadata": {
    "id": "Asli1Qg3i11Q"
   },
   "outputs": [],
   "source": [
    "#Normalizando os dados\n",
    "\n",
    "from sklearn.preprocessing import StandardScaler\n",
    "\n",
    "sc = StandardScaler()  \n",
    "X_train = sc.fit_transform(X_train)  \n",
    "X_val = sc.transform(X_val)\n",
    "X_test = sc.fit_transform(X_test)\n",
    "X_train50 = sc.fit_transform(X_train50)"
   ]
  },
  {
   "cell_type": "code",
   "execution_count": 25,
   "metadata": {
    "id": "yi5T7qiyi11Q"
   },
   "outputs": [],
   "source": [
    "#####################################################\n",
    "#Aplicação SVM\n",
    "#####################################################"
   ]
  },
  {
   "cell_type": "code",
   "execution_count": 26,
   "metadata": {
    "id": "8S6yVFQ_i11R"
   },
   "outputs": [],
   "source": [
    "from sklearn import svm\n",
    "from sklearn.metrics import classification_report, confusion_matrix, accuracy_score"
   ]
  },
  {
   "cell_type": "code",
   "execution_count": 27,
   "metadata": {
    "id": "cIfdYo5Mi11c",
    "outputId": "fa5cbd8a-20c0-419e-a4ec-18eaf7d79a0a"
   },
   "outputs": [
    {
     "data": {
      "text/plain": [
       "GridSearchCV(cv=5, error_score=nan,\n",
       "             estimator=SVC(C=1.0, break_ties=False, cache_size=200,\n",
       "                           class_weight=None, coef0=0.0,\n",
       "                           decision_function_shape='ovr', degree=3,\n",
       "                           gamma='scale', kernel='poly', max_iter=-1,\n",
       "                           probability=False, random_state=None, shrinking=True,\n",
       "                           tol=0.001, verbose=False),\n",
       "             iid='deprecated', n_jobs=None,\n",
       "             param_grid={'C': [0.1, 1, 10, 100, 1000],\n",
       "                         'gamma': [0.0001, 0.0005, 0.001, 0.005, 0.01, 0.05,\n",
       "                                   0.1, 0.5]},\n",
       "             pre_dispatch='2*n_jobs', refit=True, return_train_score=False,\n",
       "             scoring=None, verbose=0)"
      ]
     },
     "execution_count": 27,
     "metadata": {},
     "output_type": "execute_result"
    }
   ],
   "source": [
    "## Aplicação de Hiperparâmetros\n",
    "\n",
    "\n",
    "\n",
    "from sklearn.model_selection import GridSearchCV\n",
    "\n",
    "param_grid = {'C': [0.1, 1, 10, 100, 1000],\n",
    "              'gamma': [0.0001, 0.0005, 0.001, 0.005, 0.01, 0.05, 0.1, 0.5]}\n",
    "\n",
    "Grid = svm.SVC \n",
    "modelo_SvmPoly = GridSearchCV(Grid(kernel='poly'), param_grid, cv=5)\n",
    "modelo_SvmPoly.fit(X_train, y_train)"
   ]
  },
  {
   "cell_type": "code",
   "execution_count": 28,
   "metadata": {},
   "outputs": [
    {
     "data": {
      "text/plain": [
       "SVC(C=0.1, break_ties=False, cache_size=200, class_weight=None, coef0=0.0,\n",
       "    decision_function_shape='ovr', degree=3, gamma=0.5, kernel='poly',\n",
       "    max_iter=-1, probability=False, random_state=None, shrinking=True,\n",
       "    tol=0.001, verbose=False)"
      ]
     },
     "execution_count": 28,
     "metadata": {},
     "output_type": "execute_result"
    }
   ],
   "source": [
    "modelo_SvmPoly.best_estimator_"
   ]
  },
  {
   "cell_type": "code",
   "execution_count": 30,
   "metadata": {
    "id": "iwuMLSRpi11S",
    "outputId": "31c16f3e-2d31-46d5-b5b5-744d06b2bdd5"
   },
   "outputs": [
    {
     "data": {
      "text/plain": [
       "SVC(C=0.1, break_ties=False, cache_size=200, class_weight=None, coef0=0.0,\n",
       "    decision_function_shape='ovr', degree=3, gamma=0.5, kernel='poly',\n",
       "    max_iter=-1, probability=False, random_state=None, shrinking=True,\n",
       "    tol=0.001, verbose=False)"
      ]
     },
     "execution_count": 30,
     "metadata": {},
     "output_type": "execute_result"
    }
   ],
   "source": [
    "#SVM polinomial aplicado: treino(260 instancias) realizado e predict testado com a fatia de \n",
    "# validação(260 instancias)\n",
    "\n",
    "modelo_SvmPoly = svm.SVC(C=0.1, break_ties=False, cache_size=200, class_weight=None, coef0=0.0,\n",
    "    decision_function_shape='ovr', degree=3, gamma=0.5, kernel='poly',\n",
    "    max_iter=-1, probability=False, random_state=None, shrinking=True,\n",
    "    tol=0.001, verbose=False)\n",
    "\n",
    "modelo_SvmPoly.fit(X_train, y_train)"
   ]
  },
  {
   "cell_type": "code",
   "execution_count": 31,
   "metadata": {
    "id": "H4Q2wHK4i11S"
   },
   "outputs": [],
   "source": [
    "#Vamos fazer as predições para a base de validação\n",
    "X_train_pred = modelo_SvmPoly.predict(X_train)\n",
    "y_pred_modelPoly = modelo_SvmPoly.predict(X_val)"
   ]
  },
  {
   "cell_type": "code",
   "execution_count": 32,
   "metadata": {
    "id": "ltuW-DN8i11S",
    "outputId": "935ab533-767e-4f46-c2ef-ad375e193a50",
    "scrolled": true
   },
   "outputs": [
    {
     "name": "stdout",
     "output_type": "stream",
     "text": [
      "Acurácia no treino 1.0\n",
      "Acurácia na validação 0.9961538461538462\n"
     ]
    }
   ],
   "source": [
    "print(\"Acurácia no treino\", accuracy_score(y_train, X_train_pred))\n",
    "print(\"Acurácia na validação\", accuracy_score(y_val, y_pred_modelPoly))"
   ]
  },
  {
   "cell_type": "code",
   "execution_count": 33,
   "metadata": {
    "id": "G72XHaTui11T",
    "outputId": "c024fbcd-9ad7-4389-f2a6-bbacf661deb8"
   },
   "outputs": [
    {
     "name": "stdout",
     "output_type": "stream",
     "text": [
      "[[122   0]\n",
      " [  1 137]]\n",
      "              precision    recall  f1-score   support\n",
      "\n",
      "           0       0.99      1.00      1.00       122\n",
      "           1       1.00      0.99      1.00       138\n",
      "\n",
      "    accuracy                           1.00       260\n",
      "   macro avg       1.00      1.00      1.00       260\n",
      "weighted avg       1.00      1.00      1.00       260\n",
      "\n",
      "Acurácia Polinomial: 0.9961538461538462\n"
     ]
    }
   ],
   "source": [
    "print(confusion_matrix(y_val,y_pred_modelPoly))\n",
    "print(classification_report(y_val,y_pred_modelPoly))\n",
    "print(\"Acurácia Polinomial:\", accuracy_score(y_val, y_pred_modelPoly))"
   ]
  },
  {
   "cell_type": "code",
   "execution_count": 34,
   "metadata": {
    "id": "kfBcLH-di11U"
   },
   "outputs": [],
   "source": [
    "#############################################"
   ]
  },
  {
   "cell_type": "code",
   "execution_count": 35,
   "metadata": {
    "id": "6wTHJ2OSi11V"
   },
   "outputs": [],
   "source": [
    "## MODELO SVM com Kernel RBF"
   ]
  },
  {
   "cell_type": "code",
   "execution_count": 36,
   "metadata": {},
   "outputs": [
    {
     "data": {
      "text/plain": [
       "GridSearchCV(cv=5, error_score=nan,\n",
       "             estimator=SVC(C=1.0, break_ties=False, cache_size=200,\n",
       "                           class_weight=None, coef0=0.0,\n",
       "                           decision_function_shape='ovr', degree=3,\n",
       "                           gamma='scale', kernel='rbf', max_iter=-1,\n",
       "                           probability=False, random_state=None, shrinking=True,\n",
       "                           tol=0.001, verbose=False),\n",
       "             iid='deprecated', n_jobs=None,\n",
       "             param_grid={'C': [0.1, 1, 10, 100, 1000],\n",
       "                         'gamma': [0.0001, 0.0005, 0.001, 0.005, 0.01, 0.05,\n",
       "                                   0.1, 0.5]},\n",
       "             pre_dispatch='2*n_jobs', refit=True, return_train_score=False,\n",
       "             scoring=None, verbose=0)"
      ]
     },
     "execution_count": 36,
     "metadata": {},
     "output_type": "execute_result"
    }
   ],
   "source": [
    "## Aplicação de Hiperparâmetros\n",
    "\n",
    "\n",
    "\n",
    "from sklearn.model_selection import GridSearchCV\n",
    "\n",
    "param_grid = {'C': [0.1, 1, 10, 100, 1000],\n",
    "              'gamma': [0.0001, 0.0005, 0.001, 0.005, 0.01, 0.05, 0.1, 0.5]}\n",
    "\n",
    "Grid = svm.SVC \n",
    "modelo_SvmRBF = GridSearchCV(Grid(kernel='rbf'), param_grid, cv=5)\n",
    "modelo_SvmRBF.fit(X_train, y_train)"
   ]
  },
  {
   "cell_type": "code",
   "execution_count": 37,
   "metadata": {},
   "outputs": [
    {
     "data": {
      "text/plain": [
       "SVC(C=1, break_ties=False, cache_size=200, class_weight=None, coef0=0.0,\n",
       "    decision_function_shape='ovr', degree=3, gamma=0.005, kernel='rbf',\n",
       "    max_iter=-1, probability=False, random_state=None, shrinking=True,\n",
       "    tol=0.001, verbose=False)"
      ]
     },
     "execution_count": 37,
     "metadata": {},
     "output_type": "execute_result"
    }
   ],
   "source": [
    "modelo_SvmRBF.best_estimator_"
   ]
  },
  {
   "cell_type": "code",
   "execution_count": 38,
   "metadata": {
    "id": "wa6BO_nKi11W",
    "outputId": "201bca82-b7d8-4e8e-d5aa-82a2ca9511b2"
   },
   "outputs": [
    {
     "data": {
      "text/plain": [
       "SVC(C=1, break_ties=False, cache_size=200, class_weight=None, coef0=0.0,\n",
       "    decision_function_shape='ovr', degree=3, gamma=0.005, kernel='rbf',\n",
       "    max_iter=-1, probability=False, random_state=None, shrinking=True,\n",
       "    tol=0.001, verbose=False)"
      ]
     },
     "execution_count": 38,
     "metadata": {},
     "output_type": "execute_result"
    }
   ],
   "source": [
    "#Gerando o modelo com kernel RBF\n",
    "#SVM RBF aplicado: treino(260 instancias) realizado e predict testado com a fatia de validação(260 instancias)\n",
    "\n",
    "modelo_SvmRBF = svm.SVC(C=1, break_ties=False, cache_size=200, class_weight=None, coef0=0.0,\n",
    "    decision_function_shape='ovr', degree=3, gamma=0.005, kernel='rbf',\n",
    "    max_iter=-1, probability=False, random_state=None, shrinking=True,\n",
    "    tol=0.001, verbose=False) \n",
    "\n",
    "modelo_SvmRBF.fit(X_train, y_train)\n"
   ]
  },
  {
   "cell_type": "code",
   "execution_count": 39,
   "metadata": {
    "id": "FzPeF23wi11X"
   },
   "outputs": [],
   "source": [
    "#Vamos fazer as predições para a base de validação\n",
    "X_train_predRBF = modelo_SvmRBF.predict(X_train)\n",
    "y_pred_rbf = modelo_SvmRBF.predict(X_val)"
   ]
  },
  {
   "cell_type": "code",
   "execution_count": 40,
   "metadata": {
    "id": "V2PHUChwi11Y",
    "outputId": "9dc800bb-56fc-4fb1-d8e8-80625728457d"
   },
   "outputs": [
    {
     "name": "stdout",
     "output_type": "stream",
     "text": [
      "Acurácia no treino 1.0\n",
      "Acurácia na validação 0.9961538461538462\n"
     ]
    }
   ],
   "source": [
    "# Comparando acurácia no treino e em validação\n",
    "print(\"Acurácia no treino\", accuracy_score(y_train, X_train_predRBF))\n",
    "print(\"Acurácia na validação\", accuracy_score(y_val, y_pred_rbf))"
   ]
  },
  {
   "cell_type": "code",
   "execution_count": 41,
   "metadata": {
    "id": "6glBng_bi11a",
    "outputId": "845c6b47-d6a7-42e6-eab6-70abdc41fd29"
   },
   "outputs": [
    {
     "name": "stdout",
     "output_type": "stream",
     "text": [
      "[[121   1]\n",
      " [  0 138]]\n",
      "              precision    recall  f1-score   support\n",
      "\n",
      "           0       1.00      0.99      1.00       122\n",
      "           1       0.99      1.00      1.00       138\n",
      "\n",
      "    accuracy                           1.00       260\n",
      "   macro avg       1.00      1.00      1.00       260\n",
      "weighted avg       1.00      1.00      1.00       260\n",
      "\n",
      "Acurácia RBF: 0.9961538461538462\n"
     ]
    }
   ],
   "source": [
    "# Avaliação do modelo\n",
    "\n",
    "print(confusion_matrix(y_val,y_pred_rbf))\n",
    "print(classification_report(y_val,y_pred_rbf))  \n",
    "print(\"Acurácia RBF:\", accuracy_score(y_val, y_pred_rbf))"
   ]
  },
  {
   "cell_type": "code",
   "execution_count": 42,
   "metadata": {},
   "outputs": [],
   "source": [
    "#############################################\n",
    "#Aplicação do KNN\n",
    "from sklearn.neighbors import KNeighborsClassifier"
   ]
  },
  {
   "cell_type": "code",
   "execution_count": 43,
   "metadata": {},
   "outputs": [
    {
     "data": {
      "text/plain": [
       "0.9115384615384615"
      ]
     },
     "execution_count": 43,
     "metadata": {},
     "output_type": "execute_result"
    }
   ],
   "source": [
    "knn = KNeighborsClassifier(n_neighbors=5)\n",
    "knn.fit(X_train, y_train)\n",
    "    \n",
    "y_pred = knn.predict(X_val)\n",
    "accuracy_score(y_val, y_pred)"
   ]
  },
  {
   "cell_type": "code",
   "execution_count": 44,
   "metadata": {},
   "outputs": [
    {
     "name": "stdout",
     "output_type": "stream",
     "text": [
      "[[113   9]\n",
      " [ 14 124]]\n",
      "              precision    recall  f1-score   support\n",
      "\n",
      "           0       0.89      0.93      0.91       122\n",
      "           1       0.93      0.90      0.92       138\n",
      "\n",
      "    accuracy                           0.91       260\n",
      "   macro avg       0.91      0.91      0.91       260\n",
      "weighted avg       0.91      0.91      0.91       260\n",
      "\n",
      "Acurácia RBF: 0.9115384615384615\n"
     ]
    }
   ],
   "source": [
    "print(confusion_matrix(y_val,y_pred))\n",
    "print(classification_report(y_val,y_pred))  \n",
    "print(\"Acurácia RBF:\", accuracy_score(y_val, y_pred))"
   ]
  },
  {
   "cell_type": "code",
   "execution_count": 45,
   "metadata": {
    "id": "0vl_P1dui11e"
   },
   "outputs": [],
   "source": [
    "###################################################"
   ]
  },
  {
   "cell_type": "code",
   "execution_count": 46,
   "metadata": {
    "id": "BeqaOt6Hi11e"
   },
   "outputs": [],
   "source": [
    "# Comparação dos modelos até agora, dessa vez com o novo treino\n",
    "# o novo treino consiste na junção da X_val/y_val e X_train/y_train totalizando 520 instancias\n",
    "# e a validação é a fatia destinada ao teste X_test e y_test que também conta com 520 intâncias"
   ]
  },
  {
   "cell_type": "code",
   "execution_count": 47,
   "metadata": {
    "id": "Pcq_ChBIi11f",
    "outputId": "511efed2-7c5c-4aa2-8bc5-1a684a7d210e"
   },
   "outputs": [
    {
     "name": "stdout",
     "output_type": "stream",
     "text": [
      "Acurácia SVC 1.0\n",
      "              precision    recall  f1-score   support\n",
      "\n",
      "           0       1.00      1.00      1.00       286\n",
      "           1       1.00      1.00      1.00       234\n",
      "\n",
      "    accuracy                           1.00       520\n",
      "   macro avg       1.00      1.00      1.00       520\n",
      "weighted avg       1.00      1.00      1.00       520\n",
      "\n",
      "Acurácia SVC 0.9942307692307693\n",
      "              precision    recall  f1-score   support\n",
      "\n",
      "           0       1.00      0.99      0.99       286\n",
      "           1       0.99      1.00      0.99       234\n",
      "\n",
      "    accuracy                           0.99       520\n",
      "   macro avg       0.99      0.99      0.99       520\n",
      "weighted avg       0.99      0.99      0.99       520\n",
      "\n",
      "Acurácia KNeighborsClassifier 0.9173076923076923\n",
      "              precision    recall  f1-score   support\n",
      "\n",
      "           0       0.96      0.89      0.92       286\n",
      "           1       0.87      0.95      0.91       234\n",
      "\n",
      "    accuracy                           0.92       520\n",
      "   macro avg       0.92      0.92      0.92       520\n",
      "weighted avg       0.92      0.92      0.92       520\n",
      "\n"
     ]
    }
   ],
   "source": [
    "for modelo in (modelo_SvmPoly, modelo_SvmRBF, knn):   \n",
    "    modelo.fit(X_train, y_train)\n",
    "    name = modelo\n",
    "    y_pred_name = modelo.predict(X_test)\n",
    "    print(\"Acurácia\", modelo.__class__.__name__,  accuracy_score(y_test, y_pred_name))\n",
    "    print(classification_report(y_test,y_pred_name))"
   ]
  },
  {
   "cell_type": "code",
   "execution_count": 48,
   "metadata": {},
   "outputs": [],
   "source": [
    "#Agora o teste será realizado em um dataset com 6 exames de 28 pacientes com Parkinson, todos com a doença\n",
    "# Serão 168 instancias (6 exames x 28 pacientes) embaralhadas"
   ]
  },
  {
   "cell_type": "code",
   "execution_count": 49,
   "metadata": {},
   "outputs": [],
   "source": [
    "PD = pd.read_csv('test_data.csv')\n",
    "del PD['paciente']"
   ]
  },
  {
   "cell_type": "code",
   "execution_count": 50,
   "metadata": {},
   "outputs": [],
   "source": [
    "y_final = PD.Sick\n",
    "X_final = PD"
   ]
  },
  {
   "cell_type": "code",
   "execution_count": 51,
   "metadata": {
    "scrolled": false
   },
   "outputs": [],
   "source": [
    "X_final, y_final = embaralha(X_final, y_final)"
   ]
  },
  {
   "cell_type": "code",
   "execution_count": 52,
   "metadata": {
    "scrolled": true
   },
   "outputs": [
    {
     "name": "stdout",
     "output_type": "stream",
     "text": [
      "(168, 27) (168,)\n"
     ]
    }
   ],
   "source": [
    "X_final = sc.fit_transform(X_final)\n",
    "print(X_final.shape, y_final.shape)"
   ]
  },
  {
   "cell_type": "code",
   "execution_count": 53,
   "metadata": {
    "id": "oLPdrbm0i11g",
    "scrolled": true
   },
   "outputs": [
    {
     "name": "stdout",
     "output_type": "stream",
     "text": [
      "Acurácia SVC 0.8452380952380952\n",
      "              precision    recall  f1-score   support\n",
      "\n",
      "           0       0.00      0.00      0.00         0\n",
      "           1       1.00      0.85      0.92       168\n",
      "\n",
      "    accuracy                           0.85       168\n",
      "   macro avg       0.50      0.42      0.46       168\n",
      "weighted avg       1.00      0.85      0.92       168\n",
      "\n",
      "Acurácia SVC 1.0\n",
      "              precision    recall  f1-score   support\n",
      "\n",
      "           1       1.00      1.00      1.00       168\n",
      "\n",
      "    accuracy                           1.00       168\n",
      "   macro avg       1.00      1.00      1.00       168\n",
      "weighted avg       1.00      1.00      1.00       168\n",
      "\n",
      "Acurácia KNeighborsClassifier 0.5773809523809523\n",
      "              precision    recall  f1-score   support\n",
      "\n",
      "           0       0.00      0.00      0.00         0\n",
      "           1       1.00      0.58      0.73       168\n",
      "\n",
      "    accuracy                           0.58       168\n",
      "   macro avg       0.50      0.29      0.37       168\n",
      "weighted avg       1.00      0.58      0.73       168\n",
      "\n"
     ]
    },
    {
     "name": "stderr",
     "output_type": "stream",
     "text": [
      "/home/mariohn/anaconda3/lib/python3.7/site-packages/sklearn/metrics/_classification.py:1272: UndefinedMetricWarning: Recall and F-score are ill-defined and being set to 0.0 in labels with no true samples. Use `zero_division` parameter to control this behavior.\n",
      "  _warn_prf(average, modifier, msg_start, len(result))\n",
      "/home/mariohn/anaconda3/lib/python3.7/site-packages/sklearn/metrics/_classification.py:1272: UndefinedMetricWarning: Recall and F-score are ill-defined and being set to 0.0 in labels with no true samples. Use `zero_division` parameter to control this behavior.\n",
      "  _warn_prf(average, modifier, msg_start, len(result))\n"
     ]
    }
   ],
   "source": [
    "for modelo in (modelo_SvmPoly, modelo_SvmRBF, knn):\n",
    "    modelo.fit(X_train, y_train)\n",
    "    name = modelo\n",
    "    y_pred_name = modelo.predict(X_final)\n",
    "    print(\"Acurácia\", modelo.__class__.__name__,  accuracy_score(y_final, y_pred_name))\n",
    "    print(classification_report(y_final,y_pred_name))"
   ]
  },
  {
   "cell_type": "code",
   "execution_count": null,
   "metadata": {},
   "outputs": [],
   "source": []
  },
  {
   "cell_type": "code",
   "execution_count": null,
   "metadata": {},
   "outputs": [],
   "source": []
  },
  {
   "cell_type": "code",
   "execution_count": null,
   "metadata": {},
   "outputs": [],
   "source": []
  },
  {
   "cell_type": "code",
   "execution_count": null,
   "metadata": {},
   "outputs": [],
   "source": []
  },
  {
   "cell_type": "code",
   "execution_count": null,
   "metadata": {},
   "outputs": [],
   "source": []
  },
  {
   "cell_type": "code",
   "execution_count": null,
   "metadata": {},
   "outputs": [],
   "source": []
  }
 ],
 "metadata": {
  "colab": {
   "name": "Atualizado-1ºmanipulacao.ipynb",
   "provenance": []
  },
  "kernelspec": {
   "display_name": "Python 3",
   "language": "python",
   "name": "python3"
  },
  "language_info": {
   "codemirror_mode": {
    "name": "ipython",
    "version": 3
   },
   "file_extension": ".py",
   "mimetype": "text/x-python",
   "name": "python",
   "nbconvert_exporter": "python",
   "pygments_lexer": "ipython3",
   "version": "3.7.6"
  }
 },
 "nbformat": 4,
 "nbformat_minor": 1
}
