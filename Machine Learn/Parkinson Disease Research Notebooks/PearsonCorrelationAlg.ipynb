{
 "cells": [
  {
   "cell_type": "code",
   "execution_count": 1,
   "metadata": {},
   "outputs": [],
   "source": [
    "import pandas as pd\n",
    "import sklearn\n",
    "from pandas import Series\n",
    "from sklearn.model_selection import train_test_split\n",
    "import numpy as np\n",
    "import statistics\n",
    "import re\n",
    "from numpy import *\n",
    "import csv\n",
    "from math import *\n",
    "from csv import reader\n",
    "import matplotlib.pyplot as plt\n",
    "%matplotlib inline\n"
   ]
  },
  {
   "cell_type": "code",
   "execution_count": 2,
   "metadata": {},
   "outputs": [],
   "source": [
    "sample1 = pd.read_csv(\"sample1.csv\")\n",
    "sample2 = pd.read_csv(\"sample2.csv\")\n",
    "sample3 = pd.read_csv(\"sample3.csv\")\n",
    "sample4 = pd.read_csv(\"sample4.csv\")\n",
    "sample5 = pd.read_csv(\"sample5.csv\")\n",
    "sample6 = pd.read_csv(\"sample6.csv\")\n",
    "sample7 = pd.read_csv(\"sample7.csv\")\n",
    "sample8 = pd.read_csv(\"sample8.csv\")\n",
    "sample9 = pd.read_csv(\"sample9.csv\")\n",
    "sample10 = pd.read_csv(\"sample10.csv\")\n",
    "sample11 = pd.read_csv(\"sample11.csv\")\n",
    "sample12 = pd.read_csv(\"sample12.csv\")\n",
    "sample13 = pd.read_csv(\"sample13.csv\")\n",
    "sample14 = pd.read_csv(\"sample14.csv\")\n",
    "sample15 = pd.read_csv(\"sample15.csv\")\n",
    "sample16 = pd.read_csv(\"sample16.csv\")\n",
    "sample17 = pd.read_csv(\"sample17.csv\")\n",
    "sample18 = pd.read_csv(\"sample18.csv\")\n",
    "sample19 = pd.read_csv(\"sample19.csv\")\n",
    "sample20 = pd.read_csv(\"sample20.csv\")\n",
    "sample21 = pd.read_csv(\"sample21.csv\")\n",
    "sample22 = pd.read_csv(\"sample22.csv\")\n",
    "sample23 = pd.read_csv(\"sample23.csv\")\n",
    "sample24 = pd.read_csv(\"sample24.csv\")\n",
    "sample25 = pd.read_csv(\"sample25.csv\")\n",
    "sample26 = pd.read_csv(\"sample26.csv\")\n"
   ]
  },
  {
   "cell_type": "code",
   "execution_count": 3,
   "metadata": {},
   "outputs": [],
   "source": [
    "samples = [sample1,sample2,sample3,sample4,sample5,sample6,sample7,sample8,sample9,sample10,sample11,\n",
    "           sample12,sample13,sample14,sample15,sample16,sample17,sample18,sample19,sample20,sample21,\n",
    "          sample22,sample23,sample24,sample25,sample26]"
   ]
  },
  {
   "cell_type": "code",
   "execution_count": 4,
   "metadata": {},
   "outputs": [],
   "source": [
    "Sick = samples[0].UPDRS"
   ]
  },
  {
   "cell_type": "code",
   "execution_count": 5,
   "metadata": {},
   "outputs": [],
   "source": [
    "# Sick1 = samples[0].Sick\n",
    "# Sick2 = samples[1].Sick\n",
    "# Sick3 = samples[2].Sick\n",
    "# Sick4 = samples[3].Sick\n",
    "# Sick5 = samples[4].Sick\n",
    "# Sick6 = samples[5].Sick\n",
    "# Sick7 = samples[6].Sick\n",
    "# Sick8 = samples[7].Sick\n",
    "# Sick9 = samples[8].Sick\n",
    "# Sick10 = samples[9].Sick\n",
    "# Sick11 = samples[10].Sick\n",
    "# Sick12 = samples[11].Sick\n",
    "# Sick13 = samples[12].Sick\n",
    "# Sick14 = samples[13].Sick\n",
    "# Sick15 = samples[14].Sick\n",
    "# Sick16 = samples[15].Sick\n",
    "# Sick17 = samples[16].Sick\n",
    "# Sick18 = samples[17].Sick\n",
    "# Sick19 = samples[18].Sick\n",
    "# Sick20 = samples[19].Sick\n",
    "# Sick21 = samples[20].Sick\n",
    "# Sick22 = samples[21].Sick\n",
    "# Sick23 = samples[22].Sick\n",
    "# Sick24 = samples[23].Sick\n",
    "# Sick25 = samples[24].Sick\n",
    "# Sick26 = samples[25].Sick\n",
    "\n",
    "# Sick = [Sick1, Sick2, Sick3, Sick4, Sick5, Sick6, Sick7, Sick8, Sick9, Sick10, Sick11, Sick12, Sick13, Sick14,\n",
    "#        Sick15, Sick16, Sick17, Sick18, Sick19, Sick20, Sick21, Sick22, Sick23, Sick24, Sick25, Sick26]"
   ]
  },
  {
   "cell_type": "code",
   "execution_count": 6,
   "metadata": {},
   "outputs": [],
   "source": [
    "for i in samples:\n",
    "    del i['paciente']\n",
    "    del i['UPDRS']\n",
    "    del i['Sick']"
   ]
  },
  {
   "cell_type": "code",
   "execution_count": 7,
   "metadata": {},
   "outputs": [],
   "source": [
    "##checando as feats"
   ]
  },
  {
   "cell_type": "code",
   "execution_count": 95,
   "metadata": {},
   "outputs": [],
   "source": [
    "col1 = samples[25]['Jitter_local']\n",
    "col2 = samples[25]['Jitter_local_absolute']\n",
    "col3 = samples[25]['Jitter_rap']\n",
    "col4 = samples[25]['Jitter_ppq5']\n",
    "col5 = samples[25]['Jitter_ddp']\n",
    "col6 = samples[25]['Shimmer_local']\n",
    "col7 = samples[25]['Shimmer_localdB']\n",
    "col8 = samples[25]['Shimmer_apq3']\n",
    "col9 = samples[25]['Shimmer_apq5']\n",
    "col10 = samples[25]['Shimmer_apq11']\n",
    "col11 = samples[25]['Shimmer_dda']\n",
    "col12 = samples[25]['AC']\n",
    "col13 = samples[25]['NTH']\n",
    "col14 = samples[25]['HTN']\n",
    "col15 = samples[25]['Median_pitch']\n",
    "col16 = samples[25]['Mean_pitch']\n",
    "col17 = samples[25]['Standard_deviation']\n",
    "col18 = samples[25]['Minimum_pitch']\n",
    "col19 = samples[25]['Maximum_pitch']\n",
    "col20 = samples[25]['Num_pulses']\n",
    "col21 = samples[25]['Num_periods']\n",
    "col22 = samples[25]['Mean_periods']\n",
    "col23 = samples[25]['Standard_deviation_period ']\n",
    "col24 = samples[25]['Fraction_locally_unvoiced_frames']\n",
    "col25 = samples[25]['Num_voice_breaks']\n",
    "col26 = samples[25]['Degree_voice_breaks']\n",
    "\n",
    "col = [col1, col2, col3, col4, col5, col6, col7, col8, col9, col10, col11, col12, col13, col14, col15, col16,\n",
    "      col17, col18, col19, col20, col21, col22, col23, col24, col25, col26]"
   ]
  },
  {
   "cell_type": "code",
   "execution_count": 96,
   "metadata": {},
   "outputs": [],
   "source": [
    "def PearsonCor(x,y):\n",
    "    xa = x-mean(x)\n",
    "    ya = y-mean(y)\n",
    "    r = sum((xa)*(ya))/(sqrt(sum(xa*xa)*sum(ya*ya)))\n",
    "    print(r)\n",
    "    \n",
    "\n",
    "def PCauto(x,y):\n",
    "    for i in range(26):    \n",
    "        a = x[i]\n",
    "        b = y.tolist()\n",
    "        PearsonCor(a,b)"
   ]
  },
  {
   "cell_type": "code",
   "execution_count": 97,
   "metadata": {},
   "outputs": [
    {
     "name": "stdout",
     "output_type": "stream",
     "text": [
      "0.25585368605328945\n",
      "0.33587876728952054\n",
      "0.2780374480929416\n",
      "0.0691817770820187\n",
      "0.28066775859978405\n",
      "0.04822695158542002\n",
      "-0.09873787199256603\n",
      "-0.0020683371810172784\n",
      "-0.004187094010822345\n",
      "-0.17176083561960184\n",
      "-0.010201782863062048\n",
      "-0.0082280044347647\n",
      "0.017269023604974936\n",
      "-0.04139269898026651\n",
      "-0.0643807131760399\n",
      "0.03957314728946545\n",
      "-0.09026186718953455\n",
      "0.06879545039728831\n",
      "-0.1216110754778783\n",
      "-0.010653133408988548\n",
      "0.013403923906978005\n",
      "0.041826837764970065\n",
      "-0.08630758280522773\n",
      "-0.07580142610283293\n",
      "-0.018362693759432672\n",
      "0.08689894159385605\n"
     ]
    }
   ],
   "source": [
    "PCauto(col,Sick)"
   ]
  },
  {
   "cell_type": "code",
   "execution_count": null,
   "metadata": {},
   "outputs": [],
   "source": []
  }
 ],
 "metadata": {
  "kernelspec": {
   "display_name": "Python 3",
   "language": "python",
   "name": "python3"
  },
  "language_info": {
   "codemirror_mode": {
    "name": "ipython",
    "version": 3
   },
   "file_extension": ".py",
   "mimetype": "text/x-python",
   "name": "python",
   "nbconvert_exporter": "python",
   "pygments_lexer": "ipython3",
   "version": "3.7.6"
  }
 },
 "nbformat": 4,
 "nbformat_minor": 4
}
