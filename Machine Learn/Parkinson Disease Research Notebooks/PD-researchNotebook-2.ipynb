{
 "cells": [
  {
   "cell_type": "code",
   "execution_count": 1,
   "metadata": {
    "id": "oDQozQTZi10t"
   },
   "outputs": [],
   "source": [
    "import pandas as pd\n",
    "import sklearn\n",
    "import numpy as np\n",
    "import csv\n",
    "from csv import reader\n",
    "import matplotlib.pyplot as plt\n",
    "%matplotlib inline"
   ]
  },
  {
   "cell_type": "code",
   "execution_count": 2,
   "metadata": {
    "id": "nwlsx922i10z",
    "outputId": "aea62be8-b260-41db-c583-1f5806acf3d0",
    "scrolled": false
   },
   "outputs": [
    {
     "data": {
      "text/html": [
       "<div>\n",
       "<style scoped>\n",
       "    .dataframe tbody tr th:only-of-type {\n",
       "        vertical-align: middle;\n",
       "    }\n",
       "\n",
       "    .dataframe tbody tr th {\n",
       "        vertical-align: top;\n",
       "    }\n",
       "\n",
       "    .dataframe thead th {\n",
       "        text-align: right;\n",
       "    }\n",
       "</style>\n",
       "<table border=\"1\" class=\"dataframe\">\n",
       "  <thead>\n",
       "    <tr style=\"text-align: right;\">\n",
       "      <th></th>\n",
       "      <th>paciente</th>\n",
       "      <th>Jitter_local</th>\n",
       "      <th>Jitter_local_absolute</th>\n",
       "      <th>Jitter_rap</th>\n",
       "      <th>Jitter_ppq5</th>\n",
       "      <th>Jitter_ddp</th>\n",
       "      <th>Shimmer_local</th>\n",
       "      <th>Shimmer_localdB</th>\n",
       "      <th>Shimmer_apq3</th>\n",
       "      <th>Shimmer_apq5</th>\n",
       "      <th>...</th>\n",
       "      <th>Num_pulses</th>\n",
       "      <th>Num_periods</th>\n",
       "      <th>Mean_periods</th>\n",
       "      <th>Standard_deviation_period</th>\n",
       "      <th>Fraction_locally_unvoiced_frames</th>\n",
       "      <th>Num_voice_breaks</th>\n",
       "      <th>Degree_voice_breaks</th>\n",
       "      <th>UPDRS</th>\n",
       "      <th>Exame</th>\n",
       "      <th>Sick</th>\n",
       "    </tr>\n",
       "  </thead>\n",
       "  <tbody>\n",
       "    <tr>\n",
       "      <th>0</th>\n",
       "      <td>40</td>\n",
       "      <td>471.0</td>\n",
       "      <td>0.000034</td>\n",
       "      <td>186.0</td>\n",
       "      <td>0.23</td>\n",
       "      <td>558.0</td>\n",
       "      <td>2793.0</td>\n",
       "      <td>0.26</td>\n",
       "      <td>1183.0</td>\n",
       "      <td>1.52</td>\n",
       "      <td>...</td>\n",
       "      <td>176</td>\n",
       "      <td>175</td>\n",
       "      <td>0.007179</td>\n",
       "      <td>0.000130</td>\n",
       "      <td>0.0</td>\n",
       "      <td>0</td>\n",
       "      <td>0.00</td>\n",
       "      <td>1</td>\n",
       "      <td>1</td>\n",
       "      <td>0</td>\n",
       "    </tr>\n",
       "    <tr>\n",
       "      <th>1</th>\n",
       "      <td>40</td>\n",
       "      <td>4319.0</td>\n",
       "      <td>0.000317</td>\n",
       "      <td>2774.0</td>\n",
       "      <td>1708.00</td>\n",
       "      <td>8322.0</td>\n",
       "      <td>13924.0</td>\n",
       "      <td>1195.00</td>\n",
       "      <td>8558.0</td>\n",
       "      <td>6036.00</td>\n",
       "      <td>...</td>\n",
       "      <td>258</td>\n",
       "      <td>256</td>\n",
       "      <td>0.007343</td>\n",
       "      <td>0.000312</td>\n",
       "      <td>2913.0</td>\n",
       "      <td>1</td>\n",
       "      <td>7038.00</td>\n",
       "      <td>1</td>\n",
       "      <td>2</td>\n",
       "      <td>0</td>\n",
       "    </tr>\n",
       "    <tr>\n",
       "      <th>2</th>\n",
       "      <td>40</td>\n",
       "      <td>1543.0</td>\n",
       "      <td>0.000103</td>\n",
       "      <td>1004.0</td>\n",
       "      <td>648.00</td>\n",
       "      <td>3012.0</td>\n",
       "      <td>17447.0</td>\n",
       "      <td>1694.00</td>\n",
       "      <td>11171.0</td>\n",
       "      <td>6851.00</td>\n",
       "      <td>...</td>\n",
       "      <td>426</td>\n",
       "      <td>425</td>\n",
       "      <td>0.006700</td>\n",
       "      <td>0.000108</td>\n",
       "      <td>351.0</td>\n",
       "      <td>0</td>\n",
       "      <td>0.00</td>\n",
       "      <td>1</td>\n",
       "      <td>3</td>\n",
       "      <td>0</td>\n",
       "    </tr>\n",
       "    <tr>\n",
       "      <th>3</th>\n",
       "      <td>40</td>\n",
       "      <td>2864.0</td>\n",
       "      <td>0.000212</td>\n",
       "      <td>1108.0</td>\n",
       "      <td>1147.00</td>\n",
       "      <td>3324.0</td>\n",
       "      <td>7692.0</td>\n",
       "      <td>1062.00</td>\n",
       "      <td>2555.0</td>\n",
       "      <td>4647.00</td>\n",
       "      <td>...</td>\n",
       "      <td>74</td>\n",
       "      <td>70</td>\n",
       "      <td>0.007405</td>\n",
       "      <td>0.000660</td>\n",
       "      <td>18056.0</td>\n",
       "      <td>2</td>\n",
       "      <td>6777.00</td>\n",
       "      <td>1</td>\n",
       "      <td>4</td>\n",
       "      <td>0</td>\n",
       "    </tr>\n",
       "    <tr>\n",
       "      <th>4</th>\n",
       "      <td>40</td>\n",
       "      <td>3878.0</td>\n",
       "      <td>0.000301</td>\n",
       "      <td>1795.0</td>\n",
       "      <td>1675.00</td>\n",
       "      <td>5386.0</td>\n",
       "      <td>11574.0</td>\n",
       "      <td>1212.00</td>\n",
       "      <td>3994.0</td>\n",
       "      <td>5.69</td>\n",
       "      <td>...</td>\n",
       "      <td>71</td>\n",
       "      <td>68</td>\n",
       "      <td>0.007766</td>\n",
       "      <td>0.001045</td>\n",
       "      <td>25333.0</td>\n",
       "      <td>2</td>\n",
       "      <td>11.75</td>\n",
       "      <td>1</td>\n",
       "      <td>5</td>\n",
       "      <td>0</td>\n",
       "    </tr>\n",
       "  </tbody>\n",
       "</table>\n",
       "<p>5 rows × 30 columns</p>\n",
       "</div>"
      ],
      "text/plain": [
       "   paciente  Jitter_local  Jitter_local_absolute  Jitter_rap  Jitter_ppq5  \\\n",
       "0        40         471.0               0.000034       186.0         0.23   \n",
       "1        40        4319.0               0.000317      2774.0      1708.00   \n",
       "2        40        1543.0               0.000103      1004.0       648.00   \n",
       "3        40        2864.0               0.000212      1108.0      1147.00   \n",
       "4        40        3878.0               0.000301      1795.0      1675.00   \n",
       "\n",
       "   Jitter_ddp  Shimmer_local  Shimmer_localdB  Shimmer_apq3  Shimmer_apq5  \\\n",
       "0       558.0         2793.0             0.26        1183.0          1.52   \n",
       "1      8322.0        13924.0          1195.00        8558.0       6036.00   \n",
       "2      3012.0        17447.0          1694.00       11171.0       6851.00   \n",
       "3      3324.0         7692.0          1062.00        2555.0       4647.00   \n",
       "4      5386.0        11574.0          1212.00        3994.0          5.69   \n",
       "\n",
       "   ...  Num_pulses  Num_periods  Mean_periods  Standard_deviation_period   \\\n",
       "0  ...         176          175      0.007179                    0.000130   \n",
       "1  ...         258          256      0.007343                    0.000312   \n",
       "2  ...         426          425      0.006700                    0.000108   \n",
       "3  ...          74           70      0.007405                    0.000660   \n",
       "4  ...          71           68      0.007766                    0.001045   \n",
       "\n",
       "   Fraction_locally_unvoiced_frames  Num_voice_breaks  Degree_voice_breaks  \\\n",
       "0                               0.0                 0                 0.00   \n",
       "1                            2913.0                 1              7038.00   \n",
       "2                             351.0                 0                 0.00   \n",
       "3                           18056.0                 2              6777.00   \n",
       "4                           25333.0                 2                11.75   \n",
       "\n",
       "   UPDRS  Exame  Sick  \n",
       "0      1      1     0  \n",
       "1      1      2     0  \n",
       "2      1      3     0  \n",
       "3      1      4     0  \n",
       "4      1      5     0  \n",
       "\n",
       "[5 rows x 30 columns]"
      ]
     },
     "execution_count": 2,
     "metadata": {},
     "output_type": "execute_result"
    }
   ],
   "source": [
    "df = pd.read_csv(\"train_data3.csv\")\n",
    "df.head()"
   ]
  },
  {
   "cell_type": "code",
   "execution_count": 3,
   "metadata": {
    "id": "fcTs_lSci104",
    "outputId": "05de74f0-e1a4-4d24-ffea-d55dc129bcfb"
   },
   "outputs": [
    {
     "data": {
      "text/plain": [
       "0       0\n",
       "1       0\n",
       "2       0\n",
       "3       0\n",
       "4       0\n",
       "       ..\n",
       "1035    1\n",
       "1036    1\n",
       "1037    1\n",
       "1038    1\n",
       "1039    1\n",
       "Name: Sick, Length: 1040, dtype: int64"
      ]
     },
     "execution_count": 3,
     "metadata": {},
     "output_type": "execute_result"
    }
   ],
   "source": [
    "df.Sick"
   ]
  },
  {
   "cell_type": "code",
   "execution_count": 4,
   "metadata": {
    "id": "oVr0P5qni106"
   },
   "outputs": [],
   "source": [
    "##testando se o csv ficou arrumado##"
   ]
  },
  {
   "cell_type": "code",
   "execution_count": 5,
   "metadata": {
    "id": "Ij-v8DuGi108",
    "outputId": "714129e3-a8bf-421a-c67f-e8b7a93450cf"
   },
   "outputs": [
    {
     "data": {
      "text/plain": [
       "(1040, 30)"
      ]
     },
     "execution_count": 5,
     "metadata": {},
     "output_type": "execute_result"
    }
   ],
   "source": [
    "df.shape"
   ]
  },
  {
   "cell_type": "code",
   "execution_count": 6,
   "metadata": {
    "id": "6vwHaNdKi109"
   },
   "outputs": [],
   "source": [
    "##Checando se tem duplicados"
   ]
  },
  {
   "cell_type": "code",
   "execution_count": 7,
   "metadata": {
    "id": "_9o44jDpi11B",
    "outputId": "12f36c09-c19c-4f0a-9d47-3c2deb8be7ce"
   },
   "outputs": [
    {
     "data": {
      "text/plain": [
       "0"
      ]
     },
     "execution_count": 7,
     "metadata": {},
     "output_type": "execute_result"
    }
   ],
   "source": [
    "sum(df.duplicated())"
   ]
  },
  {
   "cell_type": "code",
   "execution_count": 8,
   "metadata": {
    "id": "DD-sOE7ni11E",
    "outputId": "d08cc2f5-fabc-46fb-d5d7-558fa7106683"
   },
   "outputs": [
    {
     "data": {
      "text/plain": [
       "(1040, 30)"
      ]
     },
     "execution_count": 8,
     "metadata": {},
     "output_type": "execute_result"
    }
   ],
   "source": [
    "df.shape"
   ]
  },
  {
   "cell_type": "code",
   "execution_count": 9,
   "metadata": {
    "id": "ozuixHQpi11F",
    "outputId": "8af22049-a32f-45e6-c296-c954f5bc6b27"
   },
   "outputs": [
    {
     "name": "stdout",
     "output_type": "stream",
     "text": [
      "<class 'pandas.core.frame.DataFrame'>\n",
      "RangeIndex: 1040 entries, 0 to 1039\n",
      "Data columns (total 30 columns):\n",
      " #   Column                            Non-Null Count  Dtype  \n",
      "---  ------                            --------------  -----  \n",
      " 0   paciente                          1040 non-null   int64  \n",
      " 1   Jitter_local                      1040 non-null   float64\n",
      " 2   Jitter_local_absolute             1040 non-null   float64\n",
      " 3   Jitter_rap                        1040 non-null   float64\n",
      " 4   Jitter_ppq5                       1040 non-null   float64\n",
      " 5   Jitter_ddp                        1040 non-null   float64\n",
      " 6   Shimmer_local                     1040 non-null   float64\n",
      " 7   Shimmer_localdB                   1040 non-null   float64\n",
      " 8   Shimmer_apq3                      1040 non-null   float64\n",
      " 9   Shimmer_apq5                      1040 non-null   float64\n",
      " 10  Shimmer_apq11                     1040 non-null   float64\n",
      " 11  Shimmer_dda                       1040 non-null   float64\n",
      " 12  AC                                1040 non-null   float64\n",
      " 13  NTH                               1040 non-null   float64\n",
      " 14  HTN                               1040 non-null   float64\n",
      " 15  Median_pitch                      1040 non-null   float64\n",
      " 16  Mean_pitch                        1040 non-null   float64\n",
      " 17  Standard_deviation                1040 non-null   float64\n",
      " 18  Minimum_pitch                     1040 non-null   float64\n",
      " 19  Maximum_pitch                     1040 non-null   float64\n",
      " 20  Num_pulses                        1040 non-null   int64  \n",
      " 21  Num_periods                       1040 non-null   int64  \n",
      " 22  Mean_periods                      1040 non-null   float64\n",
      " 23  Standard_deviation_period         1040 non-null   float64\n",
      " 24  Fraction_locally_unvoiced_frames  1040 non-null   float64\n",
      " 25  Num_voice_breaks                  1040 non-null   int64  \n",
      " 26  Degree_voice_breaks               1040 non-null   float64\n",
      " 27  UPDRS                             1040 non-null   int64  \n",
      " 28  Exame                             1040 non-null   int64  \n",
      " 29  Sick                              1040 non-null   int64  \n",
      "dtypes: float64(23), int64(7)\n",
      "memory usage: 243.9 KB\n"
     ]
    }
   ],
   "source": [
    "df.info()"
   ]
  },
  {
   "cell_type": "code",
   "execution_count": 10,
   "metadata": {
    "id": "RiNjV4yDi11G",
    "outputId": "b8890c37-5044-421e-b117-43fae021c774"
   },
   "outputs": [
    {
     "data": {
      "text/plain": [
       "(1040, 28)"
      ]
     },
     "execution_count": 10,
     "metadata": {},
     "output_type": "execute_result"
    }
   ],
   "source": [
    "#apaga a coluna de pacientes ID\n",
    "del df['paciente']\n",
    "del df['UPDRS']\n",
    "df.shape"
   ]
  },
  {
   "cell_type": "code",
   "execution_count": 11,
   "metadata": {
    "id": "I0qb2dXgi11I"
   },
   "outputs": [],
   "source": [
    "#####################################################\n",
    "#preparando os dados\n",
    "#####################################################"
   ]
  },
  {
   "cell_type": "code",
   "execution_count": 12,
   "metadata": {},
   "outputs": [],
   "source": [
    "from sklearn.model_selection import train_test_split\n",
    "\n",
    "def embaralha(x,y):\n",
    "    X_aux, X_emb, y_aux, y_emb = train_test_split(x, y, test_size=0.95 ,shuffle=True)\n",
    "    r = (len(x)-len(x)*0.95)\n",
    "    X_emb = X_emb.append(X_aux.iloc[0:int(r)])\n",
    "    y_emb = y_emb.append(y_aux)\n",
    "    return (X_emb, y_emb)\n",
    "\n",
    "def cria(x,y):\n",
    "    X_aux, X_emb, y_aux, y_emb = train_test_split(x, y, test_size=0.95 ,shuffle=False)\n",
    "    r = (len(x)-len(x)*0.95)\n",
    "    X_emb = X_emb.append(X_aux.iloc[0:int(r)])\n",
    "    y_emb = y_emb.append(y_aux)\n",
    "    return (X_emb, y_emb)\n"
   ]
  },
  {
   "cell_type": "code",
   "execution_count": 13,
   "metadata": {},
   "outputs": [],
   "source": [
    "X_total, y_total = cria(df, df.Sick)"
   ]
  },
  {
   "cell_type": "code",
   "execution_count": 14,
   "metadata": {},
   "outputs": [
    {
     "data": {
      "text/plain": [
       "52    0\n",
       "53    0\n",
       "54    0\n",
       "55    0\n",
       "56    0\n",
       "     ..\n",
       "47    1\n",
       "48    1\n",
       "49    1\n",
       "50    1\n",
       "51    1\n",
       "Name: Sick, Length: 1040, dtype: int64"
      ]
     },
     "execution_count": 14,
     "metadata": {},
     "output_type": "execute_result"
    }
   ],
   "source": [
    "y_total"
   ]
  },
  {
   "cell_type": "code",
   "execution_count": null,
   "metadata": {},
   "outputs": [],
   "source": [
    "#from sklearn.decomposition import PCA\n",
    "\n",
    "#pca = PCA(n_components=28)\n",
    "#principalComponents = pca.fit_transform(X_total)\n",
    "#principalDf = pd.DataFrame(data = principalComponents\n",
    "             , columns = ['Jitter_local','Jitter_local_absolute','Jitter_rap','Jitter_ppq5',\n",
    "                          'Jitter_ddp','Shimmer_local','Shimmer_localdB','Shimmer_apq3','Shimmer_apq5',\n",
    "                          'Shimmer_apq11','Shimmer_dda','AC','NTH','HTN','Median_pitch','Mean_pitch',\n",
    "                          'Standard_deviation','Minimum_pitch','Maximum_pitch','Num_pulses','Num_periods',\n",
    "                          'Mean_periods','Standard_deviation_period','Fraction_locally_unvoiced_frames',\n",
    "                          'Num_voice_breaks','Degree_voice_breaks','Exame','Sick'])"
   ]
  },
  {
   "cell_type": "code",
   "execution_count": null,
   "metadata": {},
   "outputs": [],
   "source": [
    "#principalDf"
   ]
  },
  {
   "cell_type": "code",
   "execution_count": null,
   "metadata": {},
   "outputs": [],
   "source": [
    "#finalDf = pd.concat([principalDf, df['Sick']], axis = 1)"
   ]
  },
  {
   "cell_type": "code",
   "execution_count": null,
   "metadata": {},
   "outputs": [],
   "source": [
    "#finalDf"
   ]
  },
  {
   "cell_type": "code",
   "execution_count": 15,
   "metadata": {},
   "outputs": [],
   "source": [
    "#Teste = grupo 1"
   ]
  },
  {
   "cell_type": "code",
   "execution_count": 16,
   "metadata": {
    "id": "kGmegMb_i11K",
    "outputId": "3f3f861d-43a0-4ee7-b7a0-95f7d23c80f8",
    "scrolled": true
   },
   "outputs": [
    {
     "name": "stdout",
     "output_type": "stream",
     "text": [
      "(780, 28) (780,)\n",
      "(260, 28) (260,)\n"
     ]
    }
   ],
   "source": [
    "\n",
    "X_test, X_train, y_test, y_train = train_test_split(df, df.Sick, test_size=0.75 ,shuffle=False)\n",
    "\n",
    "print(X_train.shape, y_train.shape)\n",
    "print(X_test.shape, y_test.shape)"
   ]
  },
  {
   "cell_type": "code",
   "execution_count": 17,
   "metadata": {
    "scrolled": false
   },
   "outputs": [
    {
     "data": {
      "text/html": [
       "<div>\n",
       "<style scoped>\n",
       "    .dataframe tbody tr th:only-of-type {\n",
       "        vertical-align: middle;\n",
       "    }\n",
       "\n",
       "    .dataframe tbody tr th {\n",
       "        vertical-align: top;\n",
       "    }\n",
       "\n",
       "    .dataframe thead th {\n",
       "        text-align: right;\n",
       "    }\n",
       "</style>\n",
       "<table border=\"1\" class=\"dataframe\">\n",
       "  <thead>\n",
       "    <tr style=\"text-align: right;\">\n",
       "      <th></th>\n",
       "      <th>Jitter_local</th>\n",
       "      <th>Jitter_local_absolute</th>\n",
       "      <th>Jitter_rap</th>\n",
       "      <th>Jitter_ppq5</th>\n",
       "      <th>Jitter_ddp</th>\n",
       "      <th>Shimmer_local</th>\n",
       "      <th>Shimmer_localdB</th>\n",
       "      <th>Shimmer_apq3</th>\n",
       "      <th>Shimmer_apq5</th>\n",
       "      <th>Shimmer_apq11</th>\n",
       "      <th>...</th>\n",
       "      <th>Maximum_pitch</th>\n",
       "      <th>Num_pulses</th>\n",
       "      <th>Num_periods</th>\n",
       "      <th>Mean_periods</th>\n",
       "      <th>Standard_deviation_period</th>\n",
       "      <th>Fraction_locally_unvoiced_frames</th>\n",
       "      <th>Num_voice_breaks</th>\n",
       "      <th>Degree_voice_breaks</th>\n",
       "      <th>Exame</th>\n",
       "      <th>Sick</th>\n",
       "    </tr>\n",
       "  </thead>\n",
       "  <tbody>\n",
       "    <tr>\n",
       "      <th>0</th>\n",
       "      <td>471.00</td>\n",
       "      <td>0.000034</td>\n",
       "      <td>186.00</td>\n",
       "      <td>0.23</td>\n",
       "      <td>558.0</td>\n",
       "      <td>2793.0</td>\n",
       "      <td>0.26</td>\n",
       "      <td>1183.0</td>\n",
       "      <td>1.52</td>\n",
       "      <td>2576.00</td>\n",
       "      <td>...</td>\n",
       "      <td>145.84</td>\n",
       "      <td>176</td>\n",
       "      <td>175</td>\n",
       "      <td>0.007179</td>\n",
       "      <td>0.000130</td>\n",
       "      <td>0.0</td>\n",
       "      <td>0</td>\n",
       "      <td>0.00</td>\n",
       "      <td>1</td>\n",
       "      <td>0</td>\n",
       "    </tr>\n",
       "    <tr>\n",
       "      <th>1</th>\n",
       "      <td>4319.00</td>\n",
       "      <td>0.000317</td>\n",
       "      <td>2774.00</td>\n",
       "      <td>1708.00</td>\n",
       "      <td>8322.0</td>\n",
       "      <td>13924.0</td>\n",
       "      <td>1195.00</td>\n",
       "      <td>8558.0</td>\n",
       "      <td>6036.00</td>\n",
       "      <td>8585.00</td>\n",
       "      <td>...</td>\n",
       "      <td>165029.00</td>\n",
       "      <td>258</td>\n",
       "      <td>256</td>\n",
       "      <td>0.007343</td>\n",
       "      <td>0.000312</td>\n",
       "      <td>2913.0</td>\n",
       "      <td>1</td>\n",
       "      <td>7038.00</td>\n",
       "      <td>2</td>\n",
       "      <td>0</td>\n",
       "    </tr>\n",
       "    <tr>\n",
       "      <th>2</th>\n",
       "      <td>1543.00</td>\n",
       "      <td>0.000103</td>\n",
       "      <td>1004.00</td>\n",
       "      <td>648.00</td>\n",
       "      <td>3012.0</td>\n",
       "      <td>17447.0</td>\n",
       "      <td>1694.00</td>\n",
       "      <td>11171.0</td>\n",
       "      <td>6851.00</td>\n",
       "      <td>9395.00</td>\n",
       "      <td>...</td>\n",
       "      <td>158612.00</td>\n",
       "      <td>426</td>\n",
       "      <td>425</td>\n",
       "      <td>0.006700</td>\n",
       "      <td>0.000108</td>\n",
       "      <td>351.0</td>\n",
       "      <td>0</td>\n",
       "      <td>0.00</td>\n",
       "      <td>3</td>\n",
       "      <td>0</td>\n",
       "    </tr>\n",
       "    <tr>\n",
       "      <th>3</th>\n",
       "      <td>2864.00</td>\n",
       "      <td>0.000212</td>\n",
       "      <td>1108.00</td>\n",
       "      <td>1147.00</td>\n",
       "      <td>3324.0</td>\n",
       "      <td>7692.0</td>\n",
       "      <td>1062.00</td>\n",
       "      <td>2555.0</td>\n",
       "      <td>4647.00</td>\n",
       "      <td>11916.00</td>\n",
       "      <td>...</td>\n",
       "      <td>163011.00</td>\n",
       "      <td>74</td>\n",
       "      <td>70</td>\n",
       "      <td>0.007405</td>\n",
       "      <td>0.000660</td>\n",
       "      <td>18056.0</td>\n",
       "      <td>2</td>\n",
       "      <td>6777.00</td>\n",
       "      <td>4</td>\n",
       "      <td>0</td>\n",
       "    </tr>\n",
       "    <tr>\n",
       "      <th>4</th>\n",
       "      <td>3878.00</td>\n",
       "      <td>0.000301</td>\n",
       "      <td>1795.00</td>\n",
       "      <td>1675.00</td>\n",
       "      <td>5386.0</td>\n",
       "      <td>11574.0</td>\n",
       "      <td>1212.00</td>\n",
       "      <td>3994.0</td>\n",
       "      <td>5.69</td>\n",
       "      <td>13043.00</td>\n",
       "      <td>...</td>\n",
       "      <td>162874.00</td>\n",
       "      <td>71</td>\n",
       "      <td>68</td>\n",
       "      <td>0.007766</td>\n",
       "      <td>0.001045</td>\n",
       "      <td>25333.0</td>\n",
       "      <td>2</td>\n",
       "      <td>11.75</td>\n",
       "      <td>5</td>\n",
       "      <td>0</td>\n",
       "    </tr>\n",
       "    <tr>\n",
       "      <th>...</th>\n",
       "      <td>...</td>\n",
       "      <td>...</td>\n",
       "      <td>...</td>\n",
       "      <td>...</td>\n",
       "      <td>...</td>\n",
       "      <td>...</td>\n",
       "      <td>...</td>\n",
       "      <td>...</td>\n",
       "      <td>...</td>\n",
       "      <td>...</td>\n",
       "      <td>...</td>\n",
       "      <td>...</td>\n",
       "      <td>...</td>\n",
       "      <td>...</td>\n",
       "      <td>...</td>\n",
       "      <td>...</td>\n",
       "      <td>...</td>\n",
       "      <td>...</td>\n",
       "      <td>...</td>\n",
       "      <td>...</td>\n",
       "      <td>...</td>\n",
       "    </tr>\n",
       "    <tr>\n",
       "      <th>255</th>\n",
       "      <td>5189.00</td>\n",
       "      <td>0.000396</td>\n",
       "      <td>2433.00</td>\n",
       "      <td>2904.00</td>\n",
       "      <td>7298.0</td>\n",
       "      <td>19593.0</td>\n",
       "      <td>1789.00</td>\n",
       "      <td>10638.0</td>\n",
       "      <td>12213.00</td>\n",
       "      <td>6105.00</td>\n",
       "      <td>...</td>\n",
       "      <td>425219.00</td>\n",
       "      <td>48</td>\n",
       "      <td>45</td>\n",
       "      <td>0.007640</td>\n",
       "      <td>0.003399</td>\n",
       "      <td>33962.0</td>\n",
       "      <td>2</td>\n",
       "      <td>32435.00</td>\n",
       "      <td>22</td>\n",
       "      <td>1</td>\n",
       "    </tr>\n",
       "    <tr>\n",
       "      <th>256</th>\n",
       "      <td>6572.00</td>\n",
       "      <td>0.000713</td>\n",
       "      <td>2255.00</td>\n",
       "      <td>1772.00</td>\n",
       "      <td>6764.0</td>\n",
       "      <td>11705.0</td>\n",
       "      <td>1044.00</td>\n",
       "      <td>3.7</td>\n",
       "      <td>6.06</td>\n",
       "      <td>15491.00</td>\n",
       "      <td>...</td>\n",
       "      <td>111943.00</td>\n",
       "      <td>18</td>\n",
       "      <td>16</td>\n",
       "      <td>0.010846</td>\n",
       "      <td>0.001844</td>\n",
       "      <td>59459.0</td>\n",
       "      <td>1</td>\n",
       "      <td>41728.00</td>\n",
       "      <td>23</td>\n",
       "      <td>1</td>\n",
       "    </tr>\n",
       "    <tr>\n",
       "      <th>257</th>\n",
       "      <td>1076.00</td>\n",
       "      <td>0.000105</td>\n",
       "      <td>0.48</td>\n",
       "      <td>0.67</td>\n",
       "      <td>1441.0</td>\n",
       "      <td>11905.0</td>\n",
       "      <td>1044.00</td>\n",
       "      <td>5752.0</td>\n",
       "      <td>8969.00</td>\n",
       "      <td>11.49</td>\n",
       "      <td>...</td>\n",
       "      <td>110272.00</td>\n",
       "      <td>26</td>\n",
       "      <td>25</td>\n",
       "      <td>0.009765</td>\n",
       "      <td>0.000489</td>\n",
       "      <td>10.0</td>\n",
       "      <td>0</td>\n",
       "      <td>0.00</td>\n",
       "      <td>24</td>\n",
       "      <td>1</td>\n",
       "    </tr>\n",
       "    <tr>\n",
       "      <th>258</th>\n",
       "      <td>4.49</td>\n",
       "      <td>0.000459</td>\n",
       "      <td>2449.00</td>\n",
       "      <td>1599.00</td>\n",
       "      <td>7346.0</td>\n",
       "      <td>18809.0</td>\n",
       "      <td>1766.00</td>\n",
       "      <td>7616.0</td>\n",
       "      <td>13887.00</td>\n",
       "      <td>14122.00</td>\n",
       "      <td>...</td>\n",
       "      <td>117367.00</td>\n",
       "      <td>32</td>\n",
       "      <td>30</td>\n",
       "      <td>0.010220</td>\n",
       "      <td>0.000849</td>\n",
       "      <td>27273.0</td>\n",
       "      <td>1</td>\n",
       "      <td>16882.00</td>\n",
       "      <td>25</td>\n",
       "      <td>1</td>\n",
       "    </tr>\n",
       "    <tr>\n",
       "      <th>259</th>\n",
       "      <td>1546.00</td>\n",
       "      <td>0.000161</td>\n",
       "      <td>751.00</td>\n",
       "      <td>853.00</td>\n",
       "      <td>2254.0</td>\n",
       "      <td>19126.0</td>\n",
       "      <td>1829.00</td>\n",
       "      <td>10391.0</td>\n",
       "      <td>11834.00</td>\n",
       "      <td>22685.00</td>\n",
       "      <td>...</td>\n",
       "      <td>106842.00</td>\n",
       "      <td>28</td>\n",
       "      <td>27</td>\n",
       "      <td>0.010428</td>\n",
       "      <td>0.000522</td>\n",
       "      <td>20.0</td>\n",
       "      <td>0</td>\n",
       "      <td>0.00</td>\n",
       "      <td>26</td>\n",
       "      <td>1</td>\n",
       "    </tr>\n",
       "  </tbody>\n",
       "</table>\n",
       "<p>260 rows × 28 columns</p>\n",
       "</div>"
      ],
      "text/plain": [
       "     Jitter_local  Jitter_local_absolute  Jitter_rap  Jitter_ppq5  Jitter_ddp  \\\n",
       "0          471.00               0.000034      186.00         0.23       558.0   \n",
       "1         4319.00               0.000317     2774.00      1708.00      8322.0   \n",
       "2         1543.00               0.000103     1004.00       648.00      3012.0   \n",
       "3         2864.00               0.000212     1108.00      1147.00      3324.0   \n",
       "4         3878.00               0.000301     1795.00      1675.00      5386.0   \n",
       "..            ...                    ...         ...          ...         ...   \n",
       "255       5189.00               0.000396     2433.00      2904.00      7298.0   \n",
       "256       6572.00               0.000713     2255.00      1772.00      6764.0   \n",
       "257       1076.00               0.000105        0.48         0.67      1441.0   \n",
       "258          4.49               0.000459     2449.00      1599.00      7346.0   \n",
       "259       1546.00               0.000161      751.00       853.00      2254.0   \n",
       "\n",
       "     Shimmer_local  Shimmer_localdB  Shimmer_apq3  Shimmer_apq5  \\\n",
       "0           2793.0             0.26        1183.0          1.52   \n",
       "1          13924.0          1195.00        8558.0       6036.00   \n",
       "2          17447.0          1694.00       11171.0       6851.00   \n",
       "3           7692.0          1062.00        2555.0       4647.00   \n",
       "4          11574.0          1212.00        3994.0          5.69   \n",
       "..             ...              ...           ...           ...   \n",
       "255        19593.0          1789.00       10638.0      12213.00   \n",
       "256        11705.0          1044.00           3.7          6.06   \n",
       "257        11905.0          1044.00        5752.0       8969.00   \n",
       "258        18809.0          1766.00        7616.0      13887.00   \n",
       "259        19126.0          1829.00       10391.0      11834.00   \n",
       "\n",
       "     Shimmer_apq11  ...  Maximum_pitch  Num_pulses  Num_periods  Mean_periods  \\\n",
       "0          2576.00  ...         145.84         176          175      0.007179   \n",
       "1          8585.00  ...      165029.00         258          256      0.007343   \n",
       "2          9395.00  ...      158612.00         426          425      0.006700   \n",
       "3         11916.00  ...      163011.00          74           70      0.007405   \n",
       "4         13043.00  ...      162874.00          71           68      0.007766   \n",
       "..             ...  ...            ...         ...          ...           ...   \n",
       "255        6105.00  ...      425219.00          48           45      0.007640   \n",
       "256       15491.00  ...      111943.00          18           16      0.010846   \n",
       "257          11.49  ...      110272.00          26           25      0.009765   \n",
       "258       14122.00  ...      117367.00          32           30      0.010220   \n",
       "259       22685.00  ...      106842.00          28           27      0.010428   \n",
       "\n",
       "     Standard_deviation_period   Fraction_locally_unvoiced_frames  \\\n",
       "0                      0.000130                               0.0   \n",
       "1                      0.000312                            2913.0   \n",
       "2                      0.000108                             351.0   \n",
       "3                      0.000660                           18056.0   \n",
       "4                      0.001045                           25333.0   \n",
       "..                          ...                               ...   \n",
       "255                    0.003399                           33962.0   \n",
       "256                    0.001844                           59459.0   \n",
       "257                    0.000489                              10.0   \n",
       "258                    0.000849                           27273.0   \n",
       "259                    0.000522                              20.0   \n",
       "\n",
       "     Num_voice_breaks  Degree_voice_breaks  Exame  Sick  \n",
       "0                   0                 0.00      1     0  \n",
       "1                   1              7038.00      2     0  \n",
       "2                   0                 0.00      3     0  \n",
       "3                   2              6777.00      4     0  \n",
       "4                   2                11.75      5     0  \n",
       "..                ...                  ...    ...   ...  \n",
       "255                 2             32435.00     22     1  \n",
       "256                 1             41728.00     23     1  \n",
       "257                 0                 0.00     24     1  \n",
       "258                 1             16882.00     25     1  \n",
       "259                 0                 0.00     26     1  \n",
       "\n",
       "[260 rows x 28 columns]"
      ]
     },
     "execution_count": 17,
     "metadata": {},
     "output_type": "execute_result"
    }
   ],
   "source": [
    "X_test"
   ]
  },
  {
   "cell_type": "code",
   "execution_count": 18,
   "metadata": {},
   "outputs": [],
   "source": [
    "#-------------------------------------"
   ]
  },
  {
   "cell_type": "code",
   "execution_count": 19,
   "metadata": {},
   "outputs": [],
   "source": [
    "#Teste = grupo 2"
   ]
  },
  {
   "cell_type": "code",
   "execution_count": 20,
   "metadata": {},
   "outputs": [
    {
     "name": "stdout",
     "output_type": "stream",
     "text": [
      "(520, 28) (520,)\n",
      "(520, 28) (520,)\n"
     ]
    }
   ],
   "source": [
    "\n",
    "X_test2, X_train2, y_test2, y_train2 = train_test_split(df, df.Sick, test_size=0.5 ,shuffle=False)\n",
    "\n",
    "print(X_train2.shape, y_train2.shape)\n",
    "print(X_test2.shape, y_test2.shape)"
   ]
  },
  {
   "cell_type": "code",
   "execution_count": 21,
   "metadata": {},
   "outputs": [
    {
     "name": "stdout",
     "output_type": "stream",
     "text": [
      "(260, 28) (260,)\n"
     ]
    }
   ],
   "source": [
    "X_aux, X_test2, y_aux, y_test2 = train_test_split(X_test2, y_test2, test_size=0.5 ,shuffle=False)\n",
    "print(X_test2.shape, y_test2.shape)"
   ]
  },
  {
   "cell_type": "code",
   "execution_count": 22,
   "metadata": {},
   "outputs": [],
   "source": [
    "X_train2 = X_aux.append(X_train2)\n",
    "y_train2 = y_aux.append(y_train2)"
   ]
  },
  {
   "cell_type": "code",
   "execution_count": 23,
   "metadata": {},
   "outputs": [
    {
     "data": {
      "text/html": [
       "<div>\n",
       "<style scoped>\n",
       "    .dataframe tbody tr th:only-of-type {\n",
       "        vertical-align: middle;\n",
       "    }\n",
       "\n",
       "    .dataframe tbody tr th {\n",
       "        vertical-align: top;\n",
       "    }\n",
       "\n",
       "    .dataframe thead th {\n",
       "        text-align: right;\n",
       "    }\n",
       "</style>\n",
       "<table border=\"1\" class=\"dataframe\">\n",
       "  <thead>\n",
       "    <tr style=\"text-align: right;\">\n",
       "      <th></th>\n",
       "      <th>Jitter_local</th>\n",
       "      <th>Jitter_local_absolute</th>\n",
       "      <th>Jitter_rap</th>\n",
       "      <th>Jitter_ppq5</th>\n",
       "      <th>Jitter_ddp</th>\n",
       "      <th>Shimmer_local</th>\n",
       "      <th>Shimmer_localdB</th>\n",
       "      <th>Shimmer_apq3</th>\n",
       "      <th>Shimmer_apq5</th>\n",
       "      <th>Shimmer_apq11</th>\n",
       "      <th>...</th>\n",
       "      <th>Maximum_pitch</th>\n",
       "      <th>Num_pulses</th>\n",
       "      <th>Num_periods</th>\n",
       "      <th>Mean_periods</th>\n",
       "      <th>Standard_deviation_period</th>\n",
       "      <th>Fraction_locally_unvoiced_frames</th>\n",
       "      <th>Num_voice_breaks</th>\n",
       "      <th>Degree_voice_breaks</th>\n",
       "      <th>Exame</th>\n",
       "      <th>Sick</th>\n",
       "    </tr>\n",
       "  </thead>\n",
       "  <tbody>\n",
       "    <tr>\n",
       "      <th>260</th>\n",
       "      <td>553.0</td>\n",
       "      <td>0.000052</td>\n",
       "      <td>212.00</td>\n",
       "      <td>215.00</td>\n",
       "      <td>637.0</td>\n",
       "      <td>4055.00</td>\n",
       "      <td>0.40</td>\n",
       "      <td>1787.0</td>\n",
       "      <td>2611.00</td>\n",
       "      <td>4197.00</td>\n",
       "      <td>...</td>\n",
       "      <td>120752.00</td>\n",
       "      <td>258</td>\n",
       "      <td>257</td>\n",
       "      <td>0.009348</td>\n",
       "      <td>0.000544</td>\n",
       "      <td>0.0</td>\n",
       "      <td>0</td>\n",
       "      <td>0.0</td>\n",
       "      <td>1</td>\n",
       "      <td>0</td>\n",
       "    </tr>\n",
       "    <tr>\n",
       "      <th>261</th>\n",
       "      <td>806.0</td>\n",
       "      <td>0.000075</td>\n",
       "      <td>149.00</td>\n",
       "      <td>259.00</td>\n",
       "      <td>448.0</td>\n",
       "      <td>5459.00</td>\n",
       "      <td>637.00</td>\n",
       "      <td>1802.0</td>\n",
       "      <td>3.21</td>\n",
       "      <td>6291.00</td>\n",
       "      <td>...</td>\n",
       "      <td>119053.00</td>\n",
       "      <td>95</td>\n",
       "      <td>94</td>\n",
       "      <td>0.009335</td>\n",
       "      <td>0.000879</td>\n",
       "      <td>2222.0</td>\n",
       "      <td>0</td>\n",
       "      <td>0.0</td>\n",
       "      <td>2</td>\n",
       "      <td>0</td>\n",
       "    </tr>\n",
       "    <tr>\n",
       "      <th>262</th>\n",
       "      <td>482.0</td>\n",
       "      <td>0.000040</td>\n",
       "      <td>142.00</td>\n",
       "      <td>151.00</td>\n",
       "      <td>426.0</td>\n",
       "      <td>5.36</td>\n",
       "      <td>506.00</td>\n",
       "      <td>1731.0</td>\n",
       "      <td>2838.00</td>\n",
       "      <td>6808.00</td>\n",
       "      <td>...</td>\n",
       "      <td>134813.00</td>\n",
       "      <td>167</td>\n",
       "      <td>165</td>\n",
       "      <td>0.008295</td>\n",
       "      <td>0.000629</td>\n",
       "      <td>725.0</td>\n",
       "      <td>1</td>\n",
       "      <td>1436.0</td>\n",
       "      <td>3</td>\n",
       "      <td>0</td>\n",
       "    </tr>\n",
       "    <tr>\n",
       "      <th>263</th>\n",
       "      <td>2036.0</td>\n",
       "      <td>0.000177</td>\n",
       "      <td>828.00</td>\n",
       "      <td>1229.00</td>\n",
       "      <td>2485.0</td>\n",
       "      <td>8123.00</td>\n",
       "      <td>906.00</td>\n",
       "      <td>3999.0</td>\n",
       "      <td>5369.00</td>\n",
       "      <td>7726.00</td>\n",
       "      <td>...</td>\n",
       "      <td>123134.00</td>\n",
       "      <td>43</td>\n",
       "      <td>42</td>\n",
       "      <td>0.008682</td>\n",
       "      <td>0.000546</td>\n",
       "      <td>26531.0</td>\n",
       "      <td>0</td>\n",
       "      <td>0.0</td>\n",
       "      <td>4</td>\n",
       "      <td>0</td>\n",
       "    </tr>\n",
       "    <tr>\n",
       "      <th>264</th>\n",
       "      <td>2574.0</td>\n",
       "      <td>0.000230</td>\n",
       "      <td>1089.00</td>\n",
       "      <td>1401.00</td>\n",
       "      <td>3268.0</td>\n",
       "      <td>11389.00</td>\n",
       "      <td>1144.00</td>\n",
       "      <td>5026.0</td>\n",
       "      <td>7266.00</td>\n",
       "      <td>8849.00</td>\n",
       "      <td>...</td>\n",
       "      <td>125471.00</td>\n",
       "      <td>55</td>\n",
       "      <td>53</td>\n",
       "      <td>0.008917</td>\n",
       "      <td>0.000763</td>\n",
       "      <td>26562.0</td>\n",
       "      <td>1</td>\n",
       "      <td>25493.0</td>\n",
       "      <td>5</td>\n",
       "      <td>0</td>\n",
       "    </tr>\n",
       "    <tr>\n",
       "      <th>...</th>\n",
       "      <td>...</td>\n",
       "      <td>...</td>\n",
       "      <td>...</td>\n",
       "      <td>...</td>\n",
       "      <td>...</td>\n",
       "      <td>...</td>\n",
       "      <td>...</td>\n",
       "      <td>...</td>\n",
       "      <td>...</td>\n",
       "      <td>...</td>\n",
       "      <td>...</td>\n",
       "      <td>...</td>\n",
       "      <td>...</td>\n",
       "      <td>...</td>\n",
       "      <td>...</td>\n",
       "      <td>...</td>\n",
       "      <td>...</td>\n",
       "      <td>...</td>\n",
       "      <td>...</td>\n",
       "      <td>...</td>\n",
       "      <td>...</td>\n",
       "    </tr>\n",
       "    <tr>\n",
       "      <th>515</th>\n",
       "      <td>2889.0</td>\n",
       "      <td>0.000238</td>\n",
       "      <td>1.22</td>\n",
       "      <td>1.52</td>\n",
       "      <td>3659.0</td>\n",
       "      <td>15262.00</td>\n",
       "      <td>1.48</td>\n",
       "      <td>7064.0</td>\n",
       "      <td>8352.00</td>\n",
       "      <td>21693.00</td>\n",
       "      <td>...</td>\n",
       "      <td>489918.00</td>\n",
       "      <td>38</td>\n",
       "      <td>34</td>\n",
       "      <td>0.008230</td>\n",
       "      <td>0.004264</td>\n",
       "      <td>41379.0</td>\n",
       "      <td>2</td>\n",
       "      <td>34268.0</td>\n",
       "      <td>22</td>\n",
       "      <td>1</td>\n",
       "    </tr>\n",
       "    <tr>\n",
       "      <th>516</th>\n",
       "      <td>2283.0</td>\n",
       "      <td>0.000161</td>\n",
       "      <td>1175.00</td>\n",
       "      <td>1265.00</td>\n",
       "      <td>3526.0</td>\n",
       "      <td>18213.00</td>\n",
       "      <td>1506.00</td>\n",
       "      <td>9236.0</td>\n",
       "      <td>11632.00</td>\n",
       "      <td>12553.00</td>\n",
       "      <td>...</td>\n",
       "      <td>499912.00</td>\n",
       "      <td>58</td>\n",
       "      <td>45</td>\n",
       "      <td>0.007057</td>\n",
       "      <td>0.004475</td>\n",
       "      <td>38889.0</td>\n",
       "      <td>2</td>\n",
       "      <td>32558.0</td>\n",
       "      <td>23</td>\n",
       "      <td>1</td>\n",
       "    </tr>\n",
       "    <tr>\n",
       "      <th>517</th>\n",
       "      <td>2598.0</td>\n",
       "      <td>0.000298</td>\n",
       "      <td>1021.00</td>\n",
       "      <td>859.00</td>\n",
       "      <td>3063.0</td>\n",
       "      <td>11073.00</td>\n",
       "      <td>997.00</td>\n",
       "      <td>6086.0</td>\n",
       "      <td>5516.00</td>\n",
       "      <td>7674.00</td>\n",
       "      <td>...</td>\n",
       "      <td>106678.00</td>\n",
       "      <td>25</td>\n",
       "      <td>24</td>\n",
       "      <td>0.011483</td>\n",
       "      <td>0.000895</td>\n",
       "      <td>34091.0</td>\n",
       "      <td>0</td>\n",
       "      <td>0.0</td>\n",
       "      <td>24</td>\n",
       "      <td>1</td>\n",
       "    </tr>\n",
       "    <tr>\n",
       "      <th>518</th>\n",
       "      <td>2633.0</td>\n",
       "      <td>0.000299</td>\n",
       "      <td>0.99</td>\n",
       "      <td>1072.00</td>\n",
       "      <td>2971.0</td>\n",
       "      <td>11.53</td>\n",
       "      <td>1015.00</td>\n",
       "      <td>4457.0</td>\n",
       "      <td>7028.00</td>\n",
       "      <td>13754.00</td>\n",
       "      <td>...</td>\n",
       "      <td>101959.00</td>\n",
       "      <td>32</td>\n",
       "      <td>30</td>\n",
       "      <td>0.011360</td>\n",
       "      <td>0.001239</td>\n",
       "      <td>29091.0</td>\n",
       "      <td>1</td>\n",
       "      <td>20168.0</td>\n",
       "      <td>25</td>\n",
       "      <td>1</td>\n",
       "    </tr>\n",
       "    <tr>\n",
       "      <th>519</th>\n",
       "      <td>4169.0</td>\n",
       "      <td>0.000231</td>\n",
       "      <td>2075.00</td>\n",
       "      <td>1988.00</td>\n",
       "      <td>6225.0</td>\n",
       "      <td>17203.00</td>\n",
       "      <td>1795.00</td>\n",
       "      <td>5753.0</td>\n",
       "      <td>11491.00</td>\n",
       "      <td>14.84</td>\n",
       "      <td>...</td>\n",
       "      <td>490.67</td>\n",
       "      <td>67</td>\n",
       "      <td>53</td>\n",
       "      <td>0.005547</td>\n",
       "      <td>0.004217</td>\n",
       "      <td>54023.0</td>\n",
       "      <td>5</td>\n",
       "      <td>50711.0</td>\n",
       "      <td>26</td>\n",
       "      <td>1</td>\n",
       "    </tr>\n",
       "  </tbody>\n",
       "</table>\n",
       "<p>260 rows × 28 columns</p>\n",
       "</div>"
      ],
      "text/plain": [
       "     Jitter_local  Jitter_local_absolute  Jitter_rap  Jitter_ppq5  Jitter_ddp  \\\n",
       "260         553.0               0.000052      212.00       215.00       637.0   \n",
       "261         806.0               0.000075      149.00       259.00       448.0   \n",
       "262         482.0               0.000040      142.00       151.00       426.0   \n",
       "263        2036.0               0.000177      828.00      1229.00      2485.0   \n",
       "264        2574.0               0.000230     1089.00      1401.00      3268.0   \n",
       "..            ...                    ...         ...          ...         ...   \n",
       "515        2889.0               0.000238        1.22         1.52      3659.0   \n",
       "516        2283.0               0.000161     1175.00      1265.00      3526.0   \n",
       "517        2598.0               0.000298     1021.00       859.00      3063.0   \n",
       "518        2633.0               0.000299        0.99      1072.00      2971.0   \n",
       "519        4169.0               0.000231     2075.00      1988.00      6225.0   \n",
       "\n",
       "     Shimmer_local  Shimmer_localdB  Shimmer_apq3  Shimmer_apq5  \\\n",
       "260        4055.00             0.40        1787.0       2611.00   \n",
       "261        5459.00           637.00        1802.0          3.21   \n",
       "262           5.36           506.00        1731.0       2838.00   \n",
       "263        8123.00           906.00        3999.0       5369.00   \n",
       "264       11389.00          1144.00        5026.0       7266.00   \n",
       "..             ...              ...           ...           ...   \n",
       "515       15262.00             1.48        7064.0       8352.00   \n",
       "516       18213.00          1506.00        9236.0      11632.00   \n",
       "517       11073.00           997.00        6086.0       5516.00   \n",
       "518          11.53          1015.00        4457.0       7028.00   \n",
       "519       17203.00          1795.00        5753.0      11491.00   \n",
       "\n",
       "     Shimmer_apq11  ...  Maximum_pitch  Num_pulses  Num_periods  Mean_periods  \\\n",
       "260        4197.00  ...      120752.00         258          257      0.009348   \n",
       "261        6291.00  ...      119053.00          95           94      0.009335   \n",
       "262        6808.00  ...      134813.00         167          165      0.008295   \n",
       "263        7726.00  ...      123134.00          43           42      0.008682   \n",
       "264        8849.00  ...      125471.00          55           53      0.008917   \n",
       "..             ...  ...            ...         ...          ...           ...   \n",
       "515       21693.00  ...      489918.00          38           34      0.008230   \n",
       "516       12553.00  ...      499912.00          58           45      0.007057   \n",
       "517        7674.00  ...      106678.00          25           24      0.011483   \n",
       "518       13754.00  ...      101959.00          32           30      0.011360   \n",
       "519          14.84  ...         490.67          67           53      0.005547   \n",
       "\n",
       "     Standard_deviation_period   Fraction_locally_unvoiced_frames  \\\n",
       "260                    0.000544                               0.0   \n",
       "261                    0.000879                            2222.0   \n",
       "262                    0.000629                             725.0   \n",
       "263                    0.000546                           26531.0   \n",
       "264                    0.000763                           26562.0   \n",
       "..                          ...                               ...   \n",
       "515                    0.004264                           41379.0   \n",
       "516                    0.004475                           38889.0   \n",
       "517                    0.000895                           34091.0   \n",
       "518                    0.001239                           29091.0   \n",
       "519                    0.004217                           54023.0   \n",
       "\n",
       "     Num_voice_breaks  Degree_voice_breaks  Exame  Sick  \n",
       "260                 0                  0.0      1     0  \n",
       "261                 0                  0.0      2     0  \n",
       "262                 1               1436.0      3     0  \n",
       "263                 0                  0.0      4     0  \n",
       "264                 1              25493.0      5     0  \n",
       "..                ...                  ...    ...   ...  \n",
       "515                 2              34268.0     22     1  \n",
       "516                 2              32558.0     23     1  \n",
       "517                 0                  0.0     24     1  \n",
       "518                 1              20168.0     25     1  \n",
       "519                 5              50711.0     26     1  \n",
       "\n",
       "[260 rows x 28 columns]"
      ]
     },
     "execution_count": 23,
     "metadata": {},
     "output_type": "execute_result"
    }
   ],
   "source": [
    "X_test2"
   ]
  },
  {
   "cell_type": "code",
   "execution_count": 24,
   "metadata": {},
   "outputs": [],
   "source": [
    "#-------------------------------------"
   ]
  },
  {
   "cell_type": "code",
   "execution_count": 25,
   "metadata": {},
   "outputs": [],
   "source": [
    "#Teste = grupo 3"
   ]
  },
  {
   "cell_type": "code",
   "execution_count": 26,
   "metadata": {},
   "outputs": [
    {
     "name": "stdout",
     "output_type": "stream",
     "text": [
      "(520, 28) (520,)\n",
      "(520, 28) (520,)\n"
     ]
    }
   ],
   "source": [
    "\n",
    "X_train3, X_test3, y_train3, y_test3 = train_test_split(df, df.Sick, test_size=0.5 ,shuffle=False)\n",
    "\n",
    "print(X_train3.shape, y_train3.shape)\n",
    "print(X_test3.shape, y_test3.shape)"
   ]
  },
  {
   "cell_type": "code",
   "execution_count": 27,
   "metadata": {
    "scrolled": true
   },
   "outputs": [
    {
     "name": "stdout",
     "output_type": "stream",
     "text": [
      "(260, 28) (260,)\n",
      "(260, 28) (260,)\n"
     ]
    }
   ],
   "source": [
    "X_test3, X_aux, y_test3, y_aux = train_test_split(X_test3, y_test3, test_size=0.5 ,shuffle=False)\n",
    "\n",
    "print(X_test3.shape, y_test3.shape)\n",
    "print(X_aux.shape, y_aux.shape)"
   ]
  },
  {
   "cell_type": "code",
   "execution_count": 28,
   "metadata": {},
   "outputs": [],
   "source": [
    "X_train3 = X_train3.append(X_aux)\n",
    "y_train3 = y_train3.append(y_aux)"
   ]
  },
  {
   "cell_type": "code",
   "execution_count": 29,
   "metadata": {
    "scrolled": true
   },
   "outputs": [
    {
     "data": {
      "text/html": [
       "<div>\n",
       "<style scoped>\n",
       "    .dataframe tbody tr th:only-of-type {\n",
       "        vertical-align: middle;\n",
       "    }\n",
       "\n",
       "    .dataframe tbody tr th {\n",
       "        vertical-align: top;\n",
       "    }\n",
       "\n",
       "    .dataframe thead th {\n",
       "        text-align: right;\n",
       "    }\n",
       "</style>\n",
       "<table border=\"1\" class=\"dataframe\">\n",
       "  <thead>\n",
       "    <tr style=\"text-align: right;\">\n",
       "      <th></th>\n",
       "      <th>Jitter_local</th>\n",
       "      <th>Jitter_local_absolute</th>\n",
       "      <th>Jitter_rap</th>\n",
       "      <th>Jitter_ppq5</th>\n",
       "      <th>Jitter_ddp</th>\n",
       "      <th>Shimmer_local</th>\n",
       "      <th>Shimmer_localdB</th>\n",
       "      <th>Shimmer_apq3</th>\n",
       "      <th>Shimmer_apq5</th>\n",
       "      <th>Shimmer_apq11</th>\n",
       "      <th>...</th>\n",
       "      <th>Maximum_pitch</th>\n",
       "      <th>Num_pulses</th>\n",
       "      <th>Num_periods</th>\n",
       "      <th>Mean_periods</th>\n",
       "      <th>Standard_deviation_period</th>\n",
       "      <th>Fraction_locally_unvoiced_frames</th>\n",
       "      <th>Num_voice_breaks</th>\n",
       "      <th>Degree_voice_breaks</th>\n",
       "      <th>Exame</th>\n",
       "      <th>Sick</th>\n",
       "    </tr>\n",
       "  </thead>\n",
       "  <tbody>\n",
       "    <tr>\n",
       "      <th>520</th>\n",
       "      <td>918.0</td>\n",
       "      <td>0.000067</td>\n",
       "      <td>408.0</td>\n",
       "      <td>532.0</td>\n",
       "      <td>1224.0</td>\n",
       "      <td>5093.0</td>\n",
       "      <td>477.00</td>\n",
       "      <td>2497.00</td>\n",
       "      <td>3079.0</td>\n",
       "      <td>4575.00</td>\n",
       "      <td>...</td>\n",
       "      <td>145219.0</td>\n",
       "      <td>233</td>\n",
       "      <td>231</td>\n",
       "      <td>0.007287</td>\n",
       "      <td>0.000461</td>\n",
       "      <td>1765.0</td>\n",
       "      <td>0</td>\n",
       "      <td>0.0</td>\n",
       "      <td>1</td>\n",
       "      <td>0</td>\n",
       "    </tr>\n",
       "    <tr>\n",
       "      <th>521</th>\n",
       "      <td>384.0</td>\n",
       "      <td>0.000027</td>\n",
       "      <td>171.0</td>\n",
       "      <td>179.0</td>\n",
       "      <td>512.0</td>\n",
       "      <td>3351.0</td>\n",
       "      <td>0.32</td>\n",
       "      <td>1.80</td>\n",
       "      <td>1838.0</td>\n",
       "      <td>2512.00</td>\n",
       "      <td>...</td>\n",
       "      <td>151512.0</td>\n",
       "      <td>179</td>\n",
       "      <td>178</td>\n",
       "      <td>0.006949</td>\n",
       "      <td>0.000210</td>\n",
       "      <td>1587.0</td>\n",
       "      <td>0</td>\n",
       "      <td>0.0</td>\n",
       "      <td>2</td>\n",
       "      <td>0</td>\n",
       "    </tr>\n",
       "    <tr>\n",
       "      <th>522</th>\n",
       "      <td>343.0</td>\n",
       "      <td>0.000023</td>\n",
       "      <td>131.0</td>\n",
       "      <td>164.0</td>\n",
       "      <td>394.0</td>\n",
       "      <td>3041.0</td>\n",
       "      <td>345.00</td>\n",
       "      <td>1247.00</td>\n",
       "      <td>1698.0</td>\n",
       "      <td>2601.00</td>\n",
       "      <td>...</td>\n",
       "      <td>156943.0</td>\n",
       "      <td>170</td>\n",
       "      <td>169</td>\n",
       "      <td>0.006683</td>\n",
       "      <td>0.000228</td>\n",
       "      <td>12879.0</td>\n",
       "      <td>0</td>\n",
       "      <td>0.0</td>\n",
       "      <td>3</td>\n",
       "      <td>0</td>\n",
       "    </tr>\n",
       "    <tr>\n",
       "      <th>523</th>\n",
       "      <td>3721.0</td>\n",
       "      <td>0.000291</td>\n",
       "      <td>1557.0</td>\n",
       "      <td>1886.0</td>\n",
       "      <td>4672.0</td>\n",
       "      <td>5954.0</td>\n",
       "      <td>629.00</td>\n",
       "      <td>2267.00</td>\n",
       "      <td>3621.0</td>\n",
       "      <td>3709.00</td>\n",
       "      <td>...</td>\n",
       "      <td>140899.0</td>\n",
       "      <td>40</td>\n",
       "      <td>39</td>\n",
       "      <td>0.007824</td>\n",
       "      <td>0.000727</td>\n",
       "      <td>9375.0</td>\n",
       "      <td>0</td>\n",
       "      <td>0.0</td>\n",
       "      <td>4</td>\n",
       "      <td>0</td>\n",
       "    </tr>\n",
       "    <tr>\n",
       "      <th>524</th>\n",
       "      <td>2394.0</td>\n",
       "      <td>0.000201</td>\n",
       "      <td>924.0</td>\n",
       "      <td>652.0</td>\n",
       "      <td>2773.0</td>\n",
       "      <td>7947.0</td>\n",
       "      <td>764.00</td>\n",
       "      <td>3031.00</td>\n",
       "      <td>4957.0</td>\n",
       "      <td>8714.00</td>\n",
       "      <td>...</td>\n",
       "      <td>129269.0</td>\n",
       "      <td>32</td>\n",
       "      <td>30</td>\n",
       "      <td>0.008387</td>\n",
       "      <td>0.000477</td>\n",
       "      <td>26829.0</td>\n",
       "      <td>1</td>\n",
       "      <td>30704.0</td>\n",
       "      <td>5</td>\n",
       "      <td>0</td>\n",
       "    </tr>\n",
       "    <tr>\n",
       "      <th>...</th>\n",
       "      <td>...</td>\n",
       "      <td>...</td>\n",
       "      <td>...</td>\n",
       "      <td>...</td>\n",
       "      <td>...</td>\n",
       "      <td>...</td>\n",
       "      <td>...</td>\n",
       "      <td>...</td>\n",
       "      <td>...</td>\n",
       "      <td>...</td>\n",
       "      <td>...</td>\n",
       "      <td>...</td>\n",
       "      <td>...</td>\n",
       "      <td>...</td>\n",
       "      <td>...</td>\n",
       "      <td>...</td>\n",
       "      <td>...</td>\n",
       "      <td>...</td>\n",
       "      <td>...</td>\n",
       "      <td>...</td>\n",
       "      <td>...</td>\n",
       "    </tr>\n",
       "    <tr>\n",
       "      <th>775</th>\n",
       "      <td>3051.0</td>\n",
       "      <td>0.000142</td>\n",
       "      <td>1648.0</td>\n",
       "      <td>1889.0</td>\n",
       "      <td>4944.0</td>\n",
       "      <td>10262.0</td>\n",
       "      <td>966.00</td>\n",
       "      <td>3.21</td>\n",
       "      <td>4723.0</td>\n",
       "      <td>10221.00</td>\n",
       "      <td>...</td>\n",
       "      <td>229673.0</td>\n",
       "      <td>104</td>\n",
       "      <td>103</td>\n",
       "      <td>0.004660</td>\n",
       "      <td>0.000334</td>\n",
       "      <td>21053.0</td>\n",
       "      <td>0</td>\n",
       "      <td>0.0</td>\n",
       "      <td>22</td>\n",
       "      <td>1</td>\n",
       "    </tr>\n",
       "    <tr>\n",
       "      <th>776</th>\n",
       "      <td>4973.0</td>\n",
       "      <td>0.000242</td>\n",
       "      <td>2115.0</td>\n",
       "      <td>2297.0</td>\n",
       "      <td>6344.0</td>\n",
       "      <td>15507.0</td>\n",
       "      <td>1536.00</td>\n",
       "      <td>5549.00</td>\n",
       "      <td>7243.0</td>\n",
       "      <td>14376.00</td>\n",
       "      <td>...</td>\n",
       "      <td>239838.0</td>\n",
       "      <td>111</td>\n",
       "      <td>105</td>\n",
       "      <td>0.004867</td>\n",
       "      <td>0.000867</td>\n",
       "      <td>23611.0</td>\n",
       "      <td>1</td>\n",
       "      <td>6595.0</td>\n",
       "      <td>23</td>\n",
       "      <td>1</td>\n",
       "    </tr>\n",
       "    <tr>\n",
       "      <th>777</th>\n",
       "      <td>3135.0</td>\n",
       "      <td>0.000145</td>\n",
       "      <td>1651.0</td>\n",
       "      <td>1781.0</td>\n",
       "      <td>4952.0</td>\n",
       "      <td>9268.0</td>\n",
       "      <td>1002.00</td>\n",
       "      <td>3085.00</td>\n",
       "      <td>4427.0</td>\n",
       "      <td>12336.00</td>\n",
       "      <td>...</td>\n",
       "      <td>239661.0</td>\n",
       "      <td>98</td>\n",
       "      <td>96</td>\n",
       "      <td>0.004633</td>\n",
       "      <td>0.000322</td>\n",
       "      <td>0.0</td>\n",
       "      <td>0</td>\n",
       "      <td>0.0</td>\n",
       "      <td>24</td>\n",
       "      <td>1</td>\n",
       "    </tr>\n",
       "    <tr>\n",
       "      <th>778</th>\n",
       "      <td>3446.0</td>\n",
       "      <td>0.000162</td>\n",
       "      <td>1674.0</td>\n",
       "      <td>2088.0</td>\n",
       "      <td>5022.0</td>\n",
       "      <td>14816.0</td>\n",
       "      <td>1246.00</td>\n",
       "      <td>5054.00</td>\n",
       "      <td>7278.0</td>\n",
       "      <td>13.35</td>\n",
       "      <td>...</td>\n",
       "      <td>233876.0</td>\n",
       "      <td>95</td>\n",
       "      <td>94</td>\n",
       "      <td>0.004709</td>\n",
       "      <td>0.000368</td>\n",
       "      <td>3704.0</td>\n",
       "      <td>0</td>\n",
       "      <td>0.0</td>\n",
       "      <td>25</td>\n",
       "      <td>1</td>\n",
       "    </tr>\n",
       "    <tr>\n",
       "      <th>779</th>\n",
       "      <td>1202.0</td>\n",
       "      <td>0.000057</td>\n",
       "      <td>482.0</td>\n",
       "      <td>703.0</td>\n",
       "      <td>1446.0</td>\n",
       "      <td>9507.0</td>\n",
       "      <td>865.00</td>\n",
       "      <td>2209.00</td>\n",
       "      <td>3841.0</td>\n",
       "      <td>9063.00</td>\n",
       "      <td>...</td>\n",
       "      <td>219085.0</td>\n",
       "      <td>83</td>\n",
       "      <td>82</td>\n",
       "      <td>0.004768</td>\n",
       "      <td>0.000258</td>\n",
       "      <td>14286.0</td>\n",
       "      <td>0</td>\n",
       "      <td>0.0</td>\n",
       "      <td>26</td>\n",
       "      <td>1</td>\n",
       "    </tr>\n",
       "  </tbody>\n",
       "</table>\n",
       "<p>260 rows × 28 columns</p>\n",
       "</div>"
      ],
      "text/plain": [
       "     Jitter_local  Jitter_local_absolute  Jitter_rap  Jitter_ppq5  Jitter_ddp  \\\n",
       "520         918.0               0.000067       408.0        532.0      1224.0   \n",
       "521         384.0               0.000027       171.0        179.0       512.0   \n",
       "522         343.0               0.000023       131.0        164.0       394.0   \n",
       "523        3721.0               0.000291      1557.0       1886.0      4672.0   \n",
       "524        2394.0               0.000201       924.0        652.0      2773.0   \n",
       "..            ...                    ...         ...          ...         ...   \n",
       "775        3051.0               0.000142      1648.0       1889.0      4944.0   \n",
       "776        4973.0               0.000242      2115.0       2297.0      6344.0   \n",
       "777        3135.0               0.000145      1651.0       1781.0      4952.0   \n",
       "778        3446.0               0.000162      1674.0       2088.0      5022.0   \n",
       "779        1202.0               0.000057       482.0        703.0      1446.0   \n",
       "\n",
       "     Shimmer_local  Shimmer_localdB  Shimmer_apq3  Shimmer_apq5  \\\n",
       "520         5093.0           477.00       2497.00        3079.0   \n",
       "521         3351.0             0.32          1.80        1838.0   \n",
       "522         3041.0           345.00       1247.00        1698.0   \n",
       "523         5954.0           629.00       2267.00        3621.0   \n",
       "524         7947.0           764.00       3031.00        4957.0   \n",
       "..             ...              ...           ...           ...   \n",
       "775        10262.0           966.00          3.21        4723.0   \n",
       "776        15507.0          1536.00       5549.00        7243.0   \n",
       "777         9268.0          1002.00       3085.00        4427.0   \n",
       "778        14816.0          1246.00       5054.00        7278.0   \n",
       "779         9507.0           865.00       2209.00        3841.0   \n",
       "\n",
       "     Shimmer_apq11  ...  Maximum_pitch  Num_pulses  Num_periods  Mean_periods  \\\n",
       "520        4575.00  ...       145219.0         233          231      0.007287   \n",
       "521        2512.00  ...       151512.0         179          178      0.006949   \n",
       "522        2601.00  ...       156943.0         170          169      0.006683   \n",
       "523        3709.00  ...       140899.0          40           39      0.007824   \n",
       "524        8714.00  ...       129269.0          32           30      0.008387   \n",
       "..             ...  ...            ...         ...          ...           ...   \n",
       "775       10221.00  ...       229673.0         104          103      0.004660   \n",
       "776       14376.00  ...       239838.0         111          105      0.004867   \n",
       "777       12336.00  ...       239661.0          98           96      0.004633   \n",
       "778          13.35  ...       233876.0          95           94      0.004709   \n",
       "779        9063.00  ...       219085.0          83           82      0.004768   \n",
       "\n",
       "     Standard_deviation_period   Fraction_locally_unvoiced_frames  \\\n",
       "520                    0.000461                            1765.0   \n",
       "521                    0.000210                            1587.0   \n",
       "522                    0.000228                           12879.0   \n",
       "523                    0.000727                            9375.0   \n",
       "524                    0.000477                           26829.0   \n",
       "..                          ...                               ...   \n",
       "775                    0.000334                           21053.0   \n",
       "776                    0.000867                           23611.0   \n",
       "777                    0.000322                               0.0   \n",
       "778                    0.000368                            3704.0   \n",
       "779                    0.000258                           14286.0   \n",
       "\n",
       "     Num_voice_breaks  Degree_voice_breaks  Exame  Sick  \n",
       "520                 0                  0.0      1     0  \n",
       "521                 0                  0.0      2     0  \n",
       "522                 0                  0.0      3     0  \n",
       "523                 0                  0.0      4     0  \n",
       "524                 1              30704.0      5     0  \n",
       "..                ...                  ...    ...   ...  \n",
       "775                 0                  0.0     22     1  \n",
       "776                 1               6595.0     23     1  \n",
       "777                 0                  0.0     24     1  \n",
       "778                 0                  0.0     25     1  \n",
       "779                 0                  0.0     26     1  \n",
       "\n",
       "[260 rows x 28 columns]"
      ]
     },
     "execution_count": 29,
     "metadata": {},
     "output_type": "execute_result"
    }
   ],
   "source": [
    "X_test3"
   ]
  },
  {
   "cell_type": "code",
   "execution_count": 30,
   "metadata": {},
   "outputs": [],
   "source": [
    "#-------------------------------------"
   ]
  },
  {
   "cell_type": "code",
   "execution_count": 31,
   "metadata": {},
   "outputs": [],
   "source": [
    "#Teste = grupo 4"
   ]
  },
  {
   "cell_type": "code",
   "execution_count": 32,
   "metadata": {},
   "outputs": [
    {
     "name": "stdout",
     "output_type": "stream",
     "text": [
      "(780, 28) (780,)\n",
      "(260, 28) (260,)\n"
     ]
    }
   ],
   "source": [
    "\n",
    "X_train4, X_test4, y_train4, y_test4 = train_test_split(df, df.Sick, test_size=0.25 ,shuffle=False)\n",
    "\n",
    "print(X_train4.shape, y_train4.shape)\n",
    "print(X_test4.shape, y_test4.shape)"
   ]
  },
  {
   "cell_type": "code",
   "execution_count": 33,
   "metadata": {},
   "outputs": [
    {
     "data": {
      "text/html": [
       "<div>\n",
       "<style scoped>\n",
       "    .dataframe tbody tr th:only-of-type {\n",
       "        vertical-align: middle;\n",
       "    }\n",
       "\n",
       "    .dataframe tbody tr th {\n",
       "        vertical-align: top;\n",
       "    }\n",
       "\n",
       "    .dataframe thead th {\n",
       "        text-align: right;\n",
       "    }\n",
       "</style>\n",
       "<table border=\"1\" class=\"dataframe\">\n",
       "  <thead>\n",
       "    <tr style=\"text-align: right;\">\n",
       "      <th></th>\n",
       "      <th>Jitter_local</th>\n",
       "      <th>Jitter_local_absolute</th>\n",
       "      <th>Jitter_rap</th>\n",
       "      <th>Jitter_ppq5</th>\n",
       "      <th>Jitter_ddp</th>\n",
       "      <th>Shimmer_local</th>\n",
       "      <th>Shimmer_localdB</th>\n",
       "      <th>Shimmer_apq3</th>\n",
       "      <th>Shimmer_apq5</th>\n",
       "      <th>Shimmer_apq11</th>\n",
       "      <th>...</th>\n",
       "      <th>Maximum_pitch</th>\n",
       "      <th>Num_pulses</th>\n",
       "      <th>Num_periods</th>\n",
       "      <th>Mean_periods</th>\n",
       "      <th>Standard_deviation_period</th>\n",
       "      <th>Fraction_locally_unvoiced_frames</th>\n",
       "      <th>Num_voice_breaks</th>\n",
       "      <th>Degree_voice_breaks</th>\n",
       "      <th>Exame</th>\n",
       "      <th>Sick</th>\n",
       "    </tr>\n",
       "  </thead>\n",
       "  <tbody>\n",
       "    <tr>\n",
       "      <th>780</th>\n",
       "      <td>826.0</td>\n",
       "      <td>0.000057</td>\n",
       "      <td>244.0</td>\n",
       "      <td>314.0</td>\n",
       "      <td>733.00</td>\n",
       "      <td>6756.00</td>\n",
       "      <td>0.71</td>\n",
       "      <td>2401.0</td>\n",
       "      <td>3.13</td>\n",
       "      <td>8069.000000</td>\n",
       "      <td>...</td>\n",
       "      <td>470707.00</td>\n",
       "      <td>158</td>\n",
       "      <td>155</td>\n",
       "      <td>0.006936</td>\n",
       "      <td>0.001340</td>\n",
       "      <td>17557.00</td>\n",
       "      <td>1</td>\n",
       "      <td>3342.0</td>\n",
       "      <td>1</td>\n",
       "      <td>0</td>\n",
       "    </tr>\n",
       "    <tr>\n",
       "      <th>781</th>\n",
       "      <td>636.0</td>\n",
       "      <td>0.000045</td>\n",
       "      <td>259.0</td>\n",
       "      <td>306.0</td>\n",
       "      <td>777.00</td>\n",
       "      <td>5871.00</td>\n",
       "      <td>574.00</td>\n",
       "      <td>2827.0</td>\n",
       "      <td>3202.00</td>\n",
       "      <td>4674.000000</td>\n",
       "      <td>...</td>\n",
       "      <td>159183.00</td>\n",
       "      <td>123</td>\n",
       "      <td>121</td>\n",
       "      <td>0.007076</td>\n",
       "      <td>0.000313</td>\n",
       "      <td>11.00</td>\n",
       "      <td>0</td>\n",
       "      <td>0.0</td>\n",
       "      <td>2</td>\n",
       "      <td>0</td>\n",
       "    </tr>\n",
       "    <tr>\n",
       "      <th>782</th>\n",
       "      <td>1251.0</td>\n",
       "      <td>0.000074</td>\n",
       "      <td>542.0</td>\n",
       "      <td>474.0</td>\n",
       "      <td>1627.00</td>\n",
       "      <td>4439.00</td>\n",
       "      <td>579.00</td>\n",
       "      <td>1482.0</td>\n",
       "      <td>2228.00</td>\n",
       "      <td>4.060000</td>\n",
       "      <td>...</td>\n",
       "      <td>200.04</td>\n",
       "      <td>111</td>\n",
       "      <td>106</td>\n",
       "      <td>0.005889</td>\n",
       "      <td>0.001184</td>\n",
       "      <td>26136.00</td>\n",
       "      <td>1</td>\n",
       "      <td>5343.0</td>\n",
       "      <td>3</td>\n",
       "      <td>0</td>\n",
       "    </tr>\n",
       "    <tr>\n",
       "      <th>783</th>\n",
       "      <td>1726.0</td>\n",
       "      <td>0.000138</td>\n",
       "      <td>925.0</td>\n",
       "      <td>756.0</td>\n",
       "      <td>2774.00</td>\n",
       "      <td>9162.00</td>\n",
       "      <td>907.00</td>\n",
       "      <td>4037.0</td>\n",
       "      <td>5087.00</td>\n",
       "      <td>9.830000</td>\n",
       "      <td>...</td>\n",
       "      <td>130653.00</td>\n",
       "      <td>38</td>\n",
       "      <td>37</td>\n",
       "      <td>0.007992</td>\n",
       "      <td>0.000238</td>\n",
       "      <td>24.39</td>\n",
       "      <td>0</td>\n",
       "      <td>0.0</td>\n",
       "      <td>4</td>\n",
       "      <td>0</td>\n",
       "    </tr>\n",
       "    <tr>\n",
       "      <th>784</th>\n",
       "      <td>3322.0</td>\n",
       "      <td>0.000266</td>\n",
       "      <td>1813.0</td>\n",
       "      <td>1574.0</td>\n",
       "      <td>5.44</td>\n",
       "      <td>10.73</td>\n",
       "      <td>1069.00</td>\n",
       "      <td>3848.0</td>\n",
       "      <td>4321.00</td>\n",
       "      <td>10846.000000</td>\n",
       "      <td>...</td>\n",
       "      <td>135935.00</td>\n",
       "      <td>38</td>\n",
       "      <td>36</td>\n",
       "      <td>0.008003</td>\n",
       "      <td>0.000603</td>\n",
       "      <td>39216.00</td>\n",
       "      <td>1</td>\n",
       "      <td>28019.0</td>\n",
       "      <td>5</td>\n",
       "      <td>0</td>\n",
       "    </tr>\n",
       "    <tr>\n",
       "      <th>...</th>\n",
       "      <td>...</td>\n",
       "      <td>...</td>\n",
       "      <td>...</td>\n",
       "      <td>...</td>\n",
       "      <td>...</td>\n",
       "      <td>...</td>\n",
       "      <td>...</td>\n",
       "      <td>...</td>\n",
       "      <td>...</td>\n",
       "      <td>...</td>\n",
       "      <td>...</td>\n",
       "      <td>...</td>\n",
       "      <td>...</td>\n",
       "      <td>...</td>\n",
       "      <td>...</td>\n",
       "      <td>...</td>\n",
       "      <td>...</td>\n",
       "      <td>...</td>\n",
       "      <td>...</td>\n",
       "      <td>...</td>\n",
       "      <td>...</td>\n",
       "    </tr>\n",
       "    <tr>\n",
       "      <th>1035</th>\n",
       "      <td>1909.0</td>\n",
       "      <td>0.000103</td>\n",
       "      <td>786.0</td>\n",
       "      <td>577.0</td>\n",
       "      <td>2357.00</td>\n",
       "      <td>8885.00</td>\n",
       "      <td>833.00</td>\n",
       "      <td>4256.0</td>\n",
       "      <td>5.46</td>\n",
       "      <td>5.890000</td>\n",
       "      <td>...</td>\n",
       "      <td>209393.00</td>\n",
       "      <td>40</td>\n",
       "      <td>38</td>\n",
       "      <td>0.005370</td>\n",
       "      <td>0.000366</td>\n",
       "      <td>62295.00</td>\n",
       "      <td>1</td>\n",
       "      <td>35053.0</td>\n",
       "      <td>22</td>\n",
       "      <td>1</td>\n",
       "    </tr>\n",
       "    <tr>\n",
       "      <th>1036</th>\n",
       "      <td>1992.0</td>\n",
       "      <td>0.000118</td>\n",
       "      <td>911.0</td>\n",
       "      <td>866.0</td>\n",
       "      <td>2733.00</td>\n",
       "      <td>19904.00</td>\n",
       "      <td>1713.00</td>\n",
       "      <td>11212.0</td>\n",
       "      <td>10396.00</td>\n",
       "      <td>11.297792</td>\n",
       "      <td>...</td>\n",
       "      <td>178444.00</td>\n",
       "      <td>18</td>\n",
       "      <td>16</td>\n",
       "      <td>0.005910</td>\n",
       "      <td>0.000158</td>\n",
       "      <td>71111.00</td>\n",
       "      <td>1</td>\n",
       "      <td>54629.0</td>\n",
       "      <td>23</td>\n",
       "      <td>1</td>\n",
       "    </tr>\n",
       "    <tr>\n",
       "      <th>1037</th>\n",
       "      <td>1845.0</td>\n",
       "      <td>0.000100</td>\n",
       "      <td>1073.0</td>\n",
       "      <td>1096.0</td>\n",
       "      <td>3219.00</td>\n",
       "      <td>11451.00</td>\n",
       "      <td>1052.00</td>\n",
       "      <td>5815.0</td>\n",
       "      <td>6652.00</td>\n",
       "      <td>10227.000000</td>\n",
       "      <td>...</td>\n",
       "      <td>207612.00</td>\n",
       "      <td>59</td>\n",
       "      <td>58</td>\n",
       "      <td>0.005399</td>\n",
       "      <td>0.000238</td>\n",
       "      <td>19512.00</td>\n",
       "      <td>0</td>\n",
       "      <td>0.0</td>\n",
       "      <td>24</td>\n",
       "      <td>1</td>\n",
       "    </tr>\n",
       "    <tr>\n",
       "      <th>1038</th>\n",
       "      <td>2345.0</td>\n",
       "      <td>0.000127</td>\n",
       "      <td>937.0</td>\n",
       "      <td>1173.0</td>\n",
       "      <td>2811.00</td>\n",
       "      <td>12952.00</td>\n",
       "      <td>1167.00</td>\n",
       "      <td>5976.0</td>\n",
       "      <td>8343.00</td>\n",
       "      <td>11774.000000</td>\n",
       "      <td>...</td>\n",
       "      <td>227605.00</td>\n",
       "      <td>68</td>\n",
       "      <td>66</td>\n",
       "      <td>0.005418</td>\n",
       "      <td>0.000712</td>\n",
       "      <td>38983.00</td>\n",
       "      <td>1</td>\n",
       "      <td>12203.0</td>\n",
       "      <td>25</td>\n",
       "      <td>1</td>\n",
       "    </tr>\n",
       "    <tr>\n",
       "      <th>1039</th>\n",
       "      <td>3515.0</td>\n",
       "      <td>0.000201</td>\n",
       "      <td>1618.0</td>\n",
       "      <td>2088.0</td>\n",
       "      <td>4855.00</td>\n",
       "      <td>10881.00</td>\n",
       "      <td>1013.00</td>\n",
       "      <td>5124.0</td>\n",
       "      <td>7445.00</td>\n",
       "      <td>10.020000</td>\n",
       "      <td>...</td>\n",
       "      <td>201873.00</td>\n",
       "      <td>74</td>\n",
       "      <td>72</td>\n",
       "      <td>0.005730</td>\n",
       "      <td>0.000510</td>\n",
       "      <td>32258.00</td>\n",
       "      <td>1</td>\n",
       "      <td>3547.0</td>\n",
       "      <td>26</td>\n",
       "      <td>1</td>\n",
       "    </tr>\n",
       "  </tbody>\n",
       "</table>\n",
       "<p>260 rows × 28 columns</p>\n",
       "</div>"
      ],
      "text/plain": [
       "      Jitter_local  Jitter_local_absolute  Jitter_rap  Jitter_ppq5  \\\n",
       "780          826.0               0.000057       244.0        314.0   \n",
       "781          636.0               0.000045       259.0        306.0   \n",
       "782         1251.0               0.000074       542.0        474.0   \n",
       "783         1726.0               0.000138       925.0        756.0   \n",
       "784         3322.0               0.000266      1813.0       1574.0   \n",
       "...            ...                    ...         ...          ...   \n",
       "1035        1909.0               0.000103       786.0        577.0   \n",
       "1036        1992.0               0.000118       911.0        866.0   \n",
       "1037        1845.0               0.000100      1073.0       1096.0   \n",
       "1038        2345.0               0.000127       937.0       1173.0   \n",
       "1039        3515.0               0.000201      1618.0       2088.0   \n",
       "\n",
       "      Jitter_ddp  Shimmer_local  Shimmer_localdB  Shimmer_apq3  Shimmer_apq5  \\\n",
       "780       733.00        6756.00             0.71        2401.0          3.13   \n",
       "781       777.00        5871.00           574.00        2827.0       3202.00   \n",
       "782      1627.00        4439.00           579.00        1482.0       2228.00   \n",
       "783      2774.00        9162.00           907.00        4037.0       5087.00   \n",
       "784         5.44          10.73          1069.00        3848.0       4321.00   \n",
       "...          ...            ...              ...           ...           ...   \n",
       "1035     2357.00        8885.00           833.00        4256.0          5.46   \n",
       "1036     2733.00       19904.00          1713.00       11212.0      10396.00   \n",
       "1037     3219.00       11451.00          1052.00        5815.0       6652.00   \n",
       "1038     2811.00       12952.00          1167.00        5976.0       8343.00   \n",
       "1039     4855.00       10881.00          1013.00        5124.0       7445.00   \n",
       "\n",
       "      Shimmer_apq11  ...  Maximum_pitch  Num_pulses  Num_periods  \\\n",
       "780     8069.000000  ...      470707.00         158          155   \n",
       "781     4674.000000  ...      159183.00         123          121   \n",
       "782        4.060000  ...         200.04         111          106   \n",
       "783        9.830000  ...      130653.00          38           37   \n",
       "784    10846.000000  ...      135935.00          38           36   \n",
       "...             ...  ...            ...         ...          ...   \n",
       "1035       5.890000  ...      209393.00          40           38   \n",
       "1036      11.297792  ...      178444.00          18           16   \n",
       "1037   10227.000000  ...      207612.00          59           58   \n",
       "1038   11774.000000  ...      227605.00          68           66   \n",
       "1039      10.020000  ...      201873.00          74           72   \n",
       "\n",
       "      Mean_periods  Standard_deviation_period   \\\n",
       "780       0.006936                    0.001340   \n",
       "781       0.007076                    0.000313   \n",
       "782       0.005889                    0.001184   \n",
       "783       0.007992                    0.000238   \n",
       "784       0.008003                    0.000603   \n",
       "...            ...                         ...   \n",
       "1035      0.005370                    0.000366   \n",
       "1036      0.005910                    0.000158   \n",
       "1037      0.005399                    0.000238   \n",
       "1038      0.005418                    0.000712   \n",
       "1039      0.005730                    0.000510   \n",
       "\n",
       "      Fraction_locally_unvoiced_frames  Num_voice_breaks  Degree_voice_breaks  \\\n",
       "780                           17557.00                 1               3342.0   \n",
       "781                              11.00                 0                  0.0   \n",
       "782                           26136.00                 1               5343.0   \n",
       "783                              24.39                 0                  0.0   \n",
       "784                           39216.00                 1              28019.0   \n",
       "...                                ...               ...                  ...   \n",
       "1035                          62295.00                 1              35053.0   \n",
       "1036                          71111.00                 1              54629.0   \n",
       "1037                          19512.00                 0                  0.0   \n",
       "1038                          38983.00                 1              12203.0   \n",
       "1039                          32258.00                 1               3547.0   \n",
       "\n",
       "      Exame  Sick  \n",
       "780       1     0  \n",
       "781       2     0  \n",
       "782       3     0  \n",
       "783       4     0  \n",
       "784       5     0  \n",
       "...     ...   ...  \n",
       "1035     22     1  \n",
       "1036     23     1  \n",
       "1037     24     1  \n",
       "1038     25     1  \n",
       "1039     26     1  \n",
       "\n",
       "[260 rows x 28 columns]"
      ]
     },
     "execution_count": 33,
     "metadata": {},
     "output_type": "execute_result"
    }
   ],
   "source": [
    "X_test4"
   ]
  },
  {
   "cell_type": "code",
   "execution_count": 34,
   "metadata": {},
   "outputs": [],
   "source": [
    "#-------------------------------------"
   ]
  },
  {
   "cell_type": "code",
   "execution_count": 35,
   "metadata": {},
   "outputs": [],
   "source": [
    "#embaralhando (não embaralhar)\n",
    "#X_train, y_train = embaralha(X_train, y_train)\n",
    "#X_test, y_test = embaralha(X_test, y_test)\n",
    "\n",
    "#X_train2, y_train2 = embaralha(X_train2, y_train2)\n",
    "#X_test2, y_test2 = embaralha(X_test2, y_test2)\n",
    "\n",
    "#X_train3, y_train3 = embaralha(X_train3, y_train3)\n",
    "#X_test3, y_test3 = embaralha(X_test3, y_test3)\n",
    "\n",
    "#X_train4, y_train4 = embaralha(X_train4, y_train4)\n",
    "#X_test4, y_test4 = embaralha(X_test4, y_test4)\n"
   ]
  },
  {
   "cell_type": "code",
   "execution_count": 36,
   "metadata": {
    "id": "Asli1Qg3i11Q"
   },
   "outputs": [],
   "source": [
    "#Normalizando os dados\n",
    "\n",
    "from sklearn.preprocessing import StandardScaler\n",
    "\n",
    "sc = StandardScaler()  \n",
    "X_train = sc.fit_transform(X_train)\n",
    "X_test = sc.fit_transform(X_test)\n",
    "\n",
    "X_train2 = sc.fit_transform(X_train2)\n",
    "X_test2 = sc.fit_transform(X_test2)\n",
    "\n",
    "X_train3 = sc.fit_transform(X_train3)\n",
    "X_test3 = sc.fit_transform(X_test3)\n",
    "\n",
    "X_train4 = sc.fit_transform(X_train4)\n",
    "X_test4 = sc.fit_transform(X_test4)\n"
   ]
  },
  {
   "cell_type": "code",
   "execution_count": 37,
   "metadata": {},
   "outputs": [],
   "source": [
    "X_total = sc.fit_transform(X_total)"
   ]
  },
  {
   "cell_type": "code",
   "execution_count": 38,
   "metadata": {},
   "outputs": [],
   "source": [
    "#####################################################\n",
    "#Aplicação SVM Linear\n",
    "#####################################################"
   ]
  },
  {
   "cell_type": "code",
   "execution_count": 39,
   "metadata": {
    "id": "8S6yVFQ_i11R"
   },
   "outputs": [],
   "source": [
    "from sklearn import svm\n",
    "from sklearn.metrics import classification_report, confusion_matrix, accuracy_score"
   ]
  },
  {
   "cell_type": "code",
   "execution_count": 40,
   "metadata": {},
   "outputs": [
    {
     "data": {
      "text/plain": [
       "GridSearchCV(cv=5, error_score=nan,\n",
       "             estimator=SVC(C=1.0, break_ties=False, cache_size=200,\n",
       "                           class_weight=None, coef0=0.0,\n",
       "                           decision_function_shape='ovr', degree=3,\n",
       "                           gamma='scale', kernel='linear', max_iter=-1,\n",
       "                           probability=False, random_state=None, shrinking=True,\n",
       "                           tol=0.001, verbose=False),\n",
       "             iid='deprecated', n_jobs=None,\n",
       "             param_grid={'C': [0.1, 1, 10, 100, 1000],\n",
       "                         'gamma': [0.0001, 0.0005, 0.001, 0.005, 0.01, 0.05,\n",
       "                                   0.1, 0.5]},\n",
       "             pre_dispatch='2*n_jobs', refit=True, return_train_score=False,\n",
       "             scoring=None, verbose=0)"
      ]
     },
     "execution_count": 40,
     "metadata": {},
     "output_type": "execute_result"
    }
   ],
   "source": [
    "## Aplicação de Hiperparâmetros GRUPO 1\n",
    "from sklearn.model_selection import GridSearchCV\n",
    "\n",
    "param_grid = {'C': [0.1, 1, 10, 100, 1000],\n",
    "              'gamma': [0.0001, 0.0005, 0.001, 0.005, 0.01, 0.05, 0.1, 0.5]}\n",
    "\n",
    "Grid = svm.SVC \n",
    "modelo_SvmLin = GridSearchCV(Grid(kernel='linear'), param_grid, cv=5)\n",
    "modelo_SvmLin.fit(X_train, y_train)"
   ]
  },
  {
   "cell_type": "code",
   "execution_count": 41,
   "metadata": {},
   "outputs": [
    {
     "data": {
      "text/plain": [
       "SVC(C=0.1, break_ties=False, cache_size=200, class_weight=None, coef0=0.0,\n",
       "    decision_function_shape='ovr', degree=3, gamma=0.0001, kernel='linear',\n",
       "    max_iter=-1, probability=False, random_state=None, shrinking=True,\n",
       "    tol=0.001, verbose=False)"
      ]
     },
     "execution_count": 41,
     "metadata": {},
     "output_type": "execute_result"
    }
   ],
   "source": [
    "modelo_SvmLin.best_estimator_"
   ]
  },
  {
   "cell_type": "code",
   "execution_count": 42,
   "metadata": {},
   "outputs": [
    {
     "data": {
      "text/plain": [
       "SVC(C=0.1, break_ties=False, cache_size=200, class_weight=None, coef0=0.0,\n",
       "    decision_function_shape='ovr', degree=3, gamma=0.0001, kernel='linear',\n",
       "    max_iter=-1, probability=False, random_state=None, shrinking=True,\n",
       "    tol=0.001, verbose=False)"
      ]
     },
     "execution_count": 42,
     "metadata": {},
     "output_type": "execute_result"
    }
   ],
   "source": [
    "#SVM polinomial aplicado\n",
    "\n",
    "modelo_SvmLin = svm.SVC(C=0.1, break_ties=False, cache_size=200, class_weight=None, coef0=0.0,\n",
    "    decision_function_shape='ovr', degree=3, gamma=0.0001, kernel='linear',\n",
    "    max_iter=-1, probability=False, random_state=None, shrinking=True,\n",
    "    tol=0.001, verbose=False)\n",
    "\n",
    "modelo_SvmLin.fit(X_train, y_train)"
   ]
  },
  {
   "cell_type": "code",
   "execution_count": 43,
   "metadata": {},
   "outputs": [
    {
     "data": {
      "text/plain": [
       "array([0, 0, 0, 0, 0, 0, 0, 0, 0, 0, 0, 0, 0, 0, 0, 0, 0, 0, 0, 0, 0, 0,\n",
       "       0, 0, 0, 0, 1, 1, 1, 1, 1, 1, 1, 1, 1, 1, 1, 1, 1, 1, 1, 1, 1, 1,\n",
       "       1, 1, 1, 1, 1, 1, 1, 1, 0, 0, 0, 0, 0, 0, 0, 0, 0, 0, 0, 0, 0, 0,\n",
       "       0, 0, 0, 0, 0, 0, 0, 0, 0, 0, 0, 0, 1, 1, 1, 1, 1, 1, 1, 1, 1, 1,\n",
       "       1, 1, 1, 1, 1, 1, 1, 1, 1, 1, 1, 1, 1, 1, 1, 1, 0, 0, 0, 0, 0, 0,\n",
       "       0, 0, 0, 0, 0, 0, 0, 0, 0, 0, 0, 0, 0, 0, 0, 0, 0, 0, 0, 0, 1, 1,\n",
       "       1, 1, 1, 1, 1, 1, 1, 1, 1, 1, 1, 1, 1, 1, 1, 1, 1, 1, 1, 1, 1, 1,\n",
       "       1, 1, 0, 0, 0, 0, 0, 0, 0, 0, 0, 0, 0, 0, 0, 0, 0, 0, 0, 0, 0, 0,\n",
       "       0, 0, 0, 0, 0, 0, 1, 1, 1, 1, 1, 1, 1, 1, 1, 1, 1, 1, 1, 1, 1, 1,\n",
       "       1, 1, 1, 1, 1, 1, 1, 1, 1, 1, 0, 0, 0, 0, 0, 0, 0, 0, 0, 0, 0, 0,\n",
       "       0, 0, 0, 0, 0, 0, 0, 0, 0, 0, 0, 0, 0, 0, 1, 1, 1, 1, 1, 1, 1, 1,\n",
       "       1, 1, 1, 1, 1, 1, 1, 1, 1, 1, 1, 1, 1, 1, 1, 1, 1, 1])"
      ]
     },
     "execution_count": 43,
     "metadata": {},
     "output_type": "execute_result"
    }
   ],
   "source": [
    "y_pred_modelLin = modelo_SvmLin.predict(X_test)\n",
    "y_pred_modelLin"
   ]
  },
  {
   "cell_type": "code",
   "execution_count": 44,
   "metadata": {},
   "outputs": [
    {
     "data": {
      "text/plain": [
       "GridSearchCV(cv=5, error_score=nan,\n",
       "             estimator=SVC(C=1.0, break_ties=False, cache_size=200,\n",
       "                           class_weight=None, coef0=0.0,\n",
       "                           decision_function_shape='ovr', degree=3,\n",
       "                           gamma='scale', kernel='linear', max_iter=-1,\n",
       "                           probability=False, random_state=None, shrinking=True,\n",
       "                           tol=0.001, verbose=False),\n",
       "             iid='deprecated', n_jobs=None,\n",
       "             param_grid={'C': [0.1, 1, 10, 100, 1000],\n",
       "                         'gamma': [0.0001, 0.0005, 0.001, 0.005, 0.01, 0.05,\n",
       "                                   0.1, 0.5]},\n",
       "             pre_dispatch='2*n_jobs', refit=True, return_train_score=False,\n",
       "             scoring=None, verbose=0)"
      ]
     },
     "execution_count": 44,
     "metadata": {},
     "output_type": "execute_result"
    }
   ],
   "source": [
    "## Aplicação de Hiperparâmetros GRUPO 2\n",
    "from sklearn.model_selection import GridSearchCV\n",
    "\n",
    "param_grid = {'C': [0.1, 1, 10, 100, 1000],\n",
    "              'gamma': [0.0001, 0.0005, 0.001, 0.005, 0.01, 0.05, 0.1, 0.5]}\n",
    "\n",
    "Grid = svm.SVC \n",
    "modelo_SvmLin2 = GridSearchCV(Grid(kernel='linear'), param_grid, cv=5)\n",
    "modelo_SvmLin2.fit(X_train2, y_train2)"
   ]
  },
  {
   "cell_type": "code",
   "execution_count": 45,
   "metadata": {},
   "outputs": [
    {
     "data": {
      "text/plain": [
       "SVC(C=0.1, break_ties=False, cache_size=200, class_weight=None, coef0=0.0,\n",
       "    decision_function_shape='ovr', degree=3, gamma=0.0001, kernel='linear',\n",
       "    max_iter=-1, probability=False, random_state=None, shrinking=True,\n",
       "    tol=0.001, verbose=False)"
      ]
     },
     "execution_count": 45,
     "metadata": {},
     "output_type": "execute_result"
    }
   ],
   "source": [
    "modelo_SvmLin2.best_estimator_"
   ]
  },
  {
   "cell_type": "code",
   "execution_count": 46,
   "metadata": {},
   "outputs": [
    {
     "data": {
      "text/plain": [
       "SVC(C=0.1, break_ties=False, cache_size=200, class_weight=None, coef0=0.0,\n",
       "    decision_function_shape='ovr', degree=3, gamma=0.0001, kernel='linear',\n",
       "    max_iter=-1, probability=False, random_state=None, shrinking=True,\n",
       "    tol=0.001, verbose=False)"
      ]
     },
     "execution_count": 46,
     "metadata": {},
     "output_type": "execute_result"
    }
   ],
   "source": [
    "#SVM polinomial aplicado\n",
    "\n",
    "modelo_SvmLin2 = svm.SVC(C=0.1, break_ties=False, cache_size=200, class_weight=None, coef0=0.0,\n",
    "    decision_function_shape='ovr', degree=3, gamma=0.0001, kernel='linear',\n",
    "    max_iter=-1, probability=False, random_state=None, shrinking=True,\n",
    "    tol=0.001, verbose=False)\n",
    "\n",
    "modelo_SvmLin2.fit(X_train2, y_train2)"
   ]
  },
  {
   "cell_type": "code",
   "execution_count": 47,
   "metadata": {},
   "outputs": [],
   "source": [
    "y_pred_Lin2 = modelo_SvmLin2.predict(X_test2)"
   ]
  },
  {
   "cell_type": "code",
   "execution_count": 48,
   "metadata": {},
   "outputs": [
    {
     "data": {
      "text/plain": [
       "array([0, 0, 0, 0, 0, 0, 0, 0, 0, 0, 0, 0, 0, 0, 0, 0, 0, 0, 0, 0, 0, 0,\n",
       "       0, 0, 0, 0, 1, 1, 1, 1, 1, 1, 1, 1, 1, 1, 1, 1, 1, 1, 1, 1, 1, 1,\n",
       "       1, 1, 1, 1, 1, 1, 1, 1, 0, 0, 0, 0, 0, 0, 0, 0, 0, 0, 0, 0, 0, 0,\n",
       "       0, 0, 0, 0, 0, 0, 0, 0, 0, 0, 0, 0, 1, 1, 1, 1, 1, 1, 1, 1, 1, 1,\n",
       "       1, 1, 1, 1, 1, 1, 1, 1, 1, 1, 1, 1, 1, 1, 1, 1, 0, 0, 0, 0, 0, 0,\n",
       "       0, 0, 0, 0, 0, 0, 0, 0, 0, 0, 0, 0, 0, 0, 0, 0, 0, 0, 0, 0, 1, 1,\n",
       "       1, 1, 1, 1, 1, 1, 1, 1, 1, 1, 1, 1, 1, 1, 1, 1, 1, 1, 1, 1, 1, 1,\n",
       "       1, 1, 0, 0, 0, 0, 0, 0, 0, 0, 0, 0, 0, 0, 0, 0, 0, 0, 0, 0, 0, 0,\n",
       "       0, 0, 0, 0, 0, 0, 1, 1, 1, 1, 1, 1, 1, 1, 1, 1, 1, 1, 1, 1, 1, 1,\n",
       "       1, 1, 1, 1, 1, 1, 1, 1, 1, 1, 0, 0, 0, 0, 0, 0, 0, 0, 0, 0, 0, 0,\n",
       "       0, 0, 0, 0, 0, 0, 0, 0, 0, 0, 0, 0, 0, 0, 1, 1, 1, 1, 1, 1, 1, 1,\n",
       "       1, 1, 1, 1, 1, 1, 1, 1, 1, 1, 1, 1, 1, 1, 1, 1, 1, 1, 0, 0, 0, 0,\n",
       "       0, 0, 0, 0, 0, 0, 0, 0, 0, 0, 0, 0, 0, 0, 0, 0, 0, 0, 0, 0, 0, 0,\n",
       "       1, 1, 1, 1, 1, 1, 1, 1, 1, 1, 1, 1, 1, 1, 1, 1, 1, 1, 1, 1, 1, 1,\n",
       "       1, 1, 1, 1, 0, 0, 0, 0, 0, 0, 0, 0, 0, 0, 0, 0, 0, 0, 0, 0, 0, 0,\n",
       "       0, 0, 0, 0, 0, 0, 0, 0, 1, 1, 1, 1, 1, 1, 1, 1, 1, 1, 1, 1, 1, 1,\n",
       "       1, 1, 1, 1, 1, 1, 1, 1, 1, 1, 1, 1, 0, 0, 0, 0, 0, 0, 0, 0, 0, 0,\n",
       "       0, 0, 0, 0, 0, 0, 0, 0, 0, 0, 0, 0, 0, 0, 0, 0, 1, 1, 1, 1, 1, 1,\n",
       "       1, 1, 1, 1, 1, 1, 1, 1, 1, 1, 1, 1, 1, 1, 1, 1, 1, 1, 1, 1, 0, 0,\n",
       "       0, 0, 0, 0, 0, 0, 0, 0, 0, 0, 0, 0, 0, 0, 0, 0, 0, 0, 0, 0, 0, 0,\n",
       "       0, 0, 1, 1, 1, 1, 1, 1, 1, 1, 1, 1, 1, 1, 1, 1, 1, 1, 1, 1, 1, 1,\n",
       "       1, 1, 1, 1, 1, 1, 0, 0, 0, 0, 0, 0, 0, 0, 0, 0, 0, 0, 0, 0, 0, 0,\n",
       "       0, 0, 0, 0, 0, 0, 0, 0, 0, 0, 1, 1, 1, 1, 1, 1, 1, 1, 1, 1, 1, 1,\n",
       "       1, 1, 1, 1, 1, 1, 1, 1, 1, 1, 1, 1, 1, 1])"
      ]
     },
     "execution_count": 48,
     "metadata": {},
     "output_type": "execute_result"
    }
   ],
   "source": [
    "y_pred_modelLin = np.append(y_pred_modelLin, y_pred_Lin2)\n",
    "y_pred_modelLin"
   ]
  },
  {
   "cell_type": "code",
   "execution_count": 49,
   "metadata": {},
   "outputs": [
    {
     "data": {
      "text/plain": [
       "GridSearchCV(cv=5, error_score=nan,\n",
       "             estimator=SVC(C=1.0, break_ties=False, cache_size=200,\n",
       "                           class_weight=None, coef0=0.0,\n",
       "                           decision_function_shape='ovr', degree=3,\n",
       "                           gamma='scale', kernel='linear', max_iter=-1,\n",
       "                           probability=False, random_state=None, shrinking=True,\n",
       "                           tol=0.001, verbose=False),\n",
       "             iid='deprecated', n_jobs=None,\n",
       "             param_grid={'C': [0.1, 1, 10, 100, 1000],\n",
       "                         'gamma': [0.0001, 0.0005, 0.001, 0.005, 0.01, 0.05,\n",
       "                                   0.1, 0.5]},\n",
       "             pre_dispatch='2*n_jobs', refit=True, return_train_score=False,\n",
       "             scoring=None, verbose=0)"
      ]
     },
     "execution_count": 49,
     "metadata": {},
     "output_type": "execute_result"
    }
   ],
   "source": [
    "## Aplicação de Hiperparâmetros GRUPO 3\n",
    "from sklearn.model_selection import GridSearchCV\n",
    "\n",
    "param_grid = {'C': [0.1, 1, 10, 100, 1000],\n",
    "              'gamma': [0.0001, 0.0005, 0.001, 0.005, 0.01, 0.05, 0.1, 0.5]}\n",
    "\n",
    "Grid = svm.SVC \n",
    "modelo_SvmLin3 = GridSearchCV(Grid(kernel='linear'), param_grid, cv=5)\n",
    "modelo_SvmLin3.fit(X_train3, y_train3)"
   ]
  },
  {
   "cell_type": "code",
   "execution_count": 50,
   "metadata": {},
   "outputs": [
    {
     "data": {
      "text/plain": [
       "SVC(C=0.1, break_ties=False, cache_size=200, class_weight=None, coef0=0.0,\n",
       "    decision_function_shape='ovr', degree=3, gamma=0.0001, kernel='linear',\n",
       "    max_iter=-1, probability=False, random_state=None, shrinking=True,\n",
       "    tol=0.001, verbose=False)"
      ]
     },
     "execution_count": 50,
     "metadata": {},
     "output_type": "execute_result"
    }
   ],
   "source": [
    "modelo_SvmLin3.best_estimator_"
   ]
  },
  {
   "cell_type": "code",
   "execution_count": 51,
   "metadata": {},
   "outputs": [
    {
     "data": {
      "text/plain": [
       "SVC(C=0.1, break_ties=False, cache_size=200, class_weight=None, coef0=0.0,\n",
       "    decision_function_shape='ovr', degree=3, gamma=0.0001, kernel='linear',\n",
       "    max_iter=-1, probability=False, random_state=None, shrinking=True,\n",
       "    tol=0.001, verbose=False)"
      ]
     },
     "execution_count": 51,
     "metadata": {},
     "output_type": "execute_result"
    }
   ],
   "source": [
    "#SVM polinomial aplicado\n",
    "\n",
    "modelo_SvmLin3 = svm.SVC(C=0.1, break_ties=False, cache_size=200, class_weight=None, coef0=0.0,\n",
    "    decision_function_shape='ovr', degree=3, gamma=0.0001, kernel='linear',\n",
    "    max_iter=-1, probability=False, random_state=None, shrinking=True,\n",
    "    tol=0.001, verbose=False)\n",
    "\n",
    "modelo_SvmLin3.fit(X_train3, y_train3)"
   ]
  },
  {
   "cell_type": "code",
   "execution_count": 52,
   "metadata": {},
   "outputs": [],
   "source": [
    "y_pred_Lin3 = modelo_SvmLin3.predict(X_test3)"
   ]
  },
  {
   "cell_type": "code",
   "execution_count": 53,
   "metadata": {},
   "outputs": [
    {
     "data": {
      "text/plain": [
       "array([0, 0, 0, 0, 0, 0, 0, 0, 0, 0, 0, 0, 0, 0, 0, 0, 0, 0, 0, 0, 0, 0,\n",
       "       0, 0, 0, 0, 1, 1, 1, 1, 1, 1, 1, 1, 1, 1, 1, 1, 1, 1, 1, 1, 1, 1,\n",
       "       1, 1, 1, 1, 1, 1, 1, 1, 0, 0, 0, 0, 0, 0, 0, 0, 0, 0, 0, 0, 0, 0,\n",
       "       0, 0, 0, 0, 0, 0, 0, 0, 0, 0, 0, 0, 1, 1, 1, 1, 1, 1, 1, 1, 1, 1,\n",
       "       1, 1, 1, 1, 1, 1, 1, 1, 1, 1, 1, 1, 1, 1, 1, 1, 0, 0, 0, 0, 0, 0,\n",
       "       0, 0, 0, 0, 0, 0, 0, 0, 0, 0, 0, 0, 0, 0, 0, 0, 0, 0, 0, 0, 1, 1,\n",
       "       1, 1, 1, 1, 1, 1, 1, 1, 1, 1, 1, 1, 1, 1, 1, 1, 1, 1, 1, 1, 1, 1,\n",
       "       1, 1, 0, 0, 0, 0, 0, 0, 0, 0, 0, 0, 0, 0, 0, 0, 0, 0, 0, 0, 0, 0,\n",
       "       0, 0, 0, 0, 0, 0, 1, 1, 1, 1, 1, 1, 1, 1, 1, 1, 1, 1, 1, 1, 1, 1,\n",
       "       1, 1, 1, 1, 1, 1, 1, 1, 1, 1, 0, 0, 0, 0, 0, 0, 0, 0, 0, 0, 0, 0,\n",
       "       0, 0, 0, 0, 0, 0, 0, 0, 0, 0, 0, 0, 0, 0, 1, 1, 1, 1, 1, 1, 1, 1,\n",
       "       1, 1, 1, 1, 1, 1, 1, 1, 1, 1, 1, 1, 1, 1, 1, 1, 1, 1, 0, 0, 0, 0,\n",
       "       0, 0, 0, 0, 0, 0, 0, 0, 0, 0, 0, 0, 0, 0, 0, 0, 0, 0, 0, 0, 0, 0,\n",
       "       1, 1, 1, 1, 1, 1, 1, 1, 1, 1, 1, 1, 1, 1, 1, 1, 1, 1, 1, 1, 1, 1,\n",
       "       1, 1, 1, 1, 0, 0, 0, 0, 0, 0, 0, 0, 0, 0, 0, 0, 0, 0, 0, 0, 0, 0,\n",
       "       0, 0, 0, 0, 0, 0, 0, 0, 1, 1, 1, 1, 1, 1, 1, 1, 1, 1, 1, 1, 1, 1,\n",
       "       1, 1, 1, 1, 1, 1, 1, 1, 1, 1, 1, 1, 0, 0, 0, 0, 0, 0, 0, 0, 0, 0,\n",
       "       0, 0, 0, 0, 0, 0, 0, 0, 0, 0, 0, 0, 0, 0, 0, 0, 1, 1, 1, 1, 1, 1,\n",
       "       1, 1, 1, 1, 1, 1, 1, 1, 1, 1, 1, 1, 1, 1, 1, 1, 1, 1, 1, 1, 0, 0,\n",
       "       0, 0, 0, 0, 0, 0, 0, 0, 0, 0, 0, 0, 0, 0, 0, 0, 0, 0, 0, 0, 0, 0,\n",
       "       0, 0, 1, 1, 1, 1, 1, 1, 1, 1, 1, 1, 1, 1, 1, 1, 1, 1, 1, 1, 1, 1,\n",
       "       1, 1, 1, 1, 1, 1, 0, 0, 0, 0, 0, 0, 0, 0, 0, 0, 0, 0, 0, 0, 0, 0,\n",
       "       0, 0, 0, 0, 0, 0, 0, 0, 0, 0, 1, 1, 1, 1, 1, 1, 1, 1, 1, 1, 1, 1,\n",
       "       1, 1, 1, 1, 1, 1, 1, 1, 1, 1, 1, 1, 1, 1, 0, 0, 0, 0, 0, 0, 0, 0,\n",
       "       0, 0, 0, 0, 0, 0, 0, 0, 0, 0, 0, 0, 0, 0, 0, 0, 0, 0, 1, 1, 1, 1,\n",
       "       1, 1, 1, 1, 1, 1, 1, 1, 1, 1, 1, 1, 1, 1, 1, 1, 1, 1, 1, 1, 1, 1,\n",
       "       0, 0, 0, 0, 0, 0, 0, 0, 0, 0, 0, 0, 0, 0, 0, 0, 0, 0, 0, 0, 0, 0,\n",
       "       0, 0, 0, 0, 1, 1, 1, 1, 1, 1, 1, 1, 1, 1, 1, 1, 1, 1, 1, 1, 1, 1,\n",
       "       1, 1, 1, 1, 1, 1, 1, 1, 0, 0, 0, 0, 0, 0, 0, 0, 0, 0, 0, 0, 0, 0,\n",
       "       0, 0, 0, 0, 0, 0, 0, 0, 0, 0, 0, 0, 1, 1, 1, 1, 1, 1, 1, 1, 1, 1,\n",
       "       1, 1, 1, 1, 1, 1, 1, 1, 1, 1, 1, 1, 1, 1, 1, 1, 0, 0, 0, 0, 0, 0,\n",
       "       0, 0, 0, 0, 0, 0, 0, 0, 0, 0, 0, 0, 0, 0, 0, 0, 0, 0, 0, 0, 1, 1,\n",
       "       1, 1, 1, 1, 1, 1, 1, 1, 1, 1, 1, 1, 1, 1, 1, 1, 1, 1, 1, 1, 1, 1,\n",
       "       1, 1, 0, 0, 0, 0, 0, 0, 0, 0, 0, 0, 0, 0, 0, 0, 0, 0, 0, 0, 0, 0,\n",
       "       0, 0, 0, 0, 0, 0, 1, 1, 1, 1, 1, 1, 1, 1, 1, 1, 1, 1, 1, 1, 1, 1,\n",
       "       1, 1, 1, 1, 1, 1, 1, 1, 1, 1])"
      ]
     },
     "execution_count": 53,
     "metadata": {},
     "output_type": "execute_result"
    }
   ],
   "source": [
    "y_pred_modelLin = np.append(y_pred_modelLin, y_pred_Lin3)\n",
    "y_pred_modelLin"
   ]
  },
  {
   "cell_type": "code",
   "execution_count": 54,
   "metadata": {},
   "outputs": [
    {
     "data": {
      "text/plain": [
       "GridSearchCV(cv=5, error_score=nan,\n",
       "             estimator=SVC(C=1.0, break_ties=False, cache_size=200,\n",
       "                           class_weight=None, coef0=0.0,\n",
       "                           decision_function_shape='ovr', degree=3,\n",
       "                           gamma='scale', kernel='linear', max_iter=-1,\n",
       "                           probability=False, random_state=None, shrinking=True,\n",
       "                           tol=0.001, verbose=False),\n",
       "             iid='deprecated', n_jobs=None,\n",
       "             param_grid={'C': [0.1, 1, 10, 100, 1000],\n",
       "                         'gamma': [0.0001, 0.0005, 0.001, 0.005, 0.01, 0.05,\n",
       "                                   0.1, 0.5]},\n",
       "             pre_dispatch='2*n_jobs', refit=True, return_train_score=False,\n",
       "             scoring=None, verbose=0)"
      ]
     },
     "execution_count": 54,
     "metadata": {},
     "output_type": "execute_result"
    }
   ],
   "source": [
    "## Aplicação de Hiperparâmetros GRUPO 4\n",
    "from sklearn.model_selection import GridSearchCV\n",
    "\n",
    "param_grid = {'C': [0.1, 1, 10, 100, 1000],\n",
    "              'gamma': [0.0001, 0.0005, 0.001, 0.005, 0.01, 0.05, 0.1, 0.5]}\n",
    "\n",
    "Grid = svm.SVC \n",
    "modelo_SvmLin4 = GridSearchCV(Grid(kernel='linear'), param_grid, cv=5)\n",
    "modelo_SvmLin4.fit(X_train4, y_train4)"
   ]
  },
  {
   "cell_type": "code",
   "execution_count": 55,
   "metadata": {},
   "outputs": [
    {
     "data": {
      "text/plain": [
       "SVC(C=0.1, break_ties=False, cache_size=200, class_weight=None, coef0=0.0,\n",
       "    decision_function_shape='ovr', degree=3, gamma=0.0001, kernel='linear',\n",
       "    max_iter=-1, probability=False, random_state=None, shrinking=True,\n",
       "    tol=0.001, verbose=False)"
      ]
     },
     "execution_count": 55,
     "metadata": {},
     "output_type": "execute_result"
    }
   ],
   "source": [
    "modelo_SvmLin4.best_estimator_"
   ]
  },
  {
   "cell_type": "code",
   "execution_count": 56,
   "metadata": {},
   "outputs": [
    {
     "data": {
      "text/plain": [
       "SVC(C=0.1, break_ties=False, cache_size=200, class_weight=None, coef0=0.0,\n",
       "    decision_function_shape='ovr', degree=3, gamma=0.0001, kernel='linear',\n",
       "    max_iter=-1, probability=False, random_state=None, shrinking=True,\n",
       "    tol=0.001, verbose=False)"
      ]
     },
     "execution_count": 56,
     "metadata": {},
     "output_type": "execute_result"
    }
   ],
   "source": [
    "#SVM polinomial aplicado\n",
    "\n",
    "modelo_SvmLin4 = svm.SVC(C=0.1, break_ties=False, cache_size=200, class_weight=None, coef0=0.0,\n",
    "    decision_function_shape='ovr', degree=3, gamma=0.0001, kernel='linear',\n",
    "    max_iter=-1, probability=False, random_state=None, shrinking=True,\n",
    "    tol=0.001, verbose=False)\n",
    "\n",
    "modelo_SvmLin4.fit(X_train4, y_train4)"
   ]
  },
  {
   "cell_type": "code",
   "execution_count": 57,
   "metadata": {},
   "outputs": [],
   "source": [
    "y_pred_Lin4 = modelo_SvmLin4.predict(X_test4)"
   ]
  },
  {
   "cell_type": "code",
   "execution_count": 58,
   "metadata": {},
   "outputs": [
    {
     "data": {
      "text/plain": [
       "array([0, 0, 0, ..., 1, 1, 1])"
      ]
     },
     "execution_count": 58,
     "metadata": {},
     "output_type": "execute_result"
    }
   ],
   "source": [
    "y_pred_modelLin = np.append(y_pred_modelLin, y_pred_Lin4)\n",
    "y_pred_modelLin"
   ]
  },
  {
   "cell_type": "code",
   "execution_count": 59,
   "metadata": {},
   "outputs": [
    {
     "data": {
      "text/plain": [
       "(1040,)"
      ]
     },
     "execution_count": 59,
     "metadata": {},
     "output_type": "execute_result"
    }
   ],
   "source": [
    "###########\n",
    "y_pred_modelLin.shape"
   ]
  },
  {
   "cell_type": "code",
   "execution_count": 60,
   "metadata": {},
   "outputs": [
    {
     "name": "stdout",
     "output_type": "stream",
     "text": [
      "Acurácia com K-fold SVM POlinomial: 1.0\n"
     ]
    }
   ],
   "source": [
    "# Acurácia\n",
    "print(\"Acurácia com K-fold SVM POlinomial:\", accuracy_score(y_total, y_pred_modelLin))"
   ]
  },
  {
   "cell_type": "code",
   "execution_count": 61,
   "metadata": {},
   "outputs": [
    {
     "name": "stdout",
     "output_type": "stream",
     "text": [
      "[[520   0]\n",
      " [  0 520]]\n",
      "              precision    recall  f1-score   support\n",
      "\n",
      "           0       1.00      1.00      1.00       520\n",
      "           1       1.00      1.00      1.00       520\n",
      "\n",
      "    accuracy                           1.00      1040\n",
      "   macro avg       1.00      1.00      1.00      1040\n",
      "weighted avg       1.00      1.00      1.00      1040\n",
      "\n",
      "Acurácia Polinomial: 1.0\n"
     ]
    }
   ],
   "source": [
    "print(confusion_matrix(y_total, y_pred_modelLin))\n",
    "print(classification_report(y_total, y_pred_modelLin))\n",
    "print(\"Acurácia Polinomial:\", accuracy_score(y_total, y_pred_modelLin))"
   ]
  },
  {
   "cell_type": "code",
   "execution_count": null,
   "metadata": {},
   "outputs": [],
   "source": []
  },
  {
   "cell_type": "code",
   "execution_count": 62,
   "metadata": {
    "id": "yi5T7qiyi11Q"
   },
   "outputs": [],
   "source": [
    "#####################################################\n",
    "#Aplicação SVM Polinomial\n",
    "#####################################################"
   ]
  },
  {
   "cell_type": "code",
   "execution_count": 63,
   "metadata": {
    "id": "cIfdYo5Mi11c",
    "outputId": "fa5cbd8a-20c0-419e-a4ec-18eaf7d79a0a"
   },
   "outputs": [
    {
     "data": {
      "text/plain": [
       "GridSearchCV(cv=5, error_score=nan,\n",
       "             estimator=SVC(C=1.0, break_ties=False, cache_size=200,\n",
       "                           class_weight=None, coef0=0.0,\n",
       "                           decision_function_shape='ovr', degree=3,\n",
       "                           gamma='scale', kernel='poly', max_iter=-1,\n",
       "                           probability=False, random_state=None, shrinking=True,\n",
       "                           tol=0.001, verbose=False),\n",
       "             iid='deprecated', n_jobs=None,\n",
       "             param_grid={'C': [0.1, 1, 10, 100, 1000],\n",
       "                         'gamma': [0.0001, 0.0005, 0.001, 0.005, 0.01, 0.05,\n",
       "                                   0.1, 0.5]},\n",
       "             pre_dispatch='2*n_jobs', refit=True, return_train_score=False,\n",
       "             scoring=None, verbose=0)"
      ]
     },
     "execution_count": 63,
     "metadata": {},
     "output_type": "execute_result"
    }
   ],
   "source": [
    "## Aplicação de Hiperparâmetros GRUPO 1\n",
    "from sklearn.model_selection import GridSearchCV\n",
    "\n",
    "param_grid = {'C': [0.1, 1, 10, 100, 1000],\n",
    "              'gamma': [0.0001, 0.0005, 0.001, 0.005, 0.01, 0.05, 0.1, 0.5]}\n",
    "\n",
    "Grid = svm.SVC \n",
    "modelo_SvmPoly = GridSearchCV(Grid(kernel='poly'), param_grid, cv=5)\n",
    "modelo_SvmPoly.fit(X_train, y_train)"
   ]
  },
  {
   "cell_type": "code",
   "execution_count": 64,
   "metadata": {},
   "outputs": [
    {
     "data": {
      "text/plain": [
       "SVC(C=1, break_ties=False, cache_size=200, class_weight=None, coef0=0.0,\n",
       "    decision_function_shape='ovr', degree=3, gamma=0.1, kernel='poly',\n",
       "    max_iter=-1, probability=False, random_state=None, shrinking=True,\n",
       "    tol=0.001, verbose=False)"
      ]
     },
     "execution_count": 64,
     "metadata": {},
     "output_type": "execute_result"
    }
   ],
   "source": [
    "modelo_SvmPoly.best_estimator_"
   ]
  },
  {
   "cell_type": "code",
   "execution_count": 65,
   "metadata": {
    "id": "iwuMLSRpi11S",
    "outputId": "31c16f3e-2d31-46d5-b5b5-744d06b2bdd5"
   },
   "outputs": [
    {
     "data": {
      "text/plain": [
       "SVC(C=1, break_ties=False, cache_size=200, class_weight=None, coef0=0.0,\n",
       "    decision_function_shape='ovr', degree=3, gamma=0.1, kernel='poly',\n",
       "    max_iter=-1, probability=False, random_state=None, shrinking=True,\n",
       "    tol=0.001, verbose=False)"
      ]
     },
     "execution_count": 65,
     "metadata": {},
     "output_type": "execute_result"
    }
   ],
   "source": [
    "#SVM polinomial aplicado\n",
    "\n",
    "modelo_SvmPoly = svm.SVC(C=1, break_ties=False, cache_size=200, class_weight=None, coef0=0.0,\n",
    "    decision_function_shape='ovr', degree=3, gamma=0.1, kernel='poly',\n",
    "    max_iter=-1, probability=False, random_state=None, shrinking=True,\n",
    "    tol=0.001, verbose=False)\n",
    "\n",
    "modelo_SvmPoly.fit(X_train, y_train)"
   ]
  },
  {
   "cell_type": "code",
   "execution_count": 66,
   "metadata": {},
   "outputs": [
    {
     "data": {
      "text/plain": [
       "array([0, 0, 0, 0, 0, 0, 0, 0, 0, 0, 0, 0, 0, 0, 0, 0, 0, 0, 0, 0, 0, 0,\n",
       "       0, 0, 0, 0, 1, 1, 1, 1, 1, 1, 1, 1, 1, 1, 1, 1, 1, 1, 1, 1, 1, 1,\n",
       "       1, 1, 1, 1, 1, 1, 1, 1, 0, 0, 0, 0, 0, 0, 0, 0, 0, 0, 0, 0, 0, 0,\n",
       "       0, 0, 0, 0, 0, 0, 0, 0, 0, 0, 0, 0, 1, 1, 1, 1, 1, 1, 1, 1, 1, 1,\n",
       "       1, 1, 1, 1, 1, 1, 1, 1, 1, 1, 1, 1, 1, 1, 1, 1, 0, 0, 0, 0, 0, 0,\n",
       "       0, 0, 0, 0, 0, 0, 0, 0, 0, 0, 0, 0, 0, 0, 0, 0, 0, 0, 0, 0, 1, 1,\n",
       "       1, 1, 1, 1, 1, 1, 1, 1, 1, 1, 1, 1, 1, 1, 1, 1, 1, 1, 1, 1, 1, 1,\n",
       "       1, 1, 0, 0, 0, 0, 0, 0, 0, 0, 0, 0, 0, 0, 0, 0, 0, 0, 0, 0, 0, 0,\n",
       "       0, 0, 0, 0, 0, 0, 1, 1, 1, 1, 1, 1, 1, 1, 1, 1, 1, 1, 1, 1, 1, 1,\n",
       "       1, 1, 1, 1, 1, 1, 1, 1, 1, 1, 0, 0, 0, 0, 0, 0, 0, 0, 0, 0, 0, 0,\n",
       "       0, 0, 0, 0, 0, 0, 0, 0, 0, 0, 0, 0, 0, 0, 1, 1, 1, 1, 1, 1, 1, 1,\n",
       "       1, 1, 1, 1, 1, 1, 1, 1, 1, 1, 1, 1, 1, 1, 1, 1, 1, 1])"
      ]
     },
     "execution_count": 66,
     "metadata": {},
     "output_type": "execute_result"
    }
   ],
   "source": [
    "y_pred_modelPoly= modelo_SvmPoly.predict(X_test)\n",
    "y_pred_modelPoly"
   ]
  },
  {
   "cell_type": "code",
   "execution_count": 67,
   "metadata": {},
   "outputs": [],
   "source": [
    "#----------------------------------------"
   ]
  },
  {
   "cell_type": "code",
   "execution_count": 68,
   "metadata": {},
   "outputs": [
    {
     "data": {
      "text/plain": [
       "GridSearchCV(cv=5, error_score=nan,\n",
       "             estimator=SVC(C=1.0, break_ties=False, cache_size=200,\n",
       "                           class_weight=None, coef0=0.0,\n",
       "                           decision_function_shape='ovr', degree=3,\n",
       "                           gamma='scale', kernel='poly', max_iter=-1,\n",
       "                           probability=False, random_state=None, shrinking=True,\n",
       "                           tol=0.001, verbose=False),\n",
       "             iid='deprecated', n_jobs=None,\n",
       "             param_grid={'C': [0.1, 1, 10, 100, 1000],\n",
       "                         'gamma': [0.0001, 0.0005, 0.001, 0.005, 0.01, 0.05,\n",
       "                                   0.1, 0.5]},\n",
       "             pre_dispatch='2*n_jobs', refit=True, return_train_score=False,\n",
       "             scoring=None, verbose=0)"
      ]
     },
     "execution_count": 68,
     "metadata": {},
     "output_type": "execute_result"
    }
   ],
   "source": [
    "## Aplicação de Hiperparâmetros GRUPO 2\n",
    "from sklearn.model_selection import GridSearchCV\n",
    "\n",
    "param_grid = {'C': [0.1, 1, 10, 100, 1000],\n",
    "              'gamma': [0.0001, 0.0005, 0.001, 0.005, 0.01, 0.05, 0.1, 0.5]}\n",
    "\n",
    "Grid = svm.SVC \n",
    "modelo_SvmPoly2 = GridSearchCV(Grid(kernel='poly'), param_grid, cv=5)\n",
    "modelo_SvmPoly2.fit(X_train2, y_train2)"
   ]
  },
  {
   "cell_type": "code",
   "execution_count": 69,
   "metadata": {},
   "outputs": [
    {
     "data": {
      "text/plain": [
       "SVC(C=0.1, break_ties=False, cache_size=200, class_weight=None, coef0=0.0,\n",
       "    decision_function_shape='ovr', degree=3, gamma=0.5, kernel='poly',\n",
       "    max_iter=-1, probability=False, random_state=None, shrinking=True,\n",
       "    tol=0.001, verbose=False)"
      ]
     },
     "execution_count": 69,
     "metadata": {},
     "output_type": "execute_result"
    }
   ],
   "source": [
    "modelo_SvmPoly2.best_estimator_"
   ]
  },
  {
   "cell_type": "code",
   "execution_count": 70,
   "metadata": {},
   "outputs": [
    {
     "data": {
      "text/plain": [
       "SVC(C=0.1, break_ties=False, cache_size=200, class_weight=None, coef0=0.0,\n",
       "    decision_function_shape='ovr', degree=3, gamma=0.5, kernel='poly',\n",
       "    max_iter=-1, probability=False, random_state=None, shrinking=True,\n",
       "    tol=0.001, verbose=False)"
      ]
     },
     "execution_count": 70,
     "metadata": {},
     "output_type": "execute_result"
    }
   ],
   "source": [
    "#SVM polinomial aplicado\n",
    "\n",
    "modelo_SvmPoly2 = svm.SVC(C=0.1, break_ties=False, cache_size=200, class_weight=None, coef0=0.0,\n",
    "    decision_function_shape='ovr', degree=3, gamma=0.5, kernel='poly',\n",
    "    max_iter=-1, probability=False, random_state=None, shrinking=True,\n",
    "    tol=0.001, verbose=False)\n",
    "\n",
    "modelo_SvmPoly2.fit(X_train2, y_train2)"
   ]
  },
  {
   "cell_type": "code",
   "execution_count": 71,
   "metadata": {},
   "outputs": [],
   "source": [
    "y_pred2 = modelo_SvmPoly2.predict(X_test2)"
   ]
  },
  {
   "cell_type": "code",
   "execution_count": 72,
   "metadata": {},
   "outputs": [
    {
     "data": {
      "text/plain": [
       "array([0, 0, 0, 0, 0, 0, 0, 0, 0, 0, 0, 0, 0, 0, 0, 0, 0, 0, 0, 0, 0, 0,\n",
       "       0, 0, 0, 0, 1, 1, 1, 1, 1, 1, 1, 1, 1, 1, 1, 1, 1, 1, 1, 1, 1, 1,\n",
       "       1, 1, 1, 1, 1, 1, 1, 1, 0, 0, 0, 0, 0, 0, 0, 0, 0, 0, 0, 0, 0, 0,\n",
       "       0, 0, 0, 0, 0, 0, 0, 0, 0, 0, 0, 0, 1, 1, 1, 1, 1, 1, 1, 1, 1, 1,\n",
       "       1, 1, 1, 1, 1, 1, 1, 1, 1, 1, 1, 1, 1, 1, 1, 1, 0, 0, 0, 0, 0, 0,\n",
       "       0, 0, 0, 0, 0, 0, 0, 0, 0, 0, 0, 0, 0, 0, 0, 0, 0, 0, 0, 0, 1, 1,\n",
       "       1, 1, 1, 1, 1, 1, 1, 1, 1, 1, 1, 1, 1, 1, 1, 1, 1, 1, 1, 1, 1, 1,\n",
       "       1, 1, 0, 0, 0, 0, 0, 0, 0, 0, 0, 0, 0, 0, 0, 0, 0, 0, 0, 0, 0, 0,\n",
       "       0, 0, 0, 0, 0, 0, 1, 1, 1, 1, 1, 1, 1, 1, 1, 1, 1, 1, 1, 1, 1, 1,\n",
       "       1, 1, 1, 1, 1, 1, 1, 1, 1, 1, 0, 0, 0, 0, 0, 0, 0, 0, 0, 0, 0, 0,\n",
       "       0, 0, 0, 0, 0, 0, 0, 0, 0, 0, 0, 0, 0, 0, 1, 1, 1, 1, 1, 1, 1, 1,\n",
       "       1, 1, 1, 1, 1, 1, 1, 1, 1, 1, 1, 1, 1, 1, 1, 1, 1, 1, 0, 0, 0, 0,\n",
       "       0, 0, 0, 0, 0, 0, 0, 0, 0, 0, 0, 0, 0, 0, 0, 0, 0, 0, 0, 0, 0, 0,\n",
       "       1, 1, 1, 1, 1, 1, 1, 1, 1, 1, 1, 1, 1, 1, 1, 1, 1, 1, 1, 1, 1, 1,\n",
       "       1, 1, 1, 1, 0, 0, 0, 0, 0, 0, 0, 0, 0, 0, 0, 0, 0, 0, 0, 0, 0, 0,\n",
       "       0, 0, 0, 0, 0, 0, 0, 0, 1, 1, 1, 1, 1, 1, 1, 1, 1, 1, 1, 1, 1, 1,\n",
       "       1, 1, 1, 1, 1, 1, 1, 1, 1, 1, 1, 1, 0, 0, 0, 0, 0, 0, 0, 0, 0, 0,\n",
       "       0, 0, 0, 0, 0, 0, 0, 0, 0, 0, 0, 0, 0, 0, 0, 0, 1, 1, 1, 1, 1, 1,\n",
       "       1, 1, 1, 1, 1, 1, 1, 1, 1, 1, 1, 1, 1, 1, 1, 1, 1, 1, 1, 1, 0, 0,\n",
       "       0, 0, 0, 0, 0, 0, 0, 0, 0, 0, 0, 0, 0, 0, 0, 0, 0, 0, 0, 0, 0, 0,\n",
       "       0, 0, 1, 1, 1, 1, 1, 1, 1, 1, 1, 1, 1, 1, 1, 1, 1, 1, 1, 1, 1, 1,\n",
       "       1, 1, 1, 1, 1, 1, 0, 0, 0, 0, 0, 0, 0, 0, 0, 0, 0, 0, 0, 0, 0, 0,\n",
       "       0, 0, 0, 0, 0, 0, 0, 0, 0, 0, 1, 1, 1, 1, 1, 1, 1, 1, 1, 1, 1, 1,\n",
       "       1, 1, 1, 1, 1, 1, 1, 1, 1, 1, 1, 1, 1, 1])"
      ]
     },
     "execution_count": 72,
     "metadata": {},
     "output_type": "execute_result"
    }
   ],
   "source": [
    "y_pred_modelPoly = np.append(y_pred_modelPoly, y_pred2)\n",
    "y_pred_modelPoly"
   ]
  },
  {
   "cell_type": "code",
   "execution_count": 73,
   "metadata": {},
   "outputs": [],
   "source": [
    "#---------------------------------------------"
   ]
  },
  {
   "cell_type": "code",
   "execution_count": 74,
   "metadata": {},
   "outputs": [
    {
     "data": {
      "text/plain": [
       "GridSearchCV(cv=5, error_score=nan,\n",
       "             estimator=SVC(C=1.0, break_ties=False, cache_size=200,\n",
       "                           class_weight=None, coef0=0.0,\n",
       "                           decision_function_shape='ovr', degree=3,\n",
       "                           gamma='scale', kernel='poly', max_iter=-1,\n",
       "                           probability=False, random_state=None, shrinking=True,\n",
       "                           tol=0.001, verbose=False),\n",
       "             iid='deprecated', n_jobs=None,\n",
       "             param_grid={'C': [0.1, 1, 10, 100, 1000],\n",
       "                         'gamma': [0.0001, 0.0005, 0.001, 0.005, 0.01, 0.05,\n",
       "                                   0.1, 0.5]},\n",
       "             pre_dispatch='2*n_jobs', refit=True, return_train_score=False,\n",
       "             scoring=None, verbose=0)"
      ]
     },
     "execution_count": 74,
     "metadata": {},
     "output_type": "execute_result"
    }
   ],
   "source": [
    "## Aplicação de Hiperparâmetros GRUPO 3\n",
    "from sklearn.model_selection import GridSearchCV\n",
    "\n",
    "param_grid = {'C': [0.1, 1, 10, 100, 1000],\n",
    "              'gamma': [0.0001, 0.0005, 0.001, 0.005, 0.01, 0.05, 0.1, 0.5]}\n",
    "\n",
    "Grid = svm.SVC \n",
    "modelo_SvmPoly3 = GridSearchCV(Grid(kernel='poly'), param_grid, cv=5)\n",
    "modelo_SvmPoly3.fit(X_train3, y_train3)"
   ]
  },
  {
   "cell_type": "code",
   "execution_count": 75,
   "metadata": {},
   "outputs": [
    {
     "data": {
      "text/plain": [
       "SVC(C=0.1, break_ties=False, cache_size=200, class_weight=None, coef0=0.0,\n",
       "    decision_function_shape='ovr', degree=3, gamma=0.1, kernel='poly',\n",
       "    max_iter=-1, probability=False, random_state=None, shrinking=True,\n",
       "    tol=0.001, verbose=False)"
      ]
     },
     "execution_count": 75,
     "metadata": {},
     "output_type": "execute_result"
    }
   ],
   "source": [
    "modelo_SvmPoly3.best_estimator_"
   ]
  },
  {
   "cell_type": "code",
   "execution_count": 76,
   "metadata": {},
   "outputs": [
    {
     "data": {
      "text/plain": [
       "SVC(C=0.1, break_ties=False, cache_size=200, class_weight=None, coef0=0.0,\n",
       "    decision_function_shape='ovr', degree=3, gamma=0.1, kernel='poly',\n",
       "    max_iter=-1, probability=False, random_state=None, shrinking=True,\n",
       "    tol=0.001, verbose=False)"
      ]
     },
     "execution_count": 76,
     "metadata": {},
     "output_type": "execute_result"
    }
   ],
   "source": [
    "#SVM polinomial aplicado\n",
    "\n",
    "modelo_SvmPoly3 = svm.SVC(C=0.1, break_ties=False, cache_size=200, class_weight=None, coef0=0.0,\n",
    "    decision_function_shape='ovr', degree=3, gamma=0.1, kernel='poly',\n",
    "    max_iter=-1, probability=False, random_state=None, shrinking=True,\n",
    "    tol=0.001, verbose=False)\n",
    "\n",
    "modelo_SvmPoly3.fit(X_train3, y_train3)"
   ]
  },
  {
   "cell_type": "code",
   "execution_count": 77,
   "metadata": {},
   "outputs": [],
   "source": [
    "y_pred3 = modelo_SvmPoly3.predict(X_test3)"
   ]
  },
  {
   "cell_type": "code",
   "execution_count": 78,
   "metadata": {
    "scrolled": true
   },
   "outputs": [
    {
     "data": {
      "text/plain": [
       "array([0, 0, 0, 0, 0, 0, 0, 0, 0, 0, 0, 0, 0, 0, 0, 0, 0, 0, 0, 0, 0, 0,\n",
       "       0, 0, 0, 0, 1, 1, 1, 1, 1, 1, 1, 1, 1, 1, 1, 1, 1, 1, 1, 1, 1, 1,\n",
       "       1, 1, 1, 1, 1, 1, 1, 1, 0, 0, 0, 0, 0, 0, 0, 0, 0, 0, 0, 0, 0, 0,\n",
       "       0, 0, 0, 0, 0, 0, 0, 0, 0, 0, 0, 0, 1, 1, 1, 1, 1, 1, 1, 1, 1, 1,\n",
       "       1, 1, 1, 1, 1, 1, 1, 1, 1, 1, 1, 1, 1, 1, 1, 1, 0, 0, 0, 0, 0, 0,\n",
       "       0, 0, 0, 0, 0, 0, 0, 0, 0, 0, 0, 0, 0, 0, 0, 0, 0, 0, 0, 0, 1, 1,\n",
       "       1, 1, 1, 1, 1, 1, 1, 1, 1, 1, 1, 1, 1, 1, 1, 1, 1, 1, 1, 1, 1, 1,\n",
       "       1, 1, 0, 0, 0, 0, 0, 0, 0, 0, 0, 0, 0, 0, 0, 0, 0, 0, 0, 0, 0, 0,\n",
       "       0, 0, 0, 0, 0, 0, 1, 1, 1, 1, 1, 1, 1, 1, 1, 1, 1, 1, 1, 1, 1, 1,\n",
       "       1, 1, 1, 1, 1, 1, 1, 1, 1, 1, 0, 0, 0, 0, 0, 0, 0, 0, 0, 0, 0, 0,\n",
       "       0, 0, 0, 0, 0, 0, 0, 0, 0, 0, 0, 0, 0, 0, 1, 1, 1, 1, 1, 1, 1, 1,\n",
       "       1, 1, 1, 1, 1, 1, 1, 1, 1, 1, 1, 1, 1, 1, 1, 1, 1, 1, 0, 0, 0, 0,\n",
       "       0, 0, 0, 0, 0, 0, 0, 0, 0, 0, 0, 0, 0, 0, 0, 0, 0, 0, 0, 0, 0, 0,\n",
       "       1, 1, 1, 1, 1, 1, 1, 1, 1, 1, 1, 1, 1, 1, 1, 1, 1, 1, 1, 1, 1, 1,\n",
       "       1, 1, 1, 1, 0, 0, 0, 0, 0, 0, 0, 0, 0, 0, 0, 0, 0, 0, 0, 0, 0, 0,\n",
       "       0, 0, 0, 0, 0, 0, 0, 0, 1, 1, 1, 1, 1, 1, 1, 1, 1, 1, 1, 1, 1, 1,\n",
       "       1, 1, 1, 1, 1, 1, 1, 1, 1, 1, 1, 1, 0, 0, 0, 0, 0, 0, 0, 0, 0, 0,\n",
       "       0, 0, 0, 0, 0, 0, 0, 0, 0, 0, 0, 0, 0, 0, 0, 0, 1, 1, 1, 1, 1, 1,\n",
       "       1, 1, 1, 1, 1, 1, 1, 1, 1, 1, 1, 1, 1, 1, 1, 1, 1, 1, 1, 1, 0, 0,\n",
       "       0, 0, 0, 0, 0, 0, 0, 0, 0, 0, 0, 0, 0, 0, 0, 0, 0, 0, 0, 0, 0, 0,\n",
       "       0, 0, 1, 1, 1, 1, 1, 1, 1, 1, 1, 1, 1, 1, 1, 1, 1, 1, 1, 1, 1, 1,\n",
       "       1, 1, 1, 1, 1, 1, 0, 0, 0, 0, 0, 0, 0, 0, 0, 0, 0, 0, 0, 0, 0, 0,\n",
       "       0, 0, 0, 0, 0, 0, 0, 0, 0, 0, 1, 1, 1, 1, 1, 1, 1, 1, 1, 1, 1, 1,\n",
       "       1, 1, 1, 1, 1, 1, 1, 1, 1, 1, 1, 1, 1, 1, 0, 0, 0, 0, 0, 0, 0, 0,\n",
       "       0, 0, 0, 0, 0, 0, 0, 0, 0, 0, 0, 0, 0, 0, 0, 0, 0, 0, 1, 1, 1, 1,\n",
       "       1, 1, 1, 1, 1, 1, 1, 1, 1, 1, 1, 1, 1, 1, 1, 1, 1, 1, 1, 1, 1, 1,\n",
       "       0, 0, 0, 0, 0, 0, 0, 0, 0, 0, 0, 0, 0, 0, 0, 0, 0, 0, 0, 0, 0, 0,\n",
       "       0, 0, 0, 0, 1, 1, 1, 1, 1, 1, 1, 1, 1, 1, 1, 1, 1, 1, 1, 1, 1, 1,\n",
       "       1, 1, 1, 1, 1, 1, 1, 1, 0, 0, 0, 0, 0, 0, 0, 0, 0, 0, 0, 0, 0, 0,\n",
       "       0, 0, 0, 0, 0, 0, 0, 0, 0, 0, 0, 0, 1, 1, 1, 1, 1, 1, 1, 1, 1, 1,\n",
       "       1, 1, 1, 1, 1, 1, 1, 1, 1, 1, 1, 1, 1, 1, 1, 1, 0, 0, 0, 0, 0, 0,\n",
       "       0, 0, 0, 0, 0, 0, 0, 0, 0, 0, 0, 0, 0, 0, 0, 0, 0, 0, 0, 0, 1, 1,\n",
       "       1, 1, 1, 1, 1, 1, 1, 1, 1, 1, 1, 1, 1, 1, 1, 1, 1, 1, 1, 1, 1, 1,\n",
       "       1, 1, 0, 0, 0, 0, 0, 0, 0, 0, 0, 0, 0, 0, 0, 0, 0, 0, 0, 0, 0, 0,\n",
       "       0, 0, 0, 0, 0, 0, 1, 1, 1, 1, 1, 1, 1, 1, 1, 1, 1, 1, 1, 1, 1, 1,\n",
       "       1, 1, 1, 1, 1, 1, 1, 1, 1, 1])"
      ]
     },
     "execution_count": 78,
     "metadata": {},
     "output_type": "execute_result"
    }
   ],
   "source": [
    "y_pred_modelPoly = np.append(y_pred_modelPoly, y_pred3)\n",
    "y_pred_modelPoly"
   ]
  },
  {
   "cell_type": "code",
   "execution_count": 79,
   "metadata": {},
   "outputs": [],
   "source": [
    "#---------------------------------------------"
   ]
  },
  {
   "cell_type": "code",
   "execution_count": 80,
   "metadata": {},
   "outputs": [
    {
     "data": {
      "text/plain": [
       "GridSearchCV(cv=5, error_score=nan,\n",
       "             estimator=SVC(C=1.0, break_ties=False, cache_size=200,\n",
       "                           class_weight=None, coef0=0.0,\n",
       "                           decision_function_shape='ovr', degree=3,\n",
       "                           gamma='scale', kernel='poly', max_iter=-1,\n",
       "                           probability=False, random_state=None, shrinking=True,\n",
       "                           tol=0.001, verbose=False),\n",
       "             iid='deprecated', n_jobs=None,\n",
       "             param_grid={'C': [0.1, 1, 10, 100, 1000],\n",
       "                         'gamma': [0.0001, 0.0005, 0.001, 0.005, 0.01, 0.05,\n",
       "                                   0.1, 0.5]},\n",
       "             pre_dispatch='2*n_jobs', refit=True, return_train_score=False,\n",
       "             scoring=None, verbose=0)"
      ]
     },
     "execution_count": 80,
     "metadata": {},
     "output_type": "execute_result"
    }
   ],
   "source": [
    "## Aplicação de Hiperparâmetros GRUPO 4\n",
    "from sklearn.model_selection import GridSearchCV\n",
    "\n",
    "param_grid = {'C': [0.1, 1, 10, 100, 1000],\n",
    "              'gamma': [0.0001, 0.0005, 0.001, 0.005, 0.01, 0.05, 0.1, 0.5]}\n",
    "\n",
    "Grid = svm.SVC \n",
    "modelo_SvmPoly4 = GridSearchCV(Grid(kernel='poly'), param_grid, cv=5)\n",
    "modelo_SvmPoly4.fit(X_train4, y_train4)"
   ]
  },
  {
   "cell_type": "code",
   "execution_count": 81,
   "metadata": {},
   "outputs": [
    {
     "data": {
      "text/plain": [
       "SVC(C=0.1, break_ties=False, cache_size=200, class_weight=None, coef0=0.0,\n",
       "    decision_function_shape='ovr', degree=3, gamma=0.5, kernel='poly',\n",
       "    max_iter=-1, probability=False, random_state=None, shrinking=True,\n",
       "    tol=0.001, verbose=False)"
      ]
     },
     "execution_count": 81,
     "metadata": {},
     "output_type": "execute_result"
    }
   ],
   "source": [
    "modelo_SvmPoly4.best_estimator_"
   ]
  },
  {
   "cell_type": "code",
   "execution_count": 82,
   "metadata": {},
   "outputs": [
    {
     "data": {
      "text/plain": [
       "SVC(C=0.1, break_ties=False, cache_size=200, class_weight=None, coef0=0.0,\n",
       "    decision_function_shape='ovr', degree=3, gamma=0.5, kernel='poly',\n",
       "    max_iter=-1, probability=False, random_state=None, shrinking=True,\n",
       "    tol=0.001, verbose=False)"
      ]
     },
     "execution_count": 82,
     "metadata": {},
     "output_type": "execute_result"
    }
   ],
   "source": [
    "#SVM polinomial aplicado\n",
    "\n",
    "modelo_SvmPoly4 = svm.SVC(C=0.1, break_ties=False, cache_size=200, class_weight=None, coef0=0.0,\n",
    "    decision_function_shape='ovr', degree=3, gamma=0.5, kernel='poly',\n",
    "    max_iter=-1, probability=False, random_state=None, shrinking=True,\n",
    "    tol=0.001, verbose=False)\n",
    "\n",
    "modelo_SvmPoly4.fit(X_train4, y_train4)"
   ]
  },
  {
   "cell_type": "code",
   "execution_count": 83,
   "metadata": {},
   "outputs": [],
   "source": [
    "y_pred4 = modelo_SvmPoly4.predict(X_test4)"
   ]
  },
  {
   "cell_type": "code",
   "execution_count": 84,
   "metadata": {},
   "outputs": [
    {
     "name": "stdout",
     "output_type": "stream",
     "text": [
      "1040\n"
     ]
    }
   ],
   "source": [
    "y_pred_modelPoly = np.append(y_pred_modelPoly, y_pred4)\n",
    "print(len(y_pred_modelPoly))"
   ]
  },
  {
   "cell_type": "code",
   "execution_count": 85,
   "metadata": {},
   "outputs": [],
   "source": [
    "#------------------------------------------"
   ]
  },
  {
   "cell_type": "code",
   "execution_count": 86,
   "metadata": {},
   "outputs": [
    {
     "data": {
      "text/plain": [
       "(1040,)"
      ]
     },
     "execution_count": 86,
     "metadata": {},
     "output_type": "execute_result"
    }
   ],
   "source": [
    "y_pred_modelPoly.shape"
   ]
  },
  {
   "cell_type": "code",
   "execution_count": 87,
   "metadata": {},
   "outputs": [
    {
     "name": "stdout",
     "output_type": "stream",
     "text": [
      "Acurácia com K-fold SVM POlinomial: 1.0\n"
     ]
    }
   ],
   "source": [
    "# Acurácia\n",
    "print(\"Acurácia com K-fold SVM POlinomial:\", accuracy_score(y_total, y_pred_modelPoly))"
   ]
  },
  {
   "cell_type": "code",
   "execution_count": 88,
   "metadata": {
    "id": "G72XHaTui11T",
    "outputId": "c024fbcd-9ad7-4389-f2a6-bbacf661deb8"
   },
   "outputs": [
    {
     "name": "stdout",
     "output_type": "stream",
     "text": [
      "[[520   0]\n",
      " [  0 520]]\n",
      "              precision    recall  f1-score   support\n",
      "\n",
      "           0       1.00      1.00      1.00       520\n",
      "           1       1.00      1.00      1.00       520\n",
      "\n",
      "    accuracy                           1.00      1040\n",
      "   macro avg       1.00      1.00      1.00      1040\n",
      "weighted avg       1.00      1.00      1.00      1040\n",
      "\n",
      "Acurácia Polinomial: 1.0\n"
     ]
    }
   ],
   "source": [
    "print(confusion_matrix(y_total, y_pred_modelPoly))\n",
    "print(classification_report(y_total, y_pred_modelPoly))\n",
    "print(\"Acurácia Polinomial:\", accuracy_score(y_total, y_pred_modelPoly))"
   ]
  },
  {
   "cell_type": "code",
   "execution_count": 89,
   "metadata": {
    "id": "kfBcLH-di11U"
   },
   "outputs": [],
   "source": [
    "#############################################"
   ]
  },
  {
   "cell_type": "code",
   "execution_count": 90,
   "metadata": {
    "id": "6wTHJ2OSi11V"
   },
   "outputs": [],
   "source": [
    "## MODELO SVM com Kernel RBF"
   ]
  },
  {
   "cell_type": "code",
   "execution_count": 91,
   "metadata": {},
   "outputs": [
    {
     "data": {
      "text/plain": [
       "GridSearchCV(cv=5, error_score=nan,\n",
       "             estimator=SVC(C=1.0, break_ties=False, cache_size=200,\n",
       "                           class_weight=None, coef0=0.0,\n",
       "                           decision_function_shape='ovr', degree=3,\n",
       "                           gamma='scale', kernel='rbf', max_iter=-1,\n",
       "                           probability=False, random_state=None, shrinking=True,\n",
       "                           tol=0.001, verbose=False),\n",
       "             iid='deprecated', n_jobs=None,\n",
       "             param_grid={'C': [0.1, 1, 10, 100, 1000],\n",
       "                         'gamma': [0.0001, 0.0005, 0.001, 0.005, 0.01, 0.05,\n",
       "                                   0.1, 0.5]},\n",
       "             pre_dispatch='2*n_jobs', refit=True, return_train_score=False,\n",
       "             scoring=None, verbose=0)"
      ]
     },
     "execution_count": 91,
     "metadata": {},
     "output_type": "execute_result"
    }
   ],
   "source": [
    "## Aplicação de Hiperparâmetros GRUPO 1\n",
    "from sklearn.model_selection import GridSearchCV\n",
    "\n",
    "param_grid = {'C': [0.1, 1, 10, 100, 1000],\n",
    "              'gamma': [0.0001, 0.0005, 0.001, 0.005, 0.01, 0.05, 0.1, 0.5]}\n",
    "\n",
    "Grid = svm.SVC \n",
    "modelo_SvmRBF = GridSearchCV(Grid(kernel='rbf'), param_grid, cv=5)\n",
    "modelo_SvmRBF.fit(X_train, y_train)"
   ]
  },
  {
   "cell_type": "code",
   "execution_count": 92,
   "metadata": {},
   "outputs": [
    {
     "data": {
      "text/plain": [
       "SVC(C=1, break_ties=False, cache_size=200, class_weight=None, coef0=0.0,\n",
       "    decision_function_shape='ovr', degree=3, gamma=0.001, kernel='rbf',\n",
       "    max_iter=-1, probability=False, random_state=None, shrinking=True,\n",
       "    tol=0.001, verbose=False)"
      ]
     },
     "execution_count": 92,
     "metadata": {},
     "output_type": "execute_result"
    }
   ],
   "source": [
    "modelo_SvmRBF.best_estimator_"
   ]
  },
  {
   "cell_type": "code",
   "execution_count": 93,
   "metadata": {
    "id": "wa6BO_nKi11W",
    "outputId": "201bca82-b7d8-4e8e-d5aa-82a2ca9511b2",
    "scrolled": true
   },
   "outputs": [
    {
     "data": {
      "text/plain": [
       "SVC(C=1, break_ties=False, cache_size=200, class_weight=None, coef0=0.0,\n",
       "    decision_function_shape='ovr', degree=3, gamma=0.001, kernel='rbf',\n",
       "    max_iter=-1, probability=False, random_state=None, shrinking=True,\n",
       "    tol=0.001, verbose=False)"
      ]
     },
     "execution_count": 93,
     "metadata": {},
     "output_type": "execute_result"
    }
   ],
   "source": [
    "#Gerando o modelo com kernel RBF\n",
    "\n",
    "modelo_SvmRBF = svm.SVC(C=1, break_ties=False, cache_size=200, class_weight=None, coef0=0.0,\n",
    "    decision_function_shape='ovr', degree=3, gamma=0.001, kernel='rbf',\n",
    "    max_iter=-1, probability=False, random_state=None, shrinking=True,\n",
    "    tol=0.001, verbose=False) \n",
    "\n",
    "modelo_SvmRBF.fit(X_train, y_train)"
   ]
  },
  {
   "cell_type": "code",
   "execution_count": 94,
   "metadata": {},
   "outputs": [],
   "source": [
    "y_pred_rbf = modelo_SvmRBF.predict(X_test)"
   ]
  },
  {
   "cell_type": "code",
   "execution_count": 95,
   "metadata": {},
   "outputs": [],
   "source": [
    "#-----------------------------------------"
   ]
  },
  {
   "cell_type": "code",
   "execution_count": 96,
   "metadata": {},
   "outputs": [
    {
     "data": {
      "text/plain": [
       "GridSearchCV(cv=5, error_score=nan,\n",
       "             estimator=SVC(C=1.0, break_ties=False, cache_size=200,\n",
       "                           class_weight=None, coef0=0.0,\n",
       "                           decision_function_shape='ovr', degree=3,\n",
       "                           gamma='scale', kernel='rbf', max_iter=-1,\n",
       "                           probability=False, random_state=None, shrinking=True,\n",
       "                           tol=0.001, verbose=False),\n",
       "             iid='deprecated', n_jobs=None,\n",
       "             param_grid={'C': [0.1, 1, 10, 100, 1000],\n",
       "                         'gamma': [0.0001, 0.0005, 0.001, 0.005, 0.01, 0.05,\n",
       "                                   0.1, 0.5]},\n",
       "             pre_dispatch='2*n_jobs', refit=True, return_train_score=False,\n",
       "             scoring=None, verbose=0)"
      ]
     },
     "execution_count": 96,
     "metadata": {},
     "output_type": "execute_result"
    }
   ],
   "source": [
    "## Aplicação de Hiperparâmetros GRUPO 2\n",
    "from sklearn.model_selection import GridSearchCV\n",
    "\n",
    "param_grid = {'C': [0.1, 1, 10, 100, 1000],\n",
    "              'gamma': [0.0001, 0.0005, 0.001, 0.005, 0.01, 0.05, 0.1, 0.5]}\n",
    "\n",
    "Grid = svm.SVC \n",
    "modelo_SvmRBF2 = GridSearchCV(Grid(kernel='rbf'), param_grid, cv=5)\n",
    "modelo_SvmRBF2.fit(X_train2, y_train2)"
   ]
  },
  {
   "cell_type": "code",
   "execution_count": 97,
   "metadata": {},
   "outputs": [
    {
     "data": {
      "text/plain": [
       "SVC(C=1, break_ties=False, cache_size=200, class_weight=None, coef0=0.0,\n",
       "    decision_function_shape='ovr', degree=3, gamma=0.001, kernel='rbf',\n",
       "    max_iter=-1, probability=False, random_state=None, shrinking=True,\n",
       "    tol=0.001, verbose=False)"
      ]
     },
     "execution_count": 97,
     "metadata": {},
     "output_type": "execute_result"
    }
   ],
   "source": [
    "modelo_SvmRBF2.best_estimator_"
   ]
  },
  {
   "cell_type": "code",
   "execution_count": 98,
   "metadata": {},
   "outputs": [
    {
     "data": {
      "text/plain": [
       "SVC(C=1, break_ties=False, cache_size=200, class_weight=None, coef0=0.0,\n",
       "    decision_function_shape='ovr', degree=3, gamma=0.001, kernel='rbf',\n",
       "    max_iter=-1, probability=False, random_state=None, shrinking=True,\n",
       "    tol=0.001, verbose=False)"
      ]
     },
     "execution_count": 98,
     "metadata": {},
     "output_type": "execute_result"
    }
   ],
   "source": [
    "#Gerando o modelo com kernel RBF\n",
    "\n",
    "modelo_SvmRBF2 = svm.SVC(C=1, break_ties=False, cache_size=200, class_weight=None, coef0=0.0,\n",
    "    decision_function_shape='ovr', degree=3, gamma=0.001, kernel='rbf',\n",
    "    max_iter=-1, probability=False, random_state=None, shrinking=True,\n",
    "    tol=0.001, verbose=False) \n",
    "\n",
    "modelo_SvmRBF2.fit(X_train2, y_train2)"
   ]
  },
  {
   "cell_type": "code",
   "execution_count": 99,
   "metadata": {},
   "outputs": [],
   "source": [
    "y_pred_rbf2 = modelo_SvmRBF2.predict(X_test2)"
   ]
  },
  {
   "cell_type": "code",
   "execution_count": 100,
   "metadata": {},
   "outputs": [
    {
     "data": {
      "text/plain": [
       "array([0, 0, 0, 0, 0, 0, 0, 0, 0, 0, 0, 0, 0, 0, 0, 0, 0, 0, 0, 0, 0, 0,\n",
       "       0, 0, 0, 0, 1, 1, 1, 1, 1, 1, 1, 1, 1, 1, 1, 1, 1, 1, 1, 1, 1, 1,\n",
       "       1, 1, 1, 1, 1, 1, 1, 1, 0, 0, 0, 0, 0, 0, 0, 0, 0, 0, 0, 0, 0, 0,\n",
       "       0, 0, 0, 0, 0, 0, 0, 0, 0, 0, 0, 0, 1, 1, 1, 1, 1, 1, 1, 1, 1, 1,\n",
       "       1, 1, 1, 1, 1, 1, 1, 1, 1, 1, 1, 1, 1, 1, 1, 1, 0, 0, 0, 0, 0, 0,\n",
       "       0, 0, 0, 0, 0, 0, 0, 0, 0, 0, 0, 0, 0, 0, 0, 0, 0, 0, 0, 0, 1, 1,\n",
       "       1, 1, 1, 1, 1, 1, 1, 1, 1, 1, 1, 1, 1, 1, 1, 1, 1, 1, 1, 1, 1, 1,\n",
       "       1, 1, 0, 0, 0, 0, 0, 0, 0, 0, 0, 0, 0, 0, 0, 0, 0, 0, 0, 0, 0, 0,\n",
       "       0, 0, 0, 0, 0, 0, 1, 1, 1, 1, 1, 1, 1, 1, 1, 1, 1, 1, 1, 1, 1, 1,\n",
       "       1, 1, 1, 1, 1, 1, 1, 1, 1, 1, 0, 0, 0, 0, 0, 0, 0, 0, 0, 0, 0, 0,\n",
       "       0, 0, 0, 0, 0, 0, 0, 0, 0, 0, 0, 0, 0, 0, 1, 1, 1, 1, 1, 1, 1, 1,\n",
       "       1, 1, 1, 1, 1, 1, 1, 1, 1, 1, 1, 1, 1, 1, 1, 1, 1, 1, 0, 0, 0, 0,\n",
       "       0, 0, 0, 0, 0, 0, 0, 0, 0, 0, 0, 0, 0, 0, 0, 0, 0, 0, 0, 0, 0, 0,\n",
       "       1, 1, 1, 1, 1, 1, 1, 1, 1, 1, 1, 1, 1, 1, 1, 1, 1, 1, 1, 1, 1, 1,\n",
       "       1, 1, 1, 1, 0, 0, 0, 0, 0, 0, 0, 0, 0, 0, 0, 0, 0, 0, 0, 0, 0, 0,\n",
       "       0, 0, 0, 0, 0, 0, 0, 0, 1, 1, 1, 1, 1, 1, 1, 1, 1, 1, 1, 1, 1, 1,\n",
       "       1, 1, 1, 1, 1, 1, 1, 1, 1, 1, 1, 1, 0, 0, 0, 0, 0, 0, 0, 0, 0, 0,\n",
       "       0, 0, 0, 0, 0, 0, 0, 0, 0, 0, 0, 0, 0, 0, 0, 0, 1, 1, 1, 1, 1, 1,\n",
       "       1, 1, 1, 1, 1, 1, 1, 1, 1, 1, 1, 1, 1, 1, 1, 1, 1, 1, 1, 1, 0, 0,\n",
       "       0, 0, 0, 0, 0, 0, 0, 0, 0, 0, 0, 0, 0, 0, 0, 0, 0, 0, 0, 0, 0, 0,\n",
       "       0, 0, 1, 1, 1, 1, 1, 1, 1, 1, 1, 1, 1, 1, 1, 1, 1, 1, 1, 1, 1, 1,\n",
       "       1, 1, 1, 1, 1, 1, 0, 0, 0, 0, 0, 0, 0, 0, 0, 0, 0, 0, 0, 0, 0, 0,\n",
       "       0, 0, 0, 0, 0, 0, 0, 0, 0, 0, 1, 1, 1, 1, 1, 1, 1, 1, 1, 1, 1, 1,\n",
       "       1, 1, 1, 1, 1, 1, 1, 1, 1, 1, 1, 1, 1, 1])"
      ]
     },
     "execution_count": 100,
     "metadata": {},
     "output_type": "execute_result"
    }
   ],
   "source": [
    "y_pred_rbf = np.append(y_pred_rbf, y_pred_rbf2)\n",
    "y_pred_rbf"
   ]
  },
  {
   "cell_type": "code",
   "execution_count": 101,
   "metadata": {},
   "outputs": [],
   "source": [
    "#----------------------------------------------------------"
   ]
  },
  {
   "cell_type": "code",
   "execution_count": 102,
   "metadata": {},
   "outputs": [
    {
     "data": {
      "text/plain": [
       "GridSearchCV(cv=5, error_score=nan,\n",
       "             estimator=SVC(C=1.0, break_ties=False, cache_size=200,\n",
       "                           class_weight=None, coef0=0.0,\n",
       "                           decision_function_shape='ovr', degree=3,\n",
       "                           gamma='scale', kernel='rbf', max_iter=-1,\n",
       "                           probability=False, random_state=None, shrinking=True,\n",
       "                           tol=0.001, verbose=False),\n",
       "             iid='deprecated', n_jobs=None,\n",
       "             param_grid={'C': [0.1, 1, 10, 100, 1000],\n",
       "                         'gamma': [0.0001, 0.0005, 0.001, 0.005, 0.01, 0.05,\n",
       "                                   0.1, 0.5]},\n",
       "             pre_dispatch='2*n_jobs', refit=True, return_train_score=False,\n",
       "             scoring=None, verbose=0)"
      ]
     },
     "execution_count": 102,
     "metadata": {},
     "output_type": "execute_result"
    }
   ],
   "source": [
    "## Aplicação de Hiperparâmetros GRUPO 3\n",
    "from sklearn.model_selection import GridSearchCV\n",
    "\n",
    "param_grid = {'C': [0.1, 1, 10, 100, 1000],\n",
    "              'gamma': [0.0001, 0.0005, 0.001, 0.005, 0.01, 0.05, 0.1, 0.5]}\n",
    "\n",
    "Grid = svm.SVC \n",
    "modelo_SvmRBF3 = GridSearchCV(Grid(kernel='rbf'), param_grid, cv=5)\n",
    "modelo_SvmRBF3.fit(X_train3, y_train3)"
   ]
  },
  {
   "cell_type": "code",
   "execution_count": 103,
   "metadata": {
    "scrolled": true
   },
   "outputs": [
    {
     "data": {
      "text/plain": [
       "SVC(C=1, break_ties=False, cache_size=200, class_weight=None, coef0=0.0,\n",
       "    decision_function_shape='ovr', degree=3, gamma=0.001, kernel='rbf',\n",
       "    max_iter=-1, probability=False, random_state=None, shrinking=True,\n",
       "    tol=0.001, verbose=False)"
      ]
     },
     "execution_count": 103,
     "metadata": {},
     "output_type": "execute_result"
    }
   ],
   "source": [
    "modelo_SvmRBF3.best_estimator_"
   ]
  },
  {
   "cell_type": "code",
   "execution_count": 104,
   "metadata": {},
   "outputs": [
    {
     "data": {
      "text/plain": [
       "SVC(C=1, break_ties=False, cache_size=200, class_weight=None, coef0=0.0,\n",
       "    decision_function_shape='ovr', degree=3, gamma=0.001, kernel='rbf',\n",
       "    max_iter=-1, probability=False, random_state=None, shrinking=True,\n",
       "    tol=0.001, verbose=False)"
      ]
     },
     "execution_count": 104,
     "metadata": {},
     "output_type": "execute_result"
    }
   ],
   "source": [
    "#Gerando o modelo com kernel RBF\n",
    "\n",
    "modelo_SvmRBF3 = svm.SVC(C=1, break_ties=False, cache_size=200, class_weight=None, coef0=0.0,\n",
    "    decision_function_shape='ovr', degree=3, gamma=0.001, kernel='rbf',\n",
    "    max_iter=-1, probability=False, random_state=None, shrinking=True,\n",
    "    tol=0.001, verbose=False) \n",
    "\n",
    "modelo_SvmRBF3.fit(X_train3, y_train3)"
   ]
  },
  {
   "cell_type": "code",
   "execution_count": 105,
   "metadata": {},
   "outputs": [],
   "source": [
    "y_pred_rbf3 = modelo_SvmRBF3.predict(X_test3)"
   ]
  },
  {
   "cell_type": "code",
   "execution_count": 106,
   "metadata": {},
   "outputs": [
    {
     "data": {
      "text/plain": [
       "array([0, 0, 0, 0, 0, 0, 0, 0, 0, 0, 0, 0, 0, 0, 0, 0, 0, 0, 0, 0, 0, 0,\n",
       "       0, 0, 0, 0, 1, 1, 1, 1, 1, 1, 1, 1, 1, 1, 1, 1, 1, 1, 1, 1, 1, 1,\n",
       "       1, 1, 1, 1, 1, 1, 1, 1, 0, 0, 0, 0, 0, 0, 0, 0, 0, 0, 0, 0, 0, 0,\n",
       "       0, 0, 0, 0, 0, 0, 0, 0, 0, 0, 0, 0, 1, 1, 1, 1, 1, 1, 1, 1, 1, 1,\n",
       "       1, 1, 1, 1, 1, 1, 1, 1, 1, 1, 1, 1, 1, 1, 1, 1, 0, 0, 0, 0, 0, 0,\n",
       "       0, 0, 0, 0, 0, 0, 0, 0, 0, 0, 0, 0, 0, 0, 0, 0, 0, 0, 0, 0, 1, 1,\n",
       "       1, 1, 1, 1, 1, 1, 1, 1, 1, 1, 1, 1, 1, 1, 1, 1, 1, 1, 1, 1, 1, 1,\n",
       "       1, 1, 0, 0, 0, 0, 0, 0, 0, 0, 0, 0, 0, 0, 0, 0, 0, 0, 0, 0, 0, 0,\n",
       "       0, 0, 0, 0, 0, 0, 1, 1, 1, 1, 1, 1, 1, 1, 1, 1, 1, 1, 1, 1, 1, 1,\n",
       "       1, 1, 1, 1, 1, 1, 1, 1, 1, 1, 0, 0, 0, 0, 0, 0, 0, 0, 0, 0, 0, 0,\n",
       "       0, 0, 0, 0, 0, 0, 0, 0, 0, 0, 0, 0, 0, 0, 1, 1, 1, 1, 1, 1, 1, 1,\n",
       "       1, 1, 1, 1, 1, 1, 1, 1, 1, 1, 1, 1, 1, 1, 1, 1, 1, 1, 0, 0, 0, 0,\n",
       "       0, 0, 0, 0, 0, 0, 0, 0, 0, 0, 0, 0, 0, 0, 0, 0, 0, 0, 0, 0, 0, 0,\n",
       "       1, 1, 1, 1, 1, 1, 1, 1, 1, 1, 1, 1, 1, 1, 1, 1, 1, 1, 1, 1, 1, 1,\n",
       "       1, 1, 1, 1, 0, 0, 0, 0, 0, 0, 0, 0, 0, 0, 0, 0, 0, 0, 0, 0, 0, 0,\n",
       "       0, 0, 0, 0, 0, 0, 0, 0, 1, 1, 1, 1, 1, 1, 1, 1, 1, 1, 1, 1, 1, 1,\n",
       "       1, 1, 1, 1, 1, 1, 1, 1, 1, 1, 1, 1, 0, 0, 0, 0, 0, 0, 0, 0, 0, 0,\n",
       "       0, 0, 0, 0, 0, 0, 0, 0, 0, 0, 0, 0, 0, 0, 0, 0, 1, 1, 1, 1, 1, 1,\n",
       "       1, 1, 1, 1, 1, 1, 1, 1, 1, 1, 1, 1, 1, 1, 1, 1, 1, 1, 1, 1, 0, 0,\n",
       "       0, 0, 0, 0, 0, 0, 0, 0, 0, 0, 0, 0, 0, 0, 0, 0, 0, 0, 0, 0, 0, 0,\n",
       "       0, 0, 1, 1, 1, 1, 1, 1, 1, 1, 1, 1, 1, 1, 1, 1, 1, 1, 1, 1, 1, 1,\n",
       "       1, 1, 1, 1, 1, 1, 0, 0, 0, 0, 0, 0, 0, 0, 0, 0, 0, 0, 0, 0, 0, 0,\n",
       "       0, 0, 0, 0, 0, 0, 0, 0, 0, 0, 1, 1, 1, 1, 1, 1, 1, 1, 1, 1, 1, 1,\n",
       "       1, 1, 1, 1, 1, 1, 1, 1, 1, 1, 1, 1, 1, 1, 0, 0, 0, 0, 0, 0, 0, 0,\n",
       "       0, 0, 0, 0, 0, 0, 0, 0, 0, 0, 0, 0, 0, 0, 0, 0, 0, 0, 1, 1, 1, 1,\n",
       "       1, 1, 1, 1, 1, 1, 1, 1, 1, 1, 1, 1, 1, 1, 1, 1, 1, 1, 1, 1, 1, 1,\n",
       "       0, 0, 0, 0, 0, 0, 0, 0, 0, 0, 0, 0, 0, 0, 0, 0, 0, 0, 0, 0, 0, 0,\n",
       "       0, 0, 0, 0, 1, 1, 1, 1, 1, 1, 1, 1, 1, 1, 1, 1, 1, 1, 1, 1, 1, 1,\n",
       "       1, 1, 1, 1, 1, 1, 1, 1, 0, 0, 0, 0, 0, 0, 0, 0, 0, 0, 0, 0, 0, 0,\n",
       "       0, 0, 0, 0, 0, 0, 0, 0, 0, 0, 0, 0, 1, 1, 1, 1, 1, 1, 1, 1, 1, 1,\n",
       "       1, 1, 1, 1, 1, 1, 1, 1, 1, 1, 1, 1, 1, 1, 1, 1, 0, 0, 0, 0, 0, 0,\n",
       "       0, 0, 0, 0, 0, 0, 0, 0, 0, 0, 0, 0, 0, 0, 0, 0, 0, 0, 0, 0, 1, 1,\n",
       "       1, 1, 1, 1, 1, 1, 1, 1, 1, 1, 1, 1, 1, 1, 1, 1, 1, 1, 1, 1, 1, 1,\n",
       "       1, 1, 0, 0, 0, 0, 0, 0, 0, 0, 0, 0, 0, 0, 0, 0, 0, 0, 0, 0, 0, 0,\n",
       "       0, 0, 0, 0, 0, 0, 1, 1, 1, 1, 1, 1, 1, 1, 1, 1, 1, 1, 1, 1, 1, 1,\n",
       "       1, 1, 1, 1, 1, 1, 1, 1, 1, 1])"
      ]
     },
     "execution_count": 106,
     "metadata": {},
     "output_type": "execute_result"
    }
   ],
   "source": [
    "y_pred_rbf = np.append(y_pred_rbf, y_pred_rbf3)\n",
    "y_pred_rbf"
   ]
  },
  {
   "cell_type": "code",
   "execution_count": 107,
   "metadata": {},
   "outputs": [],
   "source": [
    "#--------------------------------------------"
   ]
  },
  {
   "cell_type": "code",
   "execution_count": 108,
   "metadata": {},
   "outputs": [
    {
     "data": {
      "text/plain": [
       "GridSearchCV(cv=5, error_score=nan,\n",
       "             estimator=SVC(C=1.0, break_ties=False, cache_size=200,\n",
       "                           class_weight=None, coef0=0.0,\n",
       "                           decision_function_shape='ovr', degree=3,\n",
       "                           gamma='scale', kernel='rbf', max_iter=-1,\n",
       "                           probability=False, random_state=None, shrinking=True,\n",
       "                           tol=0.001, verbose=False),\n",
       "             iid='deprecated', n_jobs=None,\n",
       "             param_grid={'C': [0.1, 1, 10, 100, 1000],\n",
       "                         'gamma': [0.0001, 0.0005, 0.001, 0.005, 0.01, 0.05,\n",
       "                                   0.1, 0.5]},\n",
       "             pre_dispatch='2*n_jobs', refit=True, return_train_score=False,\n",
       "             scoring=None, verbose=0)"
      ]
     },
     "execution_count": 108,
     "metadata": {},
     "output_type": "execute_result"
    }
   ],
   "source": [
    "## Aplicação de Hiperparâmetros GRUPO 4\n",
    "from sklearn.model_selection import GridSearchCV\n",
    "\n",
    "param_grid = {'C': [0.1, 1, 10, 100, 1000],\n",
    "              'gamma': [0.0001, 0.0005, 0.001, 0.005, 0.01, 0.05, 0.1, 0.5]}\n",
    "\n",
    "Grid = svm.SVC \n",
    "modelo_SvmRBF4 = GridSearchCV(Grid(kernel='rbf'), param_grid, cv=5)\n",
    "modelo_SvmRBF4.fit(X_train4, y_train4)"
   ]
  },
  {
   "cell_type": "code",
   "execution_count": 109,
   "metadata": {},
   "outputs": [
    {
     "data": {
      "text/plain": [
       "SVC(C=1, break_ties=False, cache_size=200, class_weight=None, coef0=0.0,\n",
       "    decision_function_shape='ovr', degree=3, gamma=0.001, kernel='rbf',\n",
       "    max_iter=-1, probability=False, random_state=None, shrinking=True,\n",
       "    tol=0.001, verbose=False)"
      ]
     },
     "execution_count": 109,
     "metadata": {},
     "output_type": "execute_result"
    }
   ],
   "source": [
    "modelo_SvmRBF4.best_estimator_"
   ]
  },
  {
   "cell_type": "code",
   "execution_count": 110,
   "metadata": {},
   "outputs": [
    {
     "data": {
      "text/plain": [
       "SVC(C=1, break_ties=False, cache_size=200, class_weight=None, coef0=0.0,\n",
       "    decision_function_shape='ovr', degree=3, gamma=0.001, kernel='rbf',\n",
       "    max_iter=-1, probability=False, random_state=None, shrinking=True,\n",
       "    tol=0.001, verbose=False)"
      ]
     },
     "execution_count": 110,
     "metadata": {},
     "output_type": "execute_result"
    }
   ],
   "source": [
    "#Gerando o modelo com kernel RBF\n",
    "\n",
    "modelo_SvmRBF4 = svm.SVC(C=1, break_ties=False, cache_size=200, class_weight=None, coef0=0.0,\n",
    "    decision_function_shape='ovr', degree=3, gamma=0.001, kernel='rbf',\n",
    "    max_iter=-1, probability=False, random_state=None, shrinking=True,\n",
    "    tol=0.001, verbose=False) \n",
    "\n",
    "modelo_SvmRBF4.fit(X_train4, y_train4)"
   ]
  },
  {
   "cell_type": "code",
   "execution_count": 111,
   "metadata": {},
   "outputs": [],
   "source": [
    "y_pred_rbf4 = modelo_SvmRBF4.predict(X_test4)"
   ]
  },
  {
   "cell_type": "code",
   "execution_count": 112,
   "metadata": {},
   "outputs": [
    {
     "data": {
      "text/plain": [
       "array([0, 0, 0, ..., 1, 1, 1])"
      ]
     },
     "execution_count": 112,
     "metadata": {},
     "output_type": "execute_result"
    }
   ],
   "source": [
    "y_pred_rbf = np.append(y_pred_rbf, y_pred_rbf4)\n",
    "y_pred_rbf"
   ]
  },
  {
   "cell_type": "code",
   "execution_count": 113,
   "metadata": {},
   "outputs": [],
   "source": [
    "#------------------------------------------------"
   ]
  },
  {
   "cell_type": "code",
   "execution_count": 114,
   "metadata": {},
   "outputs": [
    {
     "data": {
      "text/plain": [
       "(1040,)"
      ]
     },
     "execution_count": 114,
     "metadata": {},
     "output_type": "execute_result"
    }
   ],
   "source": [
    "y_pred_rbf.shape"
   ]
  },
  {
   "cell_type": "code",
   "execution_count": 115,
   "metadata": {
    "id": "V2PHUChwi11Y",
    "outputId": "9dc800bb-56fc-4fb1-d8e8-80625728457d"
   },
   "outputs": [
    {
     "name": "stdout",
     "output_type": "stream",
     "text": [
      "Acurácia K-fold SVM RBF 1.0\n"
     ]
    }
   ],
   "source": [
    "# Acurácia SVM RBF\n",
    "print(\"Acurácia K-fold SVM RBF\", accuracy_score(y_total, y_pred_rbf))"
   ]
  },
  {
   "cell_type": "code",
   "execution_count": 116,
   "metadata": {
    "id": "6glBng_bi11a",
    "outputId": "845c6b47-d6a7-42e6-eab6-70abdc41fd29"
   },
   "outputs": [
    {
     "name": "stdout",
     "output_type": "stream",
     "text": [
      "[[520   0]\n",
      " [  0 520]]\n",
      "              precision    recall  f1-score   support\n",
      "\n",
      "           0       1.00      1.00      1.00       520\n",
      "           1       1.00      1.00      1.00       520\n",
      "\n",
      "    accuracy                           1.00      1040\n",
      "   macro avg       1.00      1.00      1.00      1040\n",
      "weighted avg       1.00      1.00      1.00      1040\n",
      "\n",
      "Acurácia RBF: 1.0\n"
     ]
    }
   ],
   "source": [
    "# Avaliação do modelo\n",
    "\n",
    "print(confusion_matrix(y_total,y_pred_rbf))\n",
    "print(classification_report(y_total,y_pred_rbf))  \n",
    "print(\"Acurácia RBF:\", accuracy_score(y_total, y_pred_rbf))"
   ]
  },
  {
   "cell_type": "code",
   "execution_count": 117,
   "metadata": {},
   "outputs": [],
   "source": [
    "#############################################\n",
    "#Aplicação do KNN\n",
    "from sklearn.neighbors import KNeighborsClassifier"
   ]
  },
  {
   "cell_type": "code",
   "execution_count": 118,
   "metadata": {},
   "outputs": [
    {
     "data": {
      "text/plain": [
       "GridSearchCV(cv=10, error_score=nan,\n",
       "             estimator=KNeighborsClassifier(algorithm='auto', leaf_size=30,\n",
       "                                            metric='minkowski',\n",
       "                                            metric_params=None, n_jobs=None,\n",
       "                                            n_neighbors=5, p=2,\n",
       "                                            weights='uniform'),\n",
       "             iid='deprecated', n_jobs=None,\n",
       "             param_grid={'n_neighbors': [1, 2, 3, 4, 5, 6, 7, 8, 9, 10, 11, 12,\n",
       "                                         13, 14, 15, 16, 17, 18, 19, 20, 21, 22,\n",
       "                                         23, 24, 25, 26, 27, 28, 29, 30]},\n",
       "             pre_dispatch='2*n_jobs', refit=True, return_train_score=False,\n",
       "             scoring='accuracy', verbose=0)"
      ]
     },
     "execution_count": 118,
     "metadata": {},
     "output_type": "execute_result"
    }
   ],
   "source": [
    "## Aplicação de Hiperparâmetros GRUPO 1\n",
    "from sklearn.model_selection import GridSearchCV\n",
    "\n",
    "knn = KNeighborsClassifier()\n",
    "\n",
    "k_range = list(range(1, 31))\n",
    "\n",
    "param_grid = dict(n_neighbors=k_range)\n",
    "\n",
    "model_KNN = GridSearchCV(knn, param_grid, cv=10, scoring='accuracy')\n",
    "model_KNN.fit(X_train, y_train)"
   ]
  },
  {
   "cell_type": "code",
   "execution_count": 119,
   "metadata": {
    "scrolled": true
   },
   "outputs": [
    {
     "data": {
      "text/plain": [
       "KNeighborsClassifier(algorithm='auto', leaf_size=30, metric='minkowski',\n",
       "                     metric_params=None, n_jobs=None, n_neighbors=10, p=2,\n",
       "                     weights='uniform')"
      ]
     },
     "execution_count": 119,
     "metadata": {},
     "output_type": "execute_result"
    }
   ],
   "source": [
    "model_KNN.best_estimator_"
   ]
  },
  {
   "cell_type": "code",
   "execution_count": 120,
   "metadata": {},
   "outputs": [
    {
     "data": {
      "text/plain": [
       "KNeighborsClassifier(algorithm='auto', leaf_size=30, metric='minkowski',\n",
       "                     metric_params=None, n_jobs=None, n_neighbors=10, p=2,\n",
       "                     weights='uniform')"
      ]
     },
     "execution_count": 120,
     "metadata": {},
     "output_type": "execute_result"
    }
   ],
   "source": [
    "model_KNN = KNeighborsClassifier(algorithm='auto', leaf_size=30, metric='minkowski',\n",
    "                     metric_params=None, n_jobs=None, n_neighbors=10, p=2,\n",
    "                     weights='uniform')\n",
    "model_KNN.fit(X_train, y_train)"
   ]
  },
  {
   "cell_type": "code",
   "execution_count": 121,
   "metadata": {},
   "outputs": [],
   "source": [
    "y_pred_knn = model_KNN.predict(X_test)"
   ]
  },
  {
   "cell_type": "code",
   "execution_count": 122,
   "metadata": {},
   "outputs": [],
   "source": [
    "#------------------------------------------"
   ]
  },
  {
   "cell_type": "code",
   "execution_count": 123,
   "metadata": {},
   "outputs": [
    {
     "data": {
      "text/plain": [
       "GridSearchCV(cv=10, error_score=nan,\n",
       "             estimator=KNeighborsClassifier(algorithm='auto', leaf_size=30,\n",
       "                                            metric='minkowski',\n",
       "                                            metric_params=None, n_jobs=None,\n",
       "                                            n_neighbors=5, p=2,\n",
       "                                            weights='uniform'),\n",
       "             iid='deprecated', n_jobs=None,\n",
       "             param_grid={'n_neighbors': [1, 2, 3, 4, 5, 6, 7, 8, 9, 10, 11, 12,\n",
       "                                         13, 14, 15, 16, 17, 18, 19, 20, 21, 22,\n",
       "                                         23, 24, 25, 26, 27, 28, 29, 30]},\n",
       "             pre_dispatch='2*n_jobs', refit=True, return_train_score=False,\n",
       "             scoring='accuracy', verbose=0)"
      ]
     },
     "execution_count": 123,
     "metadata": {},
     "output_type": "execute_result"
    }
   ],
   "source": [
    "## Aplicação de Hiperparâmetros GRUPO 2\n",
    "from sklearn.model_selection import GridSearchCV\n",
    "\n",
    "k_range = list(range(1, 31))\n",
    "\n",
    "param_grid = dict(n_neighbors=k_range)\n",
    "\n",
    "model_KNN2 = GridSearchCV(knn, param_grid, cv=10, scoring='accuracy')\n",
    "model_KNN2.fit(X_train2, y_train2)"
   ]
  },
  {
   "cell_type": "code",
   "execution_count": 124,
   "metadata": {},
   "outputs": [
    {
     "data": {
      "text/plain": [
       "KNeighborsClassifier(algorithm='auto', leaf_size=30, metric='minkowski',\n",
       "                     metric_params=None, n_jobs=None, n_neighbors=26, p=2,\n",
       "                     weights='uniform')"
      ]
     },
     "execution_count": 124,
     "metadata": {},
     "output_type": "execute_result"
    }
   ],
   "source": [
    "model_KNN2.best_estimator_"
   ]
  },
  {
   "cell_type": "code",
   "execution_count": 125,
   "metadata": {},
   "outputs": [
    {
     "data": {
      "text/plain": [
       "KNeighborsClassifier(algorithm='auto', leaf_size=30, metric='minkowski',\n",
       "                     metric_params=None, n_jobs=None, n_neighbors=26, p=2,\n",
       "                     weights='uniform')"
      ]
     },
     "execution_count": 125,
     "metadata": {},
     "output_type": "execute_result"
    }
   ],
   "source": [
    "model_KNN2 = KNeighborsClassifier(algorithm='auto', leaf_size=30, metric='minkowski',\n",
    "                     metric_params=None, n_jobs=None, n_neighbors=26, p=2,\n",
    "                     weights='uniform')\n",
    "model_KNN2.fit(X_train2, y_train2)"
   ]
  },
  {
   "cell_type": "code",
   "execution_count": 126,
   "metadata": {},
   "outputs": [],
   "source": [
    "y_pred_knn2 = model_KNN2.predict(X_test2)"
   ]
  },
  {
   "cell_type": "code",
   "execution_count": 127,
   "metadata": {},
   "outputs": [
    {
     "data": {
      "text/plain": [
       "array([0, 1, 0, 0, 1, 0, 0, 0, 0, 0, 0, 0, 0, 0, 0, 0, 0, 1, 0, 0, 0, 0,\n",
       "       0, 0, 1, 0, 1, 1, 1, 1, 1, 1, 1, 1, 1, 1, 1, 1, 1, 1, 1, 1, 1, 1,\n",
       "       1, 1, 1, 1, 1, 1, 1, 1, 0, 0, 0, 0, 0, 0, 0, 0, 1, 0, 0, 0, 0, 0,\n",
       "       0, 0, 0, 0, 0, 0, 0, 0, 0, 0, 0, 0, 1, 1, 1, 1, 1, 1, 1, 1, 1, 1,\n",
       "       1, 1, 1, 1, 1, 1, 1, 1, 1, 1, 1, 1, 1, 1, 1, 1, 0, 0, 0, 0, 0, 0,\n",
       "       0, 0, 0, 0, 0, 0, 0, 0, 0, 1, 0, 0, 0, 0, 1, 0, 0, 0, 0, 0, 1, 1,\n",
       "       1, 1, 1, 1, 1, 1, 1, 1, 1, 1, 1, 1, 1, 1, 1, 0, 1, 1, 1, 0, 0, 1,\n",
       "       1, 0, 0, 0, 0, 0, 0, 0, 0, 0, 0, 0, 1, 0, 0, 0, 0, 0, 0, 0, 0, 0,\n",
       "       0, 0, 0, 0, 0, 0, 0, 0, 0, 1, 1, 0, 1, 1, 1, 1, 1, 1, 1, 1, 0, 1,\n",
       "       1, 1, 1, 1, 0, 1, 0, 0, 1, 1, 0, 0, 0, 0, 1, 1, 0, 0, 0, 0, 1, 0,\n",
       "       0, 1, 0, 0, 0, 0, 0, 0, 0, 1, 1, 0, 0, 0, 1, 1, 1, 1, 1, 1, 1, 1,\n",
       "       1, 1, 1, 1, 1, 1, 1, 1, 1, 1, 1, 1, 1, 1, 1, 1, 1, 0, 0, 0, 0, 0,\n",
       "       0, 0, 0, 0, 0, 0, 0, 0, 0, 0, 0, 0, 0, 0, 0, 0, 0, 0, 0, 0, 0, 0,\n",
       "       1, 0, 1, 1, 1, 1, 1, 1, 1, 1, 1, 1, 1, 1, 1, 1, 1, 1, 1, 1, 1, 1,\n",
       "       1, 1, 1, 1, 0, 0, 0, 0, 0, 0, 0, 0, 0, 0, 0, 0, 0, 0, 0, 0, 0, 0,\n",
       "       0, 0, 0, 0, 0, 0, 0, 0, 1, 1, 1, 1, 1, 1, 1, 1, 1, 1, 1, 1, 1, 1,\n",
       "       1, 1, 1, 1, 1, 1, 1, 1, 1, 1, 1, 1, 1, 1, 0, 0, 0, 0, 0, 0, 1, 1,\n",
       "       1, 0, 0, 0, 0, 0, 0, 0, 0, 0, 0, 1, 0, 0, 0, 0, 1, 0, 1, 1, 1, 1,\n",
       "       1, 1, 1, 1, 1, 1, 1, 1, 1, 1, 1, 1, 1, 1, 1, 1, 1, 1, 1, 1, 1, 0,\n",
       "       1, 0, 0, 1, 0, 0, 0, 0, 0, 0, 0, 0, 0, 0, 0, 0, 0, 0, 0, 0, 0, 0,\n",
       "       0, 0, 1, 1, 0, 1, 1, 1, 1, 1, 1, 1, 1, 1, 1, 1, 1, 1, 1, 1, 1, 1,\n",
       "       1, 1, 1, 1, 1, 1, 0, 0, 0, 0, 0, 0, 0, 0, 0, 0, 0, 0, 0, 0, 0, 1,\n",
       "       0, 0, 0, 0, 0, 0, 0, 0, 0, 0, 1, 1, 1, 1, 1, 1, 1, 1, 1, 1, 1, 1,\n",
       "       1, 0, 1, 0, 0, 0, 1, 1, 1, 0, 0, 1, 1, 0])"
      ]
     },
     "execution_count": 127,
     "metadata": {},
     "output_type": "execute_result"
    }
   ],
   "source": [
    "y_pred_knn = np.append(y_pred_knn, y_pred_knn2)\n",
    "y_pred_knn"
   ]
  },
  {
   "cell_type": "code",
   "execution_count": 128,
   "metadata": {},
   "outputs": [],
   "source": [
    "#--------------------------------------------"
   ]
  },
  {
   "cell_type": "code",
   "execution_count": 129,
   "metadata": {},
   "outputs": [
    {
     "data": {
      "text/plain": [
       "GridSearchCV(cv=10, error_score=nan,\n",
       "             estimator=KNeighborsClassifier(algorithm='auto', leaf_size=30,\n",
       "                                            metric='minkowski',\n",
       "                                            metric_params=None, n_jobs=None,\n",
       "                                            n_neighbors=5, p=2,\n",
       "                                            weights='uniform'),\n",
       "             iid='deprecated', n_jobs=None,\n",
       "             param_grid={'n_neighbors': [1, 2, 3, 4, 5, 6, 7, 8, 9, 10, 11, 12,\n",
       "                                         13, 14, 15, 16, 17, 18, 19, 20, 21, 22,\n",
       "                                         23, 24, 25, 26, 27, 28, 29, 30]},\n",
       "             pre_dispatch='2*n_jobs', refit=True, return_train_score=False,\n",
       "             scoring='accuracy', verbose=0)"
      ]
     },
     "execution_count": 129,
     "metadata": {},
     "output_type": "execute_result"
    }
   ],
   "source": [
    "## Aplicação de Hiperparâmetros GRUPO 3\n",
    "from sklearn.model_selection import GridSearchCV\n",
    "\n",
    "k_range = list(range(1, 31))\n",
    "\n",
    "param_grid = dict(n_neighbors=k_range)\n",
    "\n",
    "model_KNN3 = GridSearchCV(knn, param_grid, cv=10, scoring='accuracy')\n",
    "model_KNN3.fit(X_train3, y_train3)"
   ]
  },
  {
   "cell_type": "code",
   "execution_count": 130,
   "metadata": {},
   "outputs": [
    {
     "data": {
      "text/plain": [
       "KNeighborsClassifier(algorithm='auto', leaf_size=30, metric='minkowski',\n",
       "                     metric_params=None, n_jobs=None, n_neighbors=19, p=2,\n",
       "                     weights='uniform')"
      ]
     },
     "execution_count": 130,
     "metadata": {},
     "output_type": "execute_result"
    }
   ],
   "source": [
    "model_KNN3.best_estimator_"
   ]
  },
  {
   "cell_type": "code",
   "execution_count": 131,
   "metadata": {},
   "outputs": [
    {
     "data": {
      "text/plain": [
       "KNeighborsClassifier(algorithm='auto', leaf_size=30, metric='minkowski',\n",
       "                     metric_params=None, n_jobs=None, n_neighbors=19, p=2,\n",
       "                     weights='uniform')"
      ]
     },
     "execution_count": 131,
     "metadata": {},
     "output_type": "execute_result"
    }
   ],
   "source": [
    "model_KNN3 = KNeighborsClassifier(algorithm='auto', leaf_size=30, metric='minkowski',\n",
    "                     metric_params=None, n_jobs=None, n_neighbors=19, p=2,\n",
    "                     weights='uniform')\n",
    "model_KNN3.fit(X_train3, y_train3)"
   ]
  },
  {
   "cell_type": "code",
   "execution_count": 132,
   "metadata": {},
   "outputs": [],
   "source": [
    "y_pred_knn3 = model_KNN3.predict(X_test3)"
   ]
  },
  {
   "cell_type": "code",
   "execution_count": 133,
   "metadata": {},
   "outputs": [
    {
     "data": {
      "text/plain": [
       "array([0, 1, 0, 0, 1, 0, 0, 0, 0, 0, 0, 0, 0, 0, 0, 0, 0, 1, 0, 0, 0, 0,\n",
       "       0, 0, 1, 0, 1, 1, 1, 1, 1, 1, 1, 1, 1, 1, 1, 1, 1, 1, 1, 1, 1, 1,\n",
       "       1, 1, 1, 1, 1, 1, 1, 1, 0, 0, 0, 0, 0, 0, 0, 0, 1, 0, 0, 0, 0, 0,\n",
       "       0, 0, 0, 0, 0, 0, 0, 0, 0, 0, 0, 0, 1, 1, 1, 1, 1, 1, 1, 1, 1, 1,\n",
       "       1, 1, 1, 1, 1, 1, 1, 1, 1, 1, 1, 1, 1, 1, 1, 1, 0, 0, 0, 0, 0, 0,\n",
       "       0, 0, 0, 0, 0, 0, 0, 0, 0, 1, 0, 0, 0, 0, 1, 0, 0, 0, 0, 0, 1, 1,\n",
       "       1, 1, 1, 1, 1, 1, 1, 1, 1, 1, 1, 1, 1, 1, 1, 0, 1, 1, 1, 0, 0, 1,\n",
       "       1, 0, 0, 0, 0, 0, 0, 0, 0, 0, 0, 0, 1, 0, 0, 0, 0, 0, 0, 0, 0, 0,\n",
       "       0, 0, 0, 0, 0, 0, 0, 0, 0, 1, 1, 0, 1, 1, 1, 1, 1, 1, 1, 1, 0, 1,\n",
       "       1, 1, 1, 1, 0, 1, 0, 0, 1, 1, 0, 0, 0, 0, 1, 1, 0, 0, 0, 0, 1, 0,\n",
       "       0, 1, 0, 0, 0, 0, 0, 0, 0, 1, 1, 0, 0, 0, 1, 1, 1, 1, 1, 1, 1, 1,\n",
       "       1, 1, 1, 1, 1, 1, 1, 1, 1, 1, 1, 1, 1, 1, 1, 1, 1, 0, 0, 0, 0, 0,\n",
       "       0, 0, 0, 0, 0, 0, 0, 0, 0, 0, 0, 0, 0, 0, 0, 0, 0, 0, 0, 0, 0, 0,\n",
       "       1, 0, 1, 1, 1, 1, 1, 1, 1, 1, 1, 1, 1, 1, 1, 1, 1, 1, 1, 1, 1, 1,\n",
       "       1, 1, 1, 1, 0, 0, 0, 0, 0, 0, 0, 0, 0, 0, 0, 0, 0, 0, 0, 0, 0, 0,\n",
       "       0, 0, 0, 0, 0, 0, 0, 0, 1, 1, 1, 1, 1, 1, 1, 1, 1, 1, 1, 1, 1, 1,\n",
       "       1, 1, 1, 1, 1, 1, 1, 1, 1, 1, 1, 1, 1, 1, 0, 0, 0, 0, 0, 0, 1, 1,\n",
       "       1, 0, 0, 0, 0, 0, 0, 0, 0, 0, 0, 1, 0, 0, 0, 0, 1, 0, 1, 1, 1, 1,\n",
       "       1, 1, 1, 1, 1, 1, 1, 1, 1, 1, 1, 1, 1, 1, 1, 1, 1, 1, 1, 1, 1, 0,\n",
       "       1, 0, 0, 1, 0, 0, 0, 0, 0, 0, 0, 0, 0, 0, 0, 0, 0, 0, 0, 0, 0, 0,\n",
       "       0, 0, 1, 1, 0, 1, 1, 1, 1, 1, 1, 1, 1, 1, 1, 1, 1, 1, 1, 1, 1, 1,\n",
       "       1, 1, 1, 1, 1, 1, 0, 0, 0, 0, 0, 0, 0, 0, 0, 0, 0, 0, 0, 0, 0, 1,\n",
       "       0, 0, 0, 0, 0, 0, 0, 0, 0, 0, 1, 1, 1, 1, 1, 1, 1, 1, 1, 1, 1, 1,\n",
       "       1, 0, 1, 0, 0, 0, 1, 1, 1, 0, 0, 1, 1, 0, 0, 0, 0, 0, 0, 0, 0, 0,\n",
       "       0, 0, 0, 0, 0, 0, 0, 0, 0, 0, 0, 0, 0, 0, 0, 0, 0, 0, 1, 1, 1, 1,\n",
       "       1, 1, 1, 1, 1, 1, 1, 1, 1, 1, 1, 1, 1, 1, 1, 1, 1, 1, 1, 1, 1, 1,\n",
       "       0, 0, 0, 0, 0, 0, 0, 0, 0, 0, 0, 0, 0, 0, 0, 0, 0, 0, 0, 0, 0, 0,\n",
       "       0, 0, 0, 0, 1, 1, 1, 1, 1, 1, 1, 1, 1, 1, 1, 1, 1, 1, 1, 1, 1, 1,\n",
       "       1, 1, 1, 1, 1, 1, 1, 1, 0, 0, 0, 0, 0, 0, 0, 0, 0, 0, 0, 0, 0, 0,\n",
       "       0, 0, 0, 0, 0, 0, 0, 0, 0, 0, 0, 0, 0, 0, 0, 1, 1, 1, 1, 1, 1, 1,\n",
       "       1, 1, 1, 1, 1, 1, 1, 1, 1, 1, 1, 1, 1, 1, 1, 1, 0, 0, 0, 0, 0, 0,\n",
       "       0, 1, 0, 1, 1, 1, 0, 0, 0, 0, 0, 0, 0, 0, 0, 0, 0, 0, 0, 0, 1, 0,\n",
       "       0, 1, 1, 1, 1, 1, 1, 1, 1, 1, 1, 1, 1, 1, 1, 1, 1, 1, 1, 1, 1, 1,\n",
       "       1, 1, 0, 0, 0, 0, 0, 0, 0, 1, 1, 0, 1, 0, 0, 0, 0, 0, 0, 0, 0, 0,\n",
       "       0, 0, 0, 0, 0, 0, 1, 1, 1, 1, 1, 1, 1, 1, 1, 1, 1, 1, 1, 1, 1, 1,\n",
       "       1, 1, 1, 1, 1, 1, 1, 1, 1, 1])"
      ]
     },
     "execution_count": 133,
     "metadata": {},
     "output_type": "execute_result"
    }
   ],
   "source": [
    "y_pred_knn = np.append(y_pred_knn, y_pred_knn3)\n",
    "y_pred_knn"
   ]
  },
  {
   "cell_type": "code",
   "execution_count": 134,
   "metadata": {},
   "outputs": [],
   "source": [
    "#-------------------------------------------"
   ]
  },
  {
   "cell_type": "code",
   "execution_count": 135,
   "metadata": {},
   "outputs": [
    {
     "data": {
      "text/plain": [
       "GridSearchCV(cv=10, error_score=nan,\n",
       "             estimator=KNeighborsClassifier(algorithm='auto', leaf_size=30,\n",
       "                                            metric='minkowski',\n",
       "                                            metric_params=None, n_jobs=None,\n",
       "                                            n_neighbors=5, p=2,\n",
       "                                            weights='uniform'),\n",
       "             iid='deprecated', n_jobs=None,\n",
       "             param_grid={'n_neighbors': [1, 2, 3, 4, 5, 6, 7, 8, 9, 10, 11, 12,\n",
       "                                         13, 14, 15, 16, 17, 18, 19, 20, 21, 22,\n",
       "                                         23, 24, 25, 26, 27, 28, 29, 30]},\n",
       "             pre_dispatch='2*n_jobs', refit=True, return_train_score=False,\n",
       "             scoring='accuracy', verbose=0)"
      ]
     },
     "execution_count": 135,
     "metadata": {},
     "output_type": "execute_result"
    }
   ],
   "source": [
    "## Aplicação de Hiperparâmetros GRUPO 4\n",
    "from sklearn.model_selection import GridSearchCV\n",
    "\n",
    "k_range = list(range(1, 31))\n",
    "\n",
    "param_grid = dict(n_neighbors=k_range)\n",
    "\n",
    "model_KNN4 = GridSearchCV(knn, param_grid, cv=10, scoring='accuracy')\n",
    "model_KNN4.fit(X_train4, y_train4)"
   ]
  },
  {
   "cell_type": "code",
   "execution_count": 136,
   "metadata": {},
   "outputs": [
    {
     "data": {
      "text/plain": [
       "KNeighborsClassifier(algorithm='auto', leaf_size=30, metric='minkowski',\n",
       "                     metric_params=None, n_jobs=None, n_neighbors=24, p=2,\n",
       "                     weights='uniform')"
      ]
     },
     "execution_count": 136,
     "metadata": {},
     "output_type": "execute_result"
    }
   ],
   "source": [
    "model_KNN4.best_estimator_"
   ]
  },
  {
   "cell_type": "code",
   "execution_count": 137,
   "metadata": {},
   "outputs": [
    {
     "data": {
      "text/plain": [
       "KNeighborsClassifier(algorithm='auto', leaf_size=30, metric='minkowski',\n",
       "                     metric_params=None, n_jobs=None, n_neighbors=24, p=2,\n",
       "                     weights='uniform')"
      ]
     },
     "execution_count": 137,
     "metadata": {},
     "output_type": "execute_result"
    }
   ],
   "source": [
    "model_KNN4 = KNeighborsClassifier(algorithm='auto', leaf_size=30, metric='minkowski',\n",
    "                     metric_params=None, n_jobs=None, n_neighbors=24, p=2,\n",
    "                     weights='uniform')\n",
    "model_KNN4.fit(X_train4, y_train4)"
   ]
  },
  {
   "cell_type": "code",
   "execution_count": 138,
   "metadata": {},
   "outputs": [],
   "source": [
    "y_pred_knn4 = model_KNN4.predict(X_test4)"
   ]
  },
  {
   "cell_type": "code",
   "execution_count": 139,
   "metadata": {},
   "outputs": [
    {
     "data": {
      "text/plain": [
       "array([0, 1, 0, ..., 1, 1, 1])"
      ]
     },
     "execution_count": 139,
     "metadata": {},
     "output_type": "execute_result"
    }
   ],
   "source": [
    "y_pred_knn = np.append(y_pred_knn, y_pred_knn4)\n",
    "y_pred_knn"
   ]
  },
  {
   "cell_type": "code",
   "execution_count": 140,
   "metadata": {},
   "outputs": [],
   "source": [
    "#--------------------------------------------------"
   ]
  },
  {
   "cell_type": "code",
   "execution_count": 141,
   "metadata": {},
   "outputs": [
    {
     "data": {
      "text/plain": [
       "(1040,)"
      ]
     },
     "execution_count": 141,
     "metadata": {},
     "output_type": "execute_result"
    }
   ],
   "source": [
    "y_pred_knn.shape"
   ]
  },
  {
   "cell_type": "code",
   "execution_count": 142,
   "metadata": {},
   "outputs": [
    {
     "name": "stdout",
     "output_type": "stream",
     "text": [
      "Acurácia K-fold KNN 0.926923076923077\n"
     ]
    }
   ],
   "source": [
    "# Acurácia SVM RBF\n",
    "print(\"Acurácia K-fold KNN\", accuracy_score(y_total, y_pred_knn))"
   ]
  },
  {
   "cell_type": "code",
   "execution_count": 143,
   "metadata": {},
   "outputs": [
    {
     "name": "stdout",
     "output_type": "stream",
     "text": [
      "[[487  33]\n",
      " [ 43 477]]\n",
      "              precision    recall  f1-score   support\n",
      "\n",
      "           0       0.92      0.94      0.93       520\n",
      "           1       0.94      0.92      0.93       520\n",
      "\n",
      "    accuracy                           0.93      1040\n",
      "   macro avg       0.93      0.93      0.93      1040\n",
      "weighted avg       0.93      0.93      0.93      1040\n",
      "\n",
      "Acurácia RBF: 0.926923076923077\n"
     ]
    }
   ],
   "source": [
    "print(confusion_matrix(y_total,y_pred_knn))\n",
    "print(classification_report(y_total,y_pred_knn))  \n",
    "print(\"Acurácia RBF:\", accuracy_score(y_total, y_pred_knn))"
   ]
  },
  {
   "cell_type": "code",
   "execution_count": 144,
   "metadata": {
    "id": "0vl_P1dui11e"
   },
   "outputs": [],
   "source": [
    "###################################################"
   ]
  },
  {
   "cell_type": "code",
   "execution_count": 145,
   "metadata": {},
   "outputs": [],
   "source": [
    "###################################################"
   ]
  },
  {
   "cell_type": "code",
   "execution_count": 146,
   "metadata": {},
   "outputs": [],
   "source": [
    "#Agora o teste será realizado em um dataset com 6 exames de 28 pacientes com Parkinson, todos com a doença\n",
    "# Serão 168 instancias (6 exames x 28 pacientes) embaralhadas"
   ]
  },
  {
   "cell_type": "code",
   "execution_count": 147,
   "metadata": {},
   "outputs": [],
   "source": [
    "PD = pd.read_csv('test_data.csv')\n",
    "del PD['paciente']"
   ]
  },
  {
   "cell_type": "code",
   "execution_count": 148,
   "metadata": {},
   "outputs": [],
   "source": [
    "y_final = PD.Sick\n",
    "X_final = PD"
   ]
  },
  {
   "cell_type": "code",
   "execution_count": null,
   "metadata": {
    "scrolled": false
   },
   "outputs": [],
   "source": [
    "X_final, y_final = embaralha(X_final, y_final)"
   ]
  },
  {
   "cell_type": "code",
   "execution_count": 149,
   "metadata": {
    "scrolled": true
   },
   "outputs": [
    {
     "name": "stdout",
     "output_type": "stream",
     "text": [
      "(168, 28) (168,)\n"
     ]
    }
   ],
   "source": [
    "X_final = sc.fit_transform(X_final)\n",
    "print(X_final.shape, y_final.shape)"
   ]
  },
  {
   "cell_type": "code",
   "execution_count": 150,
   "metadata": {},
   "outputs": [
    {
     "name": "stdout",
     "output_type": "stream",
     "text": [
      "Acurácia SVC 0.5059523809523809\n",
      "              precision    recall  f1-score   support\n",
      "\n",
      "           0       0.00      0.00      0.00         0\n",
      "           1       1.00      0.51      0.67       168\n",
      "\n",
      "    accuracy                           0.51       168\n",
      "   macro avg       0.50      0.25      0.34       168\n",
      "weighted avg       1.00      0.51      0.67       168\n",
      "\n",
      "Acurácia SVC 0.6130952380952381\n",
      "              precision    recall  f1-score   support\n",
      "\n",
      "           0       0.00      0.00      0.00         0\n",
      "           1       1.00      0.61      0.76       168\n",
      "\n",
      "    accuracy                           0.61       168\n",
      "   macro avg       0.50      0.31      0.38       168\n",
      "weighted avg       1.00      0.61      0.76       168\n",
      "\n",
      "Acurácia SVC 0.42857142857142855\n",
      "              precision    recall  f1-score   support\n",
      "\n",
      "           0       0.00      0.00      0.00         0\n",
      "           1       1.00      0.43      0.60       168\n",
      "\n",
      "    accuracy                           0.43       168\n",
      "   macro avg       0.50      0.21      0.30       168\n",
      "weighted avg       1.00      0.43      0.60       168\n",
      "\n",
      "Acurácia KNeighborsClassifier 0.4166666666666667\n",
      "              precision    recall  f1-score   support\n",
      "\n",
      "           0       0.00      0.00      0.00         0\n",
      "           1       1.00      0.42      0.59       168\n",
      "\n",
      "    accuracy                           0.42       168\n",
      "   macro avg       0.50      0.21      0.29       168\n",
      "weighted avg       1.00      0.42      0.59       168\n",
      "\n"
     ]
    },
    {
     "name": "stderr",
     "output_type": "stream",
     "text": [
      "/home/mariohn/anaconda3/lib/python3.7/site-packages/sklearn/metrics/_classification.py:1272: UndefinedMetricWarning: Recall and F-score are ill-defined and being set to 0.0 in labels with no true samples. Use `zero_division` parameter to control this behavior.\n",
      "  _warn_prf(average, modifier, msg_start, len(result))\n",
      "/home/mariohn/anaconda3/lib/python3.7/site-packages/sklearn/metrics/_classification.py:1272: UndefinedMetricWarning: Recall and F-score are ill-defined and being set to 0.0 in labels with no true samples. Use `zero_division` parameter to control this behavior.\n",
      "  _warn_prf(average, modifier, msg_start, len(result))\n",
      "/home/mariohn/anaconda3/lib/python3.7/site-packages/sklearn/metrics/_classification.py:1272: UndefinedMetricWarning: Recall and F-score are ill-defined and being set to 0.0 in labels with no true samples. Use `zero_division` parameter to control this behavior.\n",
      "  _warn_prf(average, modifier, msg_start, len(result))\n",
      "/home/mariohn/anaconda3/lib/python3.7/site-packages/sklearn/metrics/_classification.py:1272: UndefinedMetricWarning: Recall and F-score are ill-defined and being set to 0.0 in labels with no true samples. Use `zero_division` parameter to control this behavior.\n",
      "  _warn_prf(average, modifier, msg_start, len(result))\n"
     ]
    }
   ],
   "source": [
    "#GRUPO 1\n",
    "\n",
    "for modelo in (modelo_SvmLin, modelo_SvmPoly, modelo_SvmRBF, model_KNN):\n",
    "    name = modelo\n",
    "    y_pred_name = modelo.predict(X_final)\n",
    "    print(\"Acurácia\", modelo.__class__.__name__,  accuracy_score(y_final, y_pred_name))\n",
    "    print(classification_report(y_final,y_pred_name))"
   ]
  },
  {
   "cell_type": "code",
   "execution_count": 152,
   "metadata": {},
   "outputs": [
    {
     "name": "stdout",
     "output_type": "stream",
     "text": [
      "Acurácia SVC 0.44047619047619047\n",
      "              precision    recall  f1-score   support\n",
      "\n",
      "           0       0.00      0.00      0.00         0\n",
      "           1       1.00      0.44      0.61       168\n",
      "\n",
      "    accuracy                           0.44       168\n",
      "   macro avg       0.50      0.22      0.31       168\n",
      "weighted avg       1.00      0.44      0.61       168\n",
      "\n",
      "Acurácia SVC 0.49404761904761907\n",
      "              precision    recall  f1-score   support\n",
      "\n",
      "           0       0.00      0.00      0.00         0\n",
      "           1       1.00      0.49      0.66       168\n",
      "\n",
      "    accuracy                           0.49       168\n",
      "   macro avg       0.50      0.25      0.33       168\n",
      "weighted avg       1.00      0.49      0.66       168\n",
      "\n",
      "Acurácia SVC 0.47023809523809523\n",
      "              precision    recall  f1-score   support\n",
      "\n",
      "           0       0.00      0.00      0.00         0\n",
      "           1       1.00      0.47      0.64       168\n",
      "\n",
      "    accuracy                           0.47       168\n",
      "   macro avg       0.50      0.24      0.32       168\n",
      "weighted avg       1.00      0.47      0.64       168\n",
      "\n",
      "Acurácia KNeighborsClassifier 0.47023809523809523\n",
      "              precision    recall  f1-score   support\n",
      "\n",
      "           0       0.00      0.00      0.00         0\n",
      "           1       1.00      0.47      0.64       168\n",
      "\n",
      "    accuracy                           0.47       168\n",
      "   macro avg       0.50      0.24      0.32       168\n",
      "weighted avg       1.00      0.47      0.64       168\n",
      "\n"
     ]
    },
    {
     "name": "stderr",
     "output_type": "stream",
     "text": [
      "/home/mariohn/anaconda3/lib/python3.7/site-packages/sklearn/metrics/_classification.py:1272: UndefinedMetricWarning: Recall and F-score are ill-defined and being set to 0.0 in labels with no true samples. Use `zero_division` parameter to control this behavior.\n",
      "  _warn_prf(average, modifier, msg_start, len(result))\n",
      "/home/mariohn/anaconda3/lib/python3.7/site-packages/sklearn/metrics/_classification.py:1272: UndefinedMetricWarning: Recall and F-score are ill-defined and being set to 0.0 in labels with no true samples. Use `zero_division` parameter to control this behavior.\n",
      "  _warn_prf(average, modifier, msg_start, len(result))\n",
      "/home/mariohn/anaconda3/lib/python3.7/site-packages/sklearn/metrics/_classification.py:1272: UndefinedMetricWarning: Recall and F-score are ill-defined and being set to 0.0 in labels with no true samples. Use `zero_division` parameter to control this behavior.\n",
      "  _warn_prf(average, modifier, msg_start, len(result))\n",
      "/home/mariohn/anaconda3/lib/python3.7/site-packages/sklearn/metrics/_classification.py:1272: UndefinedMetricWarning: Recall and F-score are ill-defined and being set to 0.0 in labels with no true samples. Use `zero_division` parameter to control this behavior.\n",
      "  _warn_prf(average, modifier, msg_start, len(result))\n"
     ]
    }
   ],
   "source": [
    "#GRUPO 2\n",
    "\n",
    "for modelo in (modelo_SvmLin2, modelo_SvmPoly2, modelo_SvmRBF2, model_KNN2):\n",
    "    name = modelo\n",
    "    y_pred_name = modelo.predict(X_final)\n",
    "    print(\"Acurácia\", modelo.__class__.__name__,  accuracy_score(y_final, y_pred_name))\n",
    "    print(classification_report(y_final,y_pred_name))"
   ]
  },
  {
   "cell_type": "code",
   "execution_count": 162,
   "metadata": {},
   "outputs": [
    {
     "name": "stdout",
     "output_type": "stream",
     "text": [
      "Acurácia SVC 0.5595238095238095\n",
      "              precision    recall  f1-score   support\n",
      "\n",
      "           0       0.00      0.00      0.00         0\n",
      "           1       1.00      0.56      0.72       168\n",
      "\n",
      "    accuracy                           0.56       168\n",
      "   macro avg       0.50      0.28      0.36       168\n",
      "weighted avg       1.00      0.56      0.72       168\n",
      "\n",
      "Acurácia SVC 0.20238095238095238\n",
      "              precision    recall  f1-score   support\n",
      "\n",
      "           0       0.00      0.00      0.00         0\n",
      "           1       1.00      0.20      0.34       168\n",
      "\n",
      "    accuracy                           0.20       168\n",
      "   macro avg       0.50      0.10      0.17       168\n",
      "weighted avg       1.00      0.20      0.34       168\n",
      "\n",
      "Acurácia SVC 0.4107142857142857\n",
      "              precision    recall  f1-score   support\n",
      "\n",
      "           0       0.00      0.00      0.00         0\n",
      "           1       1.00      0.41      0.58       168\n",
      "\n",
      "    accuracy                           0.41       168\n",
      "   macro avg       0.50      0.21      0.29       168\n",
      "weighted avg       1.00      0.41      0.58       168\n",
      "\n",
      "Acurácia KNeighborsClassifier 0.35714285714285715\n",
      "              precision    recall  f1-score   support\n",
      "\n",
      "           0       0.00      0.00      0.00         0\n",
      "           1       1.00      0.36      0.53       168\n",
      "\n",
      "    accuracy                           0.36       168\n",
      "   macro avg       0.50      0.18      0.26       168\n",
      "weighted avg       1.00      0.36      0.53       168\n",
      "\n"
     ]
    },
    {
     "name": "stderr",
     "output_type": "stream",
     "text": [
      "/home/mariohn/anaconda3/lib/python3.7/site-packages/sklearn/metrics/_classification.py:1272: UndefinedMetricWarning: Recall and F-score are ill-defined and being set to 0.0 in labels with no true samples. Use `zero_division` parameter to control this behavior.\n",
      "  _warn_prf(average, modifier, msg_start, len(result))\n",
      "/home/mariohn/anaconda3/lib/python3.7/site-packages/sklearn/metrics/_classification.py:1272: UndefinedMetricWarning: Recall and F-score are ill-defined and being set to 0.0 in labels with no true samples. Use `zero_division` parameter to control this behavior.\n",
      "  _warn_prf(average, modifier, msg_start, len(result))\n",
      "/home/mariohn/anaconda3/lib/python3.7/site-packages/sklearn/metrics/_classification.py:1272: UndefinedMetricWarning: Recall and F-score are ill-defined and being set to 0.0 in labels with no true samples. Use `zero_division` parameter to control this behavior.\n",
      "  _warn_prf(average, modifier, msg_start, len(result))\n",
      "/home/mariohn/anaconda3/lib/python3.7/site-packages/sklearn/metrics/_classification.py:1272: UndefinedMetricWarning: Recall and F-score are ill-defined and being set to 0.0 in labels with no true samples. Use `zero_division` parameter to control this behavior.\n",
      "  _warn_prf(average, modifier, msg_start, len(result))\n"
     ]
    }
   ],
   "source": [
    "#GRUPO 3\n",
    "\n",
    "for modelo in (modelo_SvmLin3, modelo_SvmPoly3, modelo_SvmRBF3, model_KNN3):\n",
    "    modelo.fit(X_train3, y_train3)\n",
    "    name = modelo\n",
    "    y_pred_name = modelo.predict(X_final)\n",
    "    print(\"Acurácia\", modelo.__class__.__name__,  accuracy_score(y_final, y_pred_name))\n",
    "    print(classification_report(y_final,y_pred_name))"
   ]
  },
  {
   "cell_type": "code",
   "execution_count": 155,
   "metadata": {},
   "outputs": [
    {
     "name": "stdout",
     "output_type": "stream",
     "text": [
      "Acurácia SVC 0.5059523809523809\n",
      "              precision    recall  f1-score   support\n",
      "\n",
      "           0       0.00      0.00      0.00         0\n",
      "           1       1.00      0.51      0.67       168\n",
      "\n",
      "    accuracy                           0.51       168\n",
      "   macro avg       0.50      0.25      0.34       168\n",
      "weighted avg       1.00      0.51      0.67       168\n",
      "\n",
      "Acurácia SVC 0.5595238095238095\n",
      "              precision    recall  f1-score   support\n",
      "\n",
      "           0       0.00      0.00      0.00         0\n",
      "           1       1.00      0.56      0.72       168\n",
      "\n",
      "    accuracy                           0.56       168\n",
      "   macro avg       0.50      0.28      0.36       168\n",
      "weighted avg       1.00      0.56      0.72       168\n",
      "\n",
      "Acurácia SVC 0.5595238095238095\n",
      "              precision    recall  f1-score   support\n",
      "\n",
      "           0       0.00      0.00      0.00         0\n",
      "           1       1.00      0.56      0.72       168\n",
      "\n",
      "    accuracy                           0.56       168\n",
      "   macro avg       0.50      0.28      0.36       168\n",
      "weighted avg       1.00      0.56      0.72       168\n",
      "\n",
      "Acurácia KNeighborsClassifier 0.6190476190476191\n",
      "              precision    recall  f1-score   support\n",
      "\n",
      "           0       0.00      0.00      0.00         0\n",
      "           1       1.00      0.62      0.76       168\n",
      "\n",
      "    accuracy                           0.62       168\n",
      "   macro avg       0.50      0.31      0.38       168\n",
      "weighted avg       1.00      0.62      0.76       168\n",
      "\n"
     ]
    },
    {
     "name": "stderr",
     "output_type": "stream",
     "text": [
      "/home/mariohn/anaconda3/lib/python3.7/site-packages/sklearn/metrics/_classification.py:1272: UndefinedMetricWarning: Recall and F-score are ill-defined and being set to 0.0 in labels with no true samples. Use `zero_division` parameter to control this behavior.\n",
      "  _warn_prf(average, modifier, msg_start, len(result))\n",
      "/home/mariohn/anaconda3/lib/python3.7/site-packages/sklearn/metrics/_classification.py:1272: UndefinedMetricWarning: Recall and F-score are ill-defined and being set to 0.0 in labels with no true samples. Use `zero_division` parameter to control this behavior.\n",
      "  _warn_prf(average, modifier, msg_start, len(result))\n",
      "/home/mariohn/anaconda3/lib/python3.7/site-packages/sklearn/metrics/_classification.py:1272: UndefinedMetricWarning: Recall and F-score are ill-defined and being set to 0.0 in labels with no true samples. Use `zero_division` parameter to control this behavior.\n",
      "  _warn_prf(average, modifier, msg_start, len(result))\n",
      "/home/mariohn/anaconda3/lib/python3.7/site-packages/sklearn/metrics/_classification.py:1272: UndefinedMetricWarning: Recall and F-score are ill-defined and being set to 0.0 in labels with no true samples. Use `zero_division` parameter to control this behavior.\n",
      "  _warn_prf(average, modifier, msg_start, len(result))\n"
     ]
    }
   ],
   "source": [
    "#GRUPO 4\n",
    "\n",
    "for modelo in (modelo_SvmLin4, modelo_SvmPoly4, modelo_SvmRBF4, model_KNN4):\n",
    "    name = modelo\n",
    "    y_pred_name = modelo.predict(X_final)\n",
    "    print(\"Acurácia\", modelo.__class__.__name__,  accuracy_score(y_final, y_pred_name))\n",
    "    print(classification_report(y_final,y_pred_name))"
   ]
  },
  {
   "cell_type": "code",
   "execution_count": null,
   "metadata": {},
   "outputs": [],
   "source": [
    "#################################"
   ]
  },
  {
   "cell_type": "code",
   "execution_count": 159,
   "metadata": {},
   "outputs": [
    {
     "name": "stdout",
     "output_type": "stream",
     "text": [
      "Acurácia SVC 0.4642857142857143\n",
      "              precision    recall  f1-score   support\n",
      "\n",
      "           0       0.00      0.00      0.00         0\n",
      "           1       1.00      0.46      0.63       168\n",
      "\n",
      "    accuracy                           0.46       168\n",
      "   macro avg       0.50      0.23      0.32       168\n",
      "weighted avg       1.00      0.46      0.63       168\n",
      "\n",
      "Acurácia SVC 0.43452380952380953\n",
      "              precision    recall  f1-score   support\n",
      "\n",
      "           0       0.00      0.00      0.00         0\n",
      "           1       1.00      0.43      0.61       168\n",
      "\n",
      "    accuracy                           0.43       168\n",
      "   macro avg       0.50      0.22      0.30       168\n",
      "weighted avg       1.00      0.43      0.61       168\n",
      "\n",
      "Acurácia SVC 0.4523809523809524\n",
      "              precision    recall  f1-score   support\n",
      "\n",
      "           0       0.00      0.00      0.00         0\n",
      "           1       1.00      0.45      0.62       168\n",
      "\n",
      "    accuracy                           0.45       168\n",
      "   macro avg       0.50      0.23      0.31       168\n",
      "weighted avg       1.00      0.45      0.62       168\n",
      "\n",
      "Acurácia KNeighborsClassifier 0.36904761904761907\n",
      "              precision    recall  f1-score   support\n",
      "\n",
      "           0       0.00      0.00      0.00         0\n",
      "           1       1.00      0.37      0.54       168\n",
      "\n",
      "    accuracy                           0.37       168\n",
      "   macro avg       0.50      0.18      0.27       168\n",
      "weighted avg       1.00      0.37      0.54       168\n",
      "\n"
     ]
    },
    {
     "name": "stderr",
     "output_type": "stream",
     "text": [
      "/home/mariohn/anaconda3/lib/python3.7/site-packages/sklearn/metrics/_classification.py:1272: UndefinedMetricWarning: Recall and F-score are ill-defined and being set to 0.0 in labels with no true samples. Use `zero_division` parameter to control this behavior.\n",
      "  _warn_prf(average, modifier, msg_start, len(result))\n",
      "/home/mariohn/anaconda3/lib/python3.7/site-packages/sklearn/metrics/_classification.py:1272: UndefinedMetricWarning: Recall and F-score are ill-defined and being set to 0.0 in labels with no true samples. Use `zero_division` parameter to control this behavior.\n",
      "  _warn_prf(average, modifier, msg_start, len(result))\n",
      "/home/mariohn/anaconda3/lib/python3.7/site-packages/sklearn/metrics/_classification.py:1272: UndefinedMetricWarning: Recall and F-score are ill-defined and being set to 0.0 in labels with no true samples. Use `zero_division` parameter to control this behavior.\n",
      "  _warn_prf(average, modifier, msg_start, len(result))\n",
      "/home/mariohn/anaconda3/lib/python3.7/site-packages/sklearn/metrics/_classification.py:1272: UndefinedMetricWarning: Recall and F-score are ill-defined and being set to 0.0 in labels with no true samples. Use `zero_division` parameter to control this behavior.\n",
      "  _warn_prf(average, modifier, msg_start, len(result))\n"
     ]
    }
   ],
   "source": [
    "#GRUPO TOTAL\n",
    "\n",
    "for modelo in (modelo_SvmLin, modelo_SvmPoly, modelo_SvmRBF, model_KNN):\n",
    "    modelo.fit(X_total,y_total)\n",
    "    name = modelo\n",
    "    y_pred_name = modelo.predict(X_final)\n",
    "    print(\"Acurácia\", modelo.__class__.__name__,  accuracy_score(y_final, y_pred_name))\n",
    "    print(classification_report(y_final,y_pred_name))"
   ]
  },
  {
   "cell_type": "code",
   "execution_count": null,
   "metadata": {},
   "outputs": [],
   "source": []
  },
  {
   "cell_type": "code",
   "execution_count": null,
   "metadata": {},
   "outputs": [],
   "source": []
  },
  {
   "cell_type": "code",
   "execution_count": null,
   "metadata": {},
   "outputs": [],
   "source": []
  },
  {
   "cell_type": "code",
   "execution_count": null,
   "metadata": {},
   "outputs": [],
   "source": []
  }
 ],
 "metadata": {
  "colab": {
   "name": "Atualizado-1ºmanipulacao.ipynb",
   "provenance": []
  },
  "kernelspec": {
   "display_name": "Python 3",
   "language": "python",
   "name": "python3"
  },
  "language_info": {
   "codemirror_mode": {
    "name": "ipython",
    "version": 3
   },
   "file_extension": ".py",
   "mimetype": "text/x-python",
   "name": "python",
   "nbconvert_exporter": "python",
   "pygments_lexer": "ipython3",
   "version": "3.7.6"
  }
 },
 "nbformat": 4,
 "nbformat_minor": 1
}
