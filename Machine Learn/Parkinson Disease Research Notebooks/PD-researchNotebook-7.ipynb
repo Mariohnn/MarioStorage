{
 "cells": [
  {
   "cell_type": "code",
   "execution_count": 1,
   "metadata": {
    "id": "oDQozQTZi10t"
   },
   "outputs": [],
   "source": [
    "import pandas as pd\n",
    "import sklearn\n",
    "import numpy as np\n",
    "import csv\n",
    "from csv import reader\n",
    "import matplotlib.pyplot as plt\n",
    "%matplotlib inline"
   ]
  },
  {
   "cell_type": "code",
   "execution_count": 2,
   "metadata": {
    "id": "nwlsx922i10z",
    "outputId": "aea62be8-b260-41db-c583-1f5806acf3d0",
    "scrolled": false
   },
   "outputs": [
    {
     "data": {
      "text/html": [
       "<div>\n",
       "<style scoped>\n",
       "    .dataframe tbody tr th:only-of-type {\n",
       "        vertical-align: middle;\n",
       "    }\n",
       "\n",
       "    .dataframe tbody tr th {\n",
       "        vertical-align: top;\n",
       "    }\n",
       "\n",
       "    .dataframe thead th {\n",
       "        text-align: right;\n",
       "    }\n",
       "</style>\n",
       "<table border=\"1\" class=\"dataframe\">\n",
       "  <thead>\n",
       "    <tr style=\"text-align: right;\">\n",
       "      <th></th>\n",
       "      <th>paciente</th>\n",
       "      <th>feat1</th>\n",
       "      <th>feat2</th>\n",
       "      <th>feat3</th>\n",
       "      <th>feat4</th>\n",
       "      <th>feat5</th>\n",
       "      <th>feat6</th>\n",
       "      <th>feat7</th>\n",
       "      <th>feat8</th>\n",
       "      <th>feat9</th>\n",
       "      <th>...</th>\n",
       "      <th>feat20</th>\n",
       "      <th>feat21</th>\n",
       "      <th>feat22</th>\n",
       "      <th>feat23</th>\n",
       "      <th>feat24</th>\n",
       "      <th>feat25</th>\n",
       "      <th>feat26</th>\n",
       "      <th>UPDRS</th>\n",
       "      <th>Exame</th>\n",
       "      <th>Sick</th>\n",
       "    </tr>\n",
       "  </thead>\n",
       "  <tbody>\n",
       "    <tr>\n",
       "      <th>0</th>\n",
       "      <td>40</td>\n",
       "      <td>471.0</td>\n",
       "      <td>0.000034</td>\n",
       "      <td>186.0</td>\n",
       "      <td>0.23</td>\n",
       "      <td>558.0</td>\n",
       "      <td>2793.0</td>\n",
       "      <td>0.26</td>\n",
       "      <td>1183.0</td>\n",
       "      <td>1.52</td>\n",
       "      <td>...</td>\n",
       "      <td>176</td>\n",
       "      <td>175</td>\n",
       "      <td>0.007179</td>\n",
       "      <td>0.000130</td>\n",
       "      <td>0.0</td>\n",
       "      <td>0</td>\n",
       "      <td>0.00</td>\n",
       "      <td>1</td>\n",
       "      <td>1</td>\n",
       "      <td>0</td>\n",
       "    </tr>\n",
       "    <tr>\n",
       "      <th>1</th>\n",
       "      <td>40</td>\n",
       "      <td>4319.0</td>\n",
       "      <td>0.000317</td>\n",
       "      <td>2774.0</td>\n",
       "      <td>1708.00</td>\n",
       "      <td>8322.0</td>\n",
       "      <td>13924.0</td>\n",
       "      <td>1195.00</td>\n",
       "      <td>8558.0</td>\n",
       "      <td>6036.00</td>\n",
       "      <td>...</td>\n",
       "      <td>258</td>\n",
       "      <td>256</td>\n",
       "      <td>0.007343</td>\n",
       "      <td>0.000312</td>\n",
       "      <td>2913.0</td>\n",
       "      <td>1</td>\n",
       "      <td>7038.00</td>\n",
       "      <td>1</td>\n",
       "      <td>2</td>\n",
       "      <td>0</td>\n",
       "    </tr>\n",
       "    <tr>\n",
       "      <th>2</th>\n",
       "      <td>40</td>\n",
       "      <td>1543.0</td>\n",
       "      <td>0.000103</td>\n",
       "      <td>1004.0</td>\n",
       "      <td>648.00</td>\n",
       "      <td>3012.0</td>\n",
       "      <td>17447.0</td>\n",
       "      <td>1694.00</td>\n",
       "      <td>11171.0</td>\n",
       "      <td>6851.00</td>\n",
       "      <td>...</td>\n",
       "      <td>426</td>\n",
       "      <td>425</td>\n",
       "      <td>0.006700</td>\n",
       "      <td>0.000108</td>\n",
       "      <td>351.0</td>\n",
       "      <td>0</td>\n",
       "      <td>0.00</td>\n",
       "      <td>1</td>\n",
       "      <td>3</td>\n",
       "      <td>0</td>\n",
       "    </tr>\n",
       "    <tr>\n",
       "      <th>3</th>\n",
       "      <td>40</td>\n",
       "      <td>2864.0</td>\n",
       "      <td>0.000212</td>\n",
       "      <td>1108.0</td>\n",
       "      <td>1147.00</td>\n",
       "      <td>3324.0</td>\n",
       "      <td>7692.0</td>\n",
       "      <td>1062.00</td>\n",
       "      <td>2555.0</td>\n",
       "      <td>4647.00</td>\n",
       "      <td>...</td>\n",
       "      <td>74</td>\n",
       "      <td>70</td>\n",
       "      <td>0.007405</td>\n",
       "      <td>0.000660</td>\n",
       "      <td>18056.0</td>\n",
       "      <td>2</td>\n",
       "      <td>6777.00</td>\n",
       "      <td>1</td>\n",
       "      <td>4</td>\n",
       "      <td>0</td>\n",
       "    </tr>\n",
       "    <tr>\n",
       "      <th>4</th>\n",
       "      <td>40</td>\n",
       "      <td>3878.0</td>\n",
       "      <td>0.000301</td>\n",
       "      <td>1795.0</td>\n",
       "      <td>1675.00</td>\n",
       "      <td>5386.0</td>\n",
       "      <td>11574.0</td>\n",
       "      <td>1212.00</td>\n",
       "      <td>3994.0</td>\n",
       "      <td>5.69</td>\n",
       "      <td>...</td>\n",
       "      <td>71</td>\n",
       "      <td>68</td>\n",
       "      <td>0.007766</td>\n",
       "      <td>0.001045</td>\n",
       "      <td>25333.0</td>\n",
       "      <td>2</td>\n",
       "      <td>11.75</td>\n",
       "      <td>1</td>\n",
       "      <td>5</td>\n",
       "      <td>0</td>\n",
       "    </tr>\n",
       "  </tbody>\n",
       "</table>\n",
       "<p>5 rows × 30 columns</p>\n",
       "</div>"
      ],
      "text/plain": [
       "   paciente   feat1     feat2   feat3    feat4   feat5    feat6    feat7  \\\n",
       "0        40   471.0  0.000034   186.0     0.23   558.0   2793.0     0.26   \n",
       "1        40  4319.0  0.000317  2774.0  1708.00  8322.0  13924.0  1195.00   \n",
       "2        40  1543.0  0.000103  1004.0   648.00  3012.0  17447.0  1694.00   \n",
       "3        40  2864.0  0.000212  1108.0  1147.00  3324.0   7692.0  1062.00   \n",
       "4        40  3878.0  0.000301  1795.0  1675.00  5386.0  11574.0  1212.00   \n",
       "\n",
       "     feat8    feat9  ...  feat20  feat21    feat22    feat23   feat24  feat25  \\\n",
       "0   1183.0     1.52  ...     176     175  0.007179  0.000130      0.0       0   \n",
       "1   8558.0  6036.00  ...     258     256  0.007343  0.000312   2913.0       1   \n",
       "2  11171.0  6851.00  ...     426     425  0.006700  0.000108    351.0       0   \n",
       "3   2555.0  4647.00  ...      74      70  0.007405  0.000660  18056.0       2   \n",
       "4   3994.0     5.69  ...      71      68  0.007766  0.001045  25333.0       2   \n",
       "\n",
       "    feat26  UPDRS  Exame  Sick  \n",
       "0     0.00      1      1     0  \n",
       "1  7038.00      1      2     0  \n",
       "2     0.00      1      3     0  \n",
       "3  6777.00      1      4     0  \n",
       "4    11.75      1      5     0  \n",
       "\n",
       "[5 rows x 30 columns]"
      ]
     },
     "execution_count": 2,
     "metadata": {},
     "output_type": "execute_result"
    }
   ],
   "source": [
    "df = pd.read_csv(\"train_data3.csv\")\n",
    "df.head()"
   ]
  },
  {
   "cell_type": "code",
   "execution_count": 3,
   "metadata": {
    "id": "Ij-v8DuGi108",
    "outputId": "714129e3-a8bf-421a-c67f-e8b7a93450cf"
   },
   "outputs": [
    {
     "data": {
      "text/plain": [
       "(1040, 30)"
      ]
     },
     "execution_count": 3,
     "metadata": {},
     "output_type": "execute_result"
    }
   ],
   "source": [
    "df.shape"
   ]
  },
  {
   "cell_type": "code",
   "execution_count": 4,
   "metadata": {
    "id": "ozuixHQpi11F",
    "outputId": "8af22049-a32f-45e6-c296-c954f5bc6b27"
   },
   "outputs": [
    {
     "name": "stdout",
     "output_type": "stream",
     "text": [
      "<class 'pandas.core.frame.DataFrame'>\n",
      "RangeIndex: 1040 entries, 0 to 1039\n",
      "Data columns (total 30 columns):\n",
      " #   Column    Non-Null Count  Dtype  \n",
      "---  ------    --------------  -----  \n",
      " 0   paciente  1040 non-null   int64  \n",
      " 1   feat1     1040 non-null   float64\n",
      " 2   feat2     1040 non-null   float64\n",
      " 3   feat3     1040 non-null   float64\n",
      " 4   feat4     1040 non-null   float64\n",
      " 5   feat5     1040 non-null   float64\n",
      " 6   feat6     1040 non-null   float64\n",
      " 7   feat7     1040 non-null   float64\n",
      " 8   feat8     1040 non-null   float64\n",
      " 9   feat9     1040 non-null   float64\n",
      " 10  feat10    1040 non-null   float64\n",
      " 11  feat11    1040 non-null   float64\n",
      " 12  feat12    1040 non-null   float64\n",
      " 13  feat13    1040 non-null   float64\n",
      " 14  feat14    1040 non-null   float64\n",
      " 15  feat15    1040 non-null   float64\n",
      " 16  feat16    1040 non-null   float64\n",
      " 17  feat17    1040 non-null   float64\n",
      " 18  feat18    1040 non-null   float64\n",
      " 19  feat19    1040 non-null   float64\n",
      " 20  feat20    1040 non-null   int64  \n",
      " 21  feat21    1040 non-null   int64  \n",
      " 22  feat22    1040 non-null   float64\n",
      " 23  feat23    1040 non-null   float64\n",
      " 24  feat24    1040 non-null   float64\n",
      " 25  feat25    1040 non-null   int64  \n",
      " 26  feat26    1040 non-null   float64\n",
      " 27  UPDRS     1040 non-null   int64  \n",
      " 28  Exame     1040 non-null   int64  \n",
      " 29  Sick      1040 non-null   int64  \n",
      "dtypes: float64(23), int64(7)\n",
      "memory usage: 243.9 KB\n"
     ]
    }
   ],
   "source": [
    "df.info()"
   ]
  },
  {
   "cell_type": "code",
   "execution_count": 5,
   "metadata": {},
   "outputs": [
    {
     "data": {
      "text/plain": [
       "0       0\n",
       "1       0\n",
       "2       0\n",
       "3       0\n",
       "4       0\n",
       "       ..\n",
       "1035    1\n",
       "1036    1\n",
       "1037    1\n",
       "1038    1\n",
       "1039    1\n",
       "Name: Sick, Length: 1040, dtype: int64"
      ]
     },
     "execution_count": 5,
     "metadata": {},
     "output_type": "execute_result"
    }
   ],
   "source": [
    "Sick = df.Sick\n",
    "Sick"
   ]
  },
  {
   "cell_type": "code",
   "execution_count": null,
   "metadata": {},
   "outputs": [],
   "source": [
    "#apaga as colunas menos relevantes pelo RFE\n",
    "\n",
    "del df['feat7']\n",
    "del df['feat9']\n",
    "del df['feat10']\n",
    "del df['feat11']\n",
    "del df['feat12']\n",
    "del df['feat13']\n",
    "del df['feat14']\n",
    "del df['feat19']\n",
    "del df['feat20']\n",
    "del df['feat21']\n",
    "del df['feat23']\n",
    "\n",
    "\n",
    "\n",
    "df.shape"
   ]
  },
  {
   "cell_type": "code",
   "execution_count": 6,
   "metadata": {
    "id": "RiNjV4yDi11G",
    "outputId": "b8890c37-5044-421e-b117-43fae021c774"
   },
   "outputs": [
    {
     "data": {
      "text/plain": [
       "(1040, 26)"
      ]
     },
     "execution_count": 6,
     "metadata": {},
     "output_type": "execute_result"
    }
   ],
   "source": [
    "#apaga a coluna de pacientes ID, exames e o Outcome\n",
    "del df['paciente']\n",
    "del df['Exame']\n",
    "del df['Sick']\n",
    "del df['UPDRS']\n",
    "\n",
    "df.shape"
   ]
  },
  {
   "cell_type": "code",
   "execution_count": 7,
   "metadata": {
    "id": "I0qb2dXgi11I"
   },
   "outputs": [],
   "source": [
    "#####################################################\n",
    "#preparando os dados\n",
    "#####################################################"
   ]
  },
  {
   "cell_type": "code",
   "execution_count": 8,
   "metadata": {},
   "outputs": [],
   "source": [
    "from sklearn.model_selection import train_test_split\n",
    "\n",
    "def embaralha(x,y):\n",
    "    X_aux, X_emb, y_aux, y_emb = train_test_split(x, y, test_size=0.95 ,shuffle=True)\n",
    "    r = (len(x)-len(x)*0.95)\n",
    "    X_emb = X_emb.append(X_aux.iloc[0:int(r)])\n",
    "    y_emb = y_emb.append(y_aux)\n",
    "    return (X_emb, y_emb)\n",
    "\n",
    "def cria(x,y):\n",
    "    X_aux, X_emb, y_aux, y_emb = train_test_split(x, y, test_size=0.95 ,shuffle=False)\n",
    "    r = (len(x)-len(x)*0.95)\n",
    "    X_emb = X_emb.append(X_aux.iloc[0:int(r)])\n",
    "    y_emb = y_emb.append(y_aux)\n",
    "    return (X_emb, y_emb)\n"
   ]
  },
  {
   "cell_type": "code",
   "execution_count": 9,
   "metadata": {},
   "outputs": [],
   "source": [
    "X_total, y_total = cria(df, Sick)"
   ]
  },
  {
   "cell_type": "code",
   "execution_count": 10,
   "metadata": {},
   "outputs": [],
   "source": [
    "from sklearn.decomposition import PCA\n",
    "from sklearn.preprocessing import StandardScaler\n",
    "sc = StandardScaler()"
   ]
  },
  {
   "cell_type": "code",
   "execution_count": null,
   "metadata": {
    "scrolled": true
   },
   "outputs": [],
   "source": [
    "X_total_centered = X_total - X_total.mean(axis=0)"
   ]
  },
  {
   "cell_type": "code",
   "execution_count": 11,
   "metadata": {},
   "outputs": [],
   "source": [
    "#Teste = grupo 1"
   ]
  },
  {
   "cell_type": "code",
   "execution_count": 12,
   "metadata": {
    "id": "kGmegMb_i11K",
    "outputId": "3f3f861d-43a0-4ee7-b7a0-95f7d23c80f8",
    "scrolled": true
   },
   "outputs": [
    {
     "name": "stdout",
     "output_type": "stream",
     "text": [
      "(780, 26) (780,)\n",
      "(260, 26) (260,)\n"
     ]
    }
   ],
   "source": [
    "X_test, X_train, y_test, y_train = train_test_split(df, Sick, test_size=0.75 ,shuffle=False)\n",
    "\n",
    "print(X_train.shape, y_train.shape)\n",
    "print(X_test.shape, y_test.shape)"
   ]
  },
  {
   "cell_type": "code",
   "execution_count": null,
   "metadata": {},
   "outputs": [],
   "source": [
    "X_train_centered = X_train - X_train.mean(axis=0)\n",
    "X_test_centered = X_test - X_train.mean(axis=0)"
   ]
  },
  {
   "cell_type": "code",
   "execution_count": null,
   "metadata": {
    "scrolled": false
   },
   "outputs": [],
   "source": [
    "pca = PCA(n_components=2)\n",
    "pca.fit(X_train_centered)"
   ]
  },
  {
   "cell_type": "code",
   "execution_count": null,
   "metadata": {},
   "outputs": [],
   "source": [
    "PCA_train = pca.transform(X_train_centered)\n",
    "PCA_test = pca.transform(X_test_centered)"
   ]
  },
  {
   "cell_type": "code",
   "execution_count": null,
   "metadata": {},
   "outputs": [],
   "source": [
    "#-------------------------------------"
   ]
  },
  {
   "cell_type": "code",
   "execution_count": null,
   "metadata": {},
   "outputs": [],
   "source": [
    "#Teste = grupo 2"
   ]
  },
  {
   "cell_type": "code",
   "execution_count": 13,
   "metadata": {},
   "outputs": [
    {
     "name": "stdout",
     "output_type": "stream",
     "text": [
      "(520, 26) (520,)\n",
      "(520, 26) (520,)\n"
     ]
    }
   ],
   "source": [
    "\n",
    "X_test2, X_train2, y_test2, y_train2 = train_test_split(df, Sick, test_size=0.5 ,shuffle=False)\n",
    "\n",
    "print(X_train2.shape, y_train2.shape)\n",
    "print(X_test2.shape, y_test2.shape)"
   ]
  },
  {
   "cell_type": "code",
   "execution_count": 14,
   "metadata": {},
   "outputs": [
    {
     "name": "stdout",
     "output_type": "stream",
     "text": [
      "(260, 26) (260,)\n"
     ]
    }
   ],
   "source": [
    "X_aux, X_test2, y_aux, y_test2 = train_test_split(X_test2, y_test2, test_size=0.5 ,shuffle=False)\n",
    "print(X_test2.shape, y_test2.shape)"
   ]
  },
  {
   "cell_type": "code",
   "execution_count": 15,
   "metadata": {},
   "outputs": [],
   "source": [
    "X_train2 = X_aux.append(X_train2)\n",
    "y_train2 = y_aux.append(y_train2)"
   ]
  },
  {
   "cell_type": "code",
   "execution_count": null,
   "metadata": {},
   "outputs": [],
   "source": [
    "X_train2_centered = X_train2 - X_train2.mean(axis=0)\n",
    "X_test2_centered = X_test2 - X_train2.mean(axis=0)"
   ]
  },
  {
   "cell_type": "code",
   "execution_count": null,
   "metadata": {},
   "outputs": [],
   "source": [
    "pca = PCA(n_components=2)\n",
    "pca.fit(X_train2_centered)"
   ]
  },
  {
   "cell_type": "code",
   "execution_count": null,
   "metadata": {},
   "outputs": [],
   "source": [
    "PCA_train2 = pca.transform(X_train2_centered)\n",
    "PCA_test2 = pca.transform(X_test2_centered)"
   ]
  },
  {
   "cell_type": "code",
   "execution_count": null,
   "metadata": {},
   "outputs": [],
   "source": [
    "#-------------------------------------"
   ]
  },
  {
   "cell_type": "code",
   "execution_count": 16,
   "metadata": {},
   "outputs": [],
   "source": [
    "#Teste = grupo 3"
   ]
  },
  {
   "cell_type": "code",
   "execution_count": 17,
   "metadata": {},
   "outputs": [
    {
     "name": "stdout",
     "output_type": "stream",
     "text": [
      "(520, 26) (520,)\n",
      "(520, 26) (520,)\n"
     ]
    }
   ],
   "source": [
    "\n",
    "X_train3, X_test3, y_train3, y_test3 = train_test_split(df, Sick, test_size=0.5 ,shuffle=False)\n",
    "\n",
    "print(X_train3.shape, y_train3.shape)\n",
    "print(X_test3.shape, y_test3.shape)"
   ]
  },
  {
   "cell_type": "code",
   "execution_count": 18,
   "metadata": {
    "scrolled": true
   },
   "outputs": [
    {
     "name": "stdout",
     "output_type": "stream",
     "text": [
      "(260, 26) (260,)\n",
      "(260, 26) (260,)\n"
     ]
    }
   ],
   "source": [
    "X_test3, X_aux, y_test3, y_aux = train_test_split(X_test3, y_test3, test_size=0.5 ,shuffle=False)\n",
    "\n",
    "print(X_test3.shape, y_test3.shape)\n",
    "print(X_aux.shape, y_aux.shape)"
   ]
  },
  {
   "cell_type": "code",
   "execution_count": 19,
   "metadata": {},
   "outputs": [],
   "source": [
    "X_train3 = X_train3.append(X_aux)\n",
    "y_train3 = y_train3.append(y_aux)"
   ]
  },
  {
   "cell_type": "code",
   "execution_count": null,
   "metadata": {
    "scrolled": true
   },
   "outputs": [],
   "source": [
    "X_train3_centered = X_train3 - X_train3.mean(axis=0)\n",
    "X_test3_centered = X_test3 - X_train3.mean(axis=0)"
   ]
  },
  {
   "cell_type": "code",
   "execution_count": null,
   "metadata": {},
   "outputs": [],
   "source": [
    "pca = PCA(n_components=2)\n",
    "pca.fit(X_train3_centered)"
   ]
  },
  {
   "cell_type": "code",
   "execution_count": null,
   "metadata": {},
   "outputs": [],
   "source": [
    "PCA_train3 = pca.transform(X_train3_centered)\n",
    "PCA_test3 = pca.transform(X_test3_centered)"
   ]
  },
  {
   "cell_type": "code",
   "execution_count": null,
   "metadata": {},
   "outputs": [],
   "source": [
    "#-------------------------------------"
   ]
  },
  {
   "cell_type": "code",
   "execution_count": 20,
   "metadata": {},
   "outputs": [],
   "source": [
    "#Teste = grupo 4"
   ]
  },
  {
   "cell_type": "code",
   "execution_count": 21,
   "metadata": {},
   "outputs": [
    {
     "name": "stdout",
     "output_type": "stream",
     "text": [
      "(780, 26) (780,)\n",
      "(260, 26) (260,)\n"
     ]
    }
   ],
   "source": [
    "\n",
    "X_train4, X_test4, y_train4, y_test4 = train_test_split(df, Sick, test_size=0.25 ,shuffle=False)\n",
    "\n",
    "print(X_train4.shape, y_train4.shape)\n",
    "print(X_test4.shape, y_test4.shape)"
   ]
  },
  {
   "cell_type": "code",
   "execution_count": null,
   "metadata": {},
   "outputs": [],
   "source": [
    "X_train4_centered = X_train4 - X_train4.mean(axis=0)\n",
    "X_test4_centered = X_test4 - X_train4.mean(axis=0)"
   ]
  },
  {
   "cell_type": "code",
   "execution_count": null,
   "metadata": {},
   "outputs": [],
   "source": [
    "pca = PCA(n_components=2)\n",
    "pca.fit(X_train4_centered)"
   ]
  },
  {
   "cell_type": "code",
   "execution_count": null,
   "metadata": {},
   "outputs": [],
   "source": [
    "PCA_train4 = pca.transform(X_train4_centered)\n",
    "PCA_test4 = pca.transform(X_test4_centered)"
   ]
  },
  {
   "cell_type": "code",
   "execution_count": null,
   "metadata": {},
   "outputs": [],
   "source": [
    "#-------------------------------------"
   ]
  },
  {
   "cell_type": "code",
   "execution_count": 22,
   "metadata": {},
   "outputs": [
    {
     "name": "stdout",
     "output_type": "stream",
     "text": [
      "Automatically created module for IPython interactive environment\n"
     ]
    }
   ],
   "source": [
    "#Checando feature importance\n",
    "\n",
    "\n",
    "print(__doc__)\n",
    "import matplotlib.pyplot as plt"
   ]
  },
  {
   "cell_type": "code",
   "execution_count": 23,
   "metadata": {},
   "outputs": [],
   "source": [
    "X_train, X_test, y_train, y_test = train_test_split(df, Sick, stratify=Sick, random_state=42)"
   ]
  },
  {
   "cell_type": "code",
   "execution_count": 26,
   "metadata": {},
   "outputs": [
    {
     "data": {
      "text/plain": [
       "RandomForestClassifier(bootstrap=True, ccp_alpha=0.0, class_weight=None,\n",
       "                       criterion='gini', max_depth=None, max_features='auto',\n",
       "                       max_leaf_nodes=None, max_samples=None,\n",
       "                       min_impurity_decrease=0.0, min_impurity_split=None,\n",
       "                       min_samples_leaf=1, min_samples_split=2,\n",
       "                       min_weight_fraction_leaf=0.0, n_estimators=100,\n",
       "                       n_jobs=None, oob_score=False, random_state=0, verbose=0,\n",
       "                       warm_start=False)"
      ]
     },
     "execution_count": 26,
     "metadata": {},
     "output_type": "execute_result"
    }
   ],
   "source": [
    "from sklearn.ensemble import RandomForestClassifier\n",
    "\n",
    "feature_names = [f'feature {i}' for i in range(df.shape[1])]\n",
    "forest = RandomForestClassifier(random_state=0)\n",
    "forest.fit(X_train, y_train)"
   ]
  },
  {
   "cell_type": "code",
   "execution_count": 27,
   "metadata": {},
   "outputs": [
    {
     "name": "stdout",
     "output_type": "stream",
     "text": [
      "Elapsed time to compute the importances: 0.013 seconds\n"
     ]
    }
   ],
   "source": [
    "import time\n",
    "\n",
    "start_time = time.time()\n",
    "importances = forest.feature_importances_\n",
    "std = np.std([\n",
    "    tree.feature_importances_ for tree in forest.estimators_], axis=0)\n",
    "elapsed_time = time.time() - start_time\n",
    "\n",
    "print(f\"Elapsed time to compute the importances: \"\n",
    "      f\"{elapsed_time:.3f} seconds\")"
   ]
  },
  {
   "cell_type": "code",
   "execution_count": 28,
   "metadata": {
    "scrolled": true
   },
   "outputs": [
    {
     "data": {
      "image/png": "[encoded data removed]",
      "text/plain": [
       "<Figure size 432x288 with 1 Axes>"
      ]
     },
     "metadata": {
      "needs_background": "light"
     },
     "output_type": "display_data"
    }
   ],
   "source": [
    "forest_importances = pd.Series(importances, index=feature_names)\n",
    "\n",
    "fig, ax = plt.subplots()\n",
    "forest_importances.plot.bar(yerr=std, ax=ax)\n",
    "ax.set_title(\"Feature importances using MDI\")\n",
    "ax.set_ylabel(\"Mean decrease in impurity\")\n",
    "fig.tight_layout()"
   ]
  },
  {
   "cell_type": "code",
   "execution_count": 29,
   "metadata": {},
   "outputs": [
    {
     "name": "stdout",
     "output_type": "stream",
     "text": [
      "Elapsed time to compute the importances: 2.315 seconds\n"
     ]
    }
   ],
   "source": [
    "from sklearn.inspection import permutation_importance\n",
    "\n",
    "start_time = time.time()\n",
    "result = permutation_importance(\n",
    "    forest, X_test, y_test, n_repeats=10, random_state=42, n_jobs=2)\n",
    "elapsed_time = time.time() - start_time\n",
    "print(f\"Elapsed time to compute the importances: \"\n",
    "      f\"{elapsed_time:.3f} seconds\")\n",
    "\n",
    "forest_importances = pd.Series(result.importances_mean, index=feature_names)"
   ]
  },
  {
   "cell_type": "code",
   "execution_count": 30,
   "metadata": {
    "scrolled": true
   },
   "outputs": [
    {
     "data": {
      "image/png": "[encoded data removed]",
      "text/plain": [
       "<Figure size 432x288 with 1 Axes>"
      ]
     },
     "metadata": {
      "needs_background": "light"
     },
     "output_type": "display_data"
    }
   ],
   "source": [
    "fig, ax = plt.subplots()\n",
    "forest_importances.plot.bar(yerr=result.importances_std, ax=ax)\n",
    "ax.set_title(\"Feature importances using permutation on full model\")\n",
    "ax.set_ylabel(\"Mean accuracy decrease\")\n",
    "fig.tight_layout()\n",
    "plt.show()"
   ]
  },
  {
   "cell_type": "code",
   "execution_count": null,
   "metadata": {},
   "outputs": [],
   "source": []
  },
  {
   "cell_type": "code",
   "execution_count": null,
   "metadata": {},
   "outputs": [],
   "source": [
    "#------------------------------------"
   ]
  },
  {
   "cell_type": "code",
   "execution_count": null,
   "metadata": {},
   "outputs": [],
   "source": [
    "#embaralhando (não embaralhar)\n",
    "#X_train, y_train = embaralha(X_train, y_train)\n",
    "#X_test, y_test = embaralha(X_test, y_test)\n",
    "\n",
    "#X_train2, y_train2 = embaralha(X_train2, y_train2)\n",
    "#X_test2, y_test2 = embaralha(X_test2, y_test2)\n",
    "\n",
    "#X_train3, y_train3 = embaralha(X_train3, y_train3)\n",
    "#X_test3, y_test3 = embaralha(X_test3, y_test3)\n",
    "\n",
    "#X_train4, y_train4 = embaralha(X_train4, y_train4)\n",
    "#X_test4, y_test4 = embaralha(X_test4, y_test4)\n"
   ]
  },
  {
   "cell_type": "code",
   "execution_count": null,
   "metadata": {
    "id": "Asli1Qg3i11Q"
   },
   "outputs": [],
   "source": [
    "#Normalizando os dados\n",
    "\n",
    "sc = StandardScaler()  \n",
    "X_train = sc.fit_transform(X_train)\n",
    "X_test = sc.fit_transform(X_test)\n",
    "\n",
    "X_train2 = sc.fit_transform(X_train2)\n",
    "X_test2 = sc.fit_transform(X_test2)\n",
    "\n",
    "X_train3 = sc.fit_transform(X_train3)\n",
    "X_test3 = sc.fit_transform(X_test3)\n",
    "\n",
    "X_train4 = sc.fit_transform(X_train4)\n",
    "X_test4 = sc.fit_transform(X_test4)\n"
   ]
  },
  {
   "cell_type": "code",
   "execution_count": null,
   "metadata": {},
   "outputs": [],
   "source": [
    "PCA_train = sc.fit_transform(PCA_train)\n",
    "PCA_train2 = sc.fit_transform(PCA_train2)\n",
    "PCA_train3 = sc.fit_transform(PCA_train3)\n",
    "PCA_train4 = sc.fit_transform(PCA_train4)\n",
    "\n",
    "PCA_test = sc.fit_transform(PCA_test)\n",
    "PCA_test2 = sc.fit_transform(PCA_test2)\n",
    "PCA_test3 = sc.fit_transform(PCA_test3)\n",
    "PCA_test4 = sc.fit_transform(PCA_test4)\n"
   ]
  },
  {
   "cell_type": "code",
   "execution_count": null,
   "metadata": {},
   "outputs": [],
   "source": [
    "X_total = sc.fit_transform(X_total)"
   ]
  },
  {
   "cell_type": "code",
   "execution_count": null,
   "metadata": {},
   "outputs": [],
   "source": [
    "#####################################################\n",
    "#Aplicação SVM Linear\n",
    "#####################################################"
   ]
  },
  {
   "cell_type": "code",
   "execution_count": null,
   "metadata": {
    "id": "8S6yVFQ_i11R"
   },
   "outputs": [],
   "source": [
    "from sklearn import svm\n",
    "from sklearn.metrics import classification_report, confusion_matrix, accuracy_score"
   ]
  },
  {
   "cell_type": "code",
   "execution_count": null,
   "metadata": {},
   "outputs": [],
   "source": [
    "## Aplicação de Hiperparâmetros GRUPO 1\n",
    "from sklearn.model_selection import GridSearchCV\n",
    "\n",
    "param_grid = {'C': [0.1, 1, 10, 100, 1000],\n",
    "              'gamma': [0.0001, 0.0005, 0.001, 0.005, 0.01, 0.05, 0.1, 0.5]}\n",
    "\n",
    "Grid = svm.SVC \n",
    "modelo_SvmLin = GridSearchCV(Grid(kernel='linear'), param_grid, cv=5)\n",
    "modelo_SvmLin.fit(X_train, y_train)"
   ]
  },
  {
   "cell_type": "code",
   "execution_count": null,
   "metadata": {},
   "outputs": [],
   "source": [
    "modelo_SvmLin.best_estimator_"
   ]
  },
  {
   "cell_type": "code",
   "execution_count": null,
   "metadata": {},
   "outputs": [],
   "source": [
    "#SVM Linear aplicado\n",
    "\n",
    "modelo_SvmLin = svm.SVC(C=100, break_ties=False, cache_size=200, class_weight=None, coef0=0.0,\n",
    "    decision_function_shape='ovr', degree=3, gamma=0.0001, kernel='linear',\n",
    "    max_iter=-1, probability=False, random_state=None, shrinking=True,\n",
    "    tol=0.001, verbose=False)\n",
    "\n",
    "modelo_SvmLin.fit(X_train, y_train)"
   ]
  },
  {
   "cell_type": "code",
   "execution_count": null,
   "metadata": {},
   "outputs": [],
   "source": [
    "y_pred_modelLin = modelo_SvmLin.predict(X_test)\n",
    "y_pred_modelLin"
   ]
  },
  {
   "cell_type": "code",
   "execution_count": null,
   "metadata": {},
   "outputs": [],
   "source": [
    "## Aplicação de Hiperparâmetros GRUPO 2\n",
    "from sklearn.model_selection import GridSearchCV\n",
    "\n",
    "param_grid = {'C': [0.1, 1, 10, 100, 1000],\n",
    "              'gamma': [0.0001, 0.0005, 0.001, 0.005, 0.01, 0.05, 0.1, 0.5]}\n",
    "\n",
    "Grid = svm.SVC \n",
    "modelo_SvmLin2 = GridSearchCV(Grid(kernel='linear'), param_grid, cv=5)\n",
    "modelo_SvmLin2.fit(X_train2, y_train2)"
   ]
  },
  {
   "cell_type": "code",
   "execution_count": null,
   "metadata": {},
   "outputs": [],
   "source": [
    "modelo_SvmLin2.best_estimator_"
   ]
  },
  {
   "cell_type": "code",
   "execution_count": null,
   "metadata": {},
   "outputs": [],
   "source": [
    "#SVM Linear aplicado\n",
    "\n",
    "modelo_SvmLin2 = svm.SVC(C=100, break_ties=False, cache_size=200, class_weight=None, coef0=0.0,\n",
    "    decision_function_shape='ovr', degree=3, gamma=0.0001, kernel='linear',\n",
    "    max_iter=-1, probability=False, random_state=None, shrinking=True,\n",
    "    tol=0.001, verbose=False)\n",
    "\n",
    "modelo_SvmLin2.fit(X_train2, y_train2)"
   ]
  },
  {
   "cell_type": "code",
   "execution_count": null,
   "metadata": {},
   "outputs": [],
   "source": [
    "y_pred_Lin2 = modelo_SvmLin2.predict(X_test2)"
   ]
  },
  {
   "cell_type": "code",
   "execution_count": null,
   "metadata": {},
   "outputs": [],
   "source": [
    "y_pred_modelLin = np.append(y_pred_modelLin, y_pred_Lin2)\n",
    "y_pred_modelLin"
   ]
  },
  {
   "cell_type": "code",
   "execution_count": null,
   "metadata": {},
   "outputs": [],
   "source": [
    "## Aplicação de Hiperparâmetros GRUPO 3\n",
    "from sklearn.model_selection import GridSearchCV\n",
    "\n",
    "param_grid = {'C': [0.1, 1, 10, 100, 1000],\n",
    "              'gamma': [0.0001, 0.0005, 0.001, 0.005, 0.01, 0.05, 0.1, 0.5]}\n",
    "\n",
    "Grid = svm.SVC \n",
    "modelo_SvmLin3 = GridSearchCV(Grid(kernel='linear'), param_grid, cv=5)\n",
    "modelo_SvmLin3.fit(X_train3, y_train3)"
   ]
  },
  {
   "cell_type": "code",
   "execution_count": null,
   "metadata": {},
   "outputs": [],
   "source": [
    "modelo_SvmLin3.best_estimator_"
   ]
  },
  {
   "cell_type": "code",
   "execution_count": null,
   "metadata": {},
   "outputs": [],
   "source": [
    "#SVM Linear aplicado\n",
    "\n",
    "modelo_SvmLin3 = svm.SVC(C=100, break_ties=False, cache_size=200, class_weight=None, coef0=0.0,\n",
    "    decision_function_shape='ovr', degree=3, gamma=0.0001, kernel='linear',\n",
    "    max_iter=-1, probability=False, random_state=None, shrinking=True,\n",
    "    tol=0.001, verbose=False)\n",
    "\n",
    "modelo_SvmLin3.fit(X_train3, y_train3)"
   ]
  },
  {
   "cell_type": "code",
   "execution_count": null,
   "metadata": {},
   "outputs": [],
   "source": [
    "y_pred_Lin3 = modelo_SvmLin3.predict(X_test3)"
   ]
  },
  {
   "cell_type": "code",
   "execution_count": null,
   "metadata": {},
   "outputs": [],
   "source": [
    "y_pred_modelLin = np.append(y_pred_modelLin, y_pred_Lin3)\n",
    "y_pred_modelLin"
   ]
  },
  {
   "cell_type": "code",
   "execution_count": null,
   "metadata": {},
   "outputs": [],
   "source": [
    "## Aplicação de Hiperparâmetros GRUPO 4\n",
    "from sklearn.model_selection import GridSearchCV\n",
    "\n",
    "param_grid = {'C': [0.1, 1, 10, 100, 1000],\n",
    "              'gamma': [0.0001, 0.0005, 0.001, 0.005, 0.01, 0.05, 0.1, 0.5]}\n",
    "\n",
    "Grid = svm.SVC \n",
    "modelo_SvmLin4 = GridSearchCV(Grid(kernel='linear'), param_grid, cv=5)\n",
    "modelo_SvmLin4.fit(X_train4, y_train4)"
   ]
  },
  {
   "cell_type": "code",
   "execution_count": null,
   "metadata": {},
   "outputs": [],
   "source": [
    "modelo_SvmLin4.best_estimator_"
   ]
  },
  {
   "cell_type": "code",
   "execution_count": null,
   "metadata": {},
   "outputs": [],
   "source": [
    "#SVM Linear aplicado\n",
    "\n",
    "modelo_SvmLin4 = svm.SVC(C=0.1, break_ties=False, cache_size=200, class_weight=None, coef0=0.0,\n",
    "    decision_function_shape='ovr', degree=3, gamma=0.0001, kernel='linear',\n",
    "    max_iter=-1, probability=False, random_state=None, shrinking=True,\n",
    "    tol=0.001, verbose=False)\n",
    "\n",
    "modelo_SvmLin4.fit(X_train4, y_train4)"
   ]
  },
  {
   "cell_type": "code",
   "execution_count": null,
   "metadata": {},
   "outputs": [],
   "source": [
    "y_pred_Lin4 = modelo_SvmLin4.predict(X_test4)"
   ]
  },
  {
   "cell_type": "code",
   "execution_count": null,
   "metadata": {},
   "outputs": [],
   "source": [
    "y_pred_modelLin = np.append(y_pred_modelLin, y_pred_Lin4)\n",
    "y_pred_modelLin"
   ]
  },
  {
   "cell_type": "code",
   "execution_count": null,
   "metadata": {},
   "outputs": [],
   "source": [
    "###########\n",
    "y_pred_modelLin.shape"
   ]
  },
  {
   "cell_type": "code",
   "execution_count": null,
   "metadata": {},
   "outputs": [],
   "source": [
    "# Acurácia\n",
    "print(\"Acurácia com K-fold SVM Linear:\", accuracy_score(y_total, y_pred_modelLin))"
   ]
  },
  {
   "cell_type": "code",
   "execution_count": null,
   "metadata": {},
   "outputs": [],
   "source": [
    "print(confusion_matrix(y_total, y_pred_modelLin))\n",
    "print(classification_report(y_total, y_pred_modelLin))\n",
    "print(\"Acurácia Polinomial:\", accuracy_score(y_total, y_pred_modelLin))"
   ]
  },
  {
   "cell_type": "code",
   "execution_count": null,
   "metadata": {},
   "outputs": [],
   "source": []
  },
  {
   "cell_type": "code",
   "execution_count": null,
   "metadata": {
    "id": "yi5T7qiyi11Q"
   },
   "outputs": [],
   "source": [
    "#####################################################\n",
    "#Aplicação SVM Polinomial\n",
    "#####################################################"
   ]
  },
  {
   "cell_type": "code",
   "execution_count": null,
   "metadata": {
    "id": "cIfdYo5Mi11c",
    "outputId": "fa5cbd8a-20c0-419e-a4ec-18eaf7d79a0a"
   },
   "outputs": [],
   "source": [
    "## Aplicação de Hiperparâmetros GRUPO 1\n",
    "from sklearn.model_selection import GridSearchCV\n",
    "\n",
    "param_grid = {'C': [0.1, 1, 10, 100, 1000],\n",
    "              'gamma': [0.0001, 0.0005, 0.001, 0.005, 0.01, 0.05, 0.1, 0.5]}\n",
    "\n",
    "Grid = svm.SVC \n",
    "modelo_SvmPoly = GridSearchCV(Grid(kernel='poly'), param_grid, cv=5)\n",
    "modelo_SvmPoly.fit(X_train, y_train)"
   ]
  },
  {
   "cell_type": "code",
   "execution_count": null,
   "metadata": {},
   "outputs": [],
   "source": [
    "modelo_SvmPoly.best_estimator_"
   ]
  },
  {
   "cell_type": "code",
   "execution_count": null,
   "metadata": {
    "id": "iwuMLSRpi11S",
    "outputId": "31c16f3e-2d31-46d5-b5b5-744d06b2bdd5"
   },
   "outputs": [],
   "source": [
    "#SVM polinomial aplicado\n",
    "\n",
    "modelo_SvmPoly = svm.SVC(C=0.1, break_ties=False, cache_size=200, class_weight=None, coef0=0.0,\n",
    "    decision_function_shape='ovr', degree=3, gamma=0.1, kernel='poly',\n",
    "    max_iter=-1, probability=False, random_state=None, shrinking=True,\n",
    "    tol=0.001, verbose=False)\n",
    "\n",
    "modelo_SvmPoly.fit(X_train, y_train)"
   ]
  },
  {
   "cell_type": "code",
   "execution_count": null,
   "metadata": {},
   "outputs": [],
   "source": [
    "y_pred_modelPoly= modelo_SvmPoly.predict(X_test)\n",
    "y_pred_modelPoly"
   ]
  },
  {
   "cell_type": "code",
   "execution_count": null,
   "metadata": {},
   "outputs": [],
   "source": [
    "#----------------------------------------"
   ]
  },
  {
   "cell_type": "code",
   "execution_count": null,
   "metadata": {},
   "outputs": [],
   "source": [
    "## Aplicação de Hiperparâmetros GRUPO 2\n",
    "from sklearn.model_selection import GridSearchCV\n",
    "\n",
    "param_grid = {'C': [0.1, 1, 10, 100, 1000],\n",
    "              'gamma': [0.0001, 0.0005, 0.001, 0.005, 0.01, 0.05, 0.1, 0.5]}\n",
    "\n",
    "Grid = svm.SVC \n",
    "modelo_SvmPoly2 = GridSearchCV(Grid(kernel='poly'), param_grid, cv=5)\n",
    "modelo_SvmPoly2.fit(X_train2, y_train2)"
   ]
  },
  {
   "cell_type": "code",
   "execution_count": null,
   "metadata": {},
   "outputs": [],
   "source": [
    "modelo_SvmPoly2.best_estimator_"
   ]
  },
  {
   "cell_type": "code",
   "execution_count": null,
   "metadata": {},
   "outputs": [],
   "source": [
    "#SVM polinomial aplicado\n",
    "\n",
    "modelo_SvmPoly2 = svm.SVC(C=0.1, break_ties=False, cache_size=200, class_weight=None, coef0=0.0,\n",
    "    decision_function_shape='ovr', degree=3, gamma=0.1, kernel='poly',\n",
    "    max_iter=-1, probability=False, random_state=None, shrinking=True,\n",
    "    tol=0.001, verbose=False)\n",
    "\n",
    "modelo_SvmPoly2.fit(X_train2, y_train2)"
   ]
  },
  {
   "cell_type": "code",
   "execution_count": null,
   "metadata": {},
   "outputs": [],
   "source": [
    "y_pred2 = modelo_SvmPoly2.predict(X_test2)"
   ]
  },
  {
   "cell_type": "code",
   "execution_count": null,
   "metadata": {},
   "outputs": [],
   "source": [
    "y_pred_modelPoly = np.append(y_pred_modelPoly, y_pred2)\n",
    "y_pred_modelPoly"
   ]
  },
  {
   "cell_type": "code",
   "execution_count": null,
   "metadata": {},
   "outputs": [],
   "source": [
    "#---------------------------------------------"
   ]
  },
  {
   "cell_type": "code",
   "execution_count": null,
   "metadata": {},
   "outputs": [],
   "source": [
    "## Aplicação de Hiperparâmetros GRUPO 3\n",
    "from sklearn.model_selection import GridSearchCV\n",
    "\n",
    "param_grid = {'C': [0.1, 1, 10, 100, 1000],\n",
    "              'gamma': [0.0001, 0.0005, 0.001, 0.005, 0.01, 0.05, 0.1, 0.5]}\n",
    "\n",
    "Grid = svm.SVC \n",
    "modelo_SvmPoly3 = GridSearchCV(Grid(kernel='poly'), param_grid, cv=5)\n",
    "modelo_SvmPoly3.fit(X_train3, y_train3)"
   ]
  },
  {
   "cell_type": "code",
   "execution_count": null,
   "metadata": {},
   "outputs": [],
   "source": [
    "modelo_SvmPoly3.best_estimator_"
   ]
  },
  {
   "cell_type": "code",
   "execution_count": null,
   "metadata": {},
   "outputs": [],
   "source": [
    "#SVM polinomial aplicado\n",
    "\n",
    "modelo_SvmPoly3 = svm.SVC(C=100, break_ties=False, cache_size=200, class_weight=None, coef0=0.0,\n",
    "    decision_function_shape='ovr', degree=3, gamma=0.5, kernel='poly',\n",
    "    max_iter=-1, probability=False, random_state=None, shrinking=True,\n",
    "    tol=0.001, verbose=False)\n",
    "\n",
    "modelo_SvmPoly3.fit(X_train3, y_train3)"
   ]
  },
  {
   "cell_type": "code",
   "execution_count": null,
   "metadata": {},
   "outputs": [],
   "source": [
    "y_pred3 = modelo_SvmPoly3.predict(X_test3)"
   ]
  },
  {
   "cell_type": "code",
   "execution_count": null,
   "metadata": {
    "scrolled": true
   },
   "outputs": [],
   "source": [
    "y_pred_modelPoly = np.append(y_pred_modelPoly, y_pred3)\n",
    "y_pred_modelPoly"
   ]
  },
  {
   "cell_type": "code",
   "execution_count": null,
   "metadata": {},
   "outputs": [],
   "source": [
    "#---------------------------------------------"
   ]
  },
  {
   "cell_type": "code",
   "execution_count": null,
   "metadata": {},
   "outputs": [],
   "source": [
    "## Aplicação de Hiperparâmetros GRUPO 4\n",
    "from sklearn.model_selection import GridSearchCV\n",
    "\n",
    "param_grid = {'C': [0.1, 1, 10, 100, 1000],\n",
    "              'gamma': [0.0001, 0.0005, 0.001, 0.005, 0.01, 0.05, 0.1, 0.5]}\n",
    "\n",
    "Grid = svm.SVC \n",
    "modelo_SvmPoly4 = GridSearchCV(Grid(kernel='poly'), param_grid, cv=5)\n",
    "modelo_SvmPoly4.fit(X_train4, y_train4)"
   ]
  },
  {
   "cell_type": "code",
   "execution_count": null,
   "metadata": {},
   "outputs": [],
   "source": [
    "modelo_SvmPoly4.best_estimator_"
   ]
  },
  {
   "cell_type": "code",
   "execution_count": null,
   "metadata": {},
   "outputs": [],
   "source": [
    "#SVM polinomial aplicado\n",
    "\n",
    "modelo_SvmPoly4 = svm.SVC(C=10, break_ties=False, cache_size=200, class_weight=None, coef0=0.0,\n",
    "    decision_function_shape='ovr', degree=3, gamma=0.5, kernel='poly',\n",
    "    max_iter=-1, probability=False, random_state=None, shrinking=True,\n",
    "    tol=0.001, verbose=False)\n",
    "\n",
    "modelo_SvmPoly4.fit(X_train4, y_train4)"
   ]
  },
  {
   "cell_type": "code",
   "execution_count": null,
   "metadata": {},
   "outputs": [],
   "source": [
    "y_pred4 = modelo_SvmPoly4.predict(X_test4)"
   ]
  },
  {
   "cell_type": "code",
   "execution_count": null,
   "metadata": {},
   "outputs": [],
   "source": [
    "y_pred_modelPoly = np.append(y_pred_modelPoly, y_pred4)\n",
    "print(len(y_pred_modelPoly))"
   ]
  },
  {
   "cell_type": "code",
   "execution_count": null,
   "metadata": {},
   "outputs": [],
   "source": [
    "#------------------------------------------"
   ]
  },
  {
   "cell_type": "code",
   "execution_count": null,
   "metadata": {},
   "outputs": [],
   "source": [
    "y_pred_modelPoly.shape"
   ]
  },
  {
   "cell_type": "code",
   "execution_count": null,
   "metadata": {},
   "outputs": [],
   "source": [
    "# Acurácia\n",
    "print(\"Acurácia com K-fold SVM POlinomial:\", accuracy_score(y_total, y_pred_modelPoly))"
   ]
  },
  {
   "cell_type": "code",
   "execution_count": null,
   "metadata": {
    "id": "G72XHaTui11T",
    "outputId": "c024fbcd-9ad7-4389-f2a6-bbacf661deb8"
   },
   "outputs": [],
   "source": [
    "print(confusion_matrix(y_total, y_pred_modelPoly))\n",
    "print(classification_report(y_total, y_pred_modelPoly))\n",
    "print(\"Acurácia Polinomial:\", accuracy_score(y_total, y_pred_modelPoly))"
   ]
  },
  {
   "cell_type": "code",
   "execution_count": null,
   "metadata": {
    "id": "kfBcLH-di11U"
   },
   "outputs": [],
   "source": [
    "#############################################"
   ]
  },
  {
   "cell_type": "code",
   "execution_count": null,
   "metadata": {
    "id": "6wTHJ2OSi11V"
   },
   "outputs": [],
   "source": [
    "## MODELO SVM com Kernel RBF"
   ]
  },
  {
   "cell_type": "code",
   "execution_count": null,
   "metadata": {},
   "outputs": [],
   "source": [
    "## Aplicação de Hiperparâmetros GRUPO 1\n",
    "from sklearn.model_selection import GridSearchCV\n",
    "\n",
    "param_grid = {'C': [0.1, 1, 10, 100, 1000],\n",
    "              'gamma': [0.0001, 0.0005, 0.001, 0.005, 0.01, 0.05, 0.1, 0.5]}\n",
    "\n",
    "Grid = svm.SVC \n",
    "modelo_SvmRBF = GridSearchCV(Grid(kernel='rbf'), param_grid, cv=5)\n",
    "modelo_SvmRBF.fit(X_train, y_train)"
   ]
  },
  {
   "cell_type": "code",
   "execution_count": null,
   "metadata": {},
   "outputs": [],
   "source": [
    "modelo_SvmRBF.best_estimator_"
   ]
  },
  {
   "cell_type": "code",
   "execution_count": null,
   "metadata": {
    "id": "wa6BO_nKi11W",
    "outputId": "201bca82-b7d8-4e8e-d5aa-82a2ca9511b2",
    "scrolled": true
   },
   "outputs": [],
   "source": [
    "#Gerando o modelo com kernel RBF\n",
    "\n",
    "modelo_SvmRBF = svm.SVC(C=1, break_ties=False, cache_size=200, class_weight=None, coef0=0.0,\n",
    "    decision_function_shape='ovr', degree=3, gamma=0.1, kernel='rbf',\n",
    "    max_iter=-1, probability=False, random_state=None, shrinking=True,\n",
    "    tol=0.001, verbose=False) \n",
    "\n",
    "modelo_SvmRBF.fit(X_train, y_train)"
   ]
  },
  {
   "cell_type": "code",
   "execution_count": null,
   "metadata": {},
   "outputs": [],
   "source": [
    "y_pred_rbf = modelo_SvmRBF.predict(X_test)"
   ]
  },
  {
   "cell_type": "code",
   "execution_count": null,
   "metadata": {},
   "outputs": [],
   "source": [
    "#-----------------------------------------"
   ]
  },
  {
   "cell_type": "code",
   "execution_count": null,
   "metadata": {},
   "outputs": [],
   "source": [
    "## Aplicação de Hiperparâmetros GRUPO 2\n",
    "from sklearn.model_selection import GridSearchCV\n",
    "\n",
    "param_grid = {'C': [0.1, 1, 10, 100, 1000],\n",
    "              'gamma': [0.0001, 0.0005, 0.001, 0.005, 0.01, 0.05, 0.1, 0.5]}\n",
    "\n",
    "Grid = svm.SVC \n",
    "modelo_SvmRBF2 = GridSearchCV(Grid(kernel='rbf'), param_grid, cv=5)\n",
    "modelo_SvmRBF2.fit(X_train2, y_train2)"
   ]
  },
  {
   "cell_type": "code",
   "execution_count": null,
   "metadata": {},
   "outputs": [],
   "source": [
    "modelo_SvmRBF2.best_estimator_"
   ]
  },
  {
   "cell_type": "code",
   "execution_count": null,
   "metadata": {},
   "outputs": [],
   "source": [
    "#Gerando o modelo com kernel RBF\n",
    "\n",
    "modelo_SvmRBF2 = svm.SVC(C=10, break_ties=False, cache_size=200, class_weight=None, coef0=0.0,\n",
    "    decision_function_shape='ovr', degree=3, gamma=0.005, kernel='rbf',\n",
    "    max_iter=-1, probability=False, random_state=None, shrinking=True,\n",
    "    tol=0.001, verbose=False) \n",
    "\n",
    "modelo_SvmRBF2.fit(X_train2, y_train2)"
   ]
  },
  {
   "cell_type": "code",
   "execution_count": null,
   "metadata": {},
   "outputs": [],
   "source": [
    "y_pred_rbf2 = modelo_SvmRBF2.predict(X_test2)"
   ]
  },
  {
   "cell_type": "code",
   "execution_count": null,
   "metadata": {},
   "outputs": [],
   "source": [
    "y_pred_rbf = np.append(y_pred_rbf, y_pred_rbf2)\n",
    "y_pred_rbf"
   ]
  },
  {
   "cell_type": "code",
   "execution_count": null,
   "metadata": {},
   "outputs": [],
   "source": [
    "#----------------------------------------------------------"
   ]
  },
  {
   "cell_type": "code",
   "execution_count": null,
   "metadata": {},
   "outputs": [],
   "source": [
    "## Aplicação de Hiperparâmetros GRUPO 3\n",
    "from sklearn.model_selection import GridSearchCV\n",
    "\n",
    "param_grid = {'C': [0.1, 1, 10, 100, 1000],\n",
    "              'gamma': [0.0001, 0.0005, 0.001, 0.005, 0.01, 0.05, 0.1, 0.5]}\n",
    "\n",
    "Grid = svm.SVC \n",
    "modelo_SvmRBF3 = GridSearchCV(Grid(kernel='rbf'), param_grid, cv=5)\n",
    "modelo_SvmRBF3.fit(X_train3, y_train3)"
   ]
  },
  {
   "cell_type": "code",
   "execution_count": null,
   "metadata": {
    "scrolled": true
   },
   "outputs": [],
   "source": [
    "modelo_SvmRBF3.best_estimator_"
   ]
  },
  {
   "cell_type": "code",
   "execution_count": null,
   "metadata": {},
   "outputs": [],
   "source": [
    "#Gerando o modelo com kernel RBF\n",
    "\n",
    "modelo_SvmRBF3 = svm.SVC(C=0.1, break_ties=False, cache_size=200, class_weight=None, coef0=0.0,\n",
    "    decision_function_shape='ovr', degree=3, gamma=0.0005, kernel='rbf',\n",
    "    max_iter=-1, probability=False, random_state=None, shrinking=True,\n",
    "    tol=0.001, verbose=False) \n",
    "\n",
    "modelo_SvmRBF3.fit(X_train3, y_train3)"
   ]
  },
  {
   "cell_type": "code",
   "execution_count": null,
   "metadata": {},
   "outputs": [],
   "source": [
    "y_pred_rbf3 = modelo_SvmRBF3.predict(X_test3)"
   ]
  },
  {
   "cell_type": "code",
   "execution_count": null,
   "metadata": {},
   "outputs": [],
   "source": [
    "y_pred_rbf = np.append(y_pred_rbf, y_pred_rbf3)\n",
    "y_pred_rbf"
   ]
  },
  {
   "cell_type": "code",
   "execution_count": null,
   "metadata": {},
   "outputs": [],
   "source": [
    "#--------------------------------------------"
   ]
  },
  {
   "cell_type": "code",
   "execution_count": null,
   "metadata": {},
   "outputs": [],
   "source": [
    "## Aplicação de Hiperparâmetros GRUPO 4\n",
    "from sklearn.model_selection import GridSearchCV\n",
    "\n",
    "param_grid = {'C': [0.1, 1, 10, 100, 1000],\n",
    "              'gamma': [0.0001, 0.0005, 0.001, 0.005, 0.01, 0.05, 0.1, 0.5]}\n",
    "\n",
    "Grid = svm.SVC \n",
    "modelo_SvmRBF4 = GridSearchCV(Grid(kernel='rbf'), param_grid, cv=5)\n",
    "modelo_SvmRBF4.fit(X_train4, y_train4)"
   ]
  },
  {
   "cell_type": "code",
   "execution_count": null,
   "metadata": {},
   "outputs": [],
   "source": [
    "modelo_SvmRBF4.best_estimator_"
   ]
  },
  {
   "cell_type": "code",
   "execution_count": null,
   "metadata": {},
   "outputs": [],
   "source": [
    "#Gerando o modelo com kernel RBF\n",
    "\n",
    "modelo_SvmRBF4 = svm.SVC(C=1000, break_ties=False, cache_size=200, class_weight=None, coef0=0.0,\n",
    "    decision_function_shape='ovr', degree=3, gamma=0.05, kernel='rbf',\n",
    "    max_iter=-1, probability=False, random_state=None, shrinking=True,\n",
    "    tol=0.001, verbose=False) \n",
    "\n",
    "modelo_SvmRBF4.fit(X_train4, y_train4)"
   ]
  },
  {
   "cell_type": "code",
   "execution_count": null,
   "metadata": {},
   "outputs": [],
   "source": [
    "y_pred_rbf4 = modelo_SvmRBF4.predict(X_test4)"
   ]
  },
  {
   "cell_type": "code",
   "execution_count": null,
   "metadata": {},
   "outputs": [],
   "source": [
    "y_pred_rbf = np.append(y_pred_rbf, y_pred_rbf4)\n",
    "y_pred_rbf"
   ]
  },
  {
   "cell_type": "code",
   "execution_count": null,
   "metadata": {},
   "outputs": [],
   "source": [
    "#------------------------------------------------"
   ]
  },
  {
   "cell_type": "code",
   "execution_count": null,
   "metadata": {},
   "outputs": [],
   "source": [
    "y_pred_rbf.shape"
   ]
  },
  {
   "cell_type": "code",
   "execution_count": null,
   "metadata": {
    "id": "V2PHUChwi11Y",
    "outputId": "9dc800bb-56fc-4fb1-d8e8-80625728457d"
   },
   "outputs": [],
   "source": [
    "# Acurácia SVM RBF\n",
    "print(\"Acurácia K-fold SVM RBF\", accuracy_score(y_total, y_pred_rbf))"
   ]
  },
  {
   "cell_type": "code",
   "execution_count": null,
   "metadata": {
    "id": "6glBng_bi11a",
    "outputId": "845c6b47-d6a7-42e6-eab6-70abdc41fd29"
   },
   "outputs": [],
   "source": [
    "# Avaliação do modelo\n",
    "\n",
    "print(confusion_matrix(y_total,y_pred_rbf))\n",
    "print(classification_report(y_total,y_pred_rbf))  \n",
    "print(\"Acurácia RBF:\", accuracy_score(y_total, y_pred_rbf))"
   ]
  },
  {
   "cell_type": "code",
   "execution_count": null,
   "metadata": {},
   "outputs": [],
   "source": [
    "#############################################\n",
    "#Aplicação do KNN\n",
    "from sklearn.neighbors import KNeighborsClassifier"
   ]
  },
  {
   "cell_type": "code",
   "execution_count": null,
   "metadata": {},
   "outputs": [],
   "source": [
    "## Aplicação de Hiperparâmetros GRUPO 1\n",
    "from sklearn.model_selection import GridSearchCV\n",
    "\n",
    "knn = KNeighborsClassifier()\n",
    "\n",
    "k_range = list(range(1, 31))\n",
    "\n",
    "param_grid = dict(n_neighbors=k_range)\n",
    "\n",
    "model_KNN = GridSearchCV(knn, param_grid, cv=10, scoring='accuracy')\n",
    "model_KNN.fit(X_train, y_train)"
   ]
  },
  {
   "cell_type": "code",
   "execution_count": null,
   "metadata": {
    "scrolled": true
   },
   "outputs": [],
   "source": [
    "model_KNN.best_estimator_"
   ]
  },
  {
   "cell_type": "code",
   "execution_count": null,
   "metadata": {},
   "outputs": [],
   "source": [
    "model_KNN = KNeighborsClassifier(algorithm='auto', leaf_size=30, metric='minkowski',\n",
    "                     metric_params=None, n_jobs=None, n_neighbors=15, p=2,\n",
    "                     weights='uniform')\n",
    "model_KNN.fit(X_train, y_train)"
   ]
  },
  {
   "cell_type": "code",
   "execution_count": null,
   "metadata": {},
   "outputs": [],
   "source": [
    "y_pred_knn = model_KNN.predict(X_test)"
   ]
  },
  {
   "cell_type": "code",
   "execution_count": null,
   "metadata": {},
   "outputs": [],
   "source": [
    "#------------------------------------------"
   ]
  },
  {
   "cell_type": "code",
   "execution_count": null,
   "metadata": {},
   "outputs": [],
   "source": [
    "## Aplicação de Hiperparâmetros GRUPO 2\n",
    "from sklearn.model_selection import GridSearchCV\n",
    "\n",
    "k_range = list(range(1, 31))\n",
    "\n",
    "param_grid = dict(n_neighbors=k_range)\n",
    "\n",
    "model_KNN2 = GridSearchCV(knn, param_grid, cv=10, scoring='accuracy')\n",
    "model_KNN2.fit(X_train2, y_train2)"
   ]
  },
  {
   "cell_type": "code",
   "execution_count": null,
   "metadata": {},
   "outputs": [],
   "source": [
    "model_KNN2.best_estimator_"
   ]
  },
  {
   "cell_type": "code",
   "execution_count": null,
   "metadata": {},
   "outputs": [],
   "source": [
    "model_KNN2 = KNeighborsClassifier(algorithm='auto', leaf_size=30, metric='minkowski',\n",
    "                     metric_params=None, n_jobs=None, n_neighbors=9, p=2,\n",
    "                     weights='uniform')\n",
    "model_KNN2.fit(X_train2, y_train2)"
   ]
  },
  {
   "cell_type": "code",
   "execution_count": null,
   "metadata": {},
   "outputs": [],
   "source": [
    "y_pred_knn2 = model_KNN2.predict(X_test2)"
   ]
  },
  {
   "cell_type": "code",
   "execution_count": null,
   "metadata": {},
   "outputs": [],
   "source": [
    "y_pred_knn = np.append(y_pred_knn, y_pred_knn2)\n",
    "y_pred_knn"
   ]
  },
  {
   "cell_type": "code",
   "execution_count": null,
   "metadata": {},
   "outputs": [],
   "source": [
    "#--------------------------------------------"
   ]
  },
  {
   "cell_type": "code",
   "execution_count": null,
   "metadata": {},
   "outputs": [],
   "source": [
    "## Aplicação de Hiperparâmetros GRUPO 3\n",
    "from sklearn.model_selection import GridSearchCV\n",
    "\n",
    "k_range = list(range(1, 31))\n",
    "\n",
    "param_grid = dict(n_neighbors=k_range)\n",
    "\n",
    "model_KNN3 = GridSearchCV(knn, param_grid, cv=10, scoring='accuracy')\n",
    "model_KNN3.fit(X_train3, y_train3)"
   ]
  },
  {
   "cell_type": "code",
   "execution_count": null,
   "metadata": {},
   "outputs": [],
   "source": [
    "model_KNN3.best_estimator_"
   ]
  },
  {
   "cell_type": "code",
   "execution_count": null,
   "metadata": {},
   "outputs": [],
   "source": [
    "model_KNN3 = KNeighborsClassifier(algorithm='auto', leaf_size=30, metric='minkowski',\n",
    "                     metric_params=None, n_jobs=None, n_neighbors=21, p=2,\n",
    "                     weights='uniform')\n",
    "model_KNN3.fit(X_train3, y_train3)"
   ]
  },
  {
   "cell_type": "code",
   "execution_count": null,
   "metadata": {},
   "outputs": [],
   "source": [
    "y_pred_knn3 = model_KNN3.predict(X_test3)"
   ]
  },
  {
   "cell_type": "code",
   "execution_count": null,
   "metadata": {},
   "outputs": [],
   "source": [
    "y_pred_knn = np.append(y_pred_knn, y_pred_knn3)\n",
    "y_pred_knn"
   ]
  },
  {
   "cell_type": "code",
   "execution_count": null,
   "metadata": {},
   "outputs": [],
   "source": [
    "#-------------------------------------------"
   ]
  },
  {
   "cell_type": "code",
   "execution_count": null,
   "metadata": {},
   "outputs": [],
   "source": [
    "## Aplicação de Hiperparâmetros GRUPO 4\n",
    "from sklearn.model_selection import GridSearchCV\n",
    "\n",
    "k_range = list(range(1, 31))\n",
    "\n",
    "param_grid = dict(n_neighbors=k_range)\n",
    "\n",
    "model_KNN4 = GridSearchCV(knn, param_grid, cv=10, scoring='accuracy')\n",
    "model_KNN4.fit(X_train4, y_train4)"
   ]
  },
  {
   "cell_type": "code",
   "execution_count": null,
   "metadata": {},
   "outputs": [],
   "source": [
    "model_KNN4.best_estimator_"
   ]
  },
  {
   "cell_type": "code",
   "execution_count": null,
   "metadata": {},
   "outputs": [],
   "source": [
    "model_KNN4 = KNeighborsClassifier(algorithm='auto', leaf_size=30, metric='minkowski',\n",
    "                     metric_params=None, n_jobs=None, n_neighbors=11, p=2,\n",
    "                     weights='uniform')\n",
    "model_KNN4.fit(X_train4, y_train4)"
   ]
  },
  {
   "cell_type": "code",
   "execution_count": null,
   "metadata": {},
   "outputs": [],
   "source": [
    "y_pred_knn4 = model_KNN4.predict(X_test4)"
   ]
  },
  {
   "cell_type": "code",
   "execution_count": null,
   "metadata": {},
   "outputs": [],
   "source": [
    "y_pred_knn = np.append(y_pred_knn, y_pred_knn4)\n",
    "y_pred_knn"
   ]
  },
  {
   "cell_type": "code",
   "execution_count": null,
   "metadata": {},
   "outputs": [],
   "source": [
    "#--------------------------------------------------"
   ]
  },
  {
   "cell_type": "code",
   "execution_count": null,
   "metadata": {},
   "outputs": [],
   "source": [
    "y_pred_knn.shape"
   ]
  },
  {
   "cell_type": "code",
   "execution_count": null,
   "metadata": {},
   "outputs": [],
   "source": [
    "# Acurácia SVM RBF\n",
    "print(\"Acurácia K-fold KNN\", accuracy_score(y_total, y_pred_knn))"
   ]
  },
  {
   "cell_type": "code",
   "execution_count": null,
   "metadata": {},
   "outputs": [],
   "source": [
    "print(confusion_matrix(y_total,y_pred_knn))\n",
    "print(classification_report(y_total,y_pred_knn))  \n",
    "print(\"Acurácia RBF:\", accuracy_score(y_total, y_pred_knn))"
   ]
  },
  {
   "cell_type": "code",
   "execution_count": null,
   "metadata": {
    "id": "0vl_P1dui11e"
   },
   "outputs": [],
   "source": [
    "###################################################"
   ]
  },
  {
   "cell_type": "code",
   "execution_count": null,
   "metadata": {},
   "outputs": [],
   "source": [
    "#REDE NEURAL  8-8"
   ]
  },
  {
   "cell_type": "code",
   "execution_count": null,
   "metadata": {},
   "outputs": [],
   "source": [
    "#pip install tensorflow"
   ]
  },
  {
   "cell_type": "code",
   "execution_count": null,
   "metadata": {},
   "outputs": [],
   "source": [
    "import tensorflow\n",
    "from tensorflow.keras.layers import Dense\n",
    "from tensorflow.keras.models import Sequential\n"
   ]
  },
  {
   "cell_type": "code",
   "execution_count": null,
   "metadata": {},
   "outputs": [],
   "source": [
    "##GRUPO 1"
   ]
  },
  {
   "cell_type": "code",
   "execution_count": null,
   "metadata": {},
   "outputs": [],
   "source": [
    "classifier = Sequential()\n",
    "classifier.add(Dense(8, input_shape=(15,), activation=\"relu\"))\n",
    "classifier.add(Dense(8, activation=\"relu\"))\n",
    "classifier.add(Dense(units = 1, activation = 'sigmoid'))\n",
    "classifier.compile(optimizer = 'adam', loss = 'binary_crossentropy', metrics = ['accuracy'])"
   ]
  },
  {
   "cell_type": "code",
   "execution_count": null,
   "metadata": {},
   "outputs": [],
   "source": [
    "H = classifier.fit(X_train, y_train, batch_size = 10, epochs = 100, validation_data = (X_test, y_test))"
   ]
  },
  {
   "cell_type": "code",
   "execution_count": null,
   "metadata": {},
   "outputs": [],
   "source": [
    "y_pred_rn = classifier.predict(X_test)\n",
    "y_pred_rn = np.round(abs(y_pred_rn))\n",
    "y_pred_rn = y_pred_rn.astype('int64')"
   ]
  },
  {
   "cell_type": "code",
   "execution_count": null,
   "metadata": {},
   "outputs": [],
   "source": [
    "y_pred_total = y_pred_rn"
   ]
  },
  {
   "cell_type": "code",
   "execution_count": null,
   "metadata": {
    "scrolled": true
   },
   "outputs": [],
   "source": [
    "plt.figure()\n",
    "plt.plot(H.history[\"accuracy\"], c='r')\n",
    "plt.plot(H.history[\"val_accuracy\"], c='y')\n",
    "plt.show()"
   ]
  },
  {
   "cell_type": "code",
   "execution_count": null,
   "metadata": {},
   "outputs": [],
   "source": [
    "plt.figure()\n",
    "plt.plot(H.history[\"loss\"])\n",
    "plt.plot(H.history[\"val_loss\"], c='g')\n",
    "plt.show()"
   ]
  },
  {
   "cell_type": "code",
   "execution_count": null,
   "metadata": {},
   "outputs": [],
   "source": [
    "##GRUPO 2"
   ]
  },
  {
   "cell_type": "code",
   "execution_count": null,
   "metadata": {},
   "outputs": [],
   "source": [
    "classifier2 = Sequential()\n",
    "classifier2.add(Dense(8, input_shape=(15,), activation=\"relu\"))\n",
    "classifier2.add(Dense(8, activation=\"relu\"))\n",
    "classifier2.add(Dense(units = 1, activation = 'sigmoid'))\n",
    "classifier2.compile(optimizer = 'adam', loss = 'binary_crossentropy', metrics = ['accuracy'])"
   ]
  },
  {
   "cell_type": "code",
   "execution_count": null,
   "metadata": {},
   "outputs": [],
   "source": [
    "H2 = classifier2.fit(X_train2, y_train2, batch_size = 10, epochs = 100, validation_data = (X_test2, y_test2))"
   ]
  },
  {
   "cell_type": "code",
   "execution_count": null,
   "metadata": {},
   "outputs": [],
   "source": [
    "y_pred_rn2 = classifier2.predict(X_test2)\n",
    "y_pred_rn2 = np.round(abs(y_pred_rn2))\n",
    "y_pred_rn2 = y_pred_rn2.astype('int64')"
   ]
  },
  {
   "cell_type": "code",
   "execution_count": null,
   "metadata": {},
   "outputs": [],
   "source": [
    "y_pred_total = np.append(y_pred_total, y_pred_rn2)"
   ]
  },
  {
   "cell_type": "code",
   "execution_count": null,
   "metadata": {},
   "outputs": [],
   "source": [
    "plt.figure()\n",
    "plt.plot(H2.history[\"accuracy\"], c='r')\n",
    "plt.plot(H2.history[\"val_accuracy\"], c='y')\n",
    "plt.show()"
   ]
  },
  {
   "cell_type": "code",
   "execution_count": null,
   "metadata": {},
   "outputs": [],
   "source": [
    "plt.figure()\n",
    "plt.plot(H2.history[\"loss\"])\n",
    "plt.plot(H2.history[\"val_loss\"], c='g')\n",
    "plt.show()"
   ]
  },
  {
   "cell_type": "code",
   "execution_count": null,
   "metadata": {},
   "outputs": [],
   "source": [
    "##GRUPO 3"
   ]
  },
  {
   "cell_type": "code",
   "execution_count": null,
   "metadata": {},
   "outputs": [],
   "source": [
    "classifier3 = Sequential()\n",
    "classifier3.add(Dense(8, input_shape=(15,), activation=\"relu\"))\n",
    "classifier3.add(Dense(8, activation=\"relu\"))\n",
    "classifier3.add(Dense(units = 1, activation = 'sigmoid'))\n",
    "classifier3.compile(optimizer = 'adam', loss = 'binary_crossentropy', metrics = ['accuracy'])"
   ]
  },
  {
   "cell_type": "code",
   "execution_count": null,
   "metadata": {},
   "outputs": [],
   "source": [
    "H3 = classifier3.fit(X_train3, y_train3, batch_size = 10, epochs = 100, validation_data = (X_test3, y_test3))"
   ]
  },
  {
   "cell_type": "code",
   "execution_count": null,
   "metadata": {},
   "outputs": [],
   "source": [
    "y_pred_rn3 = classifier3.predict(X_test3)\n",
    "y_pred_rn3 = np.round(abs(y_pred_rn3))\n",
    "y_pred_rn3 = y_pred_rn3.astype('int64')"
   ]
  },
  {
   "cell_type": "code",
   "execution_count": null,
   "metadata": {},
   "outputs": [],
   "source": [
    "y_pred_total = np.append(y_pred_total, y_pred_rn3)"
   ]
  },
  {
   "cell_type": "code",
   "execution_count": null,
   "metadata": {},
   "outputs": [],
   "source": [
    "plt.figure()\n",
    "plt.plot(H3.history[\"accuracy\"], c='r')\n",
    "plt.plot(H3.history[\"val_accuracy\"], c='y')\n",
    "plt.show()"
   ]
  },
  {
   "cell_type": "code",
   "execution_count": null,
   "metadata": {},
   "outputs": [],
   "source": [
    "plt.figure()\n",
    "plt.plot(H3.history[\"loss\"])\n",
    "plt.plot(H3.history[\"val_loss\"], c='g')\n",
    "plt.show()"
   ]
  },
  {
   "cell_type": "code",
   "execution_count": null,
   "metadata": {},
   "outputs": [],
   "source": [
    "##GRUPO 4"
   ]
  },
  {
   "cell_type": "code",
   "execution_count": null,
   "metadata": {},
   "outputs": [],
   "source": [
    "classifier4 = Sequential()\n",
    "classifier4.add(Dense(8, input_shape=(15,), activation=\"relu\"))\n",
    "classifier4.add(Dense(8, activation=\"relu\"))\n",
    "classifier4.add(Dense(units = 1, activation = 'sigmoid'))\n",
    "classifier4.compile(optimizer = 'adam', loss = 'binary_crossentropy', metrics = ['accuracy'])"
   ]
  },
  {
   "cell_type": "code",
   "execution_count": null,
   "metadata": {},
   "outputs": [],
   "source": [
    "H4 = classifier4.fit(X_train4, y_train4, batch_size = 10, epochs = 100, validation_data = (X_test4, y_test4))"
   ]
  },
  {
   "cell_type": "code",
   "execution_count": null,
   "metadata": {},
   "outputs": [],
   "source": [
    "y_pred_rn4 = classifier4.predict(X_test4)\n",
    "y_pred_rn4 = np.round(abs(y_pred_rn4))\n",
    "y_pred_rn4 = y_pred_rn4.astype('int64')"
   ]
  },
  {
   "cell_type": "code",
   "execution_count": null,
   "metadata": {},
   "outputs": [],
   "source": [
    "y_pred_total = np.append(y_pred_total, y_pred_rn4)"
   ]
  },
  {
   "cell_type": "code",
   "execution_count": null,
   "metadata": {},
   "outputs": [],
   "source": [
    "plt.figure()\n",
    "plt.plot(H4.history[\"accuracy\"], c='r')\n",
    "plt.plot(H4.history[\"val_accuracy\"], c='y')\n",
    "plt.show()"
   ]
  },
  {
   "cell_type": "code",
   "execution_count": null,
   "metadata": {},
   "outputs": [],
   "source": [
    "plt.figure()\n",
    "plt.plot(H4.history[\"loss\"])\n",
    "plt.plot(H4.history[\"val_loss\"], c='g')\n",
    "plt.show()"
   ]
  },
  {
   "cell_type": "code",
   "execution_count": null,
   "metadata": {},
   "outputs": [],
   "source": [
    "# Acurácia RNA 10-10\n",
    "print(\"Acurácia RNA 10-10\", accuracy_score(y_total, y_pred_total))"
   ]
  },
  {
   "cell_type": "code",
   "execution_count": null,
   "metadata": {},
   "outputs": [],
   "source": [
    "print(confusion_matrix(y_total,y_pred_total))\n",
    "print(classification_report(y_total,y_pred_total))  \n",
    "print(\"Acurácia RBF:\", accuracy_score(y_total, y_pred_total))"
   ]
  },
  {
   "cell_type": "code",
   "execution_count": null,
   "metadata": {},
   "outputs": [],
   "source": [
    "import numpy as np\n",
    "def mult_todos_pares(l):\n",
    "    l = [j for sublista in l for j in sublista]\n",
    "    k = [i for i in l if i%2==0]\n",
    "    if k==[]:\n",
    "        return 1\n",
    "    else:\n",
    "        return np.prod(k)\n",
    "    \n",
    "\n"
   ]
  },
  {
   "cell_type": "code",
   "execution_count": null,
   "metadata": {},
   "outputs": [],
   "source": [
    "mult_todos_pares([3, [3]])"
   ]
  },
  {
   "cell_type": "code",
   "execution_count": null,
   "metadata": {},
   "outputs": [],
   "source": [
    "###################################################"
   ]
  },
  {
   "cell_type": "code",
   "execution_count": null,
   "metadata": {},
   "outputs": [],
   "source": [
    "###################################################"
   ]
  },
  {
   "cell_type": "code",
   "execution_count": null,
   "metadata": {},
   "outputs": [],
   "source": [
    "#REDE NEURAL 10"
   ]
  },
  {
   "cell_type": "code",
   "execution_count": null,
   "metadata": {},
   "outputs": [],
   "source": [
    "#GRUPO 1"
   ]
  },
  {
   "cell_type": "code",
   "execution_count": null,
   "metadata": {},
   "outputs": [],
   "source": [
    "classifier2_1 = Sequential()\n",
    "classifier2_1.add(Dense(2, input_shape=(2,), activation=\"relu\"))\n",
    "classifier2_1.add(Dense(units = 1, activation = 'sigmoid'))\n",
    "classifier2_1.compile(optimizer = 'adam', loss = 'binary_crossentropy', metrics = ['accuracy'])"
   ]
  },
  {
   "cell_type": "code",
   "execution_count": null,
   "metadata": {},
   "outputs": [],
   "source": [
    "H2_1 = classifier2_1.fit(PCA_train, y_train, batch_size = 10, epochs = 80, validation_data = (PCA_test, y_test))"
   ]
  },
  {
   "cell_type": "code",
   "execution_count": null,
   "metadata": {},
   "outputs": [],
   "source": [
    "y_pred2_rn = classifier2_1.predict(PCA_test)\n",
    "y_pred2_rn = np.round(abs(y_pred2_rn))\n",
    "y_pred2_rn = y_pred2_rn.astype('int64')"
   ]
  },
  {
   "cell_type": "code",
   "execution_count": null,
   "metadata": {},
   "outputs": [],
   "source": [
    "y_pred_total2 = y_pred2_rn"
   ]
  },
  {
   "cell_type": "code",
   "execution_count": null,
   "metadata": {},
   "outputs": [],
   "source": [
    "plt.figure()\n",
    "plt.plot(H2_1.history[\"accuracy\"], c='r')\n",
    "plt.plot(H2_1.history[\"val_accuracy\"], c='y')\n",
    "plt.show()"
   ]
  },
  {
   "cell_type": "code",
   "execution_count": null,
   "metadata": {},
   "outputs": [],
   "source": [
    "plt.figure()\n",
    "plt.plot(H2_1.history[\"loss\"])\n",
    "plt.plot(H2_1.history[\"val_loss\"], c='g')\n",
    "plt.show()"
   ]
  },
  {
   "cell_type": "code",
   "execution_count": null,
   "metadata": {},
   "outputs": [],
   "source": [
    "#GRUPO 2"
   ]
  },
  {
   "cell_type": "code",
   "execution_count": null,
   "metadata": {},
   "outputs": [],
   "source": [
    "classifier2_2 = Sequential()\n",
    "classifier2_2.add(Dense(2, input_shape=(2,), activation=\"relu\"))\n",
    "classifier2_2.add(Dense(units = 1, activation = 'sigmoid'))\n",
    "classifier2_2.compile(optimizer = 'adam', loss = 'binary_crossentropy', metrics = ['accuracy'])"
   ]
  },
  {
   "cell_type": "code",
   "execution_count": null,
   "metadata": {},
   "outputs": [],
   "source": [
    "H2_2 = classifier2_2.fit(PCA_train2, y_train2, batch_size = 10, epochs = 80, validation_data = (PCA_test2, y_test2))"
   ]
  },
  {
   "cell_type": "code",
   "execution_count": null,
   "metadata": {},
   "outputs": [],
   "source": [
    "y_pred2_rn2 = classifier2_2.predict(PCA_test2)\n",
    "y_pred2_rn2 = np.round(abs(y_pred2_rn2))\n",
    "y_pred2_rn2 = y_pred2_rn2.astype('int64')"
   ]
  },
  {
   "cell_type": "code",
   "execution_count": null,
   "metadata": {},
   "outputs": [],
   "source": [
    "y_pred_total2 = np.append(y_pred_total2, y_pred2_rn2)"
   ]
  },
  {
   "cell_type": "code",
   "execution_count": null,
   "metadata": {},
   "outputs": [],
   "source": [
    "plt.figure()\n",
    "plt.plot(H2_2.history[\"accuracy\"], c='r')\n",
    "plt.plot(H2_2.history[\"val_accuracy\"], c='y')\n",
    "plt.show()"
   ]
  },
  {
   "cell_type": "code",
   "execution_count": null,
   "metadata": {},
   "outputs": [],
   "source": [
    "plt.figure()\n",
    "plt.plot(H2_2.history[\"loss\"])\n",
    "plt.plot(H2_2.history[\"val_loss\"], c='g')\n",
    "plt.show()"
   ]
  },
  {
   "cell_type": "code",
   "execution_count": null,
   "metadata": {},
   "outputs": [],
   "source": [
    "#GRUPO 3"
   ]
  },
  {
   "cell_type": "code",
   "execution_count": null,
   "metadata": {},
   "outputs": [],
   "source": [
    "classifier2_3 = Sequential()\n",
    "classifier2_3.add(Dense(2, input_shape=(2,), activation=\"relu\"))\n",
    "classifier2_3.add(Dense(units = 1, activation = 'sigmoid'))\n",
    "classifier2_3.compile(optimizer = 'adam', loss = 'binary_crossentropy', metrics = ['accuracy'])"
   ]
  },
  {
   "cell_type": "code",
   "execution_count": null,
   "metadata": {},
   "outputs": [],
   "source": [
    "H2_3 = classifier2_3.fit(PCA_train3, y_train3, batch_size = 10, epochs = 80, validation_data = (PCA_test3, y_test3))"
   ]
  },
  {
   "cell_type": "code",
   "execution_count": null,
   "metadata": {},
   "outputs": [],
   "source": [
    "y_pred2_rn3 = classifier2_3.predict(PCA_test3)\n",
    "y_pred2_rn3 = np.round(abs(y_pred2_rn3))\n",
    "y_pred2_rn3 = y_pred2_rn3.astype('int64')"
   ]
  },
  {
   "cell_type": "code",
   "execution_count": null,
   "metadata": {},
   "outputs": [],
   "source": [
    "y_pred_total2 = np.append(y_pred_total2, y_pred2_rn3)"
   ]
  },
  {
   "cell_type": "code",
   "execution_count": null,
   "metadata": {},
   "outputs": [],
   "source": [
    "plt.figure()\n",
    "plt.plot(H2_3.history[\"accuracy\"], c='r')\n",
    "plt.plot(H2_3.history[\"val_accuracy\"], c='y')\n",
    "plt.show()"
   ]
  },
  {
   "cell_type": "code",
   "execution_count": null,
   "metadata": {},
   "outputs": [],
   "source": [
    "plt.figure()\n",
    "plt.plot(H2_3.history[\"loss\"])\n",
    "plt.plot(H2_3.history[\"val_loss\"], c='g')\n",
    "plt.show()"
   ]
  },
  {
   "cell_type": "code",
   "execution_count": null,
   "metadata": {},
   "outputs": [],
   "source": [
    "#GRUPO 4"
   ]
  },
  {
   "cell_type": "code",
   "execution_count": null,
   "metadata": {},
   "outputs": [],
   "source": [
    "classifier2_4 = Sequential()\n",
    "classifier2_4.add(Dense(2, input_shape=(2,), activation=\"relu\"))\n",
    "classifier2_4.add(Dense(units = 1, activation = 'sigmoid'))\n",
    "classifier2_4.compile(optimizer = 'adam', loss = 'binary_crossentropy', metrics = ['accuracy'])"
   ]
  },
  {
   "cell_type": "code",
   "execution_count": null,
   "metadata": {},
   "outputs": [],
   "source": [
    "H2_4 = classifier2_4.fit(PCA_train4, y_train4, batch_size = 10, epochs = 80, validation_data = (PCA_test4, y_test4))"
   ]
  },
  {
   "cell_type": "code",
   "execution_count": null,
   "metadata": {},
   "outputs": [],
   "source": [
    "y_pred2_rn4 = classifier2_4.predict(PCA_test4)\n",
    "y_pred2_rn4 = np.round(abs(y_pred2_rn4))\n",
    "y_pred2_rn4 = y_pred2_rn4.astype('int64')"
   ]
  },
  {
   "cell_type": "code",
   "execution_count": null,
   "metadata": {},
   "outputs": [],
   "source": [
    "y_pred_total2 = np.append(y_pred_total2, y_pred2_rn4)"
   ]
  },
  {
   "cell_type": "code",
   "execution_count": null,
   "metadata": {},
   "outputs": [],
   "source": [
    "plt.figure()\n",
    "plt.plot(H2_4.history[\"accuracy\"], c='r')\n",
    "plt.plot(H2_4.history[\"val_accuracy\"], c='y')\n",
    "plt.show()"
   ]
  },
  {
   "cell_type": "code",
   "execution_count": null,
   "metadata": {},
   "outputs": [],
   "source": [
    "plt.figure()\n",
    "plt.plot(H2_4.history[\"loss\"])\n",
    "plt.plot(H2_4.history[\"val_loss\"], c='g')\n",
    "plt.show()"
   ]
  },
  {
   "cell_type": "code",
   "execution_count": null,
   "metadata": {},
   "outputs": [],
   "source": [
    "y_pred_total2.shape"
   ]
  },
  {
   "cell_type": "code",
   "execution_count": null,
   "metadata": {},
   "outputs": [],
   "source": [
    "# Acurácia RNA 5\n",
    "print(\"Acurácia RNA 10\", accuracy_score(y_total, y_pred_total2))"
   ]
  },
  {
   "cell_type": "code",
   "execution_count": null,
   "metadata": {},
   "outputs": [],
   "source": [
    "print(confusion_matrix(y_total,y_pred_total2))\n",
    "print(classification_report(y_total,y_pred_total2))  \n",
    "print(\"Acurácia RBF:\", accuracy_score(y_total, y_pred_total2))"
   ]
  },
  {
   "cell_type": "code",
   "execution_count": null,
   "metadata": {},
   "outputs": [],
   "source": [
    "###################################################"
   ]
  },
  {
   "cell_type": "code",
   "execution_count": null,
   "metadata": {},
   "outputs": [],
   "source": [
    "#Agora o teste será realizado em um dataset com 6 exames de 28 pacientes com Parkinson, todos com a doença\n",
    "# Serão 168 instancias (6 exames x 28 pacientes) embaralhadas"
   ]
  },
  {
   "cell_type": "code",
   "execution_count": null,
   "metadata": {},
   "outputs": [],
   "source": [
    "PD = pd.read_csv('test_data.csv')\n",
    "del PD['paciente']\n",
    "del PD['Exame']"
   ]
  },
  {
   "cell_type": "code",
   "execution_count": null,
   "metadata": {},
   "outputs": [],
   "source": [
    "y_final = PD.Sick\n",
    "X_final = PD"
   ]
  },
  {
   "cell_type": "code",
   "execution_count": null,
   "metadata": {
    "scrolled": false
   },
   "outputs": [],
   "source": [
    "X_final, y_final = embaralha(X_final, y_final)"
   ]
  },
  {
   "cell_type": "code",
   "execution_count": null,
   "metadata": {
    "scrolled": true
   },
   "outputs": [],
   "source": [
    "X_final = sc.fit_transform(X_final)\n",
    "print(X_final.shape, y_final.shape)"
   ]
  },
  {
   "cell_type": "code",
   "execution_count": null,
   "metadata": {},
   "outputs": [],
   "source": [
    "X_final_centered = X_final - X_final.mean(axis=0)"
   ]
  },
  {
   "cell_type": "code",
   "execution_count": null,
   "metadata": {
    "scrolled": true
   },
   "outputs": [],
   "source": [
    "pca = PCA(n_components=10)\n",
    "pca.fit(X_final_centered)"
   ]
  },
  {
   "cell_type": "code",
   "execution_count": null,
   "metadata": {},
   "outputs": [],
   "source": [
    "PCA_final = pca.transform(X_final_centered)\n",
    "#PCA_final = sc.fit_transform(X_final_centered)"
   ]
  },
  {
   "cell_type": "code",
   "execution_count": null,
   "metadata": {},
   "outputs": [],
   "source": [
    "PCA_final.shape"
   ]
  },
  {
   "cell_type": "code",
   "execution_count": null,
   "metadata": {},
   "outputs": [],
   "source": [
    "#GRUPO 1\n",
    "\n",
    "for modelo in (modelo_SvmLin, modelo_SvmPoly, modelo_SvmRBF, model_KNN):\n",
    "    name = modelo\n",
    "    y_pred_name = modelo.predict(PCA_final)\n",
    "    print(\"Acurácia\", modelo.__class__.__name__,  accuracy_score(y_final, y_pred_name))\n",
    "    print(classification_report(y_final,y_pred_name))"
   ]
  },
  {
   "cell_type": "code",
   "execution_count": null,
   "metadata": {},
   "outputs": [],
   "source": [
    "#GRUPO 2\n",
    "\n",
    "for modelo in (modelo_SvmLin2, modelo_SvmPoly2, modelo_SvmRBF2, model_KNN2):\n",
    "    name = modelo\n",
    "    y_pred_name = modelo.predict(X_final)\n",
    "    print(\"Acurácia\", modelo.__class__.__name__,  accuracy_score(y_final, y_pred_name))\n",
    "    print(classification_report(y_final,y_pred_name))"
   ]
  },
  {
   "cell_type": "code",
   "execution_count": null,
   "metadata": {},
   "outputs": [],
   "source": [
    "#GRUPO 3\n",
    "\n",
    "for modelo in (modelo_SvmLin3, modelo_SvmPoly3, modelo_SvmRBF3, model_KNN3):\n",
    "    modelo.fit(X_train3, y_train3)\n",
    "    name = modelo\n",
    "    y_pred_name = modelo.predict(X_final)\n",
    "    print(\"Acurácia\", modelo.__class__.__name__,  accuracy_score(y_final, y_pred_name))\n",
    "    print(classification_report(y_final,y_pred_name))"
   ]
  },
  {
   "cell_type": "code",
   "execution_count": null,
   "metadata": {},
   "outputs": [],
   "source": [
    "#GRUPO 4\n",
    "\n",
    "for modelo in (modelo_SvmLin4, modelo_SvmPoly4, modelo_SvmRBF4, model_KNN4):\n",
    "    name = modelo\n",
    "    y_pred_name = modelo.predict(X_final)\n",
    "    print(\"Acurácia\", modelo.__class__.__name__,  accuracy_score(y_final, y_pred_name))\n",
    "    print(classification_report(y_final,y_pred_name))"
   ]
  },
  {
   "cell_type": "code",
   "execution_count": null,
   "metadata": {},
   "outputs": [],
   "source": [
    "#################################"
   ]
  },
  {
   "cell_type": "code",
   "execution_count": null,
   "metadata": {},
   "outputs": [],
   "source": [
    "#RNA 10"
   ]
  },
  {
   "cell_type": "code",
   "execution_count": null,
   "metadata": {},
   "outputs": [],
   "source": [
    "#TESTE GRUPO 1 RNA\n",
    "T = classifier.fit(X_train, y_train, batch_size = 12, epochs = 80, validation_data = (X_final, y_final))"
   ]
  },
  {
   "cell_type": "code",
   "execution_count": null,
   "metadata": {},
   "outputs": [],
   "source": [
    "plt.figure()\n",
    "plt.plot(T.history[\"loss\"])\n",
    "plt.plot(T.history[\"accuracy\"], c='r')\n",
    "plt.plot(T.history[\"val_accuracy\"], c='y')\n",
    "plt.plot(T.history[\"val_loss\"], c='g')\n",
    "plt.show()"
   ]
  },
  {
   "cell_type": "code",
   "execution_count": null,
   "metadata": {},
   "outputs": [],
   "source": [
    "#TESTE GRUPO 2 RNA\n",
    "T2 = classifier2.fit(X_train2, y_train2, batch_size = 100, epochs = 800, validation_data = (X_final, y_final))"
   ]
  },
  {
   "cell_type": "code",
   "execution_count": null,
   "metadata": {},
   "outputs": [],
   "source": [
    "plt.figure()\n",
    "plt.plot(T2.history[\"loss\"])\n",
    "plt.plot(T2.history[\"accuracy\"], c='r')\n",
    "plt.plot(T2.history[\"val_accuracy\"], c='y')\n",
    "plt.plot(T2.history[\"val_loss\"], c='g')\n",
    "plt.show()"
   ]
  },
  {
   "cell_type": "code",
   "execution_count": null,
   "metadata": {},
   "outputs": [],
   "source": [
    "#TESTE GRUPO 3 RNA\n",
    "T3 = classifier3.fit(X_train3, y_train3, batch_size = 10, epochs = 80, validation_data = (X_final, y_final))"
   ]
  },
  {
   "cell_type": "code",
   "execution_count": null,
   "metadata": {},
   "outputs": [],
   "source": [
    "plt.figure()\n",
    "plt.plot(T3.history[\"loss\"])\n",
    "plt.plot(T3.history[\"accuracy\"], c='r')\n",
    "plt.plot(T3.history[\"val_accuracy\"], c='y')\n",
    "plt.plot(T3.history[\"val_loss\"], c='g')\n",
    "plt.show()"
   ]
  },
  {
   "cell_type": "code",
   "execution_count": null,
   "metadata": {},
   "outputs": [],
   "source": [
    "#TESTE GRUPO 4 RNA\n",
    "T4 = classifier4.fit(X_train4, y_train4, batch_size = 10, epochs = 80, validation_data = (X_final, y_final))"
   ]
  },
  {
   "cell_type": "code",
   "execution_count": null,
   "metadata": {},
   "outputs": [],
   "source": [
    "plt.figure()\n",
    "plt.plot(T4.history[\"loss\"])\n",
    "plt.plot(T4.history[\"accuracy\"], c='r')\n",
    "plt.plot(T4.history[\"val_accuracy\"], c='y')\n",
    "plt.plot(T4.history[\"val_loss\"], c='g')\n",
    "plt.show()"
   ]
  },
  {
   "cell_type": "code",
   "execution_count": null,
   "metadata": {},
   "outputs": [],
   "source": [
    "#RNA 10"
   ]
  },
  {
   "cell_type": "code",
   "execution_count": null,
   "metadata": {},
   "outputs": [],
   "source": [
    "#TESTE GRUPO 1 RNA\n",
    "T2_1 = classifier2_1.fit(X_train, y_train, batch_size = 12, epochs = 40, validation_data = (X_final, y_final))"
   ]
  },
  {
   "cell_type": "code",
   "execution_count": null,
   "metadata": {},
   "outputs": [],
   "source": [
    "plt.figure()\n",
    "plt.plot(T2_1.history[\"loss\"])\n",
    "plt.plot(T2_1.history[\"accuracy\"], c='r')\n",
    "plt.plot(T2_1.history[\"val_accuracy\"], c='y')\n",
    "plt.plot(T2_1.history[\"val_loss\"], c='g')\n",
    "plt.show()"
   ]
  },
  {
   "cell_type": "code",
   "execution_count": null,
   "metadata": {},
   "outputs": [],
   "source": [
    "#TESTE GRUPO 2 RNA\n",
    "T2_2 = classifier2_2.fit(X_train2, y_train2, batch_size = 12, epochs = 40, validation_data = (X_final, y_final))"
   ]
  },
  {
   "cell_type": "code",
   "execution_count": null,
   "metadata": {},
   "outputs": [],
   "source": [
    "plt.figure()\n",
    "plt.plot(T2_2.history[\"loss\"])\n",
    "plt.plot(T2_2.history[\"accuracy\"], c='r')\n",
    "plt.plot(T2_2.history[\"val_accuracy\"], c='y')\n",
    "plt.plot(T2_2.history[\"val_loss\"], c='g')\n",
    "plt.show()"
   ]
  },
  {
   "cell_type": "code",
   "execution_count": null,
   "metadata": {},
   "outputs": [],
   "source": [
    "#TESTE GRUPO 3 RNA\n",
    "T2_3 = classifier2_3.fit(X_train3, y_train3, batch_size = 12, epochs = 80, validation_data = (X_final, y_final))"
   ]
  },
  {
   "cell_type": "code",
   "execution_count": null,
   "metadata": {},
   "outputs": [],
   "source": [
    "plt.figure()\n",
    "plt.plot(T2_3.history[\"loss\"])\n",
    "plt.plot(T2_3.history[\"accuracy\"], c='r')\n",
    "plt.plot(T2_3.history[\"val_accuracy\"], c='y')\n",
    "plt.plot(T2_3.history[\"val_loss\"], c='g')\n",
    "plt.show()"
   ]
  },
  {
   "cell_type": "code",
   "execution_count": null,
   "metadata": {},
   "outputs": [],
   "source": [
    "#TESTE GRUPO 4 RNA\n",
    "T2_4 = classifier2_4.fit(X_train4, y_train4, batch_size = 12, epochs = 40, validation_data = (X_final, y_final))"
   ]
  },
  {
   "cell_type": "code",
   "execution_count": null,
   "metadata": {},
   "outputs": [],
   "source": [
    "plt.figure()\n",
    "plt.plot(T2_4.history[\"loss\"])\n",
    "plt.plot(T2_4.history[\"accuracy\"], c='r')\n",
    "plt.plot(T2_4.history[\"val_accuracy\"], c='y')\n",
    "plt.plot(T2_4.history[\"val_loss\"], c='g')\n",
    "plt.show()"
   ]
  },
  {
   "cell_type": "code",
   "execution_count": null,
   "metadata": {},
   "outputs": [],
   "source": []
  }
 ],
 "metadata": {
  "colab": {
   "name": "Atualizado-1ºmanipulacao.ipynb",
   "provenance": []
  },
  "kernelspec": {
   "display_name": "Python 3",
   "language": "python",
   "name": "python3"
  },
  "language_info": {
   "codemirror_mode": {
    "name": "ipython",
    "version": 3
   },
   "file_extension": ".py",
   "mimetype": "text/x-python",
   "name": "python",
   "nbconvert_exporter": "python",
   "pygments_lexer": "ipython3",
   "version": "3.7.6"
  }
 },
 "nbformat": 4,
 "nbformat_minor": 1
}
