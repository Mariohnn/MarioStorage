{
  "nbformat": 4,
  "nbformat_minor": 0,
  "metadata": {
    "accelerator": "GPU",
    "colab": {
      "name": "MarioHNeto_Exemplo_de_classificação_multiclasse_no_conjunto_Reuters.ipynb",
      "provenance": [],
      "collapsed_sections": []
    },
    "kernelspec": {
      "display_name": "Python 3",
      "language": "python",
      "name": "python3"
    },
    "language_info": {
      "codemirror_mode": {
        "name": "ipython",
        "version": 3
      },
      "file_extension": ".py",
      "mimetype": "text/x-python",
      "name": "python",
      "nbconvert_exporter": "python",
      "pygments_lexer": "ipython3",
      "version": "3.7.6"
    }
  },
  "cells": [
    {
      "cell_type": "markdown",
      "metadata": {
        "id": "y8z9S3hdt2rK"
      },
      "source": [
        "## O conjunto de dados Reuters\n",
        "\n",
        "* O conjunto de dados da Reuters éé composto de noticias curtas 1986. \n",
        "* É um conjunto de dados de _toy_ muito simples e amplamente usado para classificação de texto. \n",
        "* Existem 46 tópicos diferentes; alguns tópicos são mais representados do que outros, mas cada tópico tem pelo menos 10 exemplos no conjunto de treinamento."
      ]
    },
    {
      "cell_type": "code",
      "metadata": {
        "id": "6VvVqtP2rO-e"
      },
      "source": [
        ""
      ],
      "execution_count": null,
      "outputs": []
    },
    {
      "cell_type": "code",
      "metadata": {
        "colab": {
          "base_uri": "https://localhost:8080/"
        },
        "id": "fNPC0nNPgdNe",
        "outputId": "ad2ff3e2-32fa-4cae-b165-a9a832d4503e"
      },
      "source": [
        "from keras.datasets import reuters\n",
        "import numpy as np\n",
        "import matplotlib.pyplot as plt\n",
        "%matplotlib inline\n",
        "\n",
        "ranking = 10000\n",
        "\n",
        "(train_data, train_labels), (test_data, test_labels) = reuters.load_data(num_words=10000)\n",
        "\n",
        "print(len(train_data))\n",
        "print(len(test_data))\n",
        "print(train_labels)"
      ],
      "execution_count": 1,
      "outputs": [
        {
          "output_type": "stream",
          "text": [
            "Downloading data from https://storage.googleapis.com/tensorflow/tf-keras-datasets/reuters.npz\n",
            "2113536/2110848 [==============================] - 0s 0us/step\n",
            "2121728/2110848 [==============================] - 0s 0us/step\n",
            "8982\n",
            "2246\n",
            "[ 3  4  3 ... 25  3 25]\n"
          ],
          "name": "stdout"
        },
        {
          "output_type": "stream",
          "text": [
            "/usr/local/lib/python3.7/dist-packages/keras/datasets/reuters.py:143: VisibleDeprecationWarning: Creating an ndarray from ragged nested sequences (which is a list-or-tuple of lists-or-tuples-or ndarrays with different lengths or shapes) is deprecated. If you meant to do this, you must specify 'dtype=object' when creating the ndarray\n",
            "  x_train, y_train = np.array(xs[:idx]), np.array(labels[:idx])\n",
            "/usr/local/lib/python3.7/dist-packages/keras/datasets/reuters.py:144: VisibleDeprecationWarning: Creating an ndarray from ragged nested sequences (which is a list-or-tuple of lists-or-tuples-or ndarrays with different lengths or shapes) is deprecated. If you meant to do this, you must specify 'dtype=object' when creating the ndarray\n",
            "  x_test, y_test = np.array(xs[idx:]), np.array(labels[idx:])\n"
          ],
          "name": "stderr"
        }
      ]
    },
    {
      "cell_type": "code",
      "metadata": {
        "colab": {
          "base_uri": "https://localhost:8080/",
          "height": 265
        },
        "id": "rmPwRYqByxQi",
        "outputId": "64c44900-db26-4dca-f61f-ee0d5056014d"
      },
      "source": [
        "plt.figure(figsize=(18,4))\n",
        "plt.hist(train_labels, bins=46)\n",
        "plt.show()"
      ],
      "execution_count": 2,
      "outputs": [
        {
          "output_type": "display_data",
          "data": {
            "image/png": "[encoded data removed]",
            "text/plain": [
              "<Figure size 1296x288 with 1 Axes>"
            ]
          },
          "metadata": {
            "tags": [],
            "needs_background": "light"
          }
        }
      ]
    },
    {
      "cell_type": "code",
      "metadata": {
        "colab": {
          "base_uri": "https://localhost:8080/"
        },
        "id": "DvcVBycX-whr",
        "outputId": "9f3217ad-a56f-4c26-c7a4-945f239df4e0"
      },
      "source": [
        "word_index = reuters.get_word_index()\n",
        "word_index.get('the')"
      ],
      "execution_count": 3,
      "outputs": [
        {
          "output_type": "stream",
          "text": [
            "Downloading data from https://storage.googleapis.com/tensorflow/tf-keras-datasets/reuters_word_index.json\n",
            "557056/550378 [==============================] - 0s 0us/step\n",
            "565248/550378 [==============================] - 0s 0us/step\n"
          ],
          "name": "stdout"
        },
        {
          "output_type": "execute_result",
          "data": {
            "text/plain": [
              "1"
            ]
          },
          "metadata": {
            "tags": []
          },
          "execution_count": 3
        }
      ]
    },
    {
      "cell_type": "code",
      "metadata": {
        "colab": {
          "base_uri": "https://localhost:8080/"
        },
        "id": "v2wCpSPk0ECx",
        "outputId": "6201d017-5505-4051-fcc9-12c853e3f74a"
      },
      "source": [
        "word_index.get('of')"
      ],
      "execution_count": 4,
      "outputs": [
        {
          "output_type": "execute_result",
          "data": {
            "text/plain": [
              "2"
            ]
          },
          "metadata": {
            "tags": []
          },
          "execution_count": 4
        }
      ]
    },
    {
      "cell_type": "code",
      "metadata": {
        "colab": {
          "base_uri": "https://localhost:8080/"
        },
        "id": "EWc2LjoOufM-",
        "outputId": "1636dc33-89cd-4a7c-bf78-cf98080b1098"
      },
      "source": [
        "word_index = reuters.get_word_index()\n",
        "\n",
        "\n",
        "reverse_word_index = dict([(value, key) for (key, value) in word_index.items()])\n",
        "\n",
        "\n",
        "# Decodificamos a revisão; observe que nossos índices foram deslocados por 3\n",
        "# porque 0, 1 e 2 são índices reservados para \"padding\", \"start of sequence\" \n",
        "# e \"unknown\". \n",
        "\n",
        "decoded_newswire = ' '.join([reverse_word_index.get(i - 3, '?') for i in train_data[0]])\n",
        "print(decoded_newswire)\n",
        "\n",
        "# Nota: Com os valores padrão do reuters.load_data() o índice 3 nunca é utilizado."
      ],
      "execution_count": 5,
      "outputs": [
        {
          "output_type": "stream",
          "text": [
            "? ? ? said as a result of its december acquisition of space co it expects earnings per share in 1987 of 1 15 to 1 30 dlrs per share up from 70 cts in 1986 the company said pretax net should rise to nine to 10 mln dlrs from six mln dlrs in 1986 and rental operation revenues to 19 to 22 mln dlrs from 12 5 mln dlrs it said cash flow per share this year should be 2 50 to three dlrs reuter 3\n"
          ],
          "name": "stdout"
        }
      ]
    },
    {
      "cell_type": "markdown",
      "metadata": {
        "id": "ZOEN2ONOvv7e"
      },
      "source": [
        "## Preparando os dados\n",
        "\n",
        "Podemos vetorizar os dados exatamente com o mesmo código de nosso exemplo anterior"
      ]
    },
    {
      "cell_type": "code",
      "metadata": {
        "id": "JUUFF5sHu_JS"
      },
      "source": [
        "import numpy as np\n",
        "\n",
        "def vectorize_sequences(sequences, dimension=10000):\n",
        "    results = np.zeros((len(sequences), dimension))\n",
        "    for i, sequence in enumerate(sequences):\n",
        "        results[i, np.asarray(sequence)-1] = 1.\n",
        "    return results\n",
        "\n",
        "x_train = vectorize_sequences(train_data, ranking)\n",
        "x_test = vectorize_sequences(test_data, ranking)"
      ],
      "execution_count": 6,
      "outputs": []
    },
    {
      "cell_type": "code",
      "metadata": {
        "colab": {
          "base_uri": "https://localhost:8080/"
        },
        "id": "VBozdyzl3AmC",
        "outputId": "cc85a70e-532f-489a-95ef-9a4fca6f7876"
      },
      "source": [
        "x_train.shape"
      ],
      "execution_count": 7,
      "outputs": [
        {
          "output_type": "execute_result",
          "data": {
            "text/plain": [
              "(8982, 10000)"
            ]
          },
          "metadata": {
            "tags": []
          },
          "execution_count": 7
        }
      ]
    },
    {
      "cell_type": "markdown",
      "metadata": {
        "id": "8AKvRyEl0deA"
      },
      "source": [
        "**One-hot nos rótulos**"
      ]
    },
    {
      "cell_type": "code",
      "metadata": {
        "id": "9H-jJcVl0eNK"
      },
      "source": [
        "def to_one_hot(labels, dimension=46):\n",
        "    results = np.zeros((len(labels), dimension))\n",
        "    for i, label in enumerate(labels):\n",
        "        results[i, label] = 1.\n",
        "    return results\n",
        "\n",
        "one_hot_train_labels = to_one_hot(train_labels)\n",
        "one_hot_test_labels = to_one_hot(test_labels)"
      ],
      "execution_count": 8,
      "outputs": []
    },
    {
      "cell_type": "code",
      "metadata": {
        "colab": {
          "base_uri": "https://localhost:8080/"
        },
        "id": "85k7J9Jg3hq-",
        "outputId": "b3d3e24e-89d3-4912-aa9f-86a8b40682a0"
      },
      "source": [
        "one_hot_train_labels.shape"
      ],
      "execution_count": 9,
      "outputs": [
        {
          "output_type": "execute_result",
          "data": {
            "text/plain": [
              "(8982, 46)"
            ]
          },
          "metadata": {
            "tags": []
          },
          "execution_count": 9
        }
      ]
    },
    {
      "cell_type": "markdown",
      "metadata": {
        "id": "rTjuFtukzhP2"
      },
      "source": [
        "## Atividade\n",
        "\n",
        "Experimente a seguinte rede neural mudando o parâmetro \"ranking\". Comente no final qual é a relação deste parâmetro com o modelo e com os resultados. \n",
        "\n",
        "Exemplos de valores para o parâmetro \"ranking\" poderiam ser: 100, 1000, 5000, 10000, 20000"
      ]
    },
    {
      "cell_type": "code",
      "metadata": {
        "colab": {
          "base_uri": "https://localhost:8080/"
        },
        "id": "k8P3QZbqwEpK",
        "outputId": "348ba765-c8fa-46b0-9528-298c0e7aa112"
      },
      "source": [
        "from keras import models, Model\n",
        "from keras import layers\n",
        "\n",
        "def build_model(): \n",
        "    inputs = layers.Input(shape=(10000, )) # placeholder\n",
        "    x = layers.Dense(128, activation='relu')(inputs)\n",
        "    x = layers.Dense(64, activation='relu')( x )\n",
        "    out = layers.Dense(46, activation='softmax')( x )\n",
        "\n",
        "    model = Model(inputs=[inputs], outputs=[out], name=\"mnits_model\")\n",
        "\n",
        "    \n",
        "    model.summary()\n",
        "    model.compile(optimizer='rmsprop', loss='categorical_crossentropy', metrics=['accuracy'])\n",
        "    return model\n",
        "\n",
        "modelito = build_model()"
      ],
      "execution_count": 10,
      "outputs": [
        {
          "output_type": "stream",
          "text": [
            "Model: \"mnits_model\"\n",
            "_________________________________________________________________\n",
            "Layer (type)                 Output Shape              Param #   \n",
            "=================================================================\n",
            "input_1 (InputLayer)         [(None, 10000)]           0         \n",
            "_________________________________________________________________\n",
            "dense (Dense)                (None, 128)               1280128   \n",
            "_________________________________________________________________\n",
            "dense_1 (Dense)              (None, 64)                8256      \n",
            "_________________________________________________________________\n",
            "dense_2 (Dense)              (None, 46)                2990      \n",
            "=================================================================\n",
            "Total params: 1,291,374\n",
            "Trainable params: 1,291,374\n",
            "Non-trainable params: 0\n",
            "_________________________________________________________________\n"
          ],
          "name": "stdout"
        }
      ]
    },
    {
      "cell_type": "code",
      "metadata": {
        "colab": {
          "base_uri": "https://localhost:8080/",
          "height": 422
        },
        "id": "pPyirHj_6pQF",
        "outputId": "d69debaa-678d-4236-a6ad-99d342817c06"
      },
      "source": [
        "from tensorflow.keras.utils import plot_model\n",
        "\n",
        "plot_model(modelito, show_shapes=True)"
      ],
      "execution_count": 11,
      "outputs": [
        {
          "output_type": "execute_result",
          "data": {
            "image/png": "[encoded data removed]",
            "text/plain": [
              "<IPython.core.display.Image object>"
            ]
          },
          "metadata": {
            "tags": []
          },
          "execution_count": 11
        }
      ]
    },
    {
      "cell_type": "markdown",
      "metadata": {
        "id": "gAP5v1xK0CEX"
      },
      "source": [
        "## Criando um conjunto de validação"
      ]
    },
    {
      "cell_type": "code",
      "metadata": {
        "colab": {
          "base_uri": "https://localhost:8080/"
        },
        "id": "fbXjy9Jg0BVT",
        "outputId": "3d52e6a2-73f2-4ab3-ea3d-b4f48ac74650"
      },
      "source": [
        "x_val = x_train[:1000]\n",
        "partial_x_train = x_train[1000:]\n",
        "\n",
        "y_val = one_hot_train_labels[:1000]\n",
        "partial_y_train = one_hot_train_labels[1000:]\n",
        "\n",
        "print(x_val.shape,partial_x_train.shape)\n",
        "print(y_val.shape,partial_y_train.shape)"
      ],
      "execution_count": 12,
      "outputs": [
        {
          "output_type": "stream",
          "text": [
            "(1000, 10000) (7982, 10000)\n",
            "(1000, 46) (7982, 46)\n"
          ],
          "name": "stdout"
        }
      ]
    },
    {
      "cell_type": "markdown",
      "metadata": {
        "id": "Zb0yz6J_0tc6"
      },
      "source": [
        "## Treinamento"
      ]
    },
    {
      "cell_type": "code",
      "metadata": {
        "colab": {
          "base_uri": "https://localhost:8080/"
        },
        "id": "fNW3Qk4t0IOq",
        "outputId": "b5fd5e12-ee34-4849-9894-e4f872273969"
      },
      "source": [
        "history = modelito.fit(partial_x_train, partial_y_train, epochs=8, batch_size=512, validation_data=(x_val, y_val))"
      ],
      "execution_count": 13,
      "outputs": [
        {
          "output_type": "stream",
          "text": [
            "Epoch 1/8\n",
            "16/16 [==============================] - 14s 42ms/step - loss: 2.8853 - accuracy: 0.4552 - val_loss: 1.4605 - val_accuracy: 0.6910\n",
            "Epoch 2/8\n",
            "16/16 [==============================] - 0s 16ms/step - loss: 1.2313 - accuracy: 0.7448 - val_loss: 1.1331 - val_accuracy: 0.7640\n",
            "Epoch 3/8\n",
            "16/16 [==============================] - 0s 16ms/step - loss: 0.8576 - accuracy: 0.8205 - val_loss: 0.9836 - val_accuracy: 0.8030\n",
            "Epoch 4/8\n",
            "16/16 [==============================] - 0s 15ms/step - loss: 0.6208 - accuracy: 0.8744 - val_loss: 0.9430 - val_accuracy: 0.8080\n",
            "Epoch 5/8\n",
            "16/16 [==============================] - 0s 15ms/step - loss: 0.4543 - accuracy: 0.9134 - val_loss: 0.8695 - val_accuracy: 0.8230\n",
            "Epoch 6/8\n",
            "16/16 [==============================] - 0s 15ms/step - loss: 0.3492 - accuracy: 0.9351 - val_loss: 0.8770 - val_accuracy: 0.8180\n",
            "Epoch 7/8\n",
            "16/16 [==============================] - 0s 16ms/step - loss: 0.2689 - accuracy: 0.9409 - val_loss: 0.8751 - val_accuracy: 0.8150\n",
            "Epoch 8/8\n",
            "16/16 [==============================] - 0s 15ms/step - loss: 0.2274 - accuracy: 0.9476 - val_loss: 0.9015 - val_accuracy: 0.8120\n"
          ],
          "name": "stdout"
        }
      ]
    },
    {
      "cell_type": "code",
      "metadata": {
        "colab": {
          "base_uri": "https://localhost:8080/",
          "height": 350
        },
        "id": "wMyeXVsl0vx5",
        "outputId": "2c273196-8748-4ae3-d8a1-4ed20d58e0df"
      },
      "source": [
        "acc = history.history['accuracy']\n",
        "val_acc = history.history['val_accuracy']\n",
        "loss = history.history['loss']\n",
        "val_loss = history.history['val_loss']\n",
        "\n",
        "epochs = range(1, len(acc) + 1)\n",
        "\n",
        "plt.figure(figsize=(18,5))\n",
        "plt.subplot(1,2,1)\n",
        "plt.plot(epochs, loss, label='Training loss')\n",
        "plt.plot(epochs, val_loss, '-.r', label='Validation loss')\n",
        "plt.title('Training and validation loss')\n",
        "plt.xlabel('Epochs')\n",
        "plt.ylabel('Loss')\n",
        "plt.legend()\n",
        "\n",
        "plt.subplot(1,2,2)\n",
        "plt.plot(epochs, acc, label='Training acc')\n",
        "plt.plot(epochs, val_acc, '-.r', label='Validation acc')\n",
        "plt.title('Training and validation accuracy')\n",
        "plt.xlabel('Epochs')\n",
        "plt.ylabel('Loss')\n",
        "plt.legend()\n",
        "\n",
        "plt.show()"
      ],
      "execution_count": 14,
      "outputs": [
        {
          "output_type": "display_data",
          "data": {
            "image/png": "[encoded data removed]",
            "text/plain": [
              "<Figure size 1296x360 with 2 Axes>"
            ]
          },
          "metadata": {
            "tags": [],
            "needs_background": "light"
          }
        }
      ]
    },
    {
      "cell_type": "markdown",
      "metadata": {
        "id": "lRFNTgWa116L"
      },
      "source": [
        "## Faça os comentários aqui:\n",
        "\n",
        "1. Na primeira vez que rodei com 20 epochs, o treino rapidamente atingiu seu pico em trono do epochs 5 e 10, e embora depois disso tenha estabilizado, a acurácia caiu ligeiramente, e notei que a melhor acurácia se encontrava no epoch=8.\n",
        "\n",
        "2. Fiz alguns testes com batch_size menor e maior, porém os resultados foram ligeiramente menores, mas nenhuma grande diferença. Rodei o treino novamente com epoch=8 para tentar atingir a melhor acurácia possível, e consegui ~81%.\n"
      ]
    },
    {
      "cell_type": "code",
      "metadata": {
        "id": "e_o1kI8d-m2a"
      },
      "source": [
        ""
      ],
      "execution_count": null,
      "outputs": []
    }
  ]
}