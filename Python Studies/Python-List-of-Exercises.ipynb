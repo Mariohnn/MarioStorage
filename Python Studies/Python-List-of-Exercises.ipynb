{
 "cells": [
  {
   "cell_type": "code",
   "execution_count": null,
   "metadata": {},
   "outputs": [],
   "source": [
    "#1) \n",
    "As linguagens de primeira ordem tem seus valores que podem ser passados, manipulados, retornados, ou seja, \n",
    "é possível operar funções. Já a função de alta ordem é uma função que recebe ou retorna uma função, os closures \n",
    "é geralmente associado com as linguagens de programação funcionais que vinculam uma função ao seu ambiente de \n",
    "referência, permitindo o acesso a variáveis fora do escopo da função. As funções anônimas são blocos de instruções \n",
    "que não possuem nome, podem receber parâmetros e são interpretadas pela linguagem como expressões."
   ]
  },
  {
   "cell_type": "code",
   "execution_count": null,
   "metadata": {},
   "outputs": [],
   "source": [
    "#2) \n",
    "Map -> esta função de alta ordem aplica uma função dada para cada elementao da função, retornando uma lista de\n",
    "resultados.\n",
    "Filter -> é uma função de alta ordem que proessa uma estrutura de dados, normalmente uma lista, para então produzir\n",
    "uma nova estrutura de dados contendo os exatos elementos da estrutura original para qual o predicado dado retorna um \n",
    "valor boleano True.\n",
    "Fold -> refere-se a familia de funções de alta ordem que analisa uma estrutura de dados recursiva e através disso,\n",
    "utiliza uma operação combinada, e recombina os resultados das partes constituintes de forma recursiva, construindo um\n",
    "valor para return."
   ]
  },
  {
   "cell_type": "code",
   "execution_count": null,
   "metadata": {},
   "outputs": [],
   "source": [
    "#3)"
   ]
  },
  {
   "cell_type": "code",
   "execution_count": null,
   "metadata": {},
   "outputs": [],
   "source": [
    "#a)\n",
    "def toCelsius(f):\n",
    "    return (f-32)*(5/9)"
   ]
  },
  {
   "cell_type": "code",
   "execution_count": null,
   "metadata": {},
   "outputs": [],
   "source": [
    "#b)\n",
    "lst = [1,2,3,4,5]\n",
    "p = lambda x:x%2==0\n",
    "\n",
    "def existe(p, lst):\n",
    "    if not [n for n in lst if p(n)]:\n",
    "        return True\n",
    "    return False\n"
   ]
  },
  {
   "cell_type": "code",
   "execution_count": null,
   "metadata": {},
   "outputs": [],
   "source": [
    "#c)\n",
    "def para_todos(p, lst):\n",
    "    if len(lst) == len(([n for n in lst if p(n)])):\n",
    "        return True\n",
    "    return False"
   ]
  },
  {
   "cell_type": "code",
   "execution_count": null,
   "metadata": {},
   "outputs": [],
   "source": [
    "#d)\n",
    "def soma(x, y):\n",
    "     return x+y\n",
    "\n",
    "def parcial(f, args):\n",
    "     return soma(args, 1)\n",
    "\n",
    "def inc_1(y):\n",
    "     return parcial(soma, y)"
   ]
  }
 ],
 "metadata": {
  "colab": {
   "name": "Atualizado-1ºmanipulacao.ipynb",
   "provenance": []
  },
  "kernelspec": {
   "display_name": "Python 3",
   "language": "python",
   "name": "python3"
  },
  "language_info": {
   "codemirror_mode": {
    "name": "ipython",
    "version": 3
   },
   "file_extension": ".py",
   "mimetype": "text/x-python",
   "name": "python",
   "nbconvert_exporter": "python",
   "pygments_lexer": "ipython3",
   "version": "3.7.6"
  }
 },
 "nbformat": 4,
 "nbformat_minor": 1
}
