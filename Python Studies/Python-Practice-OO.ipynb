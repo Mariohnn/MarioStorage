{
 "cells": [
  {
   "cell_type": "markdown",
   "metadata": {},
   "source": [
    "Questão 1"
   ]
  },
  {
   "cell_type": "code",
   "execution_count": 24,
   "metadata": {},
   "outputs": [],
   "source": [
    "import weakref\n",
    "\n",
    "class iterator(type):\n",
    "    def __iter__(self):\n",
    "        return self.classiter()\n",
    "\n",
    "\n",
    "class Vetor():\n",
    "    def __init__(self, vetor):\n",
    "        self.v = vetor\n",
    "        \n",
    "    def __str__(self):\n",
    "        return str(self.v)\n",
    "    \n",
    "    def __len__(self):\n",
    "        return len(self.v)\n",
    "    \n",
    "    def __repr__(self):\n",
    "        return \"Vetor(\" + str(self.v) + \")\"\n",
    "    \n",
    "    def __add__(self, vetor):\n",
    "        \"same as a + b\"\n",
    "        try:\n",
    "            if(len(self.v)!=len(vetor.v)):\n",
    "                raise TypeError(\"TypeError: O tamanho dos vetores deve ser o mesmo!\")\n",
    "            return Vetor(list([a + b for a, b in zip(self.v, vetor.v)]))\n",
    "        except TypeError:\n",
    "            print(\"TypeError: O tamanho dos vetores deve ser o mesmo!\")\n",
    "            raise\n",
    "    \n",
    "    def __mul__(self, vetor, *args):\n",
    "        'same as a * b'\n",
    "        try: \n",
    "            if isinstance(vetor, int):\n",
    "                return Vetor(list([a * vetor for a in self.show()]))\n",
    "            else:\n",
    "                if(len(self.v)!=len(vetor.show())):\n",
    "                    raise TypeError(\"TypeError: O tamanho dos vetores deve ser o mesmo!\")   \n",
    "                else:\n",
    "                    return Vetor(list([a * b for a, b in zip(self.show(), vetor.show())]))\n",
    "        except TypeError:\n",
    "            print(\"TypeError: O tamanho dos vetores deve ser o mesmo!\")\n",
    "            raise\n",
    "    \n",
    "    def __rmul__(self, vetor):       \n",
    "        return self * vetor\n",
    "    \n",
    "    def __iter__(self, index):\n",
    "        'same as a[b]'\n",
    "        try:\n",
    "            for idx,_ in enumerate(self.show()):\n",
    "                print(self.show()[idx])\n",
    "        except Exception:\n",
    "            print(\"erro!\")\n",
    "            raise\n",
    "          \n",
    "    def __getitem__(self, index):\n",
    "        return self.v[index]\n",
    "    \n",
    "    def __setitem__(self, index, valor):\n",
    "        self.v[index] = valor\n",
    "    \n",
    "    def show(self):\n",
    "        return self.v\n",
    "\n",
    "    def size(self):\n",
    "        return len(self.v)\n",
    "    \n",
    "    def soma(self, vetor):\n",
    "        try:\n",
    "            if(len(self.v)!=len(vetor.v)):\n",
    "                raise TypeError(\"TypeError: O tamanho dos vetores deve ser o mesmo!\")\n",
    "            return Vetor(list([a + b for a, b in zip(self.v, vetor.v)]))\n",
    "        except TypeError:\n",
    "            print(\"TypeError: O tamanho dos vetores deve ser o mesmo!\")\n",
    "            raise\n",
    "    \n",
    "    def cmul(self, num):\n",
    "        try:\n",
    "            return Vetor(list([a * num for a in self.show()]))\n",
    "        except TypeError:\n",
    "            print(\"TypeError: O tamanho dos vetores deve ser o mesmo!\")\n",
    "            raise\n",
    "        \n",
    "    def vmul(self, vetor):\n",
    "        try:\n",
    "            if(len(self.v)!=len(vetor.v)):\n",
    "                raise TypeError(\"TypeError: O tamanho dos vetores deve ser o mesmo!\")\n",
    "            return Vetor(list([a * b for a, b in zip(self.show(), vetor.v)]))\n",
    "        except TypeError:\n",
    "            print(\"TypeError: O tamanho dos vetores deve ser o mesmo!\")\n",
    "            raise\n",
    "            "
   ]
  },
  {
   "cell_type": "code",
   "execution_count": 2,
   "metadata": {},
   "outputs": [],
   "source": [
    "v1 = Vetor([1, 2, 3])\n",
    "v2 = Vetor([3, 4, 5])"
   ]
  },
  {
   "cell_type": "code",
   "execution_count": 3,
   "metadata": {},
   "outputs": [
    {
     "name": "stdout",
     "output_type": "stream",
     "text": [
      "3\n"
     ]
    }
   ],
   "source": [
    "print(v1.size())"
   ]
  },
  {
   "cell_type": "code",
   "execution_count": 4,
   "metadata": {},
   "outputs": [
    {
     "data": {
      "text/plain": [
       "[1, 2, 3]"
      ]
     },
     "execution_count": 4,
     "metadata": {},
     "output_type": "execute_result"
    }
   ],
   "source": [
    "v1.show()"
   ]
  },
  {
   "cell_type": "code",
   "execution_count": 5,
   "metadata": {},
   "outputs": [],
   "source": [
    "v3 = v1.soma(v2)"
   ]
  },
  {
   "cell_type": "code",
   "execution_count": 6,
   "metadata": {},
   "outputs": [
    {
     "data": {
      "text/plain": [
       "[4, 6, 8]"
      ]
     },
     "execution_count": 6,
     "metadata": {},
     "output_type": "execute_result"
    }
   ],
   "source": [
    "v3.show()"
   ]
  },
  {
   "cell_type": "code",
   "execution_count": 7,
   "metadata": {},
   "outputs": [
    {
     "data": {
      "text/plain": [
       "[3, 6, 9]"
      ]
     },
     "execution_count": 7,
     "metadata": {},
     "output_type": "execute_result"
    }
   ],
   "source": [
    "v1.cmul(3).show()"
   ]
  },
  {
   "cell_type": "code",
   "execution_count": 8,
   "metadata": {},
   "outputs": [
    {
     "data": {
      "text/plain": [
       "[3, 8, 15]"
      ]
     },
     "execution_count": 8,
     "metadata": {},
     "output_type": "execute_result"
    }
   ],
   "source": [
    "v1.vmul(v2).show()"
   ]
  },
  {
   "cell_type": "markdown",
   "metadata": {},
   "source": [
    "Questão 2"
   ]
  },
  {
   "cell_type": "code",
   "execution_count": 9,
   "metadata": {},
   "outputs": [],
   "source": [
    "v1 = Vetor([1, 2, 3])\n",
    "v2 = Vetor([4, 5, 6])\n",
    "v3 = Vetor([7, 8, 9, 10])"
   ]
  },
  {
   "cell_type": "code",
   "execution_count": 10,
   "metadata": {},
   "outputs": [
    {
     "name": "stdout",
     "output_type": "stream",
     "text": [
      "[1, 2, 3]\n"
     ]
    }
   ],
   "source": [
    "print(v1)"
   ]
  },
  {
   "cell_type": "code",
   "execution_count": 11,
   "metadata": {},
   "outputs": [
    {
     "name": "stdout",
     "output_type": "stream",
     "text": [
      "3\n"
     ]
    }
   ],
   "source": [
    "print(len(v1))"
   ]
  },
  {
   "cell_type": "code",
   "execution_count": 12,
   "metadata": {},
   "outputs": [
    {
     "data": {
      "text/plain": [
       "Vetor([1, 2, 3])"
      ]
     },
     "execution_count": 12,
     "metadata": {},
     "output_type": "execute_result"
    }
   ],
   "source": [
    "v1"
   ]
  },
  {
   "cell_type": "code",
   "execution_count": 13,
   "metadata": {},
   "outputs": [
    {
     "name": "stdout",
     "output_type": "stream",
     "text": [
      "[5, 7, 9]\n"
     ]
    }
   ],
   "source": [
    "print(v1+v2)"
   ]
  },
  {
   "cell_type": "code",
   "execution_count": 14,
   "metadata": {},
   "outputs": [
    {
     "data": {
      "text/plain": [
       "3"
      ]
     },
     "execution_count": 14,
     "metadata": {},
     "output_type": "execute_result"
    }
   ],
   "source": [
    "len(v1)"
   ]
  },
  {
   "cell_type": "code",
   "execution_count": 15,
   "metadata": {},
   "outputs": [
    {
     "name": "stdout",
     "output_type": "stream",
     "text": [
      "TypeError: O tamanho dos vetores deve ser o mesmo!\n"
     ]
    },
    {
     "ename": "TypeError",
     "evalue": "TypeError: O tamanho dos vetores deve ser o mesmo!",
     "output_type": "error",
     "traceback": [
      "\u001b[0;31m---------------------------------------------------------------------------\u001b[0m",
      "\u001b[0;31mTypeError\u001b[0m                                 Traceback (most recent call last)",
      "\u001b[0;32m<ipython-input-15-c56b99074e51>\u001b[0m in \u001b[0;36m<module>\u001b[0;34m\u001b[0m\n\u001b[0;32m----> 1\u001b[0;31m \u001b[0mv1\u001b[0m\u001b[0;34m+\u001b[0m\u001b[0mv3\u001b[0m\u001b[0;34m\u001b[0m\u001b[0;34m\u001b[0m\u001b[0m\n\u001b[0m",
      "\u001b[0;32m<ipython-input-1-ba89e6fe57a1>\u001b[0m in \u001b[0;36m__add__\u001b[0;34m(self, vetor)\u001b[0m\n\u001b[1;32m     23\u001b[0m         \u001b[0;32mtry\u001b[0m\u001b[0;34m:\u001b[0m\u001b[0;34m\u001b[0m\u001b[0;34m\u001b[0m\u001b[0m\n\u001b[1;32m     24\u001b[0m             \u001b[0;32mif\u001b[0m\u001b[0;34m(\u001b[0m\u001b[0mlen\u001b[0m\u001b[0;34m(\u001b[0m\u001b[0mself\u001b[0m\u001b[0;34m.\u001b[0m\u001b[0mv\u001b[0m\u001b[0;34m)\u001b[0m\u001b[0;34m!=\u001b[0m\u001b[0mlen\u001b[0m\u001b[0;34m(\u001b[0m\u001b[0mvetor\u001b[0m\u001b[0;34m.\u001b[0m\u001b[0mv\u001b[0m\u001b[0;34m)\u001b[0m\u001b[0;34m)\u001b[0m\u001b[0;34m:\u001b[0m\u001b[0;34m\u001b[0m\u001b[0;34m\u001b[0m\u001b[0m\n\u001b[0;32m---> 25\u001b[0;31m                 \u001b[0;32mraise\u001b[0m \u001b[0mTypeError\u001b[0m\u001b[0;34m(\u001b[0m\u001b[0;34m\"TypeError: O tamanho dos vetores deve ser o mesmo!\"\u001b[0m\u001b[0;34m)\u001b[0m\u001b[0;34m\u001b[0m\u001b[0;34m\u001b[0m\u001b[0m\n\u001b[0m\u001b[1;32m     26\u001b[0m             \u001b[0;32mreturn\u001b[0m \u001b[0mVetor\u001b[0m\u001b[0;34m(\u001b[0m\u001b[0mlist\u001b[0m\u001b[0;34m(\u001b[0m\u001b[0;34m[\u001b[0m\u001b[0ma\u001b[0m \u001b[0;34m+\u001b[0m \u001b[0mb\u001b[0m \u001b[0;32mfor\u001b[0m \u001b[0ma\u001b[0m\u001b[0;34m,\u001b[0m \u001b[0mb\u001b[0m \u001b[0;32min\u001b[0m \u001b[0mzip\u001b[0m\u001b[0;34m(\u001b[0m\u001b[0mself\u001b[0m\u001b[0;34m.\u001b[0m\u001b[0mv\u001b[0m\u001b[0;34m,\u001b[0m \u001b[0mvetor\u001b[0m\u001b[0;34m.\u001b[0m\u001b[0mv\u001b[0m\u001b[0;34m)\u001b[0m\u001b[0;34m]\u001b[0m\u001b[0;34m)\u001b[0m\u001b[0;34m)\u001b[0m\u001b[0;34m\u001b[0m\u001b[0;34m\u001b[0m\u001b[0m\n\u001b[1;32m     27\u001b[0m         \u001b[0;32mexcept\u001b[0m \u001b[0mTypeError\u001b[0m\u001b[0;34m:\u001b[0m\u001b[0;34m\u001b[0m\u001b[0;34m\u001b[0m\u001b[0m\n",
      "\u001b[0;31mTypeError\u001b[0m: TypeError: O tamanho dos vetores deve ser o mesmo!"
     ]
    }
   ],
   "source": [
    "v1+v3"
   ]
  },
  {
   "cell_type": "code",
   "execution_count": 16,
   "metadata": {},
   "outputs": [
    {
     "data": {
      "text/plain": [
       "Vetor([4, 10, 18])"
      ]
     },
     "execution_count": 16,
     "metadata": {},
     "output_type": "execute_result"
    }
   ],
   "source": [
    "v1*v2"
   ]
  },
  {
   "cell_type": "code",
   "execution_count": 17,
   "metadata": {},
   "outputs": [
    {
     "data": {
      "text/plain": [
       "Vetor([4, 8, 12])"
      ]
     },
     "execution_count": 17,
     "metadata": {},
     "output_type": "execute_result"
    }
   ],
   "source": [
    "v1*4"
   ]
  },
  {
   "cell_type": "code",
   "execution_count": 18,
   "metadata": {
    "scrolled": true
   },
   "outputs": [
    {
     "data": {
      "text/plain": [
       "Vetor([4, 8, 12])"
      ]
     },
     "execution_count": 18,
     "metadata": {},
     "output_type": "execute_result"
    }
   ],
   "source": [
    "4*v1"
   ]
  },
  {
   "cell_type": "code",
   "execution_count": 19,
   "metadata": {
    "scrolled": false
   },
   "outputs": [
    {
     "data": {
      "text/plain": [
       "3"
      ]
     },
     "execution_count": 19,
     "metadata": {},
     "output_type": "execute_result"
    }
   ],
   "source": [
    "v1[2]"
   ]
  },
  {
   "cell_type": "code",
   "execution_count": 20,
   "metadata": {},
   "outputs": [
    {
     "data": {
      "text/plain": [
       "Vetor([1, 2, 5])"
      ]
     },
     "execution_count": 20,
     "metadata": {},
     "output_type": "execute_result"
    }
   ],
   "source": [
    "v1[2] = 5\n",
    "v1"
   ]
  },
  {
   "cell_type": "markdown",
   "metadata": {},
   "source": [
    "Questão 3"
   ]
  },
  {
   "cell_type": "code",
   "execution_count": 21,
   "metadata": {},
   "outputs": [],
   "source": [
    "class VetorComRegistro(Vetor) :\n",
    "    bd = []\n",
    "    def __init__(self, vetor):\n",
    "        Vetor.__init__(self, vetor)\n",
    "        self.__class__.bd.append(self.__repr__())\n",
    "        \n",
    "    def __repr__(self):\n",
    "        return 'VetorComRegistro' + str(self.v)\n",
    "        \n",
    "    def mostre_registro():\n",
    "        return print(VetorComRegistro.bd)\n",
    "   "
   ]
  },
  {
   "cell_type": "code",
   "execution_count": 22,
   "metadata": {},
   "outputs": [],
   "source": [
    "v1 = VetorComRegistro([1, 2, 3])\n",
    "v2 = VetorComRegistro([4, 5, 6])\n",
    "v3 = VetorComRegistro([7, 8, 9, 10])"
   ]
  },
  {
   "cell_type": "code",
   "execution_count": 23,
   "metadata": {},
   "outputs": [
    {
     "name": "stdout",
     "output_type": "stream",
     "text": [
      "['VetorComRegistro[1, 2, 3]', 'VetorComRegistro[4, 5, 6]', 'VetorComRegistro[7, 8, 9, 10]']\n"
     ]
    }
   ],
   "source": [
    "VetorComRegistro.mostre_registro()"
   ]
  },
  {
   "cell_type": "markdown",
   "metadata": {},
   "source": [
    "Questão 4"
   ]
  },
  {
   "cell_type": "markdown",
   "metadata": {},
   "source": [
    "4 - O autor faz a critica de como a programação em Java trata os verbos de forma inferior aos substantivos. No artigo, ele conta que os verbos são tão quanto, ou até mais importantes que os substantivos, que são vistos como os grandes 'condutores' da linguagem, e que sem os verbos, as ações não poderiam ser realizadas da melhor forma possível. Ele também compara outras linguagens de programação através dos 'reinos', que utilizam os verbos como principal recurso para seus métodos e outras que tem verbos, substantivos e adjetivos em pé de igualdade."
   ]
  }
 ],
 "metadata": {
  "kernelspec": {
   "display_name": "Python 3",
   "language": "python",
   "name": "python3"
  },
  "language_info": {
   "codemirror_mode": {
    "name": "ipython",
    "version": 3
   },
   "file_extension": ".py",
   "mimetype": "text/x-python",
   "name": "python",
   "nbconvert_exporter": "python",
   "pygments_lexer": "ipython3",
   "version": "3.7.6"
  }
 },
 "nbformat": 4,
 "nbformat_minor": 4
}
