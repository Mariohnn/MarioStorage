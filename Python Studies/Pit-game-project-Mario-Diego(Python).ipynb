{
 "cells": [
  {
   "cell_type": "raw",
   "metadata": {},
   "source": [
    "Projeto Prático - Paradigmas de Linguagem de Programação \n",
    "Prof: Marco Cristo\n",
    "Alunos: \n",
    "Mario Haddad Neto (21951277) \n",
    "Diego Mamede Furtado de Queiroz (21951279)"
   ]
  },
  {
   "cell_type": "code",
   "execution_count": 1,
   "metadata": {},
   "outputs": [],
   "source": [
    "from itertools import cycle\n",
    "import random"
   ]
  },
  {
   "cell_type": "code",
   "execution_count": 2,
   "metadata": {},
   "outputs": [],
   "source": [
    "#a) OK\n",
    "def playable_pits(pits, player_id):\n",
    "    res = []\n",
    "    if player_id == 0:\n",
    "        i = 0\n",
    "        while i < 6:\n",
    "            if pits[i] != 0:\n",
    "                res.append(i)\n",
    "            i = i + 1\n",
    "        return res\n",
    "    else:\n",
    "        i = 6\n",
    "        while i < 12:\n",
    "            if pits[i] != 0:\n",
    "                res.append(i)\n",
    "            i = i + 1\n",
    "        return res"
   ]
  },
  {
   "cell_type": "code",
   "execution_count": 3,
   "metadata": {},
   "outputs": [
    {
     "data": {
      "text/plain": [
       "[1, 2, 3]"
      ]
     },
     "execution_count": 3,
     "metadata": {},
     "output_type": "execute_result"
    }
   ],
   "source": [
    "playable_pits([0,2,3,2,0,0,4,2,1,1,1,0], 0)"
   ]
  },
  {
   "cell_type": "code",
   "execution_count": 4,
   "metadata": {},
   "outputs": [],
   "source": [
    "#b) OK\n",
    "def random_pit(pits, player_id):\n",
    "    res = []\n",
    "    if player_id == 0:\n",
    "        i = 0\n",
    "        while i < 6:\n",
    "            if pits[i] != 0:\n",
    "                res.append(i)\n",
    "            i = i + 1\n",
    "        if not res:\n",
    "            return -1\n",
    "        return random.randint(res[0], res[len(res)-1])\n",
    "    else:\n",
    "        i = 6\n",
    "        while i < 12:\n",
    "            if pits[i] != 0:\n",
    "                res.append(i)\n",
    "            i = i + 1\n",
    "        if not res:\n",
    "            return -1\n",
    "        return random.randint(res[0], res[len(res)-1])"
   ]
  },
  {
   "cell_type": "code",
   "execution_count": 5,
   "metadata": {},
   "outputs": [
    {
     "data": {
      "text/plain": [
       "2"
      ]
     },
     "execution_count": 5,
     "metadata": {},
     "output_type": "execute_result"
    }
   ],
   "source": [
    "random_pit([0,2,3,2,0,0,4,2,1,1,1,0],0)"
   ]
  },
  {
   "cell_type": "code",
   "execution_count": 6,
   "metadata": {},
   "outputs": [],
   "source": [
    "#c) OK\n",
    "def circular_rdistance(size, pos1, pos2):\n",
    "    list = [i for i in range(size)]\n",
    "    cl = cycle(list)\n",
    "    soma = 1\n",
    "    while (next(cl)<pos1):\n",
    "        if next(cl)==pos1:\n",
    "            break\n",
    "    while (next(cl)!=pos2):\n",
    "        soma = soma+1\n",
    "    return soma"
   ]
  },
  {
   "cell_type": "code",
   "execution_count": 7,
   "metadata": {},
   "outputs": [
    {
     "data": {
      "text/plain": [
       "11"
      ]
     },
     "execution_count": 7,
     "metadata": {},
     "output_type": "execute_result"
    }
   ],
   "source": [
    "circular_rdistance(12,0,11)"
   ]
  },
  {
   "cell_type": "code",
   "execution_count": 12,
   "metadata": {},
   "outputs": [],
   "source": [
    "#d)\n",
    "def sow(pits, pit):\n",
    "    n = pits[pit]\n",
    "    pits = [i if index!=pit else 0 for index, i in enumerate(pits)]\n",
    "    if(pit+n<11):\n",
    "        pits = [i+1 if index>pit and index<=pit+n else i for index, i in enumerate(pits)]\n",
    "        return pits\n",
    "    else:\n",
    "        pits = [i+1 if index>pit or index<=pit-n else i for index, i in enumerate(pits)]\n",
    "        return pits\n",
    "\n",
    "        "
   ]
  },
  {
   "cell_type": "code",
   "execution_count": 16,
   "metadata": {},
   "outputs": [
    {
     "data": {
      "text/plain": [
       "[7, 7, 6, 6, 6, 6, 6, 0, 7, 7, 7, 7]"
      ]
     },
     "execution_count": 16,
     "metadata": {},
     "output_type": "execute_result"
    }
   ],
   "source": [
    "sow([6,6,6,6,6,6,6,6,6,6,6,6], 7)"
   ]
  },
  {
   "cell_type": "code",
   "execution_count": 17,
   "metadata": {},
   "outputs": [],
   "source": [
    "#e) OK\n",
    "def cprevious(t, pos):\n",
    "    if pos == 0:\n",
    "        return t - 1\n",
    "    else:\n",
    "        return pos - 1"
   ]
  },
  {
   "cell_type": "code",
   "execution_count": 18,
   "metadata": {},
   "outputs": [
    {
     "data": {
      "text/plain": [
       "0"
      ]
     },
     "execution_count": 18,
     "metadata": {},
     "output_type": "execute_result"
    }
   ],
   "source": [
    "cprevious(4,1)"
   ]
  },
  {
   "cell_type": "code",
   "execution_count": 19,
   "metadata": {},
   "outputs": [],
   "source": [
    "#f) OK\n",
    "def last_sown_pit(pits, pit):\n",
    "    n = pits[pit]\n",
    "    if(pit+n<11):\n",
    "        pits = [ind for ind, x in enumerate(pits) if ind==pit+n]\n",
    "        res = pits[0]\n",
    "    else:\n",
    "        pits = [ind for ind, x in enumerate(pits) if ind==pit-n]\n",
    "        res = pits[0]\n",
    "    return res"
   ]
  },
  {
   "cell_type": "code",
   "execution_count": 21,
   "metadata": {},
   "outputs": [
    {
     "data": {
      "text/plain": [
       "1"
      ]
     },
     "execution_count": 21,
     "metadata": {},
     "output_type": "execute_result"
    }
   ],
   "source": [
    "last_sown_pit([6,6,6,6,6,6,6,6,6,6,6,6],7)"
   ]
  },
  {
   "cell_type": "code",
   "execution_count": 22,
   "metadata": {},
   "outputs": [],
   "source": [
    "#g) OK\n",
    "def pits_with_zero_at(pits, pos):\n",
    "    return [i if index!=pos else 0 for index, i in enumerate(pits)]"
   ]
  },
  {
   "cell_type": "code",
   "execution_count": 23,
   "metadata": {},
   "outputs": [
    {
     "data": {
      "text/plain": [
       "[6, 6, 6, 6, 6, 6, 6, 0, 6, 6, 6, 6]"
      ]
     },
     "execution_count": 23,
     "metadata": {},
     "output_type": "execute_result"
    }
   ],
   "source": [
    "pits_with_zero_at([6,6,6,6,6,6,6,6,6,6,6,6], 7)"
   ]
  },
  {
   "cell_type": "code",
   "execution_count": null,
   "metadata": {},
   "outputs": [],
   "source": [
    "#h)\n"
   ]
  },
  {
   "cell_type": "code",
   "execution_count": 31,
   "metadata": {},
   "outputs": [],
   "source": [
    "#i)\n",
    "def end_game(p0, p1):\n",
    "    if p0 > 36 or p1 > 36 or (p0 == 36 and p1 == 36):\n",
    "        print(\"'O jogo terminou'\")\n",
    "        print(report_result(p0, p1))\n",
    "        return True\n",
    "    else:\n",
    "        print(\"'O jogo continua'\")\n",
    "        return False\n",
    "    \n",
    "    \n",
    "def report_result(p0, p1):\n",
    "    if p0 >= 37:\n",
    "        return \"Jogador 0 venceu\"\n",
    "    elif p1 >= 37:\n",
    "        return \"Jogador 1 venceu\"\n",
    "    elif p0 == 36 and p1 == 36:\n",
    "        return \"Empate\""
   ]
  },
  {
   "cell_type": "code",
   "execution_count": 32,
   "metadata": {},
   "outputs": [
    {
     "name": "stdout",
     "output_type": "stream",
     "text": [
      "'O jogo terminou'\n",
      "Jogador 0 venceu\n"
     ]
    },
    {
     "data": {
      "text/plain": [
       "True"
      ]
     },
     "execution_count": 32,
     "metadata": {},
     "output_type": "execute_result"
    }
   ],
   "source": [
    "end_game(38,33)"
   ]
  },
  {
   "cell_type": "code",
   "execution_count": null,
   "metadata": {},
   "outputs": [],
   "source": [
    "#j)\n",
    "\n",
    "\n",
    "def play(p_id, choose_pit, pits, p0, p1):\n",
    "    pit = choose_pit(pits, p_id)\n",
    "    if pit == -1:\n",
    "        points = sum(pits)\n",
    "        return (pits, p0, p1 + points) if p_id == 0 else (pits, p0 + points, p1)\n",
    "    else:\n",
    "        pits, points = sow_points(sow(pits, pit), last_sown_pit(pits, pit))\n",
    "        return (pits, p0 + points, p1) if p_id == 0 else (pits, p0, p1 + points)\n",
    "\n",
    "    \n",
    "def match_r(turn, players, pits, p0, p1):\n",
    "    pits, p0, p1 = play(turn % 2, players[turn % 2], pits, p0, p1)\n",
    "    print(turn, turn%2, ':', [p0, p1, pits])\n",
    "    if end_game(p0, p1):\n",
    "        report_result(p0, p1)\n",
    "    else:\n",
    "        match_r(turn + 1, players, pits, p0, p1)\n",
    "        \n",
    "\n",
    "def match(choose_pit0, choose_pit1):\n",
    "    pits, p0, p1 = [6 for i in range(12)], 0, 0\n",
    "    print('inicio: ', [p0, p1, pits])\n",
    "    match_r(0, [choose_pit0, choose_pit1], pits, p0, p1)\n",
    "    \n",
    "if __name__ == '__main__':\n",
    "    match(random_pit, random_pit)"
   ]
  },
  {
   "cell_type": "code",
   "execution_count": null,
   "metadata": {},
   "outputs": [],
   "source": []
  }
 ],
 "metadata": {
  "kernelspec": {
   "display_name": "Python 3",
   "language": "python",
   "name": "python3"
  },
  "language_info": {
   "codemirror_mode": {
    "name": "ipython",
    "version": 3
   },
   "file_extension": ".py",
   "mimetype": "text/x-python",
   "name": "python",
   "nbconvert_exporter": "python",
   "pygments_lexer": "ipython3",
   "version": "3.7.6"
  }
 },
 "nbformat": 4,
 "nbformat_minor": 4
}
